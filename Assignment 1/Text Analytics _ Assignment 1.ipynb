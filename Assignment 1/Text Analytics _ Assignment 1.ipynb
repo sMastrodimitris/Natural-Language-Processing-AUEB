{
 "cells": [
  {
   "cell_type": "markdown",
   "metadata": {
    "id": "Z5BYwxtwgrGV"
   },
   "source": [
    "#**Text Analytics** | Assignment 1 "
   ]
  },
  {
   "cell_type": "markdown",
   "metadata": {
    "id": "3U6KndYbbTWj"
   },
   "source": [
    "#Excersice 3"
   ]
  },
  {
   "cell_type": "markdown",
   "metadata": {
    "id": "RpSfE_6XbctW"
   },
   "source": [
    "##Reading the Corpus"
   ]
  },
  {
   "cell_type": "markdown",
   "metadata": {
    "id": "rZQuX9e6u18A"
   },
   "source": [
    ">NLTK Installation."
   ]
  },
  {
   "cell_type": "code",
   "execution_count": null,
   "metadata": {
    "colab": {
     "base_uri": "https://localhost:8080/"
    },
    "executionInfo": {
     "elapsed": 8414,
     "status": "ok",
     "timestamp": 1675159855979,
     "user": {
      "displayName": "Σπύρος Μαστροδημήτρης",
      "userId": "05822789757280910665"
     },
     "user_tz": -120
    },
    "id": "qwIQ7S2nj-Ac",
    "outputId": "1b7a1870-3d81-4b14-ec95-cac4ff772071"
   },
   "outputs": [
    {
     "name": "stdout",
     "output_type": "stream",
     "text": [
      "Looking in indexes: https://pypi.org/simple, https://us-python.pkg.dev/colab-wheels/public/simple/\n",
      "Requirement already satisfied: nltk in /usr/local/lib/python3.8/dist-packages (3.7)\n",
      "Collecting nltk\n",
      "  Downloading nltk-3.8.1-py3-none-any.whl (1.5 MB)\n",
      "\u001b[2K     \u001b[90m━━━━━━━━━━━━━━━━━━━━━━━━━━━━━━━━━━━━━━━━\u001b[0m \u001b[32m1.5/1.5 MB\u001b[0m \u001b[31m18.2 MB/s\u001b[0m eta \u001b[36m0:00:00\u001b[0m\n",
      "\u001b[?25hRequirement already satisfied: joblib in /usr/local/lib/python3.8/dist-packages (from nltk) (1.2.0)\n",
      "Requirement already satisfied: click in /usr/local/lib/python3.8/dist-packages (from nltk) (7.1.2)\n",
      "Requirement already satisfied: regex>=2021.8.3 in /usr/local/lib/python3.8/dist-packages (from nltk) (2022.6.2)\n",
      "Requirement already satisfied: tqdm in /usr/local/lib/python3.8/dist-packages (from nltk) (4.64.1)\n",
      "Installing collected packages: nltk\n",
      "  Attempting uninstall: nltk\n",
      "    Found existing installation: nltk 3.7\n",
      "    Uninstalling nltk-3.7:\n",
      "      Successfully uninstalled nltk-3.7\n",
      "Successfully installed nltk-3.8.1\n"
     ]
    }
   ],
   "source": [
    "# Download & Install NLTK\n",
    "!pip install -U nltk"
   ]
  },
  {
   "cell_type": "markdown",
   "metadata": {
    "id": "oDZ9_Ojm168f"
   },
   "source": [
    ">Dowload & Read \"Genesis\" Corpus from NLTK."
   ]
  },
  {
   "cell_type": "code",
   "execution_count": null,
   "metadata": {
    "colab": {
     "base_uri": "https://localhost:8080/"
    },
    "executionInfo": {
     "elapsed": 3357,
     "status": "ok",
     "timestamp": 1675159859333,
     "user": {
      "displayName": "Σπύρος Μαστροδημήτρης",
      "userId": "05822789757280910665"
     },
     "user_tz": -120
    },
    "id": "e41FlrRovQac",
    "outputId": "8995a13f-99af-443f-9306-c626379af975"
   },
   "outputs": [
    {
     "name": "stderr",
     "output_type": "stream",
     "text": [
      "[nltk_data] Downloading package genesis to /content...\n",
      "[nltk_data]   Unzipping corpora/genesis.zip.\n"
     ]
    },
    {
     "data": {
      "text/plain": [
       "True"
      ]
     },
     "execution_count": 2,
     "metadata": {},
     "output_type": "execute_result"
    }
   ],
   "source": [
    "import nltk\n",
    "\n",
    "# Download the corpus: \"Genesis\" in a specific directory \n",
    "nltk.download(\"genesis\",download_dir=\"/content\")"
   ]
  },
  {
   "cell_type": "code",
   "execution_count": null,
   "metadata": {
    "colab": {
     "base_uri": "https://localhost:8080/",
     "height": 87
    },
    "executionInfo": {
     "elapsed": 14,
     "status": "ok",
     "timestamp": 1675159859334,
     "user": {
      "displayName": "Σπύρος Μαστροδημήτρης",
      "userId": "05822789757280910665"
     },
     "user_tz": -120
    },
    "id": "yco6IJYlgTga",
    "outputId": "b9d0104c-c025-4505-faa5-60d97dee3d6b"
   },
   "outputs": [
    {
     "data": {
      "application/vnd.google.colaboratory.intrinsic+json": {
       "type": "string"
      },
      "text/plain": [
       "\"In the beginning God created the heaven and the earth.\\nAnd the earth was without form, and void; and darkness was\\nupon the face of the deep. And the Spirit of God moved upon\\nthe face of the waters.\\nAnd God said, Let there be light: and there was light.\\nAnd God saw the light, that it was good: and God divided the\\nlight from the darkness.\\nAnd God called the light Day, and the darkness he called\\nNight. And the evening and the morning were the first day.\\nAnd God said, Let there be a firmament in the midst of the\\nwaters, and let it divide the waters from the waters.\\nAnd God made the firmament, and divided the waters which were\\nunder the firmament from the waters which were above the\\nfirmame and it was so.\\nAnd God called the firmament Heaven. And the evening and the\\nmorning were the second day.\\nAnd God said, Let the waters under the heaven be gathered\\ntogether unto one place, and let the dry land appe and it\\nwas so.\\nAnd God called the dry land Earth; and the gathering together\\nof the waters called he Se and God saw that it was good.\\nAnd God said, Let the earth bring forth grass, the herb\\nyielding seed, and the fruit tree yielding fruit after his\\nkind, whose seed is in itself, upon the ear and it was so.\\nAnd the earth brought forth grass, and herb yielding seed\\nafter his kind, and the tree yielding fruit, whose seed was in\\nitself, after his ki and God saw that it was good.\\nAnd the evening and the morning were the third day.\\nAnd God said, Let there be lights in the firmament of the\\nheaven to divide the day from the night; and let them be for\\nsigns, and for seasons, and for days, and yea\\nAnd let them be for lights in the firmament of the heaven to\\ngive light upon the ear and it was so.\\nAnd God made two great lights; the greater light to rule the\\nday, and the lesser light to rule the nig he made the stars\\nalso.\\nAnd God set them in the firmament of the heaven to give light\\nupon the earth,\\nAnd to rule over the day and over the night, and to divide the\\nlight from the darkne and God saw that it was good.\\nAnd the evening and the morning were the fourth day.\\nAnd God said, Let the waters bring forth abundantly the moving\\ncreature that hath life, and fowl that may fly above the earth\\nin the open firmament of heaven.\\nAnd God created great whales, and every living creature that\\nmoveth, which the waters brought forth abundantly, after their\\nkind, and every winged fowl after his ki and God saw that\\nit was good.\\nAnd God blessed them, saying, Be fruitful, and multiply, and\\nfill the waters in the seas, and let fowl multiply in the\\nearth.\\nAnd the evening and the morning were the fifth day.\\nAnd God said, Let the earth bring forth the living creature\\nafter his kind, cattle, and creeping thing, and beast of the\\nearth after his ki and it was so.\\nAnd God made the beast of the earth after his kind, and cattle\\nafter their kind, and every thing that creepeth upon the earth\\nafter his ki and God saw that it was good.\\nAnd God said, Let us make man in our image, after our\\nlikene and let them have dominion over the fish of the sea,\\nand over the fowl of the air, and over the cattle, and over\\nall the earth, and over every creeping thing that creepeth\\nupon the earth.\\nSo God created man in his own image, in the image of God\\ncreated he him; male and female created he them.\\nAnd God blessed them, and God said unto them, Be fruitful, and\\nmultiply, and replenish the earth, and subdue  and have\\ndominion over the fish of the sea, and over the fowl of the\\nair, and over every living thing that moveth upon the earth.\\nAnd God said, Behold, I have given you every herb bearing\\nseed, which is upon the face of all the earth, and every tree,\\nin the which is the fruit of a tree yielding seed; to you it\\nshall be for meat.\\nAnd to every beast of the earth, and to every fowl of the air,\\nand to every thing that creepeth upon the earth, wherein there\\nis life, I have given every green herb for me and it was\\nso.\\nAnd God saw every thing that he had made, and, behold, it was\\nvery good. And the evening and the morning were the sixth day.\\nThus the heavens and the earth were finished, and all the host\\nof them.\\nAnd on the seventh day God ended his work which he had made;\\nand he rested on the seventh day from all his work which he\\nhad made.\\nAnd God blessed the seventh day, and sanctified it: because\\nthat in it he had rested from all his work which God created\\nand made.\\nThese are the generations of the heavens and of the earth when\\nthey were created, in the day that the LORD God made the earth\\nand the heavens,\\nAnd every plant of the field before it was in the earth, and\\nevery herb of the field before it gr for the LORD God had\\nnot caused it to rain upon the earth, and there was not a man\\nto till the ground.\\nBut there went up a mist from the earth, and watered the whole\\nface of the ground.\\nAnd the LORD God formed man of the dust of the ground, and\\nbreathed into his nostrils the breath of life; and man became\\na living soul.\\nAnd the LORD God planted a garden eastward in Eden; and there\\nhe put the man whom he had formed.\\nAnd out of the ground made the LORD God to grow every tree\\nthat is pleasant to the sight, and good for food; the tree of\\nlife also in the midst of the garden, and the tree of\\nknowledge of good and evil.\\nAnd a river went out of Eden to water the garden; and from\\nthence it was parted, and became into four heads.\\nThe name of the first is Pison: that is it which compasseth\\nthe whole land of Havilah, where there is gold;\\nAnd the gold of that land is good: there is bdellium and the\\nonyx stone.\\nAnd the name of the second river is Gihon: the same is it that\\ncompasseth the whole land of Ethiopia.\\nAnd the name of the third river is Hiddekel: that is it which\\ngoeth toward the east of Assyria. And the fourth river is\\nEuphrates.\\nAnd the LORD God took the man, and put him into the garden of\\nEden to dress it and to keep it.\\nAnd the LORD God commanded the man, saying, Of every tree of\\nthe garden thou mayest freely e\\nBut of the tree of the knowledge of good and evil, thou shalt\\nnot eat of  for in the day that thou eatest thereof thou\\nshalt surely die.\\nAnd the LORD God said, It is not good that the man should be\\nalone; I will make him an help meet for him.\\nAnd out of the ground the LORD God formed every beast of the\\nfield, and every fowl of the air; and brought them unto Adam\\nto see what he would call th and whatsoever Adam called\\nevery living creature, that was the name thereof.\\nAnd Adam gave names to all cattle, and to the fowl of the air,\\nand to every beast of the field; but for Adam there was not\\nfound an help meet for him.\\nAnd the LORD God caused a deep sleep to fall upon Adam, and he\\nsle and he took one of his ribs, and closed up the flesh\\ninstead thereof;\\nAnd the rib, which the LORD God had taken from man, made he a\\nwoman, and brought her unto the man.\\nAnd Adam said, This is now bone of my bones, and flesh of my\\nfle she shall be called Woman, because she was taken out of\\nMan.\\nTherefore shall a man leave his father and his mother, and\\nshall cleave unto his wife and they shall be one flesh.\\nAnd they were both naked, the man and his wife, and were not\\nashamed.\\nNow the serpent was more subtil than any beast of the field\\nwhich the LORD God had made. And he said unto the woman, Yea,\\nhath God said, Ye shall not eat of every tree of the garden?\\nAnd the woman said unto the serpent, We may eat of the fruit\\nof the trees of the gard\\nBut of the fruit of the tree which is in the midst of the\\ngarden, God hath said, Ye shall not eat of it, neither shall\\nye touch it, lest ye die.\\nAnd the serpent said unto the woman, Ye shall not surely die:\\nFor God doth know that in the day ye eat thereof, then your\\neyes shall be opened, and ye shall be as gods, knowing good\\nand evil.\\nAnd when the woman saw that the tree was good for food, and\\nthat it was pleasant to the eyes, and a tree to be desired to\\nmake one wise, she took of the fruit thereof, and did eat, and\\ngave also unto her husband with her; and he did eat.\\nAnd the eyes of them both were opened, and they knew that they\\nwere naked; and they sewed fig leaves together, and made\\nthemselves aprons.\\nAnd they heard the voice of the LORD God walking in the garden\\nin the cool of the d and Adam and his wife hid themselves\\nfrom the presence of the LORD God amongst the trees of the\\ngarden.\\nAnd the LORD God called unto Adam, and said unto him, Where\\nart thou?\\nAnd he said, I heard thy voice in the garden, and I was\\nafraid, because I was naked; and I hid myself.\\nAnd he said, Who told thee that thou wast naked? Hast thou\\neaten of the tree, whereof I commanded thee that thou\\nshouldest not eat?\\nAnd the man said, The woman whom thou gavest to be with me,\\nshe gave me of the tree, and I did eat.\\nAnd the LORD God said unto the woman, What is this that thou\\nhast done? And the woman said, The serpent beguiled me, and I\\ndid eat.\\nAnd the LORD God said unto the serpent, Because thou hast done\\nthis, thou art cursed above all cattle, and above every beast\\nof the field; upon thy belly shalt thou go, and dust shalt\\nthou eat all the days of thy li\\nAnd I will put enmity between thee and the woman, and between\\nthy seed and her seed; it shall bruise thy head, and thou\\nshalt bruise his heel.\\nUnto the woman he said, I will greatly multiply thy sorrow and\\nthy conception; in sorrow thou shalt bring forth children; and\\nthy desire shall be to thy husband, and he shall rule over\\nthee.\\nAnd unto Adam he said, Because thou hast hearkened unto the\\nvoice of thy wife, and hast eaten of the tree, of which I\\ncommanded thee, saying, Thou shalt not eat of  cursed is\\nthe ground for thy sake; in sorrow shalt thou eat of it all\\nthe days of thy life;\\nThorns also and thistles shall it bring forth to thee; and\\nthou shalt eat the herb of the field;\\nIn the sweat of thy face shalt thou eat bread, till thou\\nreturn unto the ground; for out of it wast thou tak for\\ndust thou art, and unto dust shalt thou return.\\nAnd Adam called his wife's name Eve; because she was the\\nmother of all living.\\nUnto Adam also and to his wife did the LORD God make coats of\\nskins, and clothed them.\\nAnd the LORD God said, Behold, the man is become as one of us,\\nto know good and ev and now, lest he put forth his hand,\\nand take also of the tree of life, and eat, and live for ev\\nTherefore the LORD God sent him forth from the garden of Eden,\\nto till the ground from whence he was taken.\\nSo he drove out the man; and he placed at the east of the\\ngarden of Eden Cherubims, and a flaming sword which turned\\nevery way, to keep the way of the tree of life.\\nAnd Adam knew Eve his wife; and she conceived, and bare Cain,\\nand said, I have gotten a man from the LORD.\\nAnd she again bare his brother Abel. And Abel was a keeper of\\nsheep, but Cain was a tiller of the ground.\\nAnd in process of time it came to pass, that Cain brought of\\nthe fruit of the ground an offering unto the LORD.\\nAnd Abel, he also brought of the firstlings of his flock and\\nof the fat thereof. And the LORD had respect unto Abel and to\\nhis offeri\\nBut unto Cain and to his offering he had not respect. And Cain\\nwas very wroth, and his countenance fell.\\nAnd the LORD said unto Cain, Why art thou wroth? and why is\\nthy countenance fallen?\\nIf thou doest well, shalt thou not be accepted? and if thou\\ndoest not well, sin lieth at the door. And unto thee shall be\\nhis desire, and thou shalt rule over him.\\nAnd Cain talked with Abel his brother: and it came to pass,\\nwhen they were in the field, that Cain rose up against Abel\\nhis brother, and slew him.\\nAnd the LORD said unto Cain, Where is Abel thy brother? And he\\nsaid, I know n Am I my brother's keeper?\\nAnd he said, What hast thou done? the voice of thy brother's\\nblood crieth unto me from the ground.\\nAnd now art thou cursed from the earth, which hath opened her\\nmouth to receive thy brother's blood from thy hand;\\nWhen thou tillest the ground, it shall not henceforth yield\\nunto thee her strength; a fugitive and a vagabond shalt thou\\nbe in the earth.\\nAnd Cain said unto the LORD, My punishment is greater than I\\ncan bear.\\nBehold, thou hast driven me out this day from the face of the\\nearth; and from thy face shall I be hid; and I shall be a\\nfugitive and a vagabond in the earth; and it shall come to\\npass, that every one that findeth me shall slay me.\\nAnd the LORD said unto him, Therefore whosoever slayeth Cain,\\nvengeance shall be taken on him sevenfold. And the LORD set a\\nmark upon Cain, lest any finding him should kill him.\\nAnd Cain went out from the presence of the LORD, and dwelt in\\nthe land of Nod, on the east of Eden.\\nAnd Cain knew his wife; and she conceived, and bare Enoch: and\\nhe builded a city, and called the name of the city, after the\\nname of his son, Enoch.\\nAnd unto Enoch was born Irad: and Irad begat Mehujael: and\\nMehujael begat Methusa and Methusael begat Lamech.\\nAnd Lamech took unto him two wives: the name of the one was\\nAdah, and the name of the other Zillah.\\nAnd Adah bare Jabal: he was the father of such as dwell in\\ntents, and of such as have cattle.\\nAnd his brother's name was Jubal: he was the father of all\\nsuch as handle the harp and organ.\\nAnd Zillah, she also bare Tubalcain, an instructor of every\\nartificer in brass and ir and the sister of Tubalcain was\\nNaamah.\\nAnd Lamech said unto his wives, Adah and Zillah, Hear my\\nvoice; ye wives of Lamech, hearken unto my spee for I have\\nslain a man to my wounding, and a young man to my hurt.\\nIf Cain shall be avenged sevenfold, truly Lamech seventy and\\nsevenfold.\\nAnd Adam knew his wife again; and she bare a son, and called\\nhis name Se For God, said she, hath appointed me another\\nseed instead of Abel, whom Cain slew.\\nAnd to Seth, to him also there was born a son; and he called\\nhis name En then began men to call upon the name of the\\nLORD.\\nThis is the book of the generations of Adam. In the day that\\nGod created man, in the likeness of God made he him;\\nMale and female created he them; and blessed them, and called\\ntheir name Adam, in the day when they were created.\\nAnd Adam lived an hundred and thirty years, and begat a son in\\nhis own likeness, and after his image; and called his name\\nSe\\nAnd the days of Adam after he had begotten Seth were eight\\nhundred yea and he begat sons and daughters:\\nAnd all the days that Adam lived were nine hundred and thirty\\nyea and he died.\\nAnd Seth lived an hundred and five years, and begat Enos:\\nAnd Seth lived after he begat Enos eight hundred and seven\\nyears, and begat sons and daughte\\nAnd all the days of Seth were nine hundred and twelve years:\\nand he died.\\nAnd Enos lived ninety years, and begat Cainan:\\nAnd Enos lived after he begat Cainan eight hundred and fifteen\\nyears, and begat sons and daughte\\nAnd all the days of Enos were nine hundred and five years: and\\nhe died.\\nAnd Cainan lived seventy years and begat Mahalaleel:\\nAnd Cainan lived after he begat Mahalaleel eight hundred and\\nforty years, and begat sons and daughte\\nAnd all the days of Cainan were nine hundred and ten years:\\nand he died.\\nAnd Mahalaleel lived sixty and five years, and begat Jared:\\nAnd Mahalaleel lived after he begat Jared eight hundred and\\nthirty years, and begat sons and daughte\\nAnd all the days of Mahalaleel were eight hundred ninety and\\nfive yea and he died.\\nAnd Jared lived an hundred sixty and two years, and he begat\\nEno\\nAnd Jared lived after he begat Enoch eight hundred years, and\\nbegat sons and daughte\\nAnd all the days of Jared were nine hundred sixty and two\\nyea and he died.\\nAnd Enoch lived sixty and five years, and begat Methuselah:\\nAnd Enoch walked with God after he begat Methuselah three\\nhundred years, and begat sons and daughte\\nAnd all the days of Enoch were three hundred sixty and five\\nyea\\nAnd Enoch walked with God: and he was not; for God took him.\\nAnd Methuselah lived an hundred eighty and seven years, and\\nbegat Lamech.\\nAnd Methuselah lived after he begat Lamech seven hundred\\neighty and two years, and begat sons and daughte\\nAnd all the days of Methuselah were nine hundred sixty and\\nnine yea and he died.\\nAnd Lamech lived an hundred eighty and two years, and begat a\\ns\\nAnd he called his name Noah, saying, This same shall comfort\\nus concerning our work and toil of our hands, because of the\\nground which the LORD hath cursed.\\nAnd Lamech lived after he begat Noah five hundred ninety and\\nfive years, and begat sons and daughte\\nAnd all the days of Lamech were seven hundred seventy and\\nseven yea and he died.\\nAnd Noah was five hundred years old: and Noah begat Shem, Ham,\\nand Japheth.\\nAnd it came to pass, when men began to multiply on the face of\\nthe earth, and daughters were born unto them,\\nThat the sons of God saw the daughters of men that they were\\nfair; and they took them wives of all which they chose.\\nAnd the LORD said, My spirit shall not always strive with man,\\nfor that he also is fle yet his days shall be an hundred\\nand twenty years.\\nThere were giants in the earth in those days; and also after\\nthat, when the sons of God came in unto the daughters of men,\\nand they bare children to them, the same became mighty men\\nwhich were of old, men of renown.\\nAnd God saw that the wickedness of man was great in the earth,\\nand that every imagination of the thoughts of his heart was\\nonly evil continually.\\nAnd it repented the LORD that he had made man on the earth,\\nand it grieved him at his heart.\\nAnd the LORD said, I will destroy man whom I have created from\\nthe face of the earth; both man, and beast, and the creeping\\nthing, and the fowls of the air; for it repenteth me that I\\nhave made them.\\nBut Noah found grace in the eyes of the LORD.\\nThese are the generations of Noah: Noah was a just man and\\nperfect in his generations, and Noah walked with God.\\nAnd Noah begat three sons, Shem, Ham, and Japheth.\\nThe earth also was corrupt before God, and the earth was\\nfilled with violence.\\nAnd God looked upon the earth, and, behold, it was corrupt;\\nfor all flesh had corrupted his way upon the earth.\\nAnd God said unto Noah, The end of all flesh is come before\\nme; for the earth is filled with violence through them; and,\\nbehold, I will destroy them with the earth.\\nMake thee an ark of gopher wood; rooms shalt thou make in the\\nark, and shalt pitch it within and without with pitch.\\nAnd this is the fashion which thou shalt make it of: The\\nlength of the ark shall be three hundred cubits, the breadth\\nof it fifty cubits, and the height of it thirty cubits.\\nA window shalt thou make to the ark, and in a cubit shalt thou\\nfinish it above; and the door of the ark shalt thou set in the\\nside thereof; with lower, second, and third stories shalt thou\\nmake it.\\nAnd, behold, I, even I, do bring a flood of waters upon the\\nearth, to destroy all flesh, wherein is the breath of life,\\nfrom under heaven; and every thing that is in the earth shall\\ndie.\\nBut with thee will I establish my covenant; and thou shalt\\ncome into the ark, thou, and thy sons, and thy wife, and thy\\nsons' wives with thee.\\nAnd of every living thing of all flesh, two of every sort\\nshalt thou bring into the ark, to keep them alive with thee;\\nthey shall be male and female.\\nOf fowls after their kind, and of cattle after their kind, of\\nevery creeping thing of the earth after his kind, two of every\\nsort shall come unto thee, to keep them alive.\\nAnd take thou unto thee of all food that is eaten, and thou\\nshalt gather it to thee; and it shall be for food for thee,\\nand for them.\\nThus did Noah; according to all that God commanded him, so did\\nhe.\\nAnd the LORD said unto Noah, Come thou and all thy house into\\nthe ark; for thee have I seen righteous before me in this\\ngeneration.\\nOf every clean beast thou shalt take to thee by sevens, the\\nmale and his fema and of beasts that are not clean by two,\\nthe male and his female.\\nOf fowls also of the air by sevens, the male and the female;\\nto keep seed alive upon the face of all the earth.\\nFor yet seven days, and I will cause it to rain upon the earth\\nforty days and forty nights; and every living substance that I\\nhave made will I destroy from off the face of the earth.\\nAnd Noah did according unto all that the LORD commanded him.\\nAnd Noah was six hundred years old when the flood of waters\\nwas upon the earth.\\nAnd Noah went in, and his sons, and his wife, and his sons'\\nwives with him, into the ark, because of the waters of the\\nflood.\\nOf clean beasts, and of beasts that are not clean, and of\\nfowls, and of every thing that creepeth upon the earth,\\nThere went in two and two unto Noah into the ark, the male and\\nthe female, as God had commanded Noah.\\nAnd it came to pass after seven days, that the waters of the\\nflood were upon the earth.\\nIn the six hundredth year of Noah's life, in the second month,\\nthe seventeenth day of the month, the same day were all the\\nfountains of the great deep broken up, and the windows of\\nheaven were opened.\\nAnd the rain was upon the earth forty days and forty nights.\\nIn the selfsame day entered Noah, and Shem, and Ham, and\\nJapheth, the sons of Noah, and Noah's wife, and the three\\nwives of his sons with them, into the ark;\\nThey, and every beast after his kind, and all the cattle after\\ntheir kind, and every creeping thing that creepeth upon the\\nearth after his kind, and every fowl after his kind, every\\nbird of every sort.\\nAnd they went in unto Noah into the ark, two and two of all\\nflesh, wherein is the breath of life.\\nAnd they that went in, went in male and female of all flesh,\\nas God had commanded h and the LORD shut him in.\\nAnd the flood was forty days upon the earth; and the waters\\nincreased, and bare up the ark, and it was lift up above the\\nearth.\\nAnd the waters prevailed, and were increased greatly upon the\\nearth; and the ark went upon the face of the waters.\\nAnd the waters prevailed exceedingly upon the earth; and all\\nthe high hills, that were under the whole heaven, were\\ncovered.\\nFifteen cubits upward did the waters prevail; and the\\nmountains were covered.\\nAnd all flesh died that moved upon the earth, both of fowl,\\nand of cattle, and of beast, and of every creeping thing that\\ncreepeth upon the earth, and every m\\nAll in whose nostrils was the breath of life, of all that was\\nin the dry land, died.\\nAnd every living substance was destroyed which was upon the\\nface of the ground, both man, and cattle, and the creeping\\nthings, and the fowl of the heaven; and they were destroyed\\nfrom the ear and Noah only remained alive, and they that\\nwere with him in the ark.\\nAnd the waters prevailed upon the earth an hundred and fifty\\ndays.\\nAnd God remembered Noah, and every living thing, and all the\\ncattle that was with him in the a and God made a wind to\\npass over the earth, and the waters asswaged;\\nThe fountains also of the deep and the windows of heaven were\\nstopped, and the rain from heaven was restrained;\\nAnd the waters returned from off the earth continually: and\\nafter the end of the hundred and fifty days the waters were\\nabated.\\nAnd the ark rested in the seventh month, on the seventeenth\\nday of the month, upon the mountains of Ararat.\\nAnd the waters decreased continually until the tenth month: in\\nthe tenth month, on the first day of the month, were the tops\\nof the mountains seen.\\nAnd it came to pass at the end of forty days, that Noah opened\\nthe window of the ark which he had ma\\nAnd he sent forth a raven, which went forth to and fro, until\\nthe waters were dried up from off the earth.\\nAlso he sent forth a dove from him, to see if the waters were\\nabated from off the face of the ground;\\nBut the dove found no rest for the sole of her foot, and she\\nreturned unto him into the ark, for the waters were on the\\nface of the whole ear then he put forth his hand, and took\\nher, and pulled her in unto him into the ark.\\nAnd he stayed yet other seven days; and again he sent forth\\nthe dove out of the ark;\\nAnd the dove came in to him in the evening; and, lo, in her\\nmouth was an olive leaf pluckt o so Noah knew that the\\nwaters were abated from off the earth.\\nAnd he stayed yet other seven days; and sent forth the dove;\\nwhich returned not again unto him any more.\\nAnd it came to pass in the six hundredth and first year, in\\nthe first month, the first day of the month, the waters were\\ndried up from off the ear and Noah removed the covering of\\nthe ark, and looked, and, behold, the face of the ground was\\ndry.\\nAnd in the second month, on the seven and twentieth day of the\\nmonth, was the earth dried.\\nAnd God spake unto Noah, saying,\\nGo forth of the ark, thou, and thy wife, and thy sons, and thy\\nsons' wives with thee.\\nBring forth with thee every living thing that is with thee, of\\nall flesh, both of fowl, and of cattle, and of every creeping\\nthing that creepeth upon the earth; that they may breed\\nabundantly in the earth, and be fruitful, and multiply upon\\nthe earth.\\nAnd Noah went forth, and his sons, and his wife, and his sons'\\nwives with h\\nEvery beast, every creeping thing, and every fowl, and\\nwhatsoever creepeth upon the earth, after their kinds, went\\nforth out of the ark.\\nAnd Noah builded an altar unto the LORD; and took of every\\nclean beast, and of every clean fowl, and offered burnt\\nofferings on the altar.\\nAnd the LORD smelled a sweet savour; and the LORD said in his\\nheart, I will not again curse the ground any more for man's\\nsake; for the imagination of man's heart is evil from his\\nyouth; neither will I again smite any more every thing living,\\nas I have done.\\nWhile the earth remaineth, seedtime and harvest, and cold and\\nheat, and summer and winter, and day and night shall not\\ncease.\\nAnd God blessed Noah and his sons, and said unto them, Be\\nfruitful, and multiply, and replenish the earth.\\nAnd the fear of you and the dread of you shall be upon every\\nbeast of the earth, and upon every fowl of the air, upon all\\nthat moveth upon the earth, and upon all the fishes of the\\nsea; into your hand are they delivered.\\nEvery moving thing that liveth shall be meat for you; even as\\nthe green herb have I given you all things.\\nBut flesh with the life thereof, which is the blood thereof,\\nshall ye not eat.\\nAnd surely your blood of your lives will I require; at the\\nhand of every beast will I require it, and at the hand of man;\\nat the hand of every man's brother will I require the life of\\nman.\\nWhoso sheddeth man's blood, by man shall his blood be shed:\\nfor in the image of God made he man.\\nAnd you, be ye fruitful, and multiply; bring forth abundantly\\nin the earth, and multiply therein.\\nAnd God spake unto Noah, and to his sons with him, saying,\\nAnd I, behold, I establish my covenant with you, and with your\\nseed after you;\\nAnd with every living creature that is with you, of the fowl,\\nof the cattle, and of every beast of the earth with you; from\\nall that go out of the ark, to every beast of the earth.\\nAnd I will establish my covenant with you, neither shall all\\nflesh be cut off any more by the waters of a flood; neither\\nshall there any more be a flood to destroy the earth.\\nAnd God said, This is the token of the covenant which I make\\nbetween me and you and every living creature that is with you,\\nfor perpetual generatio\\nI do set my bow in the cloud, and it shall be for a token of a\\ncovenant between me and the earth.\\nAnd it shall come to pass, when I bring a cloud over the\\nearth, that the bow shall be seen in the clo\\nAnd I will remember my covenant, which is between me and you\\nand every living creature of all flesh; and the waters shall\\nno more become a flood to destroy all flesh.\\nAnd the bow shall be in the cloud; and I will look upon it,\\nthat I may remember the everlasting covenant between God and\\nevery living creature of all flesh that is upon the earth.\\nAnd God said unto Noah, This is the token of the covenant,\\nwhich I have established between me and all flesh that is upon\\nthe earth.\\nAnd the sons of Noah, that went forth of the ark, were Shem,\\nand Ham, and Japhe and Ham is the father of Canaan.\\nThese are the three sons of Noah: and of them was the whole\\nearth overspread.\\nAnd Noah began to be an husbandman, and he planted a vineyard:\\nAnd he drank of the wine, and was drunken; and he was\\nuncovered within his tent.\\nAnd Ham, the father of Canaan, saw the nakedness of his\\nfather, and told his two brethren without.\\nAnd Shem and Japheth took a garment, and laid it upon both\\ntheir shoulders, and went backward, and covered the nakedness\\nof their father; and their faces were backward, and they saw\\nnot their father's nakedness.\\nAnd Noah awoke from his wine, and knew what his younger son\\nhad done unto him.\\nAnd he said, Cursed be Canaan; a servant of servants shall he\\nbe unto his brethren.\\nAnd he said, Blessed be the LORD God of Shem; and Canaan shall\\nbe his servant.\\nGod shall enlarge Japheth, and he shall dwell in the tents of\\nShem; and Canaan shall be his servant.\\nAnd Noah lived after the flood three hundred and fifty years.\\nAnd all the days of Noah were nine hundred and fifty years:\\nand he died.\\nNow these are the generations of the sons of Noah, Shem, Ham,\\nand Japhe and unto them were sons born after the flood.\\nThe sons of Japheth; Gomer, and Magog, and Madai, and Javan,\\nand Tubal, and Meshech, and Tiras.\\nAnd the sons of Gomer; Ashkenaz, and Riphath, and Togarmah.\\nAnd the sons of Javan; Elishah, and Tarshish, Kittim, and\\nDodanim.\\nBy these were the isles of the Gentiles divided in their\\nlands; every one after his tongue, after their families, in\\ntheir nations.\\nAnd the sons of Ham; Cush, and Mizraim, and Phut, and Canaan.\\nAnd the sons of Cush; Seba, and Havilah, and Sabtah, and\\nRaamah, and Sabtech and the sons of Raamah; Sheba, and\\nDedan.\\nAnd Cush begat Nimrod: he began to be a mighty one in the\\nearth.\\nHe was a mighty hunter before the LORD: wherefore it is said,\\nEven as Nimrod the mighty hunter before the LORD.\\nAnd the beginning of his kingdom was Babel, and Erech, and\\nAccad, and Calneh, in the land of Shinar.\\nOut of that land went forth Asshur, and builded Nineveh, and\\nthe city Rehoboth, and Calah,\\nAnd Resen between Nineveh and Calah: the same is a great city.\\nAnd Mizraim begat Ludim, and Anamim, and Lehabim, and\\nNaphtuhim,\\nAnd Pathrusim, and Casluhim, (out of whom came Philistim,) and\\nCaphtorim.\\nAnd Canaan begat Sidon his first born, and Heth,\\nAnd the Jebusite, and the Amorite, and the Girgasite,\\nAnd the Hivite, and the Arkite, and the Sinite,\\nAnd the Arvadite, and the Zemarite, and the Hamathite: and\\nafterward were the families of the Canaanites spread abroad.\\nAnd the border of the Canaanites was from Sidon, as thou\\ncomest to Gerar, unto Gaza; as thou goest, unto Sodom, and\\nGomorrah, and Admah, and Zeboim, even unto Lasha.\\nThese are the sons of Ham, after their families, after their\\ntongues, in their countries, and in their nations.\\nUnto Shem also, the father of all the children of Eber, the\\nbrother of Japheth the elder, even to him were children born.\\nThe children of Shem; Elam, and Asshur, and Arphaxad, and Lud,\\nand Aram.\\nAnd the children of Aram; Uz, and Hul, and Gether, and Mash.\\nAnd Arphaxad begat Salah; and Salah begat Eber.\\nAnd unto Eber were born two sons: the name of one was Peleg;\\nfor in his days was the earth divided; and his brother's name\\nwas Joktan.\\nAnd Joktan begat Almodad, and Sheleph, and Hazarmaveth, and\\nJerah,\\nAnd Hadoram, and Uzal, and Diklah,\\nAnd Obal, and Abimael, and Sheba,\\nAnd Ophir, and Havilah, and Jobab: all these were the sons of\\nJoktan.\\nAnd their dwelling was from Mesha, as thou goest unto Sephar a\\nmount of the east.\\nThese are the sons of Shem, after their families, after their\\ntongues, in their lands, after their nations.\\nThese are the families of the sons of Noah, after their\\ngenerations, in their natio and by these were the nations\\ndivided in the earth after the flood.\\nAnd the whole earth was of one language, and of one speech.\\nAnd it came to pass, as they journeyed from the east, that\\nthey found a plain in the land of Shinar; and they dwelt\\nthere.\\nAnd they said one to another, Go to, let us make brick, and\\nburn them thoroughly. And they had brick for stone, and slime\\nhad they for morter.\\nAnd they said, Go to, let us build us a city and a tower,\\nwhose top may reach unto heaven; and let us make us a name,\\nlest we be scattered abroad upon the face of the whole earth.\\nAnd the LORD came down to see the city and the tower, which\\nthe children of men builded.\\nAnd the LORD said, Behold, the people is one, and they have\\nall one language; and this they begin to  and now nothing\\nwill be restrained from them, which they have imagined to do.\\nGo to, let us go down, and there confound their language, that\\nthey may not understand one another's speech.\\nSo the LORD scattered them abroad from thence upon the face of\\nall the ear and they left off to build the city.\\nTherefore is the name of it called Babel; because the LORD did\\nthere confound the language of all the ear and from thence\\ndid the LORD scatter them abroad upon the face of all the\\nearth.\\nThese are the generations of Shem: Shem was an hundred years\\nold, and begat Arphaxad two years after the flo\\nAnd Shem lived after he begat Arphaxad five hundred years, and\\nbegat sons and daughters.\\nAnd Arphaxad lived five and thirty years, and begat Salah:\\nAnd Arphaxad lived after he begat Salah four hundred and three\\nyears, and begat sons and daughters.\\nAnd Salah lived thirty years, and begat Eber:\\nAnd Salah lived after he begat Eber four hundred and three\\nyears, and begat sons and daughters.\\nAnd Eber lived four and thirty years, and begat Peleg:\\nAnd Eber lived after he begat Peleg four hundred and thirty\\nyears, and begat sons and daughters.\\nAnd Peleg lived thirty years, and begat Reu:\\nAnd Peleg lived after he begat Reu two hundred and nine years,\\nand begat sons and daughters.\\nAnd Reu lived two and thirty years, and begat Serug:\\nAnd Reu lived after he begat Serug two hundred and seven\\nyears, and begat sons and daughters.\\nAnd Serug lived thirty years, and begat Nahor:\\nAnd Serug lived after he begat Nahor two hundred years, and\\nbegat sons and daughters.\\nAnd Nahor lived nine and twenty years, and begat Terah:\\nAnd Nahor lived after he begat Terah an hundred and nineteen\\nyears, and begat sons and daughters.\\nAnd Terah lived seventy years, and begat Abram, Nahor, and\\nHaran.\\nNow these are the generations of Terah: Terah begat Abram,\\nNahor, and Haran; and Haran begat Lot.\\nAnd Haran died before his father Terah in the land of his\\nnativity, in Ur of the Chaldees.\\nAnd Abram and Nahor took them wives: the name of Abram's wife\\nwas Sarai; and the name of Nahor's wife, Milcah, the daughter\\nof Haran, the father of Milcah, and the father of Iscah.\\nBut Sarai was barren; she had no child.\\nAnd Terah took Abram his son, and Lot the son of Haran his\\nson's son, and Sarai his daughter in law, his son Abram's\\nwife; and they went forth with them from Ur of the Chaldees,\\nto go into the land of Canaan; and they came unto Haran, and\\ndwelt there.\\nAnd the days of Terah were two hundred and five years: and\\nTerah died in Haran.\\nNow the LORD had said unto Abram, Get thee out of thy country,\\nand from thy kindred, and from thy father's house, unto a land\\nthat I will shew th\\nAnd I will make of thee a great nation, and I will bless thee,\\nand make thy name great; and thou shalt be a blessi\\nAnd I will bless them that bless thee, and curse him that\\ncurseth th and in thee shall all families of the earth be\\nblessed.\\nSo Abram departed, as the LORD had spoken unto him; and Lot\\nwent with h and Abram was seventy and five years old when\\nhe departed out of Haran.\\nAnd Abram took Sarai his wife, and Lot his brother's son, and\\nall their substance that they had gathered, and the souls that\\nthey had gotten in Haran; and they went forth to go into the\\nland of Canaan; and into the land of Canaan they came.\\nAnd Abram passed through the land unto the place of Sichem,\\nunto the plain of Moreh. And the Canaanite was then in the\\nland.\\nAnd the LORD appeared unto Abram, and said, Unto thy seed will\\nI give this la and there builded he an altar unto the LORD,\\nwho appeared unto him.\\nAnd he removed from thence unto a mountain on the east of\\nBethel, and pitched his tent, having Bethel on the west, and\\nHai on the ea and there he builded an altar unto the LORD,\\nand called upon the name of the LORD.\\nAnd Abram journeyed, going on still toward the south.\\nAnd there was a famine in the land: and Abram went down into\\nEgypt to sojourn there; for the famine was grievous in the\\nland.\\nAnd it came to pass, when he was come near to enter into\\nEgypt, that he said unto Sarai his wife, Behold now, I know\\nthat thou art a fair woman to look up\\nTherefore it shall come to pass, when the Egyptians shall see\\nthee, that they shall say, This is his wife and they will\\nkill me, but they will save thee alive.\\nSay, I pray thee, thou art my sister: that it may be well with\\nme for thy sake; and my soul shall live because of thee.\\nAnd it came to pass, that, when Abram was come into Egypt, the\\nEgyptians beheld the woman that she was very fair.\\nThe princes also of Pharaoh saw her, and commended her before\\nPhara and the woman was taken into Pharaoh's house.\\nAnd he entreated Abram well for her sake: and he had sheep,\\nand oxen, and he asses, and menservants, and maidservants, and\\nshe asses, and camels.\\nAnd the LORD plagued Pharaoh and his house with great plagues\\nbecause of Sarai Abram's wife.\\nAnd Pharaoh called Abram and said, What is this that thou hast\\ndone unto me? why didst thou not tell me that she was thy\\nwife?\\nWhy saidst thou, She is my sister? so I might have taken her\\nto me to wife now therefore behold thy wife, take her, and go\\nthy way.\\nAnd Pharaoh commanded his men concerning him: and they sent\\nhim away, and his wife, and all that he had.\\nAnd Abram went up out of Egypt, he, and his wife, and all that\\nhe had, and Lot with him, into the south.\\nAnd Abram was very rich in cattle, in silver, and in gold.\\nAnd he went on his journeys from the south even to Bethel,\\nunto the place where his tent had been at the beginning,\\nbetween Bethel and Hai;\\nUnto the place of the altar, which he had make there at the\\nfir and there Abram called on the name of the LORD.\\nAnd Lot also, which went with Abram, had flocks, and herds,\\nand tents.\\nAnd the land was not able to bear them, that they might dwell\\ntogeth for their substance was great, so that they could\\nnot dwell together.\\nAnd there was a strife between the herdmen of Abram's cattle\\nand the herdmen of Lot's catt and the Canaanite and the\\nPerizzite dwelled then in the land.\\nAnd Abram said unto Lot, Let there be no strife, I pray thee,\\nbetween me and thee, and between my herdmen and thy herdmen;\\nfor we be brethren.\\nIs not the whole land before thee? separate thyself, I pray\\nthee, from  if thou wilt take the left hand, then I will go\\nto the right; or if thou depart to the right hand, then I will\\ngo to the left.\\nAnd Lot lifted up his eyes, and beheld all the plain of\\nJordan, that it was well watered every where, before the LORD\\ndestroyed Sodom and Gomorrah, even as the garden of the LORD,\\nlike the land of Egypt, as thou comest unto Zoar.\\nThen Lot chose him all the plain of Jordan; and Lot journeyed\\nea and they separated themselves the one from the other.\\nAbram dwelled in the land of Canaan, and Lot dwelled in the\\ncities of the plain, and pitched his tent toward Sodom.\\nBut the men of Sodom were wicked and sinners before the LORD\\nexceedingly.\\nAnd the LORD said unto Abram, after that Lot was separated\\nfrom him, Lift up now thine eyes, and look from the place\\nwhere thou art northward, and southward, and eastward, and\\nwestwa\\nFor all the land which thou seest, to thee will I give it, and\\nto thy seed for ever.\\nAnd I will make thy seed as the dust of the earth: so that if\\na man can number the dust of the earth, then shall thy seed\\nalso be numbered.\\nArise, walk through the land in the length of it and in the\\nbreadth of it; for I will give it unto thee.\\nThen Abram removed his tent, and came and dwelt in the plain\\nof Mamre, which is in Hebron, and built there an altar unto\\nthe LORD.\\nAnd it came to pass in the days of Amraphel king of Shinar,\\nArioch king of Ellasar, Chedorlaomer king of Elam, and Tidal\\nking of nations;\\nThat these made war with Bera king of Sodom, and with Birsha\\nking of Gomorrah, Shinab king of Admah, and Shemeber king of\\nZeboiim, and the king of Bela, which is Zoar.\\nAll these were joined together in the vale of Siddim, which is\\nthe salt sea.\\nTwelve years they served Chedorlaomer, and in the thirteenth\\nyear they rebelled.\\nAnd in the fourteenth year came Chedorlaomer, and the kings\\nthat were with him, and smote the Rephaims in Ashteroth\\nKarnaim, and the Zuzims in Ham, and the Emins in Shaveh\\nKiriathaim,\\nAnd the Horites in their mount Seir, unto Elparan, which is by\\nthe wilderness.\\nAnd they returned, and came to Enmishpat, which is Kadesh, and\\nsmote all the country of the Amalekites, and also the\\nAmorites, that dwelt in Hazezontamar.\\nAnd there went out the king of Sodom, and the king of\\nGomorrah, and the king of Admah, and the king of Zeboiim, and\\nthe king of Bela (the same is Zoar;) and they joined battle\\nwith them in the vale of Siddim;\\nWith Chedorlaomer the king of Elam, and with Tidal king of\\nnations, and Amraphel king of Shinar, and Arioch king of\\nEllasar; four kings with five.\\nAnd the vale of Siddim was full of slimepits; and the kings of\\nSodom and Gomorrah fled, and fell there; and they that\\nremained fled to the mountain.\\nAnd they took all the goods of Sodom and Gomorrah, and all\\ntheir victuals, and went their way.\\nAnd they took Lot, Abram's brother's son, who dwelt in Sodom,\\nand his goods, and departed.\\nAnd there came one that had escaped, and told Abram the\\nHebrew; for he dwelt in the plain of Mamre the Amorite,\\nbrother of Eshcol, and brother of An and these were\\nconfederate with Abram.\\nAnd when Abram heard that his brother was taken captive, he\\narmed his trained servants, born in his own house, three\\nhundred and eighteen, and pursued them unto Dan.\\nAnd he divided himself against them, he and his servants, by\\nnight, and smote them, and pursued them unto Hobah, which is\\non the left hand of Damascus.\\nAnd he brought back all the goods, and also brought again his\\nbrother Lot, and his goods, and the women also, and the\\npeople.\\nAnd the king of Sodom went out to meet him after his return\\nfrom the slaughter of Chedorlaomer, and of the kings that were\\nwith him, at the valley of Shaveh, which is the king's dale.\\nAnd Melchizedek king of Salem brought forth bread and wine:\\nand he was the priest of the most high God.\\nAnd he blessed him, and said, Blessed be Abram of the most\\nhigh God, possessor of heaven and ear\\nAnd blessed be the most high God, which hath delivered thine\\nenemies into thy hand. And he gave him tithes of all.\\nAnd the king of Sodom said unto Abram, Give me the persons,\\nand take the goods to thyself.\\nAnd Abram said to the king of Sodom, I have lift up mine hand\\nunto the LORD, the most high God, the possessor of heaven and\\nearth,\\nThat I will not take from a thread even to a shoelatchet, and\\nthat I will not take any thing that is thine, lest thou\\nshouldest say, I have made Abram ri\\nSave only that which the young men have eaten, and the portion\\nof the men which went with me, Aner, Eshcol, and Mamre; let\\nthem take their portion.\\nAfter these things the word of the LORD came unto Abram in a\\nvision, saying, Fear not, Abr I am thy shield, and thy\\nexceeding great reward.\\nAnd Abram said, LORD God, what wilt thou give me, seeing I go\\nchildless, and the steward of my house is this Eliezer of\\nDamascus?\\nAnd Abram said, Behold, to me thou hast given no seed: and,\\nlo, one born in my house is mine heir.\\nAnd, behold, the word of the LORD came unto him, saying, This\\nshall not be thine heir; but he that shall come forth out of\\nthine own bowels shall be thine heir.\\nAnd he brought him forth abroad, and said, Look now toward\\nheaven, and tell the stars, if thou be able to number th\\nand he said unto him, So shall thy seed be.\\nAnd he believed in the LORD; and he counted it to him for\\nrighteousness.\\nAnd he said unto him, I am the LORD that brought thee out of\\nUr of the Chaldees, to give thee this land to inherit it.\\nAnd he said, LORD God, whereby shall I know that I shall\\ninherit it?\\nAnd he said unto him, Take me an heifer of three years old,\\nand a she goat of three years old, and a ram of three years\\nold, and a turtledove, and a young pigeon.\\nAnd he took unto him all these, and divided them in the midst,\\nand laid each piece one against anoth but the birds divided\\nhe not.\\nAnd when the fowls came down upon the carcases, Abram drove\\nthem away.\\nAnd when the sun was going down, a deep sleep fell upon Abram;\\nand, lo, an horror of great darkness fell upon him.\\nAnd he said unto Abram, Know of a surety that thy seed shall\\nbe a stranger in a land that is not their's, and shall serve\\nthem; and they shall afflict them four hundred years;\\nAnd also that nation, whom they shall serve, will I judge: and\\nafterward shall they come out with great substance.\\nAnd thou shalt go to thy fathers in peace; thou shalt be\\nburied in a good old age.\\nBut in the fourth generation they shall come hither again: for\\nthe iniquity of the Amorites is not yet full.\\nAnd it came to pass, that, when the sun went down, and it was\\ndark, behold a smoking furnace, and a burning lamp that passed\\nbetween those pieces.\\nIn the same day the LORD made a covenant with Abram, saying,\\nUnto thy seed have I given this land, from the river of Egypt\\nunto the great river, the river Euphrat\\nThe Kenites, and the Kenizzites, and the Kadmonites,\\nAnd the Hittites, and the Perizzites, and the Rephaims,\\nAnd the Amorites, and the Canaanites, and the Girgashites, and\\nthe Jebusites.\\nNow Sarai Abram's wife bare him no children: and she had an\\nhandmaid, an Egyptian, whose name was Hagar.\\nAnd Sarai said unto Abram, Behold now, the LORD hath\\nrestrained me from beari I pray thee, go in unto my maid;\\nit may be that I may obtain children by her. And Abram\\nhearkened to the voice of Sarai.\\nAnd Sarai Abram's wife took Hagar her maid the Egyptian, after\\nAbram had dwelt ten years in the land of Canaan, and gave her\\nto her husband Abram to be his wife.\\nAnd he went in unto Hagar, and she conceived: and when she saw\\nthat she had conceived, her mistress was despised in her eyes.\\nAnd Sarai said unto Abram, My wrong be upon thee: I have given\\nmy maid into thy bosom; and when she saw that she had\\nconceived, I was despised in her ey the LORD judge between\\nme and thee.\\nBut Abram said unto Sarai, Behold, thy maid is in thine hand;\\ndo to her as it pleaseth thee. And when Sarai dealt hardly\\nwith her, she fled from her face.\\nAnd the angel of the LORD found her by a fountain of water in\\nthe wilderness, by the fountain in the way to Shur.\\nAnd he said, Hagar, Sarai's maid, whence camest thou? and\\nwhither wilt thou go? And she said, I flee from the face of my\\nmistress Sarai.\\nAnd the angel of the LORD said unto her, Return to thy\\nmistress, and submit thyself under her hands.\\nAnd the angel of the LORD said unto her, I will multiply thy\\nseed exceedingly, that it shall not be numbered for multitude.\\nAnd the angel of the LORD said unto her, Behold, thou art with\\nchild and shalt bear a son, and shalt call his name Ishmael;\\nbecause the LORD hath heard thy affliction.\\nAnd he will be a wild man; his hand will be against every man,\\nand every man's hand against him; and he shall dwell in the\\npresence of all his brethren.\\nAnd she called the name of the LORD that spake unto her, Thou\\nGod seest  for she said, Have I also here looked after him\\nthat seeth me?\\nWherefore the well was called Beerlahairoi; behold, it is\\nbetween Kadesh and Bered.\\nAnd Hagar bare Abram a son: and Abram called his son's name,\\nwhich Hagar bare, Ishmael.\\nAnd Abram was fourscore and six years old, when Hagar bare\\nIshmael to Abram.\\nAnd when Abram was ninety years old and nine, the LORD\\nappeared to Abram, and said unto him, I am the Almighty God;\\nwalk before me, and be thou perfect.\\nAnd I will make my covenant between me and thee, and will\\nmultiply thee exceedingly.\\nAnd Abram fell on his face: and God talked with him, saying,\\nAs for me, behold, my covenant is with thee, and thou shalt be\\na father of many nations.\\nNeither shall thy name any more be called Abram, but thy name\\nshall be Abraham; for a father of many nations have I made\\nthee.\\nAnd I will make thee exceeding fruitful, and I will make\\nnations of thee, and kings shall come out of thee.\\nAnd I will establish my covenant between me and thee and thy\\nseed after thee in their generations for an everlasting\\ncovenant, to be a God unto thee, and to thy seed after thee.\\nAnd I will give unto thee, and to thy seed after thee, the\\nland wherein thou art a stranger, all the land of Canaan, for\\nan everlasting possession; and I will be their God.\\nAnd God said unto Abraham, Thou shalt keep my covenant\\ntherefore, thou, and thy seed after thee in their generations.\\nThis is my covenant, which ye shall keep, between me and you\\nand thy seed after thee; Every man child among you shall be\\ncircumcised.\\nAnd ye shall circumcise the flesh of your foreskin; and it\\nshall be a token of the covenant betwixt me and you.\\nAnd he that is eight days old shall be circumcised among you,\\nevery man child in your generations, he that is born in the\\nhouse, or bought with money of any stranger, which is not of\\nthy seed.\\nHe that is born in thy house, and he that is bought with thy\\nmoney, must needs be circumcis and my covenant shall be in\\nyour flesh for an everlasting covenant.\\nAnd the uncircumcised man child whose flesh of his foreskin is\\nnot circumcised, that soul shall be cut off from his people;\\nhe hath broken my covenant.\\nAnd God said unto Abraham, As for Sarai thy wife, thou shalt\\nnot call her name Sarai, but Sarah shall her name be.\\nAnd I will bless her, and give thee a son also of her: yea, I\\nwill bless her, and she shall be a mother of nations; kings of\\npeople shall be of her.\\nThen Abraham fell upon his face, and laughed, and said in his\\nheart, Shall a child be born unto him that is an hundred years\\nold? and shall Sarah, that is ninety years old, bear?\\nAnd Abraham said unto God, O that Ishmael might live before\\nthee!\\nAnd God said, Sarah thy wife shall bear thee a son indeed; and\\nthou shalt call his name Isa and I will establish my\\ncovenant with him for an everlasting covenant, and with his\\nseed after him.\\nAnd as for Ishmael, I have heard thee: Behold, I have blessed\\nhim, and will make him fruitful, and will multiply him\\nexceedingly; twelve princes shall he beget, and I will make\\nhim a great nation.\\nBut my covenant will I establish with Isaac, which Sarah shall\\nbear unto thee at this set time in the next year.\\nAnd he left off talking with him, and God went up from\\nAbraham.\\nAnd Abraham took Ishmael his son, and all that were born in\\nhis house, and all that were bought with his money, every male\\namong the men of Abraham's house; and circumcised the flesh of\\ntheir foreskin in the selfsame day, as God had said unto him.\\nAnd Abraham was ninety years old and nine, when he was\\ncircumcised in the flesh of his foreskin.\\nAnd Ishmael his son was thirteen years old, when he was\\ncircumcised in the flesh of his foreskin.\\nIn the selfsame day was Abraham circumcised, and Ishmael his\\nson.\\nAnd all the men of his house, born in the house, and bought\\nwith money of the stranger, were circumcised with him.\\nAnd the LORD appeared unto him in the plains of Mamre: and he\\nsat in the tent door in the heat of the day;\\nAnd he lift up his eyes and looked, and, lo, three men stood\\nby h and when he saw them, he ran to meet them from the\\ntent door, and bowed himself toward the ground,\\nAnd said, My LORD, if now I have found favour in thy sight,\\npass not away, I pray thee, from thy serva\\nLet a little water, I pray you, be fetched, and wash your\\nfeet, and rest yourselves under the tr\\nAnd I will fetch a morsel of bread, and comfort ye your\\nhearts; after that ye shall pass  for therefore are ye come\\nto your servant. And they said, So do, as thou hast said.\\nAnd Abraham hastened into the tent unto Sarah, and said, Make\\nready quickly three measures of fine meal, knead it, and make\\ncakes upon the hearth.\\nAnd Abraham ran unto the herd, and fetcht a calf tender and\\ngood, and gave it unto a young man; and he hasted to dress it.\\nAnd he took butter, and milk, and the calf which he had\\ndressed, and set it before them; and he stood by them under\\nthe tree, and they did eat.\\nAnd they said unto him, Where is Sarah thy wife? And he said,\\nBehold, in the tent.\\nAnd he said, I will certainly return unto thee according to\\nthe time of life; and, lo, Sarah thy wife shall have a son.\\nAnd Sarah heard it in the tent door, which was behind him.\\nNow Abraham and Sarah were old and well stricken in age; and\\nit ceased to be with Sarah after the manner of women.\\nTherefore Sarah laughed within herself, saying, After I am\\nwaxed old shall I have pleasure, my lord being old also?\\nAnd the LORD said unto Abraham, Wherefore did Sarah laugh,\\nsaying, Shall I of a surety bear a child, which am old?\\nIs any thing too hard for the LORD? At the time appointed I\\nwill return unto thee, according to the time of life, and\\nSarah shall have a son.\\nThen Sarah denied, saying, I laughed not; for she was afraid.\\nAnd he said, Nay; but thou didst laugh.\\nAnd the men rose up from thence, and looked toward Sodom: and\\nAbraham went with them to bring them on the way.\\nAnd the LORD said, Shall I hide from Abraham that thing which\\nI do;\\nSeeing that Abraham shall surely become a great and mighty\\nnation, and all the nations of the earth shall be blessed in\\nhim?\\nFor I know him, that he will command his children and his\\nhousehold after him, and they shall keep the way of the LORD,\\nto do justice and judgment; that the LORD may bring upon\\nAbraham that which he hath spoken of him.\\nAnd the LORD said, Because the cry of Sodom and Gomorrah is\\ngreat, and because their sin is very grievous;\\nI will go down now, and see whether they have done altogether\\naccording to the cry of it, which is come unto me; and if not,\\nI will know.\\nAnd the men turned their faces from thence, and went toward\\nSod but Abraham stood yet before the LORD.\\nAnd Abraham drew near, and said, Wilt thou also destroy the\\nrighteous with the wicked?\\nPeradventure there be fifty righteous within the city: wilt\\nthou also destroy and not spare the place for the fifty\\nrighteous that are therein?\\nThat be far from thee to do after this manner, to slay the\\nrighteous with the wick and that the righteous should be as\\nthe wicked, that be far from th Shall not the Judge of all\\nthe earth do right?\\nAnd the LORD said, If I find in Sodom fifty righteous within\\nthe city, then I will spare all the place for their sakes.\\nAnd Abraham answered and said, Behold now, I have taken upon\\nme to speak unto the LORD, which am but dust and ash\\nPeradventure there shall lack five of the fifty righteous:\\nwilt thou destroy all the city for lack of five? And he said,\\nIf I find there forty and five, I will not destroy it.\\nAnd he spake unto him yet again, and said, Peradventure there\\nshall be forty found there. And he said, I will not do it for\\nforty's sake.\\nAnd he said unto him, Oh let not the LORD be angry, and I will\\nspe Peradventure there shall thirty be found there. And he\\nsaid, I will not do it, if I find thirty there.\\nAnd he said, Behold now, I have taken upon me to speak unto\\nthe LO Peradventure there shall be twenty found there. And\\nhe said, I will not destroy it for twenty's sake.\\nAnd he said, Oh let not the LORD be angry, and I will speak\\nyet but this on Peradventure ten shall be found there. And\\nhe said, I will not destroy it for ten's sake.\\nAnd the LORD went his way, as soon as he had left communing\\nwith Abrah and Abraham returned unto his place.\\nAnd there came two angels to Sodom at even; and Lot sat in the\\ngate of Sod and Lot seeing them rose up to meet them; and\\nhe bowed himself with his face toward the ground;\\nAnd he said, Behold now, my lords, turn in, I pray you, into\\nyour servant's house, and tarry all night, and wash your feet,\\nand ye shall rise up early, and go on your ways. And they\\nsaid, Nay; but we will abide in the street all night.\\nAnd he pressed upon them greatly; and they turned in unto him,\\nand entered into his house; and he made them a feast, and did\\nbake unleavened bread, and they did eat.\\nBut before they lay down, the men of the city, even the men of\\nSodom, compassed the house round, both old and young, all the\\npeople from every quart\\nAnd they called unto Lot, and said unto him, Where are the men\\nwhich came in to thee this night? bring them out unto us, that\\nwe may know them.\\nAnd Lot went out at the door unto them, and shut the door\\nafter him,\\nAnd said, I pray you, brethren, do not so wickedly.\\nBehold now, I have two daughters which have not known man; let\\nme, I pray you, bring them out unto you, and do ye to them as\\nis good in your ey only unto these men do nothing; for\\ntherefore came they under the shadow of my roof.\\nAnd they said, Stand back. And they said again, This one\\nfellow came in to sojourn, and he will needs be a jud now\\nwill we deal worse with thee, than with them. And they pressed\\nsore upon the man, even Lot, and came near to break the door.\\nBut the men put forth their hand, and pulled Lot into the\\nhouse to them, and shut to the door.\\nAnd they smote the men that were at the door of the house with\\nblindness, both small and gre so that they wearied\\nthemselves to find the door.\\nAnd the men said unto Lot, Hast thou here any besides? son in\\nlaw, and thy sons, and thy daughters, and whatsoever thou hast\\nin the city, bring them out of this pla\\nFor we will destroy this place, because the cry of them is\\nwaxen great before the face of the LORD; and the LORD hath\\nsent us to destroy it.\\nAnd Lot went out, and spake unto his sons in law, which\\nmarried his daughters, and said, Up, get you out of this\\nplace; for the LORD will destroy this city. But he seemed as\\none that mocked unto his sons in law.\\nAnd when the morning arose, then the angels hastened Lot,\\nsaying, Arise, take thy wife, and thy two daughters, which are\\nhere; lest thou be consumed in the iniquity of the city.\\nAnd while he lingered, the men laid hold upon his hand, and\\nupon the hand of his wife, and upon the hand of his two\\ndaughters; the LORD being merciful unto h and they brought\\nhim forth, and set him without the city.\\nAnd it came to pass, when they had brought them forth abroad,\\nthat he said, Escape for thy life; look not behind thee,\\nneither stay thou in all the plain; escape to the mountain,\\nlest thou be consumed.\\nAnd Lot said unto them, Oh, not so, my LORD:\\nBehold now, thy servant hath found grace in thy sight, and\\nthou hast magnified thy mercy, which thou hast shewed unto me\\nin saving my life; and I cannot escape to the mountain, lest\\nsome evil take me, and I d\\nBehold now, this city is near to flee unto, and it is a little\\no Oh, let me escape thither, (is it not a little one?) and\\nmy soul shall live.\\nAnd he said unto him, See, I have accepted thee concerning\\nthis thing also, that I will not overthrow this city, for the\\nwhich thou hast spoken.\\nHaste thee, escape thither; for I cannot do anything till thou\\nbe come thither. Therefore the name of the city was called\\nZoar.\\nThe sun was risen upon the earth when Lot entered into Zoar.\\nThen the LORD rained upon Sodom and upon Gomorrah brimstone\\nand fire from the LORD out of heaven;\\nAnd he overthrew those cities, and all the plain, and all the\\ninhabitants of the cities, and that which grew upon the\\nground.\\nBut his wife looked back from behind him, and she became a\\npillar of salt.\\nAnd Abraham gat up early in the morning to the place where he\\nstood before the LO\\nAnd he looked toward Sodom and Gomorrah, and toward all the\\nland of the plain, and beheld, and, lo, the smoke of the\\ncountry went up as the smoke of a furnace.\\nAnd it came to pass, when God destroyed the cities of the\\nplain, that God remembered Abraham, and sent Lot out of the\\nmidst of the overthrow, when he overthrew the cities in the\\nwhich Lot dwelt.\\nAnd Lot went up out of Zoar, and dwelt in the mountain, and\\nhis two daughters with him; for he feared to dwell in Zo\\nand he dwelt in a cave, he and his two daughters.\\nAnd the firstborn said unto the younger, Our father is old,\\nand there is not a man in the earth to come in unto us after\\nthe manner of all the ear\\nCome, let us make our father drink wine, and we will lie with\\nhim, that we may preserve seed of our father.\\nAnd they made their father drink wine that night: and the\\nfirstborn went in, and lay with her father; and he perceived\\nnot when she lay down, nor when she arose.\\nAnd it came to pass on the morrow, that the firstborn said\\nunto the younger, Behold, I lay yesternight with my fath\\nlet us make him drink wine this night also; and go thou in,\\nand lie with him, that we may preserve seed of our father.\\nAnd they made their father drink wine that night also: and the\\nyounger arose, and lay with him; and he perceived not when she\\nlay down, nor when she arose.\\nThus were both the daughters of Lot with child by their\\nfather.\\nAnd the first born bare a son, and called his name Moab: the\\nsame is the father of the Moabites unto this day.\\nAnd the younger, she also bare a son, and called his name\\nBenam the same is the father of the children of Ammon unto\\nthis day.\\nAnd Abraham journeyed from thence toward the south country,\\nand dwelled between Kadesh and Shur, and sojourned in Gerar.\\nAnd Abraham said of Sarah his wife, She is my sister: and\\nAbimelech king of Gerar sent, and took Sarah.\\nBut God came to Abimelech in a dream by night, and said to\\nhim, Behold, thou art but a dead man, for the woman which thou\\nhast taken; for she is a man's wife.\\nBut Abimelech had not come near her: and he said, LORD, wilt\\nthou slay also a righteous nation?\\nSaid he not unto me, She is my sister? and she, even she\\nherself said, He is my broth in the integrity of my heart\\nand innocency of my hands have I done this.\\nAnd God said unto him in a dream, Yea, I know that thou didst\\nthis in the integrity of thy heart; for I also withheld thee\\nfrom sinning against  therefore suffered I thee not to\\ntouch her.\\nNow therefore restore the man his wife; for he is a prophet,\\nand he shall pray for thee, and thou shalt li and if thou\\nrestore her not, know thou that thou shalt surely die, thou,\\nand all that are thine.\\nTherefore Abimelech rose early in the morning, and called all\\nhis servants, and told all these things in their ea and the\\nmen were sore afraid.\\nThen Abimelech called Abraham, and said unto him, What hast\\nthou done unto us? and what have I offended thee, that thou\\nhast brought on me and on my kingdom a great sin? thou hast\\ndone deeds unto me that ought not to be done.\\nAnd Abimelech said unto Abraham, What sawest thou, that thou\\nhast done this thing?\\nAnd Abraham said, Because I thought, Surely the fear of God is\\nnot in this place; and they will slay me for my wife's sake.\\nAnd yet indeed she is my sister; she is the daughter of my\\nfather, but not the daughter of my mother; and she became my\\nwife.\\nAnd it came to pass, when God caused me to wander from my\\nfather's house, that I said unto her, This is thy kindness\\nwhich thou shalt shew unto me; at every place whither we shall\\ncome, say of me, He is my brother.\\nAnd Abimelech took sheep, and oxen, and menservants, and\\nwomenservants, and gave them unto Abraham, and restored him\\nSarah his wife.\\nAnd Abimelech said, Behold, my land is before thee: dwell\\nwhere it pleaseth thee.\\nAnd unto Sarah he said, Behold, I have given thy brother a\\nthousand pieces of silv behold, he is to thee a covering of\\nthe eyes, unto all that are with thee, and with all oth\\nthus she was reproved.\\nSo Abraham prayed unto God: and God healed Abimelech, and his\\nwife, and his maidservants; and they bare children.\\nFor the LORD had fast closed up all the wombs of the house of\\nAbimelech, because of Sarah Abraham's wife.\\nAnd the LORD visited Sarah as he had said, and the LORD did\\nunto Sarah as he had spoken.\\nFor Sarah conceived, and bare Abraham a son in his old age, at\\nthe set time of which God had spoken to him.\\nAnd Abraham called the name of his son that was born unto him,\\nwhom Sarah bare to him, Isaac.\\nAnd Abraham circumcised his son Isaac being eight days old, as\\nGod had commanded him.\\nAnd Abraham was an hundred years old, when his son Isaac was\\nborn unto him.\\nAnd Sarah said, God hath made me to laugh, so that all that\\nhear will laugh with me.\\nAnd she said, Who would have said unto Abraham, that Sarah\\nshould have given children suck? for I have born him a son in\\nhis old age.\\nAnd the child grew, and was weaned: and Abraham made a great\\nfeast the same day that Isaac was weaned.\\nAnd Sarah saw the son of Hagar the Egyptian, which she had\\nborn unto Abraham, mocking.\\nWherefore she said unto Abraham, Cast out this bondwoman and\\nher s for the son of this bondwoman shall not be heir with\\nmy son, even with Isaac.\\nAnd the thing was very grievous in Abraham's sight because of\\nhis son.\\nAnd God said unto Abraham, Let it not be grievous in thy sight\\nbecause of the lad, and because of thy bondwoman; in all that\\nSarah hath said unto thee, hearken unto her voice; for in\\nIsaac shall thy seed be called.\\nAnd also of the son of the bondwoman will I make a nation,\\nbecause he is thy seed.\\nAnd Abraham rose up early in the morning, and took bread, and\\na bottle of water, and gave it unto Hagar, putting it on her\\nshoulder, and the child, and sent her aw and she departed,\\nand wandered in the wilderness of Beersheba.\\nAnd the water was spent in the bottle, and she cast the child\\nunder one of the shrubs.\\nAnd she went, and sat her down over against him a good way\\noff, as it were a bow sh for she said, Let me not see the\\ndeath of the child. And she sat over against him, and lift up\\nher voice, and wept.\\nAnd God heard the voice of the lad; and the angel of God\\ncalled to Hagar out of heaven, and said unto her, What aileth\\nthee, Hagar? fear not; for God hath heard the voice of the lad\\nwhere he is.\\nArise, lift up the lad, and hold him in thine hand; for I will\\nmake him a great nation.\\nAnd God opened her eyes, and she saw a well of water; and she\\nwent, and filled the bottle with water, and gave the lad\\ndrink.\\nAnd God was with the lad; and he grew, and dwelt in the\\nwilderness, and became an archer.\\nAnd he dwelt in the wilderness of Paran: and his mother took\\nhim a wife out of the land of Egypt.\\nAnd it came to pass at that time, that Abimelech and Phichol\\nthe chief captain of his host spake unto Abraham, saying, God\\nis with thee in all that thou doe\\nNow therefore swear unto me here by God that thou wilt not\\ndeal falsely with me, nor with my son, nor with my son's s\\nbut according to the kindness that I have done unto thee, thou\\nshalt do unto me, and to the land wherein thou hast sojourned.\\nAnd Abraham said, I will swear.\\nAnd Abraham reproved Abimelech because of a well of water,\\nwhich Abimelech's servants had violently taken away.\\nAnd Abimelech said, I wot not who hath done this thing;\\nneither didst thou tell me, neither yet heard I of it, but to\\nday.\\nAnd Abraham took sheep and oxen, and gave them unto Abimelech;\\nand both of them made a covenant.\\nAnd Abraham set seven ewe lambs of the flock by themselves.\\nAnd Abimelech said unto Abraham, What mean these seven ewe\\nlambs which thou hast set by themselves?\\nAnd he said, For these seven ewe lambs shalt thou take of my\\nhand, that they may be a witness unto me, that I have digged\\nthis well.\\nWherefore he called that place Beersheba; because there they\\nsware both of them.\\nThus they made a covenant at Beersheba: then Abimelech rose\\nup, and Phichol the chief captain of his host, and they\\nreturned into the land of the Philistines.\\nAnd Abraham planted a grove in Beersheba, and called there on\\nthe name of the LORD, the everlasting God.\\nAnd Abraham sojourned in the Philistines' land many days.\\nAnd it came to pass after these things, that God did tempt\\nAbraham, and said unto him, Abrah and he said, Behold, here\\nI am.\\nAnd he said, Take now thy son, thine only son Isaac, whom thou\\nlovest, and get thee into the land of Moriah; and offer him\\nthere for a burnt offering upon one of the mountains which I\\nwill tell thee of.\\nAnd Abraham rose up early in the morning, and saddled his ass,\\nand took two of his young men with him, and Isaac his son, and\\nclave the wood for the burnt offering, and rose up, and went\\nunto the place of which God had told him.\\nThen on the third day Abraham lifted up his eyes, and saw the\\nplace afar off.\\nAnd Abraham said unto his young men, Abide ye here with the\\nass; and I and the lad will go yonder and worship, and come\\nagain to you.\\nAnd Abraham took the wood of the burnt offering, and laid it\\nupon Isaac his son; and he took the fire in his hand, and a\\nknife; and they went both of them together.\\nAnd Isaac spake unto Abraham his father, and said, My father:\\nand he said, Here am I, my son. And he said, Behold the fire\\nand the wo but where is the lamb for a burnt offering?\\nAnd Abraham said, My son, God will provide himself a lamb for\\na burnt offeri so they went both of them together.\\nAnd they came to the place which God had told him of; and\\nAbraham built an altar there, and laid the wood in order, and\\nbound Isaac his son, and laid him on the altar upon the wood.\\nAnd Abraham stretched forth his hand, and took the knife to\\nslay his son.\\nAnd the angel of the LORD called unto him out of heaven, and\\nsaid, Abraham, Abrah and he said, Here am I.\\nAnd he said, Lay not thine hand upon the lad, neither do thou\\nany thing unto h for now I know that thou fearest God,\\nseeing thou hast not withheld thy son, thine only son from me.\\nAnd Abraham lifted up his eyes, and looked, and behold behind\\nhim a ram caught in a thicket by his hor and Abraham went\\nand took the ram, and offered him up for a burnt offering in\\nthe stead of his son.\\nAnd Abraham called the name of that place Jehovahjireh: as it\\nis said to this day, In the mount of the LORD it shall be\\nseen.\\nAnd the angel of the LORD called unto Abraham out of heaven\\nthe second time,\\nAnd said, By myself have I sworn, saith the LORD, for because\\nthou hast done this thing, and hast not withheld thy son,\\nthine only s\\nThat in blessing I will bless thee, and in multiplying I will\\nmultiply thy seed as the stars of the heaven, and as the sand\\nwhich is upon the sea shore; and thy seed shall possess the\\ngate of his enemies;\\nAnd in thy seed shall all the nations of the earth be blessed;\\nbecause thou hast obeyed my voice.\\nSo Abraham returned unto his young men, and they rose up and\\nwent together to Beersheba; and Abraham dwelt at Beersheba.\\nAnd it came to pass after these things, that it was told\\nAbraham, saying, Behold, Milcah, she hath also born children\\nunto thy brother Nahor;\\nHuz his firstborn, and Buz his brother, and Kemuel the father\\nof Aram,\\nAnd Chesed, and Hazo, and Pildash, and Jidlaph, and Bethuel.\\nAnd Bethuel begat Rebekah: these eight Milcah did bear to\\nNahor, Abraham's brother.\\nAnd his concubine, whose name was Reumah, she bare also Tebah,\\nand Gaham, and Thahash, and Maachah.\\nAnd Sarah was an hundred and seven and twenty years old: these\\nwere the years of the life of Sarah.\\nAnd Sarah died in Kirjatharba; the same is Hebron in the land\\nof Cana and Abraham came to mourn for Sarah, and to weep\\nfor her.\\nAnd Abraham stood up from before his dead, and spake unto the\\nsons of Heth, saying,\\nI am a stranger and a sojourner with you: give me a possession\\nof a buryingplace with you, that I may bury my dead out of my\\nsight.\\nAnd the children of Heth answered Abraham, saying unto him,\\nHear us, my lord: thou art a mighty prince among us: in the\\nchoice of our sepulchres bury thy dead; none of us shall\\nwithhold from thee his sepulchre, but that thou mayest bury\\nthy dead.\\nAnd Abraham stood up, and bowed himself to the people of the\\nland, even to the children of Heth.\\nAnd he communed with them, saying, If it be your mind that I\\nshould bury my dead out of my sight; hear me, and intreat for\\nme to Ephron the son of Zohar,\\nThat he may give me the cave of Machpelah, which he hath,\\nwhich is in the end of his field; for as much money as it is\\nworth he shall give it me for a possession of a buryingplace\\namongst you.\\nAnd Ephron dwelt among the children of Heth: and Ephron the\\nHittite answered Abraham in the audience of the children of\\nHeth, even of all that went in at the gate of his city,\\nsaying,\\nNay, my lord, hear me: the field give I thee, and the cave\\nthat is therein, I give it thee; in the presence of the sons\\nof my people give I it th bury thy dead.\\nAnd Abraham bowed down himself before the people of the land.\\nAnd he spake unto Ephron in the audience of the people of the\\nland, saying, But if thou wilt give it, I pray thee, hear \\nI will give thee money for the field; take it of me, and I\\nwill bury my dead there.\\nAnd Ephron answered Abraham, saying unto him,\\nMy lord, hearken unto me: the land is worth four hundred\\nshekels of silver; what is that betwixt me and thee? bury\\ntherefore thy dead.\\nAnd Abraham hearkened unto Ephron; and Abraham weighed to\\nEphron the silver, which he had named in the audience of the\\nsons of Heth, four hundred shekels of silver, current money\\nwith the merchant.\\nAnd the field of Ephron which was in Machpelah, which was\\nbefore Mamre, the field, and the cave which was therein, and\\nall the trees that were in the field, that were in all the\\nborders round about, were made sure\\nUnto Abraham for a possession in the presence of the children\\nof Heth, before all that went in at the gate of his city.\\nAnd after this, Abraham buried Sarah his wife in the cave of\\nthe field of Machpelah before Mam the same is Hebron in the\\nland of Canaan.\\nAnd the field, and the cave that is therein, were made sure\\nunto Abraham for a possession of a buryingplace by the sons of\\nHeth.\\nAnd Abraham was old, and well stricken in age: and the LORD\\nhad blessed Abraham in all things.\\nAnd Abraham said unto his eldest servant of his house, that\\nruled over all that he had, Put, I pray thee, thy hand under\\nmy thi\\nAnd I will make thee swear by the LORD, the God of heaven, and\\nthe God of the earth, that thou shalt not take a wife unto my\\nson of the daughters of the Canaanites, among whom I dwe\\nBut thou shalt go unto my country, and to my kindred, and take\\na wife unto my son Isaac.\\nAnd the servant said unto him, Peradventure the woman will not\\nbe willing to follow me unto this la must I needs bring thy\\nson again unto the land from whence thou camest?\\nAnd Abraham said unto him, Beware thou that thou bring not my\\nson thither again.\\nThe LORD God of heaven, which took me from my father's house,\\nand from the land of my kindred, and which spake unto me, and\\nthat sware unto me, saying, Unto thy seed will I give this\\nland; he shall send his angel before thee, and thou shalt take\\na wife unto my son from thence.\\nAnd if the woman will not be willing to follow thee, then thou\\nshalt be clear from this my oa only bring not my son\\nthither again.\\nAnd the servant put his hand under the thigh of Abraham his\\nmaster, and sware to him concerning that matter.\\nAnd the servant took ten camels of the camels of his master,\\nand departed; for all the goods of his master were in his\\nha and he arose, and went to Mesopotamia, unto the city of\\nNahor.\\nAnd he made his camels to kneel down without the city by a\\nwell of water at the time of the evening, even the time that\\nwomen go out to draw water.\\nAnd he said O LORD God of my master Abraham, I pray thee, send\\nme good speed this day, and shew kindness unto my master\\nAbraham.\\nBehold, I stand here by the well of water; and the daughters\\nof the men of the city come out to draw wat\\nAnd let it come to pass, that the damsel to whom I shall say,\\nLet down thy pitcher, I pray thee, that I may drink; and she\\nshall say, Drink, and I will give thy camels drink al let\\nthe same be she that thou hast appointed for thy servant\\nIsaac; and thereby shall I know that thou hast shewed kindness\\nunto my master.\\nAnd it came to pass, before he had done speaking, that,\\nbehold, Rebekah came out, who was born to Bethuel, son of\\nMilcah, the wife of Nahor, Abraham's brother, with her pitcher\\nupon her shoulder.\\nAnd the damsel was very fair to look upon, a virgin, neither\\nhad any man known h and she went down to the well, and\\nfilled her pitcher, and came up.\\nAnd the servant ran to meet her, and said, Let me, I pray\\nthee, drink a little water of thy pitcher.\\nAnd she said, Drink, my lord: and she hasted, and let down her\\npitcher upon her hand, and gave him drink.\\nAnd when she had done giving him drink, she said, I will draw\\nwater for thy camels also, until they have done drinking.\\nAnd she hasted, and emptied her pitcher into the trough, and\\nran again unto the well to draw water, and drew for all his\\ncamels.\\nAnd the man wondering at her held his peace, to wit whether\\nthe LORD had made his journey prosperous or not.\\nAnd it came to pass, as the camels had done drinking, that the\\nman took a golden earring of half a shekel weight, and two\\nbracelets for her hands of ten shekels weight of gold;\\nAnd said, Whose daughter art thou? tell me, I pray thee: is\\nthere room in thy father's house for us to lodge in?\\nAnd she said unto him, I am the daughter of Bethuel the son of\\nMilcah, which she bare unto Nahor.\\nShe said moreover unto him, We have both straw and provender\\nenough, and room to lodge in.\\nAnd the man bowed down his head, and worshipped the LORD.\\nAnd he said, Blessed be the LORD God of my master Abraham, who\\nhath not left destitute my master of his mercy and his tru\\nI being in the way, the LORD led me to the house of my\\nmaster's brethren.\\nAnd the damsel ran, and told them of her mother's house these\\nthings.\\nAnd Rebekah had a brother, and his name was Laban: and Laban\\nran out unto the man, unto the well.\\nAnd it came to pass, when he saw the earring and bracelets\\nupon his sister's hands, and when he heard the words of\\nRebekah his sister, saying, Thus spake the man unto me; that\\nhe came unto the man; and, behold, he stood by the camels at\\nthe well.\\nAnd he said, Come in, thou blessed of the LORD; wherefore\\nstandest thou without? for I have prepared the house, and room\\nfor the camels.\\nAnd the man came into the house: and he ungirded his camels,\\nand gave straw and provender for the camels, and water to wash\\nhis feet, and the men's feet that were with him.\\nAnd there was set meat before him to eat: but he said, I will\\nnot eat, until I have told mine errand. And he said, Speak on.\\nAnd he said, I am Abraham's servant.\\nAnd the LORD hath blessed my master greatly; and he is become\\ngre and he hath given him flocks, and herds, and silver,\\nand gold, and menservants, and maidservants, and camels, and\\nasses.\\nAnd Sarah my master's wife bare a son to my master when she\\nwas o and unto him hath he given all that he hath.\\nAnd my master made me swear, saying, Thou shalt not take a\\nwife to my son of the daughters of the Canaanites, in whose\\nland I dwe\\nBut thou shalt go unto my father's house, and to my kindred,\\nand take a wife unto my son.\\nAnd I said unto my master, Peradventure the woman will not\\nfollow me.\\nAnd he said unto me, The LORD, before whom I walk, will send\\nhis angel with thee, and prosper thy way; and thou shalt take\\na wife for my son of my kindred, and of my father's hou\\nThen shalt thou be clear from this my oath, when thou comest\\nto my kindred; and if they give not thee one, thou shalt be\\nclear from my oath.\\nAnd I came this day unto the well, and said, O LORD God of my\\nmaster Abraham, if now thou do prosper my way which I \\nBehold, I stand by the well of water; and it shall come to\\npass, that when the virgin cometh forth to draw water, and I\\nsay to her, Give me, I pray thee, a little water of thy\\npitcher to drink;\\nAnd she say to me, Both drink thou, and I will also draw for\\nthy came let the same be the woman whom the LORD hath\\nappointed out for my master's son.\\nAnd before I had done speaking in mine heart, behold, Rebekah\\ncame forth with her pitcher on her shoulder; and she went down\\nunto the well, and drew wat and I said unto her, Let me\\ndrink, I pray thee.\\nAnd she made haste, and let down her pitcher from her\\nshoulder, and said, Drink, and I will give thy camels drink\\nal so I drank, and she made the camels drink also.\\nAnd I asked her, and said, Whose daughter art thou? And she\\nsaid, the daughter of Bethuel, Nahor's son, whom Milcah bare\\nunto h and I put the earring upon her face, and the\\nbracelets upon her hands.\\nAnd I bowed down my head, and worshipped the LORD, and blessed\\nthe LORD God of my master Abraham, which had led me in the\\nright way to take my master's brother's daughter unto his son.\\nAnd now if ye will deal kindly and truly with my master, tell\\nand if not, tell me; that I may turn to the right hand, or\\nto the left.\\nThen Laban and Bethuel answered and said, The thing proceedeth\\nfrom the LO we cannot speak unto thee bad or good.\\nBehold, Rebekah is before thee, take her, and go, and let her\\nbe thy master's son's wife, as the LORD hath spoken.\\nAnd it came to pass, that, when Abraham's servant heard their\\nwords, he worshipped the LORD, bowing himself to the earth.\\nAnd the servant brought forth jewels of silver, and jewels of\\ngold, and raiment, and gave them to Rebek he gave also to\\nher brother and to her mother precious things.\\nAnd they did eat and drink, he and the men that were with him,\\nand tarried all night; and they rose up in the morning, and he\\nsaid, Send me away unto my master.\\nAnd her brother and her mother said, Let the damsel abide with\\nus a few days, at the least ten; after that she shall go.\\nAnd he said unto them, Hinder me not, seeing the LORD hath\\nprospered my way; send me away that I may go to my master.\\nAnd they said, We will call the damsel, and enquire at her\\nmouth.\\nAnd they called Rebekah, and said unto her, Wilt thou go with\\nthis man? And she said, I will go.\\nAnd they sent away Rebekah their sister, and her nurse, and\\nAbraham's servant, and his men.\\nAnd they blessed Rebekah, and said unto her, Thou art our\\nsister, be thou the mother of thousands of millions, and let\\nthy seed possess the gate of those which hate them.\\nAnd Rebekah arose, and her damsels, and they rode upon the\\ncamels, and followed the m and the servant took Rebekah,\\nand went his way.\\nAnd Isaac came from the way of the well Lahairoi; for he dwelt\\nin the south country.\\nAnd Isaac went out to meditate in the field at the eventide:\\nand he lifted up his eyes, and saw, and, behold, the camels\\nwere coming.\\nAnd Rebekah lifted up her eyes, and when she saw Isaac, she\\nlighted off the camel.\\nFor she had said unto the servant, What man is this that\\nwalketh in the field to meet us? And the servant had said, It\\nis my mast therefore she took a vail, and covered herself.\\nAnd the servant told Isaac all things that he had done.\\nAnd Isaac brought her into his mother Sarah's tent, and took\\nRebekah, and she became his wife; and he loved h and Isaac\\nwas comforted after his mother's death.\\nThen again Abraham took a wife, and her name was Keturah.\\nAnd she bare him Zimran, and Jokshan, and Medan, and Midian,\\nand Ishbak, and Shuah.\\nAnd Jokshan begat Sheba, and Dedan. And the sons of Dedan were\\nAsshurim, and Letushim, and Leummim.\\nAnd the sons of Midian; Ephah, and Epher, and Hanoch, and\\nAbidah, and Eldaah. All these were the children of Keturah.\\nAnd Abraham gave all that he had unto Isaac.\\nBut unto the sons of the concubines, which Abraham had,\\nAbraham gave gifts, and sent them away from Isaac his son,\\nwhile he yet lived, eastward, unto the east country.\\nAnd these are the days of the years of Abraham's life which he\\nlived, an hundred threescore and fifteen years.\\nThen Abraham gave up the ghost, and died in a good old age, an\\nold man, and full of years; and was gathered to his people.\\nAnd his sons Isaac and Ishmael buried him in the cave of\\nMachpelah, in the field of Ephron the son of Zohar the\\nHittite, which is before Mamre;\\nThe field which Abraham purchased of the sons of Heth: there\\nwas Abraham buried, and Sarah his wife.\\nAnd it came to pass after the death of Abraham, that God\\nblessed his son Isaac; and Isaac dwelt by the well Lahairoi.\\nNow these are the generations of Ishmael, Abraham's son, whom\\nHagar the Egyptian, Sarah's handmaid, bare unto Abrah\\nAnd these are the names of the sons of Ishmael, by their\\nnames, according to their generatio the firstborn of\\nIshmael, Nebajoth; and Kedar, and Adbeel, and Mibsam,\\nAnd Mishma, and Dumah, and Massa,\\nHadar, and Tema, Jetur, Naphish, and Kedemah:\\nThese are the sons of Ishmael, and these are their names, by\\ntheir towns, and by their castles; twelve princes according to\\ntheir nations.\\nAnd these are the years of the life of Ishmael, an hundred and\\nthirty and seven yea and he gave up the ghost and died; and\\nwas gathered unto his people.\\nAnd they dwelt from Havilah unto Shur, that is before Egypt,\\nas thou goest toward Assyr and he died in the presence of\\nall his brethren.\\nAnd these are the generations of Isaac, Abraham's son: Abraham\\nbegat Isa\\nAnd Isaac was forty years old when he took Rebekah to wife,\\nthe daughter of Bethuel the Syrian of Padanaram, the sister to\\nLaban the Syrian.\\nAnd Isaac intreated the LORD for his wife, because she was\\nbarr and the LORD was intreated of him, and Rebekah his\\nwife conceived.\\nAnd the children struggled together within her; and she said,\\nIf it be so, why am I thus? And she went to enquire of the\\nLORD.\\nAnd the LORD said unto her, Two nations are in thy womb, and\\ntwo manner of people shall be separated from thy bowels; and\\nthe one people shall be stronger than the other people; and\\nthe elder shall serve the younger.\\nAnd when her days to be delivered were fulfilled, behold,\\nthere were twins in her womb.\\nAnd the first came out red, all over like an hairy garment;\\nand they called his name Esau.\\nAnd after that came his brother out, and his hand took hold on\\nEsau's heel; and his name was called Jac and Isaac was\\nthreescore years old when she bare them.\\nAnd the boys grew: and Esau was a cunning hunter, a man of the\\nfield; and Jacob was a plain man, dwelling in tents.\\nAnd Isaac loved Esau, because he did eat of his venison: but\\nRebekah loved Jacob.\\nAnd Jacob sod pottage: and Esau came from the field, and he\\nwas fai\\nAnd Esau said to Jacob, Feed me, I pray thee, with that same\\nred pottage; for I am fai therefore was his name called\\nEdom.\\nAnd Jacob said, Sell me this day thy birthright.\\nAnd Esau said, Behold, I am at the point to die: and what\\nprofit shall this birthright do to me?\\nAnd Jacob said, Swear to me this day; and he sware unto him:\\nand he sold his birthright unto Jacob.\\nThen Jacob gave Esau bread and pottage of lentiles; and he did\\neat and drink, and rose up, and went his w thus Esau\\ndespised his birthright.\\nAnd there was a famine in the land, beside the first famine\\nthat was in the days of Abraham. And Isaac went unto Abimelech\\nking of the Philistines unto Gerar.\\nAnd the LORD appeared unto him, and said, Go not down into\\nEgypt; dwell in the land which I shall tell thee \\nSojourn in this land, and I will be with thee, and will bless\\nthee; for unto thee, and unto thy seed, I will give all these\\ncountries, and I will perform the oath which I sware unto\\nAbraham thy father;\\nAnd I will make thy seed to multiply as the stars of heaven,\\nand will give unto thy seed all these countries; and in thy\\nseed shall all the nations of the earth be blessed;\\nBecause that Abraham obeyed my voice, and kept my charge, my\\ncommandments, my statutes, and my laws.\\nAnd Isaac dwelt in Gerar:\\nAnd the men of the place asked him of his wife; and he said,\\nShe is my sist for he feared to say, She is my wife; lest,\\nsaid he, the men of the place should kill me for Rebekah;\\nbecause she was fair to look upon.\\nAnd it came to pass, when he had been there a long time, that\\nAbimelech king of the Philistines looked out at a window, and\\nsaw, and, behold, Isaac was sporting with Rebekah his wife.\\nAnd Abimelech called Isaac, and said, Behold, of a surety she\\nis thy wife; and how saidst thou, She is my sister? And Isaac\\nsaid unto him, Because I said, Lest I die for her.\\nAnd Abimelech said, What is this thou hast done unto us? one\\nof the people might lightly have lien with thy wife, and thou\\nshouldest have brought guiltiness upon us.\\nAnd Abimelech charged all his people, saying, He that toucheth\\nthis man or his wife shall surely be put to death.\\nThen Isaac sowed in that land, and received in the same year\\nan hundredfo and the LORD blessed him.\\nAnd the man waxed great, and went forward, and grew until he\\nbecame very gre\\nFor he had possession of flocks, and possession of herds, and\\ngreat store of servan and the Philistines envied him.\\nFor all the wells which his father's servants had digged in\\nthe days of Abraham his father, the Philistines had stopped\\nthem, and filled them with earth.\\nAnd Abimelech said unto Isaac, Go from us; for thou art much\\nmightier than we.\\nAnd Isaac departed thence, and pitched his tent in the valley\\nof Gerar, and dwelt there.\\nAnd Isaac digged again the wells of water, which they had\\ndigged in the days of Abraham his father; for the Philistines\\nhad stopped them after the death of Abrah and he called\\ntheir names after the names by which his father had called\\nthem.\\nAnd Isaac's servants digged in the valley, and found there a\\nwell of springing water.\\nAnd the herdmen of Gerar did strive with Isaac's herdmen,\\nsaying, The water is ou and he called the name of the well\\nEsek; because they strove with him.\\nAnd they digged another well, and strove for that also: and he\\ncalled the name of it Sitnah.\\nAnd he removed from thence, and digged another well; and for\\nthat they strove n and he called the name of it Rehoboth;\\nand he said, For now the LORD hath made room for us, and we\\nshall be fruitful in the land.\\nAnd he went up from thence to Beersheba.\\nAnd the LORD appeared unto him the same night, and said, I am\\nthe God of Abraham thy fath fear not, for I am with thee,\\nand will bless thee, and multiply thy seed for my servant\\nAbraham's sake.\\nAnd he builded an altar there, and called upon the name of the\\nLORD, and pitched his tent the and there Isaac's servants\\ndigged a well.\\nThen Abimelech went to him from Gerar, and Ahuzzath one of his\\nfriends, and Phichol the chief captain of his army.\\nAnd Isaac said unto them, Wherefore come ye to me, seeing ye\\nhate me, and have sent me away from you?\\nAnd they said, We saw certainly that the LORD was with thee:\\nand we said, Let there be now an oath betwixt us, even betwixt\\nus and thee, and let us make a covenant with thee;\\nThat thou wilt do us no hurt, as we have not touched thee, and\\nas we have done unto thee nothing but good, and have sent thee\\naway in pea thou art now the blessed of the LORD.\\nAnd he made them a feast, and they did eat and drink.\\nAnd they rose up betimes in the morning, and sware one to\\nanoth and Isaac sent them away, and they departed from him\\nin peace.\\nAnd it came to pass the same day, that Isaac's servants came,\\nand told him concerning the well which they had digged, and\\nsaid unto him, We have found water.\\nAnd he called it Shebah: therefore the name of the city is\\nBeersheba unto this day.\\nAnd Esau was forty years old when he took to wife Judith the\\ndaughter of Beeri the Hittite, and Bashemath the daughter of\\nElon the Hitti\\nWhich were a grief of mind unto Isaac and to Rebekah.\\nAnd it came to pass, that when Isaac was old, and his eyes\\nwere dim, so that he could not see, he called Esau his eldest\\nson, and said unto him, My s and he said unto him, Behold,\\nhere am I.\\nAnd he said, Behold now, I am old, I know not the day of my\\ndea\\nNow therefore take, I pray thee, thy weapons, thy quiver and\\nthy bow, and go out to the field, and take me some venison;\\nAnd make me savoury meat, such as I love, and bring it to me,\\nthat I may eat; that my soul may bless thee before I die.\\nAnd Rebekah heard when Isaac spake to Esau his son. And Esau\\nwent to the field to hunt for venison, and to bring it.\\nAnd Rebekah spake unto Jacob her son, saying, Behold, I heard\\nthy father speak unto Esau thy brother, saying,\\nBring me venison, and make me savoury meat, that I may eat,\\nand bless thee before the LORD before my death.\\nNow therefore, my son, obey my voice according to that which I\\ncommand thee.\\nGo now to the flock, and fetch me from thence two good kids of\\nthe goats; and I will make them savoury meat for thy father,\\nsuch as he love\\nAnd thou shalt bring it to thy father, that he may eat, and\\nthat he may bless thee before his death.\\nAnd Jacob said to Rebekah his mother, Behold, Esau my brother\\nis a hairy man, and I am a smooth m\\nMy father peradventure will feel me, and I shall seem to him\\nas a deceiver; and I shall bring a curse upon me, and not a\\nblessing.\\nAnd his mother said unto him, Upon me be thy curse, my son:\\nonly obey my voice, and go fetch me them.\\nAnd he went, and fetched, and brought them to his mother: and\\nhis mother made savoury meat, such as his father loved.\\nAnd Rebekah took goodly raiment of her eldest son Esau, which\\nwere with her in the house, and put them upon Jacob her\\nyounger s\\nAnd she put the skins of the kids of the goats upon his hands,\\nand upon the smooth of his ne\\nAnd she gave the savoury meat and the bread, which she had\\nprepared, into the hand of her son Jacob.\\nAnd he came unto his father, and said, My father: and he said,\\nHere am I; who art thou, my son?\\nAnd Jacob said unto his father, I am Esau thy first born; I\\nhave done according as thou badest  arise, I pray thee, sit\\nand eat of my venison, that thy soul may bless me.\\nAnd Isaac said unto his son, How is it that thou hast found it\\nso quickly, my son? And he said, Because the LORD thy God\\nbrought it to me.\\nAnd Isaac said unto Jacob, Come near, I pray thee, that I may\\nfeel thee, my son, whether thou be my very son Esau or not.\\nAnd Jacob went near unto Isaac his father; and he felt him,\\nand said, The voice is Jacob's voice, but the hands are the\\nhands of Esau.\\nAnd he discerned him not, because his hands were hairy, as his\\nbrother Esau's han so he blessed him.\\nAnd he said, Art thou my very son Esau? And he said, I am.\\nAnd he said, Bring it near to me, and I will eat of my son's\\nvenison, that my soul may bless thee. And he brought it near\\nto him, and he did e and he brought him wine and he drank.\\nAnd his father Isaac said unto him, Come near now, and kiss\\nme, my son.\\nAnd he came near, and kissed him: and he smelled the smell of\\nhis raiment, and blessed him, and said, See, the smell of my\\nson is as the smell of a field which the LORD hath bless\\nTherefore God give thee of the dew of heaven, and the fatness\\nof the earth, and plenty of corn and wi\\nLet people serve thee, and nations bow down to thee: be lord\\nover thy brethren, and let thy mother's sons bow down to th\\ncursed be every one that curseth thee, and blessed be he that\\nblesseth thee.\\nAnd it came to pass, as soon as Isaac had made an end of\\nblessing Jacob, and Jacob was yet scarce gone out from the\\npresence of Isaac his father, that Esau his brother came in\\nfrom his hunting.\\nAnd he also had made savoury meat, and brought it unto his\\nfather, and said unto his father, Let my father arise, and eat\\nof his son's venison, that thy soul may bless me.\\nAnd Isaac his father said unto him, Who art thou? And he said,\\nI am thy son, thy firstborn Esau.\\nAnd Isaac trembled very exceedingly, and said, Who? where is\\nhe that hath taken venison, and brought it me, and I have\\neaten of all before thou camest, and have blessed him? yea,\\nand he shall be blessed.\\nAnd when Esau heard the words of his father, he cried with a\\ngreat and exceeding bitter cry, and said unto his father,\\nBless me, even me also, O my father.\\nAnd he said, Thy brother came with subtilty, and hath taken\\naway thy blessing.\\nAnd he said, Is not he rightly named Jacob? for he hath\\nsupplanted me these two tim he took away my birthright;\\nand, behold, now he hath taken away my blessing. And he said,\\nHast thou not reserved a blessing for me?\\nAnd Isaac answered and said unto Esau, Behold, I have made him\\nthy lord, and all his brethren have I given to him for\\nservants; and with corn and wine have I sustained h and\\nwhat shall I do now unto thee, my son?\\nAnd Esau said unto his father, Hast thou but one blessing, my\\nfather? bless me, even me also, O my father. And Esau lifted\\nup his voice, and wept.\\nAnd Isaac his father answered and said unto him, Behold, thy\\ndwelling shall be the fatness of the earth, and of the dew of\\nheaven from above;\\nAnd by thy sword shalt thou live, and shalt serve thy brother;\\nand it shall come to pass when thou shalt have the dominion,\\nthat thou shalt break his yoke from off thy neck.\\nAnd Esau hated Jacob because of the blessing wherewith his\\nfather blessed h and Esau said in his heart, The days of\\nmourning for my father are at hand; then will I slay my\\nbrother Jacob.\\nAnd these words of Esau her elder son were told to Rebekah:\\nand she sent and called Jacob her younger son, and said unto\\nhim, Behold, thy brother Esau, as touching thee, doth comfort\\nhimself, purposing to kill thee.\\nNow therefore, my son, obey my voice; arise, flee thou to\\nLaban my brother to Haran;\\nAnd tarry with him a few days, until thy brother's fury turn\\naway;\\nUntil thy brother's anger turn away from thee, and he forget\\nthat which thou hast done to h then I will send, and fetch\\nthee from then why should I be deprived also of you both in\\none day?\\nAnd Rebekah said to Isaac, I am weary of my life because of\\nthe daughters of He if Jacob take a wife of the daughters\\nof Heth, such as these which are of the daughters of the land,\\nwhat good shall my life do me?\\nAnd Isaac called Jacob, and blessed him, and charged him, and\\nsaid unto him, Thou shalt not take a wife of the daughters of\\nCanaan.\\nArise, go to Padanaram, to the house of Bethuel thy mother's\\nfather; and take thee a wife from thence of the daughers of\\nLaban thy mother's brother.\\nAnd God Almighty bless thee, and make thee fruitful, and\\nmultiply thee, that thou mayest be a multitude of people;\\nAnd give thee the blessing of Abraham, to thee, and to thy\\nseed with thee; that thou mayest inherit the land wherein thou\\nart a stranger, which God gave unto Abraham.\\nAnd Isaac sent away Jacob: and he went to Padanaram unto\\nLaban, son of Bethuel the Syrian, the brother of Rebekah,\\nJacob's and Esau's mother.\\nWhen Esau saw that Isaac had blessed Jacob, and sent him away\\nto Padanaram, to take him a wife from thence; and that as he\\nblessed him he gave him a charge, saying, Thou shalt not take\\na wife of the daughers of Canaan;\\nAnd that Jacob obeyed his father and his mother, and was gone\\nto Padanaram;\\nAnd Esau seeing that the daughters of Canaan pleased not Isaac\\nhis father;\\nThen went Esau unto Ishmael, and took unto the wives which he\\nhad Mahalath the daughter of Ishmael Abraham's son, the sister\\nof Nebajoth, to be his wife.\\nAnd Jacob went out from Beersheba, and went toward Haran.\\nAnd he lighted upon a certain place, and tarried there all\\nnight, because the sun was set; and he took of the stones of\\nthat place, and put them for his pillows, and lay down in that\\nplace to sleep.\\nAnd he dreamed, and behold a ladder set up on the earth, and\\nthe top of it reached to heav and behold the angels of God\\nascending and descending on it.\\nAnd, behold, the LORD stood above it, and said, I am the LORD\\nGod of Abraham thy father, and the God of Isa the land\\nwhereon thou liest, to thee will I give it, and to thy seed;\\nAnd thy seed shall be as the dust of the earth, and thou shalt\\nspread abroad to the west, and to the east, and to the north,\\nand to the sou and in thee and in thy seed shall all the\\nfamilies of the earth be blessed.\\nAnd, behold, I am with thee, and will keep thee in all places\\nwhither thou goest, and will bring thee again into this land;\\nfor I will not leave thee, until I have done that which I have\\nspoken to thee of.\\nAnd Jacob awaked out of his sleep, and he said, Surely the\\nLORD is in this place; and I knew it not.\\nAnd he was afraid, and said, How dreadful is this place! this\\nis none other but the house of God, and this is the gate of\\nheaven.\\nAnd Jacob rose up early in the morning, and took the stone\\nthat he had put for his pillows, and set it up for a pillar,\\nand poured oil upon the top of it.\\nAnd he called the name of that place Bethel: but the name of\\nthat city was called Luz at the first.\\nAnd Jacob vowed a vow, saying, If God will be with me, and\\nwill keep me in this way that I go, and will give me bread to\\neat, and raiment to put on,\\nSo that I come again to my father's house in peace; then shall\\nthe LORD be my G\\nAnd this stone, which I have set for a pillar, shall be God's\\nhou and of all that thou shalt give me I will surely give\\nthe tenth unto thee.\\nThen Jacob went on his journey, and came into the land of the\\npeople of the east.\\nAnd he looked, and behold a well in the field, and, lo, there\\nwere three flocks of sheep lying by it; for out of that well\\nthey watered the floc and a great stone was upon the well's\\nmouth.\\nAnd thither were all the flocks gathered: and they rolled the\\nstone from the well's mouth, and watered the sheep, and put\\nthe stone again upon the well's mouth in his place.\\nAnd Jacob said unto them, My brethren, whence be ye? And they\\nsaid, Of Haran are we.\\nAnd he said unto them, Know ye Laban the son of Nahor? And\\nthey said, We know him.\\nAnd he said unto them, Is he well? And they said, He is well:\\nand, behold, Rachel his daughter cometh with the sheep.\\nAnd he said, Lo, it is yet high day, neither is it time that\\nthe cattle should be gathered togeth water ye the sheep,\\nand go and feed them.\\nAnd they said, We cannot, until all the flocks be gathered\\ntogether, and till they roll the stone from the well's mouth;\\nthen we water the sheep.\\nAnd while he yet spake with them, Rachel came with her\\nfather's sheep; for she kept them.\\nAnd it came to pass, when Jacob saw Rachel the daughter of\\nLaban his mother's brother, and the sheep of Laban his\\nmother's brother, that Jacob went near, and rolled the stone\\nfrom the well's mouth, and watered the flock of Laban his\\nmother's brother.\\nAnd Jacob kissed Rachel, and lifted up his voice, and wept.\\nAnd Jacob told Rachel that he was her father's brother, and\\nthat he was Rebekah's s and she ran and told her father.\\nAnd it came to pass, when Laban heard the tidings of Jacob his\\nsister's son, that he ran to meet him, and embraced him, and\\nkissed him, and brought him to his house. And he told Laban\\nall these things.\\nAnd Laban said to him, Surely thou art my bone and my flesh.\\nAnd he abode with him the space of a month.\\nAnd Laban said unto Jacob, Because thou art my brother,\\nshouldest thou therefore serve me for nought? tell me, what\\nshall thy wages be?\\nAnd Laban had two daughters: the name of the elder was Leah,\\nand the name of the younger was Rachel.\\nLeah was tender eyed; but Rachel was beautiful and well\\nfavoured.\\nAnd Jacob loved Rachel; and said, I will serve thee seven\\nyears for Rachel thy younger daughter.\\nAnd Laban said, It is better that I give her to thee, than\\nthat I should give her to another m abide with me.\\nAnd Jacob served seven years for Rachel; and they seemed unto\\nhim but a few days, for the love he had to her.\\nAnd Jacob said unto Laban, Give me my wife, for my days are\\nfulfilled, that I may go in unto her.\\nAnd Laban gathered together all the men of the place, and made\\na feast.\\nAnd it came to pass in the evening, that he took Leah his\\ndaughter, and brought her to him; and he went in unto her.\\nAnd Laban gave unto his daughter Leah Zilpah his maid for an\\nhandmaid.\\nAnd it came to pass, that in the morning, behold, it was Leah:\\nand he said to Laban, What is this thou hast done unto me? did\\nnot I serve with thee for Rachel? wherefore then hast thou\\nbeguiled me?\\nAnd Laban said, It must not be so done in our country, to give\\nthe younger before the firstborn.\\nFulfil her week, and we will give thee this also for the\\nservice which thou shalt serve with me yet seven other years.\\nAnd Jacob did so, and fulfilled her week: and he gave him\\nRachel his daughter to wife also.\\nAnd Laban gave to Rachel his daughter Bilhah his handmaid to\\nbe her maid.\\nAnd he went in also unto Rachel, and he loved also Rachel more\\nthan Leah, and served with him yet seven other years.\\nAnd when the LORD saw that Leah was hated, he opened her womb:\\nbut Rachel was barren.\\nAnd Leah conceived, and bare a son, and she called his name\\nReub for she said, Surely the LORD hath looked upon my\\naffliction; now therefore my husband will love me.\\nAnd she conceived again, and bare a son; and said, Because the\\nLORD hath heard I was hated, he hath therefore given me this\\nson al and she called his name Simeon.\\nAnd she conceived again, and bare a son; and said, Now this\\ntime will my husband be joined unto me, because I have born\\nhim three so therefore was his name called Levi.\\nAnd she conceived again, and bare a son: and she said, Now\\nwill I praise the LO therefore she called his name Judah;\\nand left bearing.\\nAnd when Rachel saw that she bare Jacob no children, Rachel\\nenvied her sister; and said unto Jacob, Give me children, or\\nelse I die.\\nAnd Jacob's anger was kindled against Rachel: and he said, Am\\nI in God's stead, who hath withheld from thee the fruit of the\\nwomb?\\nAnd she said, Behold my maid Bilhah, go in unto her; and she\\nshall bear upon my knees, that I may also have children by\\nher.\\nAnd she gave him Bilhah her handmaid to wife: and Jacob went\\nin unto her.\\nAnd Bilhah conceived, and bare Jacob a son.\\nAnd Rachel said, God hath judged me, and hath also heard my\\nvoice, and hath given me a s therefore called she his name\\nDan.\\nAnd Bilhah Rachel's maid conceived again, and bare Jacob a\\nsecond son.\\nAnd Rachel said, With great wrestlings have I wrestled with my\\nsister, and I have prevail and she called his name\\nNaphtali.\\nWhen Leah saw that she had left bearing, she took Zilpah her\\nmaid, and gave her Jacob to wife.\\nAnd Zilpah Leah's maid bare Jacob a son.\\nAnd Leah said, A troop cometh: and she called his name Gad.\\nAnd Zilpah Leah's maid bare Jacob a second son.\\nAnd Leah said, Happy am I, for the daughters will call me\\nbless and she called his name Asher.\\nAnd Reuben went in the days of wheat harvest, and found\\nmandrakes in the field, and brought them unto his mother Leah.\\nThen Rachel said to Leah, Give me, I pray thee, of thy son's\\nmandrakes.\\nAnd she said unto her, Is it a small matter that thou hast\\ntaken my husband? and wouldest thou take away my son's\\nmandrakes also? And Rachel said, Therefore he shall lie with\\nthee to night for thy son's mandrakes.\\nAnd Jacob came out of the field in the evening, and Leah went\\nout to meet him, and said, Thou must come in unto me; for\\nsurely I have hired thee with my son's mandrakes. And he lay\\nwith her that night.\\nAnd God hearkened unto Leah, and she conceived, and bare Jacob\\nthe fifth son.\\nAnd Leah said, God hath given me my hire, because I have given\\nmy maiden to my husba and she called his name Issachar.\\nAnd Leah conceived again, and bare Jacob the sixth son.\\nAnd Leah said, God hath endued me with a good dowry; now will\\nmy husband dwell with me, because I have born him six so\\nand she called his name Zebulun.\\nAnd afterwards she bare a daughter, and called her name Dinah.\\nAnd God remembered Rachel, and God hearkened to her, and\\nopened her womb.\\nAnd she conceived, and bare a son; and said, God hath taken\\naway my reproa\\nAnd she called his name Joseph; and said, The LORD shall add\\nto me another son.\\nAnd it came to pass, when Rachel had born Joseph, that Jacob\\nsaid unto Laban, Send me away, that I may go unto mine own\\nplace, and to my country.\\nGive me my wives and my children, for whom I have served thee,\\nand let me  for thou knowest my service which I have done\\nthee.\\nAnd Laban said unto him, I pray thee, if I have found favour\\nin thine eyes, tar for I have learned by experience that\\nthe LORD hath blessed me for thy sake.\\nAnd he said, Appoint me thy wages, and I will give it.\\nAnd he said unto him, Thou knowest how I have served thee, and\\nhow thy cattle was with me.\\nFor it was little which thou hadst before I came, and it is\\nnow increased unto a multitude; and the LORD hath blessed thee\\nsince my comi and now when shall I provide for mine own\\nhouse also?\\nAnd he said, What shall I give thee? And Jacob said, Thou\\nshalt not give me any thi if thou wilt do this thing for\\nme, I will again feed and keep thy flock.\\nI will pass through all thy flock to day, removing from thence\\nall the speckled and spotted cattle, and all the brown cattle\\namong the sheep, and the spotted and speckled among the goa\\nand of such shall be my hire.\\nSo shall my righteousness answer for me in time to come, when\\nit shall come for my hire before thy fa every one that is\\nnot speckled and spotted among the goats, and brown among the\\nsheep, that shall be counted stolen with me.\\nAnd Laban said, Behold, I would it might be according to thy\\nword.\\nAnd he removed that day the he goats that were ringstraked and\\nspotted, and all the she goats that were speckled and spotted,\\nand every one that had some white in it, and all the brown\\namong the sheep, and gave them into the hand of his sons.\\nAnd he set three days' journey betwixt himself and Jacob: and\\nJacob fed the rest of Laban's flocks.\\nAnd Jacob took him rods of green poplar, and of the hazel and\\nchesnut tree; and pilled white strakes in them, and made the\\nwhite appear which was in the rods.\\nAnd he set the rods which he had pilled before the flocks in\\nthe gutters in the watering troughs when the flocks came to\\ndrink, that they should conceive when they came to drink.\\nAnd the flocks conceived before the rods, and brought forth\\ncattle ringstraked, speckled, and spotted.\\nAnd Jacob did separate the lambs, and set the faces of the\\nflocks toward the ringstraked, and all the brown in the flock\\nof Laban; and he put his own flocks by themselves, and put\\nthem not unto Laban's cattle.\\nAnd it came to pass, whensoever the stronger cattle did\\nconceive, that Jacob laid the rods before the eyes of the\\ncattle in the gutters, that they might conceive among the\\nrods.\\nBut when the cattle were feeble, he put them not in: so the\\nfeebler were Laban's, and the stronger Jacob's.\\nAnd the man increased exceedingly, and had much cattle, and\\nmaidservants, and menservants, and camels, and asses.\\nAnd he heard the words of Laban's sons, saying, Jacob hath\\ntaken away all that was our father's; and of that which was\\nour father's hath he gotten all this glory.\\nAnd Jacob beheld the countenance of Laban, and, behold, it was\\nnot toward him as before.\\nAnd the LORD said unto Jacob, Return unto the land of thy\\nfathers, and to thy kindred; and I will be with thee.\\nAnd Jacob sent and called Rachel and Leah to the field unto\\nhis flock,\\nAnd said unto them, I see your father's countenance, that it\\nis not toward me as before; but the God of my father hath been\\nwith me.\\nAnd ye know that with all my power I have served your father.\\nAnd your father hath deceived me, and changed my wages ten\\ntimes; but God suffered him not to hurt me.\\nIf he said thus, The speckled shall be thy wages; then all the\\ncattle bare speckl and if he said thus, The ringstraked\\nshall be thy hire; then bare all the cattle ringstraked.\\nThus God hath taken away the cattle of your father, and given\\nthem to me.\\nAnd it came to pass at the time that the cattle conceived,\\nthat I lifted up mine eyes, and saw in a dream, and, behold,\\nthe rams which leaped upon the cattle were ringstraked,\\nspeckled, and grisled.\\nAnd the angel of God spake unto me in a dream, saying, Jacob:\\nAnd I said, Here am I.\\nAnd he said, Lift up now thine eyes, and see, all the rams\\nwhich leap upon the cattle are ringstraked, speckled, and\\ngrisl for I have seen all that Laban doeth unto thee.\\nI am the God of Bethel, where thou anointedst the pillar, and\\nwhere thou vowedst a vow unto  now arise, get thee out from\\nthis land, and return unto the land of thy kindred.\\nAnd Rachel and Leah answered and said unto him, Is there yet\\nany portion or inheritance for us in our father's house?\\nAre we not counted of him strangers? for he hath sold us, and\\nhath quite devoured also our money.\\nFor all the riches which God hath taken from our father, that\\nis ours, and our children now then, whatsoever God hath\\nsaid unto thee, do.\\nThen Jacob rose up, and set his sons and his wives upon\\ncamels;\\nAnd he carried away all his cattle, and all his goods which he\\nhad gotten, the cattle of his getting, which he had gotten in\\nPadanaram, for to go to Isaac his father in the land of\\nCanaan.\\nAnd Laban went to shear his sheep: and Rachel had stolen the\\nimages that were her father's.\\nAnd Jacob stole away unawares to Laban the Syrian, in that he\\ntold him not that he fled.\\nSo he fled with all that he had; and he rose up, and passed\\nover the river, and set his face toward the mount Gilead.\\nAnd it was told Laban on the third day that Jacob was fled.\\nAnd he took his brethren with him, and pursued after him seven\\ndays' journey; and they overtook him in the mount Gilead.\\nAnd God came to Laban the Syrian in a dream by night, and said\\nunto him, Take heed that thou speak not to Jacob either good\\nor bad.\\nThen Laban overtook Jacob. Now Jacob had pitched his tent in\\nthe mou and Laban with his brethren pitched in the mount of\\nGilead.\\nAnd Laban said to Jacob, What hast thou done, that thou hast\\nstolen away unawares to me, and carried away my daughters, as\\ncaptives taken with the sword?\\nWherefore didst thou flee away secretly, and steal away from\\nme; and didst not tell me, that I might have sent thee away\\nwith mirth, and with songs, with tabret, and with harp?\\nAnd hast not suffered me to kiss my sons and my daughters?\\nthou hast now done foolishly in so doing.\\nIt is in the power of my hand to do you hurt: but the God of\\nyour father spake unto me yesternight, saying, Take thou heed\\nthat thou speak not to Jacob either good or bad.\\nAnd now, though thou wouldest needs be gone, because thou sore\\nlongedst after thy father's house, yet wherefore hast thou\\nstolen my gods?\\nAnd Jacob answered and said to Laban, Because I was afraid:\\nfor I said, Peradventure thou wouldest take by force thy\\ndaughters from me.\\nWith whomsoever thou findest thy gods, let him not live:\\nbefore our brethren discern thou what is thine with me, and\\ntake it to thee. For Jacob knew not that Rachel had stolen\\nthem.\\nAnd Laban went into Jacob's tent, and into Leah's tent, and\\ninto the two maidservants' tents; but he found them not. Then\\nwent he out of Leah's tent, and entered into Rachel's tent.\\nNow Rachel had taken the images, and put them in the camel's\\nfurniture, and sat upon them. And Laban searched all the tent,\\nbut found them not.\\nAnd she said to her father, Let it not displease my lord that\\nI cannot rise up before thee; for the custom of women is upon\\nme. And he searched but found not the images.\\nAnd Jacob was wroth, and chode with Laban: and Jacob answered\\nand said to Laban, What is my trespass? what is my sin, that\\nthou hast so hotly pursued after me?\\nWhereas thou hast searched all my stuff, what hast thou found\\nof all thy household stuff? set it here before my brethren and\\nthy brethren, that they may judge betwixt us both.\\nThis twenty years have I been with thee; thy ewes and thy she\\ngoats have not cast their young, and the rams of thy flock\\nhave I not eaten.\\nThat which was torn of beasts I brought not unto thee; I bare\\nthe loss of it; of my hand didst thou require it, whether\\nstolen by day, or stolen by night.\\nThus I was; in the day the drought consumed me, and the frost\\nby night; and my sleep departed from mine eyes.\\nThus have I been twenty years in thy house; I served thee\\nfourteen years for thy two daughters, and six years for thy\\ncatt and thou hast changed my wages ten times.\\nExcept the God of my father, the God of Abraham, and the fear\\nof Isaac, had been with me, surely thou hadst sent me away now\\nempty. God hath seen mine affliction and the labour of my\\nhands, and rebuked thee yesternight.\\nAnd Laban answered and said unto Jacob, These daughters are my\\ndaughters, and these children are my children, and these\\ncattle are my cattle, and all that thou seest is mi and\\nwhat can I do this day unto these my daughters, or unto their\\nchildren which they have born?\\nNow therefore come thou, let us make a covenant, I and thou;\\nand let it be for a witness between me and thee.\\nAnd Jacob took a stone, and set it up for a pillar.\\nAnd Jacob said unto his brethren, Gather stones; and they took\\nstones, and made an he and they did eat there upon the\\nheap.\\nAnd Laban called it Jegarsahadutha: but Jacob called it\\nGaleed.\\nAnd Laban said, This heap is a witness between me and thee\\nthis day. Therefore was the name of it called Galeed;\\nAnd Mizpah; for he said, The LORD watch between me and thee,\\nwhen we are absent one from another.\\nIf thou shalt afflict my daughters, or if thou shalt take\\nother wives beside my daughters, no man is with us; see, God\\nis witness betwixt me and thee.\\nAnd Laban said to Jacob, Behold this heap, and behold this\\npillar, which I have cast betwixt me and th\\nThis heap be witness, and this pillar be witness, that I will\\nnot pass over this heap to thee, and that thou shalt not pass\\nover this heap and this pillar unto me, for harm.\\nThe God of Abraham, and the God of Nahor, the God of their\\nfather, judge betwixt us. And Jacob sware by the fear of his\\nfather Isaac.\\nThen Jacob offered sacrifice upon the mount, and called his\\nbrethren to eat bre and they did eat bread, and tarried all\\nnight in the mount.\\nAnd early in the morning Laban rose up, and kissed his sons\\nand his daughters, and blessed th and Laban departed, and\\nreturned unto his place.\\nAnd Jacob went on his way, and the angels of God met him.\\nAnd when Jacob saw them, he said, This is God's host: and he\\ncalled the name of that place Mahanaim.\\nAnd Jacob sent messengers before him to Esau his brother unto\\nthe land of Seir, the country of Edom.\\nAnd he commanded them, saying, Thus shall ye speak unto my\\nlord Esau; Thy servant Jacob saith thus, I have sojourned with\\nLaban, and stayed there until n\\nAnd I have oxen, and asses, flocks, and menservants, and\\nwomenservan and I have sent to tell my lord, that I may\\nfind grace in thy sight.\\nAnd the messengers returned to Jacob, saying, We came to thy\\nbrother Esau, and also he cometh to meet thee, and four\\nhundred men with him.\\nThen Jacob was greatly afraid and distressed: and he divided\\nthe people that was with him, and the flocks, and herds, and\\nthe camels, into two bands;\\nAnd said, If Esau come to the one company, and smite it, then\\nthe other company which is left shall escape.\\nAnd Jacob said, O God of my father Abraham, and God of my\\nfather Isaac, the LORD which saidst unto me, Return unto thy\\ncountry, and to thy kindred, and I will deal well with th\\nI am not worthy of the least of all the mercies, and of all\\nthe truth, which thou hast shewed unto thy servant; for with\\nmy staff I passed over this Jordan; and now I am become two\\nbands.\\nDeliver me, I pray thee, from the hand of my brother, from the\\nhand of Es for I fear him, lest he will come and smite me,\\nand the mother with the children.\\nAnd thou saidst, I will surely do thee good, and make thy seed\\nas the sand of the sea, which cannot be numbered for\\nmultitude.\\nAnd he lodged there that same night; and took of that which\\ncame to his hand a present for Esau his brother;\\nTwo hundred she goats, and twenty he goats, two hundred ewes,\\nand twenty rams,\\nThirty milch camels with their colts, forty kine, and ten\\nbulls, twenty she asses, and ten foals.\\nAnd he delivered them into the hand of his servants, every\\ndrove by themselves; and said unto his servants, Pass over\\nbefore me, and put a space betwixt drove and drove.\\nAnd he commanded the foremost, saying, When Esau my brother\\nmeeteth thee, and asketh thee, saying, Whose art thou? and\\nwhither goest thou? and whose are these before thee?\\nThen thou shalt say, They be thy servant Jacob's; it is a\\npresent sent unto my lord Es and, behold, also he is behind\\nus.\\nAnd so commanded he the second, and the third, and all that\\nfollowed the droves, saying, On this manner shall ye speak\\nunto Esau, when ye find him.\\nAnd say ye moreover, Behold, thy servant Jacob is behind us.\\nFor he said, I will appease him with the present that goeth\\nbefore me, and afterward I will see his face; peradventure he\\nwill accept of me.\\nSo went the present over before him: and himself lodged that\\nnight in the company.\\nAnd he rose up that night, and took his two wives, and his two\\nwomenservants, and his eleven sons, and passed over the ford\\nJabbok.\\nAnd he took them, and sent them over the brook, and sent over\\nthat he had.\\nAnd Jacob was left alone; and there wrestled a man with him\\nuntil the breaking of the day.\\nAnd when he saw that he prevailed not against him, he touched\\nthe hollow of his thigh; and the hollow of Jacob's thigh was\\nout of joint, as he wrestled with him.\\nAnd he said, Let me go, for the day breaketh. And he said, I\\nwill not let thee go, except thou bless me.\\nAnd he said unto him, What is thy name? And he said, Jacob.\\nAnd he said, Thy name shall be called no more Jacob, but\\nIsra for as a prince hast thou power with God and with men,\\nand hast prevailed.\\nAnd Jacob asked him, and said, Tell me, I pray thee, thy name.\\nAnd he said, Wherefore is it that thou dost ask after my name?\\nAnd he blessed him there.\\nAnd Jacob called the name of the place Peniel: for I have seen\\nGod face to face, and my life is preserved.\\nAnd as he passed over Penuel the sun rose upon him, and he\\nhalted upon his thigh.\\nTherefore the children of Israel eat not of the sinew which\\nshrank, which is upon the hollow of the thigh, unto this d\\nbecause he touched the hollow of Jacob's thigh in the sinew\\nthat shrank.\\nAnd Jacob lifted up his eyes, and looked, and, behold, Esau\\ncame, and with him four hundred men. And he divided the\\nchildren unto Leah, and unto Rachel, and unto the two\\nhandmaids.\\nAnd he put the handmaids and their children foremost, and Leah\\nand her children after, and Rachel and Joseph hindermost.\\nAnd he passed over before them, and bowed himself to the\\nground seven times, until he came near to his brother.\\nAnd Esau ran to meet him, and embraced him, and fell on his\\nneck, and kissed h and they wept.\\nAnd he lifted up his eyes, and saw the women and the children;\\nand said, Who are those with thee? And he said, The children\\nwhich God hath graciously given thy servant.\\nThen the handmaidens came near, they and their children, and\\nthey bowed themselves.\\nAnd Leah also with her children came near, and bowed\\nthemselv and after came Joseph near and Rachel, and they\\nbowed themselves.\\nAnd he said, What meanest thou by all this drove which I met?\\nAnd he said, These are to find grace in the sight of my lord.\\nAnd Esau said, I have enough, my brother; keep that thou hast\\nunto thyself.\\nAnd Jacob said, Nay, I pray thee, if now I have found grace in\\nthy sight, then receive my present at my ha for therefore I\\nhave seen thy face, as though I had seen the face of God, and\\nthou wast pleased with me.\\nTake, I pray thee, my blessing that is brought to thee;\\nbecause God hath dealt graciously with me, and because I have\\nenough. And he urged him, and he took it.\\nAnd he said, Let us take our journey, and let us go, and I\\nwill go before thee.\\nAnd he said unto him, My lord knoweth that the children are\\ntender, and the flocks and herds with young are with  and\\nif men should overdrive them one day, all the flock will die.\\nLet my lord, I pray thee, pass over before his servant: and I\\nwill lead on softly, according as the cattle that goeth before\\nme and the children be able to endure, until I come unto my\\nlord unto Seir.\\nAnd Esau said, Let me now leave with thee some of the folk\\nthat are with me. And he said, What needeth it? let me find\\ngrace in the sight of my lord.\\nSo Esau returned that day on his way unto Seir.\\nAnd Jacob journeyed to Succoth, and built him an house, and\\nmade booths for his catt therefore the name of the place is\\ncalled Succoth.\\nAnd Jacob came to Shalem, a city of Shechem, which is in the\\nland of Canaan, when he came from Padanaram; and pitched his\\ntent before the city.\\nAnd he bought a parcel of a field, where he had spread his\\ntent, at the hand of the children of Hamor, Shechem's father,\\nfor an hundred pieces of money.\\nAnd he erected there an altar, and called it EleloheIsrael.\\nAnd Dinah the daughter of Leah, which she bare unto Jacob,\\nwent out to see the daughters of the land.\\nAnd when Shechem the son of Hamor the Hivite, prince of the\\ncountry, saw her, he took her, and lay with her, and defiled\\nher.\\nAnd his soul clave unto Dinah the daughter of Jacob, and he\\nloved the damsel, and spake kindly unto the damsel.\\nAnd Shechem spake unto his father Hamor, saying, Get me this\\ndamsel to wife.\\nAnd Jacob heard that he had defiled Dinah his daughter: now\\nhis sons were with his cattle in the fie and Jacob held his\\npeace until they were come.\\nAnd Hamor the father of Shechem went out unto Jacob to commune\\nwith him.\\nAnd the sons of Jacob came out of the field when they heard\\nand the men were grieved, and they were very wroth,\\nbecause he had wrought folly in Israel in lying with Jacob's\\ndaught which thing ought not to be done.\\nAnd Hamor communed with them, saying, The soul of my son\\nShechem longeth for your daught I pray you give her him to\\nwife.\\nAnd make ye marriages with us, and give your daughters unto\\nus, and take our daughters unto you.\\nAnd ye shall dwell with us: and the land shall be before you;\\ndwell and trade ye therein, and get you possessions therein.\\nAnd Shechem said unto her father and unto her brethren, Let me\\nfind grace in your eyes, and what ye shall say unto me I will\\ngive.\\nAsk me never so much dowry and gift, and I will give according\\nas ye shall say unto  but give me the damsel to wife.\\nAnd the sons of Jacob answered Shechem and Hamor his father\\ndeceitfully, and said, because he had defiled Dinah their\\nsist\\nAnd they said unto them, We cannot do this thing, to give our\\nsister to one that is uncircumcised; for that were a reproach\\nunto \\nBut in this will we consent unto you: If ye will be as we be,\\nthat every male of you be circumcised;\\nThen will we give our daughters unto you, and we will take\\nyour daughters to us, and we will dwell with you, and we will\\nbecome one people.\\nBut if ye will not hearken unto us, to be circumcised; then\\nwill we take our daughter, and we will be gone.\\nAnd their words pleased Hamor, and Shechem Hamor's son.\\nAnd the young man deferred not to do the thing, because he had\\ndelight in Jacob's daught and he was more honourable than\\nall the house of his father.\\nAnd Hamor and Shechem his son came unto the gate of their\\ncity, and communed with the men of their city, saying,\\nThese men are peaceable with us; therefore let them dwell in\\nthe land, and trade therein; for the land, behold, it is large\\nenough for them; let us take their daughters to us for wives,\\nand let us give them our daughters.\\nOnly herein will the men consent unto us for to dwell with us,\\nto be one people, if every male among us be circumcised, as\\nthey are circumcised.\\nShall not their cattle and their substance and every beast of\\ntheir's be our's? only let us consent unto them, and they will\\ndwell with us.\\nAnd unto Hamor and unto Shechem his son hearkened all that\\nwent out of the gate of his city; and every male was\\ncircumcised, all that went out of the gate of his city.\\nAnd it came to pass on the third day, when they were sore,\\nthat two of the sons of Jacob, Simeon and Levi, Dinah's\\nbrethren, took each man his sword, and came upon the city\\nboldly, and slew all the males.\\nAnd they slew Hamor and Shechem his son with the edge of the\\nsword, and took Dinah out of Shechem's house, and went out.\\nThe sons of Jacob came upon the slain, and spoiled the city,\\nbecause they had defiled their sister.\\nThey took their sheep, and their oxen, and their asses, and\\nthat which was in the city, and that which was in the field,\\nAnd all their wealth, and all their little ones, and their\\nwives took they captive, and spoiled even all that was in the\\nhouse.\\nAnd Jacob said to Simeon and Levi, Ye have troubled me to make\\nme to stink among the inhabitants of the land, among the\\nCanaanites and the Perizzit and I being few in number, they\\nshall gather themselves together against me, and slay me; and\\nI shall be destroyed, I and my house.\\nAnd they said, Should he deal with our sister as with an\\nharlot?\\nAnd God said unto Jacob, Arise, go up to Bethel, and dwell\\nthe and make there an altar unto God, that appeared unto\\nthee when thou fleddest from the face of Esau thy brother.\\nThen Jacob said unto his household, and to all that were with\\nhim, Put away the strange gods that are among you, and be\\nclean, and change your garmen\\nAnd let us arise, and go up to Bethel; and I will make there\\nan altar unto God, who answered me in the day of my distress,\\nand was with me in the way which I went.\\nAnd they gave unto Jacob all the strange gods which were in\\ntheir hand, and all their earrings which were in their ears;\\nand Jacob hid them under the oak which was by Shechem.\\nAnd they journeyed: and the terror of God was upon the cities\\nthat were round about them, and they did not pursue after the\\nsons of Jacob.\\nSo Jacob came to Luz, which is in the land of Canaan, that is,\\nBethel, he and all the people that were with him.\\nAnd he built there an altar, and called the place Elbethel:\\nbecause there God appeared unto him, when he fled from the\\nface of his brother.\\nBut Deborah Rebekah's nurse died, and she was buried beneath\\nBethel under an o and the name of it was called\\nAllonbachuth.\\nAnd God appeared unto Jacob again, when he came out of\\nPadanaram, and blessed him.\\nAnd God said unto him, Thy name is Jacob: thy name shall not\\nbe called any more Jacob, but Israel shall be thy na and he\\ncalled his name Israel.\\nAnd God said unto him, I am God Almighty: be fruitful and\\nmultiply; a nation and a company of nations shall be of thee,\\nand kings shall come out of thy loins;\\nAnd the land which I gave Abraham and Isaac, to thee I will\\ngive it, and to thy seed after thee will I give the land.\\nAnd God went up from him in the place where he talked with\\nhim.\\nAnd Jacob set up a pillar in the place where he talked with\\nhim, even a pillar of sto and he poured a drink offering\\nthereon, and he poured oil thereon.\\nAnd Jacob called the name of the place where God spake with\\nhim, Bethel.\\nAnd they journeyed from Bethel; and there was but a little way\\nto come to Ephra and Rachel travailed, and she had hard\\nlabour.\\nAnd it came to pass, when she was in hard labour, that the\\nmidwife said unto her, Fear not; thou shalt have this son\\nalso.\\nAnd it came to pass, as her soul was in departing, (for she\\ndied) that she called his name Beno but his father called\\nhim Benjamin.\\nAnd Rachel died, and was buried in the way to Ephrath, which\\nis Bethlehem.\\nAnd Jacob set a pillar upon her grave: that is the pillar of\\nRachel's grave unto this day.\\nAnd Israel journeyed, and spread his tent beyond the tower of\\nEdar.\\nAnd it came to pass, when Israel dwelt in that land, that\\nReuben went and lay with Bilhah his father's concubi and\\nIsrael heard it. Now the sons of Jacob were twel\\nThe sons of Leah; Reuben, Jacob's firstborn, and Simeon, and\\nLevi, and Judah, and Issachar, and Zebul\\nThe sons of Rachel; Joseph, and Benjamin:\\nAnd the sons of Bilhah, Rachel's handmaid; Dan, and Naphtali:\\nAnd the sons of Zilpah, Leah's handmaid: Gad, and Asher: these\\nare the sons of Jacob, which were born to him in Padanaram.\\nAnd Jacob came unto Isaac his father unto Mamre, unto the city\\nof Arbah, which is Hebron, where Abraham and Isaac sojourned.\\nAnd the days of Isaac were an hundred and fourscore years.\\nAnd Isaac gave up the ghost, and died, and was gathered unto\\nhis people, being old and full of da and his sons Esau and\\nJacob buried him.\\nNow these are the generations of Esau, who is Edom.\\nEsau took his wives of the daughters of Canaan; Adah the\\ndaughter of Elon the Hittite, and Aholibamah the daughter of\\nAnah the daughter of Zibeon the Hivite;\\nAnd Bashemath Ishmael's daughter, sister of Nebajoth.\\nAnd Adah bare to Esau Eliphaz; and Bashemath bare Reuel;\\nAnd Aholibamah bare Jeush, and Jaalam, and Korah: these are\\nthe sons of Esau, which were born unto him in the land of\\nCanaan.\\nAnd Esau took his wives, and his sons, and his daughters, and\\nall the persons of his house, and his cattle, and all his\\nbeasts, and all his substance, which he had got in the land of\\nCanaan; and went into the country from the face of his brother\\nJacob.\\nFor their riches were more than that they might dwell\\ntogether; and the land wherein they were strangers could not\\nbear them because of their cattle.\\nThus dwelt Esau in mount Seir: Esau is Edom.\\nAnd these are the generations of Esau the father of the\\nEdomites in mount Se\\nThese are the names of Esau's sons; Eliphaz the son of Adah\\nthe wife of Esau, Reuel the son of Bashemath the wife of Esau.\\nAnd the sons of Eliphaz were Teman, Omar, Zepho, and Gatam,\\nand Kenaz.\\nAnd Timna was concubine to Eliphaz Esau's son; and she bare to\\nEliphaz Amal these were the sons of Adah Esau's wife.\\nAnd these are the sons of Reuel; Nahath, and Zerah, Shammah,\\nand Mizz these were the sons of Bashemath Esau's wife.\\nAnd these were the sons of Aholibamah, the daughter of Anah\\nthe daughter of Zibeon, Esau's wife and she bare to Esau\\nJeush, and Jaalam, and Korah.\\nThese were dukes of the sons of Esau: the sons of Eliphaz the\\nfirstborn son of Esau; duke Teman, duke Omar, duke Zepho, duke\\nKenaz,\\nDuke Korah, duke Gatam, and duke Amalek: these are the dukes\\nthat came of Eliphaz in the land of Edom; these were the sons\\nof Adah.\\nAnd these are the sons of Reuel Esau's son; duke Nahath, duke\\nZerah, duke Shammah, duke Mizz these are the dukes that\\ncame of Reuel in the land of Edom; these are the sons of\\nBashemath Esau's wife.\\nAnd these are the sons of Aholibamah Esau's wife; duke Jeush,\\nduke Jaalam, duke Kor these were the dukes that came of\\nAholibamah the daughter of Anah, Esau's wife.\\nThese are the sons of Esau, who is Edom, and these are their\\ndukes.\\nThese are the sons of Seir the Horite, who inhabited the land;\\nLotan, and Shobal, and Zibeon, and Anah,\\nAnd Dishon, and Ezer, and Dishan: these are the dukes of the\\nHorites, the children of Seir in the land of Edom.\\nAnd the children of Lotan were Hori and Hemam; and Lotan's\\nsister was Timna.\\nAnd the children of Shobal were these; Alvan, and Manahath,\\nand Ebal, Shepho, and Onam.\\nAnd these are the children of Zibeon; both Ajah, and Anah:\\nthis was that Anah that found the mules in the wilderness, as\\nhe fed the asses of Zibeon his father.\\nAnd the children of Anah were these; Dishon, and Aholibamah\\nthe daughter of Anah.\\nAnd these are the children of Dishon; Hemdan, and Eshban, and\\nIthran, and Cheran.\\nThe children of Ezer are these; Bilhan, and Zaavan, and Akan.\\nThe children of Dishan are these; Uz, and Aran.\\nThese are the dukes that came of the Horites; duke Lotan, duke\\nShobal, duke Zibeon, duke Anah,\\nDuke Dishon, duke Ezer, duke Dishan: these are the dukes that\\ncame of Hori, among their dukes in the land of Seir.\\nAnd these are the kings that reigned in the land of Edom,\\nbefore there reigned any king over the children of Israel.\\nAnd Bela the son of Beor reigned in Edom: and the name of his\\ncity was Dinhabah.\\nAnd Bela died, and Jobab the son of Zerah of Bozrah reigned in\\nhis stead.\\nAnd Jobab died, and Husham of the land of Temani reigned in\\nhis stead.\\nAnd Husham died, and Hadad the son of Bedad, who smote Midian\\nin the field of Moab, reigned in his ste and the name of\\nhis city was Avith.\\nAnd Hadad died, and Samlah of Masrekah reigned in his stead.\\nAnd Samlah died, and Saul of Rehoboth by the river reigned in\\nhis stead.\\nAnd Saul died, and Baalhanan the son of Achbor reigned in his\\nstead.\\nAnd Baalhanan the son of Achbor died, and Hadar reigned in his\\nste and the name of his city was Pau; and his wife's name\\nwas Mehetabel, the daughter of Matred, the daughter of\\nMezahab.\\nAnd these are the names of the dukes that came of Esau,\\naccording to their families, after their places, by their\\nnames; duke Timnah, duke Alvah, duke Jetheth,\\nDuke Aholibamah, duke Elah, duke Pinon,\\nDuke Kenaz, duke Teman, duke Mibzar,\\nDuke Magdiel, duke Iram: these be the dukes of Edom, according\\nto their habitations in the land of their possessi he is\\nEsau the father of the Edomites.\\nAnd Jacob dwelt in the land wherein his father was a stranger,\\nin the land of Canaan.\\nThese are the generations of Jacob. Joseph, being seventeen\\nyears old, was feeding the flock with his brethren; and the\\nlad was with the sons of Bilhah, and with the sons of Zilpah,\\nhis father's wiv and Joseph brought unto his father their\\nevil report.\\nNow Israel loved Joseph more than all his children, because he\\nwas the son of his old a and he made him a coat of many\\ncolours.\\nAnd when his brethren saw that their father loved him more\\nthan all his brethren, they hated him, and could not speak\\npeaceably unto him.\\nAnd Joseph dreamed a dream, and he told it his brethren: and\\nthey hated him yet the more.\\nAnd he said unto them, Hear, I pray you, this dream which I\\nhave dream\\nFor, behold, we were binding sheaves in the field, and, lo, my\\nsheaf arose, and also stood upright; and, behold, your sheaves\\nstood round about, and made obeisance to my sheaf.\\nAnd his brethren said to him, Shalt thou indeed reign over us?\\nor shalt thou indeed have dominion over us? And they hated him\\nyet the more for his dreams, and for his words.\\nAnd he dreamed yet another dream, and told it his brethren,\\nand said, Behold, I have dreamed a dream more; and, behold,\\nthe sun and the moon and the eleven stars made obeisance to\\nme.\\nAnd he told it to his father, and to his brethren: and his\\nfather rebuked him, and said unto him, What is this dream that\\nthou hast dreamed? Shall I and thy mother and thy brethren\\nindeed come to bow down ourselves to thee to the earth?\\nAnd his brethren envied him; but his father observed the\\nsaying.\\nAnd his brethren went to feed their father's flock in Shechem.\\nAnd Israel said unto Joseph, Do not thy brethren feed the\\nflock in Shechem? come, and I will send thee unto them. And he\\nsaid to him, Here am I.\\nAnd he said to him, Go, I pray thee, see whether it be well\\nwith thy brethren, and well with the flocks; and bring me word\\nagain. So he sent him out of the vale of Hebron, and he came\\nto Shechem.\\nAnd a certain man found him, and, behold, he was wandering in\\nthe fie and the man asked him, saying, What seekest thou?\\nAnd he said, I seek my brethren: tell me, I pray thee, where\\nthey feed their flocks.\\nAnd the man said, They are departed hence; for I heard them\\nsay, Let us go to Dothan. And Joseph went after his brethren,\\nand found them in Dothan.\\nAnd when they saw him afar off, even before he came near unto\\nthem, they conspired against him to slay him.\\nAnd they said one to another, Behold, this dreamer cometh.\\nCome now therefore, and let us slay him, and cast him into\\nsome pit, and we will say, Some evil beast hath devoured h\\nand we shall see what will become of his dreams.\\nAnd Reuben heard it, and he delivered him out of their hands;\\nand said, Let us not kill him.\\nAnd Reuben said unto them, Shed no blood, but cast him into\\nthis pit that is in the wilderness, and lay no hand upon him;\\nthat he might rid him out of their hands, to deliver him to\\nhis father again.\\nAnd it came to pass, when Joseph was come unto his brethren,\\nthat they stript Joseph out of his coat, his coat of many\\ncolours that was on him;\\nAnd they took him, and cast him into a pit: and the pit was\\nempty, there was no water in it.\\nAnd they sat down to eat bread: and they lifted up their eyes\\nand looked, and, behold, a company of Ishmeelites came from\\nGilead with their camels bearing spicery and balm and myrrh,\\ngoing to carry it down to Egypt.\\nAnd Judah said unto his brethren, What profit is it if we slay\\nour brother, and conceal his blood?\\nCome, and let us sell him to the Ishmeelites, and let not our\\nhand be upon him; for he is our brother and our flesh. And his\\nbrethren were content.\\nThen there passed by Midianites merchantmen; and they drew and\\nlifted up Joseph out of the pit, and sold Joseph to the\\nIshmeelites for twenty pieces of silv and they brought\\nJoseph into Egypt.\\nAnd Reuben returned unto the pit; and, behold, Joseph was not\\nin the pit; and he rent his clothes.\\nAnd he returned unto his brethren, and said, The child is not;\\nand I, whither shall I go?\\nAnd they took Joseph's coat, and killed a kid of the goats,\\nand dipped the coat in the blood;\\nAnd they sent the coat of many colours, and they brought it to\\ntheir father; and said, This have we fou know now whether\\nit be thy son's coat or no.\\nAnd he knew it, and said, It is my son's coat; an evil beast\\nhath devoured him; Joseph is without doubt rent in pieces.\\nAnd Jacob rent his clothes, and put sackcloth upon his loins,\\nand mourned for his son many days.\\nAnd all his sons and all his daughters rose up to comfort him;\\nbut he refused to be comforted; and he said, For I will go\\ndown into the grave unto my son mourning. Thus his father wept\\nfor him.\\nAnd the Midianites sold him into Egypt unto Potiphar, an\\nofficer of Pharaoh's, and captain of the guard.\\nAnd it came to pass at that time, that Judah went down from\\nhis brethren, and turned in to a certain Adullamite, whose\\nname was Hirah.\\nAnd Judah saw there a daughter of a certain Canaanite, whose\\nname was Shuah; and he took her, and went in unto her.\\nAnd she conceived, and bare a son; and he called his name Er.\\nAnd she conceived again, and bare a son; and she called his\\nname Onan.\\nAnd she yet again conceived, and bare a son; and called his\\nname Shel and he was at Chezib, when she bare him.\\nAnd Judah took a wife for Er his firstborn, whose name was\\nTamar.\\nAnd Er, Judah's firstborn, was wicked in the sight of the\\nLORD; and the LORD slew him.\\nAnd Judah said unto Onan, Go in unto thy brother's wife, and\\nmarry her, and raise up seed to thy brother.\\nAnd Onan knew that the seed should not be his; and it came to\\npass, when he went in unto his brother's wife, that he spilled\\nit on the ground, lest that he should give seed to his\\nbrother.\\nAnd the thing which he did displeased the LORD: wherefore he\\nslew him also.\\nThen said Judah to Tamar his daughter in law, Remain a widow\\nat thy father's house, till Shelah my son be gro for he\\nsaid, Lest peradventure he die also, as his brethren did. And\\nTamar went and dwelt in her father's house.\\nAnd in process of time the daughter of Shuah Judah's wife\\ndied; and Judah was comforted, and went up unto his\\nsheepshearers to Timnath, he and his friend Hirah the\\nAdullamite.\\nAnd it was told Tamar, saying, Behold thy father in law goeth\\nup to Timnath to shear his sheep.\\nAnd she put her widow's garments off from her, and covered her\\nwith a vail, and wrapped herself, and sat in an open place,\\nwhich is by the way to Timnath; for she saw that Shelah was\\ngrown, and she was not given unto him to wife.\\nWhen Judah saw her, he thought her to be an harlot; because\\nshe had covered her face.\\nAnd he turned unto her by the way, and said, Go to, I pray\\nthee, let me come in unto thee; (for he knew not that she was\\nhis daughter in law.) And she said, What wilt thou give me,\\nthat thou mayest come in unto me?\\nAnd he said, I will send thee a kid from the flock. And she\\nsaid, Wilt thou give me a pledge, till thou send it?\\nAnd he said, What pledge shall I give thee? And she said, Thy\\nsignet, and thy bracelets, and thy staff that is in thine\\nhand. And he gave it her, and came in unto her, and she\\nconceived by him.\\nAnd she arose, and went away, and laid by her vail from her,\\nand put on the garments of her widowhood.\\nAnd Judah sent the kid by the hand of his friend the\\nAdullamite, to receive his pledge from the woman's ha but\\nhe found her not.\\nThen he asked the men of that place, saying, Where is the\\nharlot, that was openly by the way side? And they said, There\\nwas no harlot in this place.\\nAnd he returned to Judah, and said, I cannot find her; and\\nalso the men of the place said, that there was no harlot in\\nthis place.\\nAnd Judah said, Let her take it to her, lest we be shamed:\\nbehold, I sent this kid, and thou hast not found her.\\nAnd it came to pass about three months after, that it was told\\nJudah, saying, Tamar thy daughter in law hath played the\\nharlot; and also, behold, she is with child by whoredom. And\\nJudah said, Bring her forth, and let her be burnt.\\nWhen she was brought forth, she sent to her father in law,\\nsaying, By the man, whose these are, am I with chi and she\\nsaid, Discern, I pray thee, whose are these, the signet, and\\nbracelets, and staff.\\nAnd Judah acknowledged them, and said, She hath been more\\nrighteous than I; because that I gave her not to Shelah my\\nson. And he knew her again no more.\\nAnd it came to pass in the time of her travail, that, behold,\\ntwins were in her womb.\\nAnd it came to pass, when she travailed, that the one put out\\nhis ha and the midwife took and bound upon his hand a\\nscarlet thread, saying, This came out first.\\nAnd it came to pass, as he drew back his hand, that, behold,\\nhis brother came o and she said, How hast thou broken\\nforth? this breach be upon th therefore his name was called\\nPharez.\\nAnd afterward came out his brother, that had the scarlet\\nthread upon his ha and his name was called Zarah.\\nAnd Joseph was brought down to Egypt; and Potiphar, an officer\\nof Pharaoh, captain of the guard, an Egyptian, bought him of\\nthe hands of the Ishmeelites, which had brought him down\\nthither.\\nAnd the LORD was with Joseph, and he was a prosperous man; and\\nhe was in the house of his master the Egyptian.\\nAnd his master saw that the LORD was with him, and that the\\nLORD made all that he did to prosper in his hand.\\nAnd Joseph found grace in his sight, and he served him: and he\\nmade him overseer over his house, and all that he had he put\\ninto his hand.\\nAnd it came to pass from the time that he had made him\\noverseer in his house, and over all that he had, that the LORD\\nblessed the Egyptian's house for Joseph's sake; and the\\nblessing of the LORD was upon all that he had in the house,\\nand in the field.\\nAnd he left all that he had in Joseph's hand; and he knew not\\nought he had, save the bread which he did eat. And Joseph was\\na goodly person, and well favoured.\\nAnd it came to pass after these things, that his master's wife\\ncast her eyes upon Joseph; and she said, Lie with me.\\nBut he refused, and said unto his master's wife, Behold, my\\nmaster wotteth not what is with me in the house, and he hath\\ncommitted all that he hath to my hand;\\nThere is none greater in this house than I; neither hath he\\nkept back any thing from me but thee, because thou art his\\nwife how then can I do this great wickedness, and sin against\\nGod?\\nAnd it came to pass, as she spake to Joseph day by day, that\\nhe hearkened not unto her, to lie by her, or to be with her.\\nAnd it came to pass about this time, that Joseph went into the\\nhouse to do his business; and there was none of the men of the\\nhouse there within.\\nAnd she caught him by his garment, saying, Lie with me: and he\\nleft his garment in her hand, and fled, and got him out.\\nAnd it came to pass, when she saw that he had left his garment\\nin her hand, and was fled forth,\\nThat she called unto the men of her house, and spake unto\\nthem, saying, See, he hath brought in an Hebrew unto us to\\nmock us; he came in unto me to lie with me, and I cried with a\\nloud voi\\nAnd it came to pass, when he heard that I lifted up my voice\\nand cried, that he left his garment with me, and fled, and got\\nhim out.\\nAnd she laid up his garment by her, until his lord came home.\\nAnd she spake unto him according to these words, saying, The\\nHebrew servant, which thou hast brought unto us, came in unto\\nme to mock \\nAnd it came to pass, as I lifted up my voice and cried, that\\nhe left his garment with me, and fled out.\\nAnd it came to pass, when his master heard the words of his\\nwife, which she spake unto him, saying, After this manner did\\nthy servant to me; that his wrath was kindled.\\nAnd Joseph's master took him, and put him into the prison, a\\nplace where the king's prisoners were bou and he was there\\nin the prison.\\nBut the LORD was with Joseph, and shewed him mercy, and gave\\nhim favour in the sight of the keeper of the prison.\\nAnd the keeper of the prison committed to Joseph's hand all\\nthe prisoners that were in the prison; and whatsoever they did\\nthere, he was the doer of it.\\nThe keeper of the prison looked not to any thing that was\\nunder his hand; because the LORD was with him, and that which\\nhe did, the LORD made it to prosper.\\nAnd it came to pass after these things, that the butler of the\\nking of Egypt and his baker had offended their lord the king\\nof Egypt.\\nAnd Pharaoh was wroth against two of his officers, against the\\nchief of the butlers, and against the chief of the bakers.\\nAnd he put them in ward in the house of the captain of the\\nguard, into the prison, the place where Joseph was bound.\\nAnd the captain of the guard charged Joseph with them, and he\\nserved th and they continued a season in ward.\\nAnd they dreamed a dream both of them, each man his dream in\\none night, each man according to the interpretation of his\\ndream, the butler and the baker of the king of Egypt, which\\nwere bound in the prison.\\nAnd Joseph came in unto them in the morning, and looked upon\\nthem, and, behold, they were sad.\\nAnd he asked Pharaoh's officers that were with him in the ward\\nof his lord's house, saying, Wherefore look ye so sadly to\\nday?\\nAnd they said unto him, We have dreamed a dream, and there is\\nno interpreter of it. And Joseph said unto them, Do not\\ninterpretations belong to God? tell me them, I pray you.\\nAnd the chief butler told his dream to Joseph, and said to\\nhim, In my dream, behold, a vine was before me;\\nAnd in the vine were three branches: and it was as though it\\nbudded, and her blossoms shot forth; and the clusters thereof\\nbrought forth ripe grap\\nAnd Pharaoh's cup was in my hand: and I took the grapes, and\\npressed them into Pharaoh's cup, and I gave the cup into\\nPharaoh's hand.\\nAnd Joseph said unto him, This is the interpretation of it:\\nThe three branches are three da\\nYet within three days shall Pharaoh lift up thine head, and\\nrestore thee unto thy pla and thou shalt deliver Pharaoh's\\ncup into his hand, after the former manner when thou wast his\\nbutler.\\nBut think on me when it shall be well with thee, and shew\\nkindness, I pray thee, unto me, and make mention of me unto\\nPharaoh, and bring me out of this hou\\nFor indeed I was stolen away out of the land of the Hebrews:\\nand here also have I done nothing that they should put me into\\nthe dungeon.\\nWhen the chief baker saw that the interpretation was good, he\\nsaid unto Joseph, I also was in my dream, and, behold, I had\\nthree white baskets on my he\\nAnd in the uppermost basket there was of all manner of\\nbakemeats for Pharaoh; and the birds did eat them out of the\\nbasket upon my head.\\nAnd Joseph answered and said, This is the interpretation\\nthere The three baskets are three days:\\nYet within three days shall Pharaoh lift up thy head from off\\nthee, and shall hang thee on a tree; and the birds shall eat\\nthy flesh from off thee.\\nAnd it came to pass the third day, which was Pharaoh's\\nbirthday, that he made a feast unto all his servan and he\\nlifted up the head of the chief butler and of the chief baker\\namong his servants.\\nAnd he restored the chief butler unto his butlership again;\\nand he gave the cup into Pharaoh's ha\\nBut he hanged the chief baker: as Joseph had interpreted to\\nthem.\\nYet did not the chief butler remember Joseph, but forgat him.\\nAnd it came to pass at the end of two full years, that Pharaoh\\ndream and, behold, he stood by the river.\\nAnd, behold, there came up out of the river seven well\\nfavoured kine and fatfleshed; and they fed in a meadow.\\nAnd, behold, seven other kine came up after them out of the\\nriver, ill favoured and leanfleshed; and stood by the other\\nkine upon the brink of the river.\\nAnd the ill favoured and leanfleshed kine did eat up the seven\\nwell favoured and fat kine. So Pharaoh awoke.\\nAnd he slept and dreamed the second time: and, behold, seven\\nears of corn came up upon one stalk, rank and good.\\nAnd, behold, seven thin ears and blasted with the east wind\\nsprung up after them.\\nAnd the seven thin ears devoured the seven rank and full ears.\\nAnd Pharaoh awoke, and, behold, it was a dream.\\nAnd it came to pass in the morning that his spirit was\\ntroubled; and he sent and called for all the magicians of\\nEgypt, and all the wise men there and Pharaoh told them his\\ndream; but there was none that could interpret them unto\\nPharaoh.\\nThen spake the chief butler unto Pharaoh, saying, I do\\nremember my faults this d\\nPharaoh was wroth with his servants, and put me in ward in the\\ncaptain of the guard's house, both me and the chief bak\\nAnd we dreamed a dream in one night, I and he; we dreamed each\\nman according to the interpretation of his dream.\\nAnd there was there with us a young man, an Hebrew, servant to\\nthe captain of the guard; and we told him, and he interpreted\\nto us our dreams; to each man according to his dream he did\\ninterpret.\\nAnd it came to pass, as he interpreted to us, so it was; me he\\nrestored unto mine office, and him he hanged.\\nThen Pharaoh sent and called Joseph, and they brought him\\nhastily out of the dunge and he shaved himself, and changed\\nhis raiment, and came in unto Pharaoh.\\nAnd Pharaoh said unto Joseph, I have dreamed a dream, and\\nthere is none that can interpret  and I have heard say of\\nthee, that thou canst understand a dream to interpret it.\\nAnd Joseph answered Pharaoh, saying, It is not in me: God\\nshall give Pharaoh an answer of peace.\\nAnd Pharaoh said unto Joseph, In my dream, behold, I stood\\nupon the bank of the riv\\nAnd, behold, there came up out of the river seven kine,\\nfatfleshed and well favoured; and they fed in a mead\\nAnd, behold, seven other kine came up after them, poor and\\nvery ill favoured and leanfleshed, such as I never saw in all\\nthe land of Egypt for badne\\nAnd the lean and the ill favoured kine did eat up the first\\nseven fat ki\\nAnd when they had eaten them up, it could not be known that\\nthey had eaten them; but they were still ill favoured, as at\\nthe beginning. So I awoke.\\nAnd I saw in my dream, and, behold, seven ears came up in one\\nstalk, full and go\\nAnd, behold, seven ears, withered, thin, and blasted with the\\neast wind, sprung up after th\\nAnd the thin ears devoured the seven good ears: and I told\\nthis unto the magicians; but there was none that could declare\\nit to me.\\nAnd Joseph said unto Pharaoh, The dream of Pharaoh is one: God\\nhath shewed Pharaoh what he is about to do.\\nThe seven good kine are seven years; and the seven good ears\\nare seven yea the dream is one.\\nAnd the seven thin and ill favoured kine that came up after\\nthem are seven years; and the seven empty ears blasted with\\nthe east wind shall be seven years of famine.\\nThis is the thing which I have spoken unto Pharaoh: What God\\nis about to do he sheweth unto Pharaoh.\\nBehold, there come seven years of great plenty throughout all\\nthe land of Egy\\nAnd there shall arise after them seven years of famine; and\\nall the plenty shall be forgotten in the land of Egypt; and\\nthe famine shall consume the land;\\nAnd the plenty shall not be known in the land by reason of\\nthat famine following; for it shall be very grievous.\\nAnd for that the dream was doubled unto Pharaoh twice; it is\\nbecause the thing is established by God, and God will shortly\\nbring it to pass.\\nNow therefore let Pharaoh look out a man discreet and wise,\\nand set him over the land of Egypt.\\nLet Pharaoh do this, and let him appoint officers over the\\nland, and take up the fifth part of the land of Egypt in the\\nseven plenteous years.\\nAnd let them gather all the food of those good years that\\ncome, and lay up corn under the hand of Pharaoh, and let them\\nkeep food in the cities.\\nAnd that food shall be for store to the land against the seven\\nyears of famine, which shall be in the land of Egypt; that the\\nland perish not through the famine.\\nAnd the thing was good in the eyes of Pharaoh, and in the eyes\\nof all his servants.\\nAnd Pharaoh said unto his servants, Can we find such a one as\\nthis is, a man in whom the Spirit of God is?\\nAnd Pharaoh said unto Joseph, Forasmuch as God hath shewed\\nthee all this, there is none so discreet and wise as thou a\\nThou shalt be over my house, and according unto thy word shall\\nall my people be rul only in the throne will I be greater\\nthan thou.\\nAnd Pharaoh said unto Joseph, See, I have set thee over all\\nthe land of Egypt.\\nAnd Pharaoh took off his ring from his hand, and put it upon\\nJoseph's hand, and arrayed him in vestures of fine linen, and\\nput a gold chain about his neck;\\nAnd he made him to ride in the second chariot which he had;\\nand they cried before him, Bow the kn and he made him ruler\\nover all the land of Egypt.\\nAnd Pharaoh said unto Joseph, I am Pharaoh, and without thee\\nshall no man lift up his hand or foot in all the land of\\nEgypt.\\nAnd Pharaoh called Joseph's name Zaphnathpaaneah; and he gave\\nhim to wife Asenath the daughter of Potipherah priest of On.\\nAnd Joseph went out over all the land of Egypt.\\nAnd Joseph was thirty years old when he stood before Pharaoh\\nking of Egypt. And Joseph went out from the presence of\\nPharaoh, and went throughout all the land of Egypt.\\nAnd in the seven plenteous years the earth brought forth by\\nhandfuls.\\nAnd he gathered up all the food of the seven years, which were\\nin the land of Egypt, and laid up the food in the citi the\\nfood of the field, which was round about every city, laid he\\nup in the same.\\nAnd Joseph gathered corn as the sand of the sea, very much,\\nuntil he left numbering; for it was without number.\\nAnd unto Joseph were born two sons before the years of famine\\ncame, which Asenath the daughter of Potipherah priest of On\\nbare unto him.\\nAnd Joseph called the name of the firstborn Manasseh: For God,\\nsaid he, hath made me forget all my toil, and all my father's\\nhouse.\\nAnd the name of the second called he Ephraim: For God hath\\ncaused me to be fruitful in the land of my affliction.\\nAnd the seven years of plenteousness, that was in the land of\\nEgypt, were ended.\\nAnd the seven years of dearth began to come, according as\\nJoseph had sa and the dearth was in all lands; but in all\\nthe land of Egypt there was bread.\\nAnd when all the land of Egypt was famished, the people cried\\nto Pharaoh for bre and Pharaoh said unto all the Egyptians,\\nGo unto Joseph; what he saith to you, do.\\nAnd the famine was over all the face of the earth: and Joseph\\nopened all the storehouses, and sold unto the Egyptians; and\\nthe famine waxed sore in the land of Egypt.\\nAnd all countries came into Egypt to Joseph for to buy corn;\\nbecause that the famine was so sore in all lands.\\nNow when Jacob saw that there was corn in Egypt, Jacob said\\nunto his sons, Why do ye look one upon another?\\nAnd he said, Behold, I have heard that there is corn in Egypt:\\nget you down thither, and buy for us from thence; that we may\\nlive, and not die.\\nAnd Joseph's ten brethren went down to buy corn in Egypt.\\nBut Benjamin, Joseph's brother, Jacob sent not with his\\nbrethren; for he said, Lest peradventure mischief befall him.\\nAnd the sons of Israel came to buy corn among those that came:\\nfor the famine was in the land of Canaan.\\nAnd Joseph was the governor over the land, and he it was that\\nsold to all the people of the la and Joseph's brethren\\ncame, and bowed down themselves before him with their faces to\\nthe earth.\\nAnd Joseph saw his brethren, and he knew them, but made\\nhimself strange unto them, and spake roughly unto them; and he\\nsaid unto them, Whence come ye? And they said, From the land\\nof Canaan to buy food.\\nAnd Joseph knew his brethren, but they knew not him.\\nAnd Joseph remembered the dreams which he dreamed of them, and\\nsaid unto them, Ye are spies; to see the nakedness of the land\\nye are come.\\nAnd they said unto him, Nay, my lord, but to buy food are thy\\nservants come.\\nWe are all one man's sons; we are true men, thy servants are\\nno spies.\\nAnd he said unto them, Nay, but to see the nakedness of the\\nland ye are come.\\nAnd they said, Thy servants are twelve brethren, the sons of\\none man in the land of Canaan; and, behold, the youngest is\\nthis day with our father, and one is not.\\nAnd Joseph said unto them, That is it that I spake unto you,\\nsaying, Ye are spi\\nHereby ye shall be proved: By the life of Pharaoh ye shall not\\ngo forth hence, except your youngest brother come hither.\\nSend one of you, and let him fetch your brother, and ye shall\\nbe kept in prison, that your words may be proved, whether\\nthere be any truth in y or else by the life of Pharaoh\\nsurely ye are spies.\\nAnd he put them all together into ward three days.\\nAnd Joseph said unto them the third day, This do, and live;\\nfor I fear G\\nIf ye be true men, let one of your brethren be bound in the\\nhouse of your pris go ye, carry corn for the famine of your\\nhous\\nBut bring your youngest brother unto me; so shall your words\\nbe verified, and ye shall not die. And they did so.\\nAnd they said one to another, We are verily guilty concerning\\nour brother, in that we saw the anguish of his soul, when he\\nbesought us, and we would not hear; therefore is this distress\\ncome upon us.\\nAnd Reuben answered them, saying, Spake I not unto you,\\nsaying, Do not sin against the child; and ye would not hear?\\ntherefore, behold, also his blood is required.\\nAnd they knew not that Joseph understood them; for he spake\\nunto them by an interpreter.\\nAnd he turned himself about from them, and wept; and returned\\nto them again, and communed with them, and took from them\\nSimeon, and bound him before their eyes.\\nThen Joseph commanded to fill their sacks with corn, and to\\nrestore every man's money into his sack, and to give them\\nprovision for the w and thus did he unto them.\\nAnd they laded their asses with the corn, and departed thence.\\nAnd as one of them opened his sack to give his ass provender\\nin the inn, he espied his money; for, behold, it was in his\\nsack's mouth.\\nAnd he said unto his brethren, My money is restored; and, lo,\\nit is even in my sa and their heart failed them, and they\\nwere afraid, saying one to another, What is this that God hath\\ndone unto us?\\nAnd they came unto Jacob their father unto the land of Canaan,\\nand told him all that befell unto them; saying,\\nThe man, who is the lord of the land, spake roughly to us, and\\ntook us for spies of the country.\\nAnd we said unto him, We are true men; we are no spies:\\nWe be twelve brethren, sons of our father; one is not, and the\\nyoungest is this day with our father in the land of Canaan.\\nAnd the man, the lord of the country, said unto us, Hereby\\nshall I know that ye are true men; leave one of your brethren\\nhere with me, and take food for the famine of your households,\\nand be go\\nAnd bring your youngest brother unto me: then shall I know\\nthat ye are no spies, but that ye are true m so will I\\ndeliver you your brother, and ye shall traffick in the land.\\nAnd it came to pass as they emptied their sacks, that, behold,\\nevery man's bundle of money was in his sa and when both\\nthey and their father saw the bundles of money, they were\\nafraid.\\nAnd Jacob their father said unto them, Me have ye bereaved of\\nmy childr Joseph is not, and Simeon is not, and ye will\\ntake Benjamin aw all these things are against me.\\nAnd Reuben spake unto his father, saying, Slay my two sons, if\\nI bring him not to th deliver him into my hand, and I will\\nbring him to thee again.\\nAnd he said, My son shall not go down with you; for his\\nbrother is dead, and he is left alo if mischief befall him\\nby the way in the which ye go, then shall ye bring down my\\ngray hairs with sorrow to the grave.\\nAnd the famine was sore in the land.\\nAnd it came to pass, when they had eaten up the corn which\\nthey had brought out of Egypt, their father said unto them, Go\\nagain, buy us a little food.\\nAnd Judah spake unto him, saying, The man did solemnly protest\\nunto us, saying, Ye shall not see my face, except your brother\\nbe with you.\\nIf thou wilt send our brother with us, we will go down and buy\\nthee fo\\nBut if thou wilt not send him, we will not go down: for the\\nman said unto us, Ye shall not see my face, except your\\nbrother be with you.\\nAnd Israel said, Wherefore dealt ye so ill with me, as to tell\\nthe man whether ye had yet a brother?\\nAnd they said, The man asked us straitly of our state, and of\\nour kindred, saying, Is your father yet alive? have ye another\\nbrother? and we told him according to the tenor of these\\nwor could we certainly know that he would say, Bring your\\nbrother down?\\nAnd Judah said unto Israel his father, Send the lad with me,\\nand we will arise and go; that we may live, and not die, both\\nwe, and thou, and also our little ones.\\nI will be surety for him; of my hand shalt thou require him:\\nif I bring him not unto thee, and set him before thee, then\\nlet me bear the blame for ev\\nFor except we had lingered, surely now we had returned this\\nsecond time.\\nAnd their father Israel said unto them, If it must be so now,\\ndo this; take of the best fruits in the land in your vessels,\\nand carry down the man a present, a little balm, and a little\\nhoney, spices, and myrrh, nuts, and almon\\nAnd take double money in your hand; and the money that was\\nbrought again in the mouth of your sacks, carry it again in\\nyour hand; peradventure it was an oversig\\nTake also your brother, and arise, go again unto the man:\\nAnd God Almighty give you mercy before the man, that he may\\nsend away your other brother, and Benjamin. If I be bereaved\\nof my children, I am bereaved.\\nAnd the men took that present, and they took double money in\\ntheir hand and Benjamin; and rose up, and went down to Egypt,\\nand stood before Joseph.\\nAnd when Joseph saw Benjamin with them, he said to the ruler\\nof his house, Bring these men home, and slay, and make ready;\\nfor these men shall dine with me at noon.\\nAnd the man did as Joseph bade; and the man brought the men\\ninto Joseph's house.\\nAnd the men were afraid, because they were brought into\\nJoseph's house; and they said, Because of the money that was\\nreturned in our sacks at the first time are we brought in;\\nthat he may seek occasion against us, and fall upon us, and\\ntake us for bondmen, and our asses.\\nAnd they came near to the steward of Joseph's house, and they\\ncommuned with him at the door of the house,\\nAnd said, O sir, we came indeed down at the first time to buy\\nfo\\nAnd it came to pass, when we came to the inn, that we opened\\nour sacks, and, behold, every man's money was in the mouth of\\nhis sack, our money in full weig and we have brought it\\nagain in our hand.\\nAnd other money have we brought down in our hands to buy food:\\nwe cannot tell who put our money in our sacks.\\nAnd he said, Peace be to you, fear not: your God, and the God\\nof your father, hath given you treasure in your sac I had\\nyour money. And he brought Simeon out unto them.\\nAnd the man brought the men into Joseph's house, and gave them\\nwater, and they washed their feet; and he gave their asses\\nprovender.\\nAnd they made ready the present against Joseph came at noon:\\nfor they heard that they should eat bread there.\\nAnd when Joseph came home, they brought him the present which\\nwas in their hand into the house, and bowed themselves to him\\nto the earth.\\nAnd he asked them of their welfare, and said, Is your father\\nwell, the old man of whom ye spake? Is he yet alive?\\nAnd they answered, Thy servant our father is in good health,\\nhe is yet alive. And they bowed down their heads, and made\\nobeisance.\\nAnd he lifted up his eyes, and saw his brother Benjamin, his\\nmother's son, and said, Is this your younger brother, of whom\\nye spake unto me? And he said, God be gracious unto thee, my\\nson.\\nAnd Joseph made haste; for his bowels did yearn upon his\\nbroth and he sought where to weep; and he entered into his\\nchamber, and wept there.\\nAnd he washed his face, and went out, and refrained himself,\\nand said, Set on bread.\\nAnd they set on for him by himself, and for them by\\nthemselves, and for the Egyptians, which did eat with him, by\\nthemselv because the Egyptians might not eat bread with the\\nHebrews; for that is an abomination unto the Egyptians.\\nAnd they sat before him, the firstborn according to his\\nbirthright, and the youngest according to his you and the\\nmen marvelled one at another.\\nAnd he took and sent messes unto them from before him: but\\nBenjamin's mess was five times so much as any of their's. And\\nthey drank, and were merry with him.\\nAnd he commanded the steward of his house, saying, Fill the\\nmen's sacks with food, as much as they can carry, and put\\nevery man's money in his sack's mouth.\\nAnd put my cup, the silver cup, in the sack's mouth of the\\nyoungest, and his corn money. And he did according to the word\\nthat Joseph had spoken.\\nAs soon as the morning was light, the men were sent away, they\\nand their asses.\\nAnd when they were gone out of the city, and not yet far off,\\nJoseph said unto his steward, Up, follow after the men; and\\nwhen thou dost overtake them, say unto them, Wherefore have ye\\nrewarded evil for good?\\nIs not this it in which my lord drinketh, and whereby indeed\\nhe divineth? ye have done evil in so doing.\\nAnd he overtook them, and he spake unto them these same words.\\nAnd they said unto him, Wherefore saith my lord these words?\\nGod forbid that thy servants should do according to this\\nthi\\nBehold, the money, which we found in our sacks' mouths, we\\nbrought again unto thee out of the land of Cana how then\\nshould we steal out of thy lord's house silver or gold?\\nWith whomsoever of thy servants it be found, both let him die,\\nand we also will be my lord's bondmen.\\nAnd he said, Now also let it be according unto your words: he\\nwith whom it is found shall be my servant; and ye shall be\\nblameless.\\nThen they speedily took down every man his sack to the ground,\\nand opened every man his sack.\\nAnd he searched, and began at the eldest, and left at the\\nyounge and the cup was found in Benjamin's sack.\\nThen they rent their clothes, and laded every man his ass, and\\nreturned to the city.\\nAnd Judah and his brethren came to Joseph's house; for he was\\nyet the and they fell before him on the ground.\\nAnd Joseph said unto them, What deed is this that ye have\\ndone? wot ye not that such a man as I can certainly divine?\\nAnd Judah said, What shall we say unto my lord? what shall we\\nspeak? or how shall we clear ourselves? God hath found out the\\niniquity of thy servan behold, we are my lord's servants,\\nboth we, and he also with whom the cup is found.\\nAnd he said, God forbid that I should do so: but the man in\\nwhose hand the cup is found, he shall be my servant; and as\\nfor you, get you up in peace unto your father.\\nThen Judah came near unto him, and said, Oh my lord, let thy\\nservant, I pray thee, speak a word in my lord's ears, and let\\nnot thine anger burn against thy serva for thou art even as\\nPharaoh.\\nMy lord asked his servants, saying, Have ye a father, or a\\nbrother?\\nAnd we said unto my lord, We have a father, an old man, and a\\nchild of his old age, a little one; and his brother is dead,\\nand he alone is left of his mother, and his father loveth him.\\nAnd thou saidst unto thy servants, Bring him down unto me,\\nthat I may set mine eyes upon him.\\nAnd we said unto my lord, The lad cannot leave his father: for\\nif he should leave his father, his father would die.\\nAnd thou saidst unto thy servants, Except your youngest\\nbrother come down with you, ye shall see my face no more.\\nAnd it came to pass when we came up unto thy servant my\\nfather, we told him the words of my lord.\\nAnd our father said, Go again, and buy us a little food.\\nAnd we said, We cannot go down: if our youngest brother be\\nwith us, then will we go do for we may not see the man's\\nface, except our youngest brother be with us.\\nAnd thy servant my father said unto us, Ye know that my wife\\nbare me two so\\nAnd the one went out from me, and I said, Surely he is torn in\\npieces; and I saw him not sin\\nAnd if ye take this also from me, and mischief befall him, ye\\nshall bring down my gray hairs with sorrow to the grave.\\nNow therefore when I come to thy servant my father, and the\\nlad be not with us; seeing that his life is bound up in the\\nlad's life;\\nIt shall come to pass, when he seeth that the lad is not with\\nus, that he will d and thy servants shall bring down the\\ngray hairs of thy servant our father with sorrow to the grave.\\nFor thy servant became surety for the lad unto my father,\\nsaying, If I bring him not unto thee, then I shall bear the\\nblame to my father for ever.\\nNow therefore, I pray thee, let thy servant abide instead of\\nthe lad a bondman to my lord; and let the lad go up with his\\nbrethren.\\nFor how shall I go up to my father, and the lad be not with\\nme? lest peradventure I see the evil that shall come on my\\nfather.\\nThen Joseph could not refrain himself before all them that\\nstood by him; and he cried, Cause every man to go out from me.\\nAnd there stood no man with him, while Joseph made himself\\nknown unto his brethren.\\nAnd he wept aloud: and the Egyptians and the house of Pharaoh\\nheard.\\nAnd Joseph said unto his brethren, I am Joseph; doth my father\\nyet live? And his brethren could not answer him; for they were\\ntroubled at his presence.\\nAnd Joseph said unto his brethren, Come near to me, I pray\\nyou. And they came near. And he said, I am Joseph your\\nbrother, whom ye sold into Egypt.\\nNow therefore be not grieved, nor angry with yourselves, that\\nye sold me hith for God did send me before you to preserve\\nlife.\\nFor these two years hath the famine been in the land: and yet\\nthere are five years, in the which there shall neither be\\nearing nor harvest.\\nAnd God sent me before you to preserve you a posterity in the\\nearth, and to save your lives by a great deliverance.\\nSo now it was not you that sent me hither, but God: and he\\nhath made me a father to Pharaoh, and lord of all his house,\\nand a ruler throughout all the land of Egypt.\\nHaste ye, and go up to my father, and say unto him, Thus saith\\nthy son Joseph, God hath made me lord of all Egy come down\\nunto me, tarry n\\nAnd thou shalt dwell in the land of Goshen, and thou shalt be\\nnear unto me, thou, and thy children, and thy children's\\nchildren, and thy flocks, and thy herds, and all that thou\\nha\\nAnd there will I nourish thee; for yet there are five years of\\nfamine; lest thou, and thy household, and all that thou hast,\\ncome to poverty.\\nAnd, behold, your eyes see, and the eyes of my brother\\nBenjamin, that it is my mouth that speaketh unto you.\\nAnd ye shall tell my father of all my glory in Egypt, and of\\nall that ye have seen; and ye shall haste and bring down my\\nfather hither.\\nAnd he fell upon his brother Benjamin's neck, and wept; and\\nBenjamin wept upon his neck.\\nMoreover he kissed all his brethren, and wept upon them: and\\nafter that his brethren talked with him.\\nAnd the fame thereof was heard in Pharaoh's house, saying,\\nJoseph's brethren are co and it pleased Pharaoh well, and\\nhis servants.\\nAnd Pharaoh said unto Joseph, Say unto thy brethren, This do\\nye; lade your beasts, and go, get you unto the land of Canaan;\\nAnd take your father and your households, and come unto me:\\nand I will give you the good of the land of Egypt, and ye\\nshall eat the fat of the land.\\nNow thou art commanded, this do ye; take you wagons out of the\\nland of Egypt for your little ones, and for your wives, and\\nbring your father, and come.\\nAlso regard not your stuff; for the good of all the land of\\nEgypt is your's.\\nAnd the children of Israel did so: and Joseph gave them\\nwagons, according to the commandment of Pharaoh, and gave them\\nprovision for the way.\\nTo all of them he gave each man changes of raiment; but to\\nBenjamin he gave three hundred pieces of silver, and five\\nchanges of raiment.\\nAnd to his father he sent after this manner; ten asses laden\\nwith the good things of Egypt, and ten she asses laden with\\ncorn and bread and meat for his father by the way.\\nSo he sent his brethren away, and they departed: and he said\\nunto them, See that ye fall not out by the way.\\nAnd they went up out of Egypt, and came into the land of\\nCanaan unto Jacob their father,\\nAnd told him, saying, Joseph is yet alive, and he is governor\\nover all the land of Egypt. And Jacob's heart fainted, for he\\nbelieved them not.\\nAnd they told him all the words of Joseph, which he had said\\nunto th and when he saw the wagons which Joseph had sent to\\ncarry him, the spirit of Jacob their father reviv\\nAnd Israel said, It is enough; Joseph my son is yet alive: I\\nwill go and see him before I die.\\nAnd Israel took his journey with all that he had, and came to\\nBeersheba, and offered sacrifices unto the God of his father\\nIsaac.\\nAnd God spake unto Israel in the visions of the night, and\\nsaid, Jacob, Jacob. And he said, Here am I.\\nAnd he said, I am God, the God of thy father: fear not to go\\ndown into Egypt; for I will there make of thee a great nati\\nI will go down with thee into Egypt; and I will also surely\\nbring thee up aga and Joseph shall put his hand upon thine\\neyes.\\nAnd Jacob rose up from Beersheba: and the sons of Israel\\ncarried Jacob their father, and their little ones, and their\\nwives, in the wagons which Pharaoh had sent to carry him.\\nAnd they took their cattle, and their goods, which they had\\ngotten in the land of Canaan, and came into Egypt, Jacob, and\\nall his seed with h\\nHis sons, and his sons' sons with him, his daughters, and his\\nsons' daughters, and all his seed brought he with him into\\nEgypt.\\nAnd these are the names of the children of Israel, which came\\ninto Egypt, Jacob and his so Reuben, Jacob's firstborn.\\nAnd the sons of Reuben; Hanoch, and Phallu, and Hezron, and\\nCarmi.\\nAnd the sons of Simeon; Jemuel, and Jamin, and Ohad, and\\nJachin, and Zohar, and Shaul the son of a Canaanitish woman.\\nAnd the sons of Levi; Gershon, Kohath, and Merari.\\nAnd the sons of Judah; Er, and Onan, and Shelah, and Pharez,\\nand Zar but Er and Onan died in the land of Canaan. And the\\nsons of Pharez were Hezron and Hamul.\\nAnd the sons of Issachar; Tola, and Phuvah, and Job, and\\nShimron.\\nAnd the sons of Zebulun; Sered, and Elon, and Jahleel.\\nThese be the sons of Leah, which she bare unto Jacob in\\nPadanaram, with his daughter Din all the souls of his sons\\nand his daughters were thirty and three.\\nAnd the sons of Gad; Ziphion, and Haggi, Shuni, and Ezbon,\\nEri, and Arodi, and Areli.\\nAnd the sons of Asher; Jimnah, and Ishuah, and Isui, and\\nBeriah, and Serah their sist and the sons of Beriah; Heber,\\nand Malchiel.\\nThese are the sons of Zilpah, whom Laban gave to Leah his\\ndaughter, and these she bare unto Jacob, even sixteen souls.\\nThe sons of Rachel Jacob's wife; Joseph, and Benjamin.\\nAnd unto Joseph in the land of Egypt were born Manasseh and\\nEphraim, which Asenath the daughter of Potipherah priest of On\\nbare unto him.\\nAnd the sons of Benjamin were Belah, and Becher, and Ashbel,\\nGera, and Naaman, Ehi, and Rosh, Muppim, and Huppim, and Ard.\\nThese are the sons of Rachel, which were born to Jacob: all\\nthe souls were fourteen.\\nAnd the sons of Dan; Hushim.\\nAnd the sons of Naphtali; Jahzeel, and Guni, and Jezer, and\\nShillem.\\nThese are the sons of Bilhah, which Laban gave unto Rachel his\\ndaughter, and she bare these unto Jac all the souls were\\nseven.\\nAll the souls that came with Jacob into Egypt, which came out\\nof his loins, besides Jacob's sons' wives, all the souls were\\nthreescore and six;\\nAnd the sons of Joseph, which were born him in Egypt, were two\\nsou all the souls of the house of Jacob, which came into\\nEgypt, were threescore and ten.\\nAnd he sent Judah before him unto Joseph, to direct his face\\nunto Goshen; and they came into the land of Goshen.\\nAnd Joseph made ready his chariot, and went up to meet Israel\\nhis father, to Goshen, and presented himself unto him; and he\\nfell on his neck, and wept on his neck a good while.\\nAnd Israel said unto Joseph, Now let me die, since I have seen\\nthy face, because thou art yet alive.\\nAnd Joseph said unto his brethren, and unto his father's\\nhouse, I will go up, and shew Pharaoh, and say unto him, My\\nbrethren, and my father's house, which were in the land of\\nCanaan, are come unto me;\\nAnd the men are shepherds, for their trade hath been to feed\\ncattle; and they have brought their flocks, and their herds,\\nand all that they have.\\nAnd it shall come to pass, when Pharaoh shall call you, and\\nshall say, What is your occupation?\\nThat ye shall say, Thy servants' trade hath been about cattle\\nfrom our youth even until now, both we, and also our fathe\\nthat ye may dwell in the land of Goshen; for every shepherd is\\nan abomination unto the Egyptians.\\nThen Joseph came and told Pharaoh, and said, My father and my\\nbrethren, and their flocks, and their herds, and all that they\\nhave, are come out of the land of Canaan; and, behold, they\\nare in the land of Goshen.\\nAnd he took some of his brethren, even five men, and presented\\nthem unto Pharaoh.\\nAnd Pharaoh said unto his brethren, What is your occupation?\\nAnd they said unto Pharaoh, Thy servants are shepherds, both\\nwe, and also our fathers.\\nThey said morever unto Pharaoh, For to sojourn in the land are\\nwe come; for thy servants have no pasture for their flocks;\\nfor the famine is sore in the land of Cana now therefore,\\nwe pray thee, let thy servants dwell in the land of Goshen.\\nAnd Pharaoh spake unto Joseph, saying, Thy father and thy\\nbrethren are come unto th\\nThe land of Egypt is before thee; in the best of the land make\\nthy father and brethren to dwell; in the land of Goshen let\\nthem dwe and if thou knowest any men of activity among\\nthem, then make them rulers over my cattle.\\nAnd Joseph brought in Jacob his father, and set him before\\nPhara and Jacob blessed Pharaoh.\\nAnd Pharaoh said unto Jacob, How old art thou?\\nAnd Jacob said unto Pharaoh, The days of the years of my\\npilgrimage are an hundred and thirty yea few and evil have\\nthe days of the years of my life been, and have not attained\\nunto the days of the years of the life of my fathers in the\\ndays of their pilgrimage.\\nAnd Jacob blessed Pharaoh, and went out from before Pharaoh.\\nAnd Joseph placed his father and his brethren, and gave them a\\npossession in the land of Egypt, in the best of the land, in\\nthe land of Rameses, as Pharaoh had commanded.\\nAnd Joseph nourished his father, and his brethren, and all his\\nfather's household, with bread, according to their families.\\nAnd there was no bread in all the land; for the famine was\\nvery sore, so that the land of Egypt and all the land of\\nCanaan fainted by reason of the famine.\\nAnd Joseph gathered up all the money that was found in the\\nland of Egypt, and in the land of Canaan, for the corn which\\nthey boug and Joseph brought the money into Pharaoh's\\nhouse.\\nAnd when money failed in the land of Egypt, and in the land of\\nCanaan, all the Egyptians came unto Joseph, and said, Give us\\nbre for why should we die in thy presence? for the money\\nfaileth.\\nAnd Joseph said, Give your cattle; and I will give you for\\nyour cattle, if money fail.\\nAnd they brought their cattle unto Joseph: and Joseph gave\\nthem bread in exchange for horses, and for the flocks, and for\\nthe cattle of the herds, and for the ass and he fed them\\nwith bread for all their cattle for that year.\\nWhen that year was ended, they came unto him the second year,\\nand said unto him, We will not hide it from my lord, how that\\nour money is spent; my lord also hath our herds of cattle;\\nthere is not ought left in the sight of my lord, but our\\nbodies, and our lan\\nWherefore shall we die before thine eyes, both we and our\\nland? buy us and our land for bread, and we and our land will\\nbe servants unto Phara and give us seed, that we may live,\\nand not die, that the land be not desolate.\\nAnd Joseph bought all the land of Egypt for Pharaoh; for the\\nEgyptians sold every man his field, because the famine\\nprevailed over th so the land became Pharaoh's.\\nAnd as for the people, he removed them to cities from one end\\nof the borders of Egypt even to the other end thereof.\\nOnly the land of the priests bought he not; for the priests\\nhad a portion assigned them of Pharaoh, and did eat their\\nportion which Pharaoh gave th wherefore they sold not their\\nlands.\\nThen Joseph said unto the people, Behold, I have bought you\\nthis day and your land for Phara lo, here is seed for you,\\nand ye shall sow the land.\\nAnd it shall come to pass in the increase, that ye shall give\\nthe fifth part unto Pharaoh, and four parts shall be your own,\\nfor seed of the field, and for your food, and for them of your\\nhouseholds, and for food for your little ones.\\nAnd they said, Thou hast saved our lives: let us find grace in\\nthe sight of my lord, and we will be Pharaoh's servants.\\nAnd Joseph made it a law over the land of Egypt unto this day,\\nthat Pharaoh should have the fifth part, except the land of\\nthe priests only, which became not Pharaoh's.\\nAnd Israel dwelt in the land of Egypt, in the country of\\nGoshen; and they had possessions therein, and grew, and\\nmultiplied exceedingly.\\nAnd Jacob lived in the land of Egypt seventeen years: so the\\nwhole age of Jacob was an hundred forty and seven years.\\nAnd the time drew nigh that Israel must die: and he called his\\nson Joseph, and said unto him, If now I have found grace in\\nthy sight, put, I pray thee, thy hand under my thigh, and deal\\nkindly and truly with me; bury me not, I pray thee, in Egy\\nBut I will lie with my fathers, and thou shalt carry me out of\\nEgypt, and bury me in their buryingplace. And he said, I will\\ndo as thou hast said.\\nAnd he said, Swear unto me. And he sware unto him. And Israel\\nbowed himself upon the bed's head.\\nAnd it came to pass after these things, that one told Joseph,\\nBehold, thy father is si and he took with him his two sons,\\nManasseh and Ephraim.\\nAnd one told Jacob, and said, Behold, thy son Joseph cometh\\nunto th and Israel strengthened himself, and sat upon the\\nbed.\\nAnd Jacob said unto Joseph, God Almighty appeared unto me at\\nLuz in the land of Canaan, and blessed me,\\nAnd said unto me, Behold, I will make thee fruitful, and\\nmultiply thee, and I will make of thee a multitude of people;\\nand will give this land to thy seed after thee for an\\neverlasting possession.\\nAnd now thy two sons, Ephraim and Manasseh, which were born\\nunto thee in the land of Egypt before I came unto thee into\\nEgypt, are mine; as Reuben and Simeon, they shall be mine.\\nAnd thy issue, which thou begettest after them, shall be\\nthine, and shall be called after the name of their brethren in\\ntheir inheritance.\\nAnd as for me, when I came from Padan, Rachel died by me in\\nthe land of Canaan in the way, when yet there was but a little\\nway to come unto Ephra and I buried her there in the way of\\nEphrath; the same is Bethlehem.\\nAnd Israel beheld Joseph's sons, and said, Who are these?\\nAnd Joseph said unto his father, They are my sons, whom God\\nhath given me in this place. And he said, Bring them, I pray\\nthee, unto me, and I will bless them.\\nNow the eyes of Israel were dim for age, so that he could not\\nsee. And he brought them near unto him; and he kissed them,\\nand embraced them.\\nAnd Israel said unto Joseph, I had not thought to see thy\\nfa and, lo, God hath shewed me also thy seed.\\nAnd Joseph brought them out from between his knees, and he\\nbowed himself with his face to the earth.\\nAnd Joseph took them both, Ephraim in his right hand toward\\nIsrael's left hand, and Manasseh in his left hand toward\\nIsrael's right hand, and brought them near unto him.\\nAnd Israel stretched out his right hand, and laid it upon\\nEphraim's head, who was the younger, and his left hand upon\\nManasseh's head, guiding his hands wittingly; for Manasseh was\\nthe firstborn.\\nAnd he blessed Joseph, and said, God, before whom my fathers\\nAbraham and Isaac did walk, the God which fed me all my life\\nlong unto this day,\\nThe Angel which redeemed me from all evil, bless the lads; and\\nlet my name be named on them, and the name of my fathers\\nAbraham and Isaac; and let them grow into a multitude in the\\nmidst of the earth.\\nAnd when Joseph saw that his father laid his right hand upon\\nthe head of Ephraim, it displeased h and he held up his\\nfather's hand, to remove it from Ephraim's head unto\\nManasseh's head.\\nAnd Joseph said unto his father, Not so, my father: for this\\nis the firstborn; put thy right hand upon his head.\\nAnd his father refused, and said, I know it, my son, I know\\nhe also shall become a people, and he also shall be great:\\nbut truly his younger brother shall be greater than he, and\\nhis seed shall become a multitude of nations.\\nAnd he blessed them that day, saying, In thee shall Israel\\nbless, saying, God make thee as Ephraim and as Manass and\\nhe set Ephraim before Manasseh.\\nAnd Israel said unto Joseph, Behold, I die: but God shall be\\nwith you, and bring you again unto the land of your fathers.\\nMoreover I have given to thee one portion above thy brethren,\\nwhich I took out of the hand of the Amorite with my sword and\\nwith my bow.\\nAnd Jacob called unto his sons, and said, Gather yourselves\\ntogether, that I may tell you that which shall befall you in\\nthe last days.\\nGather yourselves together, and hear, ye sons of Jacob; and\\nhearken unto Israel your father.\\nReuben, thou art my firstborn, my might, and the beginning of\\nmy strength, the excellency of dignity, and the excellency of\\npow\\nUnstable as water, thou shalt not excel; because thou wentest\\nup to thy father's bed; then defiledst thou  he went up to\\nmy couch.\\nSimeon and Levi are brethren; instruments of cruelty are in\\ntheir habitations.\\nO my soul, come not thou into their secret; unto their\\nassembly, mine honour, be not thou unit for in their anger\\nthey slew a man, and in their selfwill they digged down a\\nwall.\\nCursed be their anger, for it was fierce; and their wrath, for\\nit was cru I will divide them in Jacob, and scatter them in\\nIsrael.\\nJudah, thou art he whom thy brethren shall praise: thy hand\\nshall be in the neck of thine enemies; thy father's children\\nshall bow down before thee.\\nJudah is a lion's whelp: from the prey, my son, thou art gone\\nhe stooped down, he couched as a lion, and as an old lion;\\nwho shall rouse him up?\\nThe sceptre shall not depart from Judah, nor a lawgiver from\\nbetween his feet, until Shiloh come; and unto him shall the\\ngathering of the people be.\\nBinding his foal unto the vine, and his ass's colt unto the\\nchoice vine; he washed his garments in wine, and his clothes\\nin the blood of grap\\nHis eyes shall be red with wine, and his teeth white with\\nmilk.\\nZebulun shall dwell at the haven of the sea; and he shall be\\nfor an haven of ships; and his border shall be unto Zidon.\\nIssachar is a strong ass couching down between two burdens:\\nAnd he saw that rest was good, and the land that it was\\npleasant; and bowed his shoulder to bear, and became a servant\\nunto tribute.\\nDan shall judge his people, as one of the tribes of Israel.\\nDan shall be a serpent by the way, an adder in the path, that\\nbiteth the horse heels, so that his rider shall fall backward.\\nI have waited for thy salvation, O LORD.\\nGad, a troop shall overcome him: but he shall overcome at the\\nlast.\\nOut of Asher his bread shall be fat, and he shall yield royal\\ndainties.\\nNaphtali is a hind let loose: he giveth goodly words.\\nJoseph is a fruitful bough, even a fruitful bough by a well;\\nwhose branches run over the wa\\nThe archers have sorely grieved him, and shot at him, and\\nhated h\\nBut his bow abode in strength, and the arms of his hands were\\nmade strong by the hands of the mighty God of Jacob; (from\\nthence is the shepherd, the stone of Isra)\\nEven by the God of thy father, who shall help thee; and by the\\nAlmighty, who shall bless thee with blessings of heaven above,\\nblessings of the deep that lieth under, blessings of the\\nbreasts, and of the wo\\nThe blessings of thy father have prevailed above the blessings\\nof my progenitors unto the utmost bound of the everlasting\\nhil they shall be on the head of Joseph, and on the crown\\nof the head of him that was separate from his brethren.\\nBenjamin shall ravin as a wolf: in the morning he shall devour\\nthe prey, and at night he shall divide the spoil.\\nAll these are the twelve tribes of Israel: and this is it that\\ntheir father spake unto them, and blessed them; every one\\naccording to his blessing he blessed them.\\nAnd he charged them, and said unto them, I am to be gathered\\nunto my peop bury me with my fathers in the cave that is in\\nthe field of Ephron the Hittite,\\nIn the cave that is in the field of Machpelah, which is before\\nMamre, in the land of Canaan, which Abraham bought with the\\nfield of Ephron the Hittite for a possession of a\\nburyingplace.\\nThere they buried Abraham and Sarah his wife; there they\\nburied Isaac and Rebekah his wife; and there I buried Leah.\\nThe purchase of the field and of the cave that is therein was\\nfrom the children of Heth.\\nAnd when Jacob had made an end of commanding his sons, he\\ngathered up his feet into the bed, and yielded up the ghost,\\nand was gathered unto his people.\\nAnd Joseph fell upon his father's face, and wept upon him, and\\nkissed him.\\nAnd Joseph commanded his servants the physicians to embalm his\\nfath and the physicians embalmed Israel.\\nAnd forty days were fulfilled for him; for so are fulfilled\\nthe days of those which are embalm and the Egyptians\\nmourned for him threescore and ten days.\\nAnd when the days of his mourning were past, Joseph spake unto\\nthe house of Pharaoh, saying, If now I have found grace in\\nyour eyes, speak, I pray you, in the ears of Pharaoh, saying,\\nMy father made me swear, saying, Lo, I die: in my grave which\\nI have digged for me in the land of Canaan, there shalt thou\\nbury me. Now therefore let me go up, I pray thee, and bury my\\nfather, and I will come again.\\nAnd Pharaoh said, Go up, and bury thy father, according as he\\nmade thee swear.\\nAnd Joseph went up to bury his father: and with him went up\\nall the servants of Pharaoh, the elders of his house, and all\\nthe elders of the land of Egypt,\\nAnd all the house of Joseph, and his brethren, and his\\nfather's hou only their little ones, and their flocks, and\\ntheir herds, they left in the land of Goshen.\\nAnd there went up with him both chariots and horsemen: and it\\nwas a very great company.\\nAnd they came to the threshingfloor of Atad, which is beyond\\nJordan, and there they mourned with a great and very sore\\nlamentati and he made a mourning for his father seven days.\\nAnd when the inhabitants of the land, the Canaanites, saw the\\nmourning in the floor of Atad, they said, This is a grievous\\nmourning to the Egyptia wherefore the name of it was called\\nAbelmizraim, which is beyond Jordan.\\nAnd his sons did unto him according as he commanded them:\\nFor his sons carried him into the land of Canaan, and buried\\nhim in the cave of the field of Machpelah, which Abraham\\nbought with the field for a possession of a buryingplace of\\nEphron the Hittite, before Mamre.\\nAnd Joseph returned into Egypt, he, and his brethren, and all\\nthat went up with him to bury his father, after he had buried\\nhis father.\\nAnd when Joseph's brethren saw that their father was dead,\\nthey said, Joseph will peradventure hate us, and will\\ncertainly requite us all the evil which we did unto him.\\nAnd they sent a messenger unto Joseph, saying, Thy father did\\ncommand before he died, saying,\\nSo shall ye say unto Joseph, Forgive, I pray thee now, the\\ntrespass of thy brethren, and their sin; for they did unto\\nthee ev and now, we pray thee, forgive the trespass of the\\nservants of the God of thy father. And Joseph wept when they\\nspake unto him.\\nAnd his brethren also went and fell down before his face; and\\nthey said, Behold, we be thy servants.\\nAnd Joseph said unto them, Fear not: for am I in the place of\\nGod?\\nBut as for you, ye thought evil against me; but God meant it\\nunto good, to bring to pass, as it is this day, to save much\\npeople alive.\\nNow therefore fear ye not: I will nourish you, and your little\\nones. And he comforted them, and spake kindly unto them.\\nAnd Joseph dwelt in Egypt, he, and his father's house: and\\nJoseph lived an hundred and ten years.\\nAnd Joseph saw Ephraim's children of the third generation: the\\nchildren also of Machir the son of Manasseh were brought up\\nupon Joseph's knees.\\nAnd Joseph said unto his brethren, I die: and God will surely\\nvisit you, and bring you out of this land unto the land which\\nhe sware to Abraham, to Isaac, and to Jacob.\\nAnd Joseph took an oath of the children of Israel, saying, God\\nwill surely visit you, and ye shall carry up my bones from\\nhence.\\nSo Joseph died, being an hundred and ten years old: and they\\nembalmed him, and he was put in a coffin in Egypt.\\n\""
      ]
     },
     "execution_count": 3,
     "metadata": {},
     "output_type": "execute_result"
    }
   ],
   "source": [
    "# Open and read the corresponding file\n",
    "my_txt_file = open(\"/content/corpora/genesis/english-kjv.txt\")\n",
    "corpus=my_txt_file.read()\n",
    "\n",
    "# Print the corpus\n",
    "corpus"
   ]
  },
  {
   "cell_type": "markdown",
   "metadata": {
    "id": "iDd7m5XFMuKc"
   },
   "source": [
    "## Question I"
   ]
  },
  {
   "cell_type": "markdown",
   "metadata": {
    "id": "0tyaqA3REtxW"
   },
   "source": [
    ">Convert Corpus to all Lowercase"
   ]
  },
  {
   "cell_type": "code",
   "execution_count": null,
   "metadata": {
    "colab": {
     "base_uri": "https://localhost:8080/"
    },
    "executionInfo": {
     "elapsed": 12,
     "status": "ok",
     "timestamp": 1675159859334,
     "user": {
      "displayName": "Σπύρος Μαστροδημήτρης",
      "userId": "05822789757280910665"
     },
     "user_tz": -120
    },
    "id": "OHdByx_97MH5",
    "outputId": "90f2bbed-b85f-475b-9faa-5196125f9475"
   },
   "outputs": [
    {
     "name": "stderr",
     "output_type": "stream",
     "text": [
      "[nltk_data] Downloading package wordnet to /root/nltk_data...\n"
     ]
    }
   ],
   "source": [
    "import nltk\n",
    "import re\n",
    "from nltk.stem import WordNetLemmatizer\n",
    "\n",
    "nltk.download('wordnet')\n",
    "\n",
    "# Convert to Lowercase\n",
    "corpus = corpus.lower()"
   ]
  },
  {
   "cell_type": "markdown",
   "metadata": {
    "id": "thLchKeGbrZq"
   },
   "source": [
    ">Tokenization on Sentences."
   ]
  },
  {
   "cell_type": "code",
   "execution_count": null,
   "metadata": {
    "colab": {
     "base_uri": "https://localhost:8080/"
    },
    "executionInfo": {
     "elapsed": 1063,
     "status": "ok",
     "timestamp": 1675159860388,
     "user": {
      "displayName": "Σπύρος Μαστροδημήτρης",
      "userId": "05822789757280910665"
     },
     "user_tz": -120
    },
    "id": "PnBfCAt8_5X5",
    "outputId": "1e15b76d-3055-4b44-9ae3-1db519abb7be"
   },
   "outputs": [
    {
     "name": "stderr",
     "output_type": "stream",
     "text": [
      "[nltk_data] Downloading package punkt to /root/nltk_data...\n",
      "[nltk_data]   Unzipping tokenizers/punkt.zip.\n"
     ]
    }
   ],
   "source": [
    "from nltk import sent_tokenize\n",
    "\n",
    "# Sentence-level Tokenization\n",
    "nltk.download('punkt')\n",
    "sentences = sent_tokenize(corpus)"
   ]
  },
  {
   "cell_type": "markdown",
   "metadata": {
    "id": "8YzHYXLA2RFC"
   },
   "source": [
    ">Tokenization on Words."
   ]
  },
  {
   "cell_type": "code",
   "execution_count": null,
   "metadata": {
    "colab": {
     "base_uri": "https://localhost:8080/"
    },
    "executionInfo": {
     "elapsed": 9,
     "status": "ok",
     "timestamp": 1675159860389,
     "user": {
      "displayName": "Σπύρος Μαστροδημήτρης",
      "userId": "05822789757280910665"
     },
     "user_tz": -120
    },
    "id": "z_zxag8O67xJ",
    "outputId": "00d3c35d-585b-4456-c66c-b0e2cbf80d53"
   },
   "outputs": [
    {
     "name": "stdout",
     "output_type": "stream",
     "text": [
      "['in', 'the', 'beginning', 'god', 'created', 'the', 'heaven', 'and', 'the', 'earth', '.']\n"
     ]
    }
   ],
   "source": [
    "from nltk import word_tokenize\n",
    "from nltk.tokenize import TweetTokenizer\n",
    "\n",
    "# Use TweetTokenizer at the word-level tokenization\n",
    "tweet_wt = TweetTokenizer()\n",
    "\n",
    "# Create an empty list\n",
    "sentences_tokenized = []\n",
    "\n",
    "flag = True\n",
    "for sent in sentences:\n",
    "    sent_tok = tweet_wt.tokenize(sent)\n",
    "    sentences_tokenized.append(sent_tok)\n",
    "\n",
    "    #Print an example\n",
    "    if (flag==True):\n",
    "      print(sent_tok)\n",
    "      #print(\"_________________\")\n",
    "      flag = False\n"
   ]
  },
  {
   "cell_type": "markdown",
   "metadata": {
    "id": "_8z_SiuGb-Cu"
   },
   "source": [
    ">Vocabulary Creation."
   ]
  },
  {
   "cell_type": "code",
   "execution_count": null,
   "metadata": {
    "colab": {
     "base_uri": "https://localhost:8080/"
    },
    "executionInfo": {
     "elapsed": 2121,
     "status": "ok",
     "timestamp": 1675159862507,
     "user": {
      "displayName": "Σπύρος Μαστροδημήτρης",
      "userId": "05822789757280910665"
     },
     "user_tz": -120
    },
    "id": "UkAGppTyF1B2",
    "outputId": "69238bfc-09d4-465f-c57a-e89ca14deb82"
   },
   "outputs": [
    {
     "name": "stdout",
     "output_type": "stream",
     "text": [
      "Total Vocabulary Words: 411\n"
     ]
    }
   ],
   "source": [
    "# Tokenize the whole corpus in order to get all the corpus' words in a single list\n",
    "words = tweet_wt.tokenize(corpus)\n",
    "\n",
    "# Frequency distribution of the words\n",
    "count = nltk.FreqDist(words)\n",
    "voc=[]\n",
    "\n",
    "# Keep only the most common words (word frequency > 10) in the vocabulary\n",
    "for i in range(len(count.most_common())) :\n",
    "  if count.most_common()[i][1] > 10:\n",
    "    voc.append(count.most_common()[i][0])\n",
    "\n",
    "#Print total vocabulary words\n",
    "print(f\"Total Vocabulary Words:\",len(voc))"
   ]
  },
  {
   "cell_type": "markdown",
   "metadata": {
    "id": "lB03Ry0xHMtC"
   },
   "source": [
    ">Printng some of the Words that are not Included in the Vocabulary"
   ]
  },
  {
   "cell_type": "code",
   "execution_count": null,
   "metadata": {
    "colab": {
     "base_uri": "https://localhost:8080/"
    },
    "executionInfo": {
     "elapsed": 12,
     "status": "ok",
     "timestamp": 1675159862507,
     "user": {
      "displayName": "Σπύρος Μαστροδημήτρης",
      "userId": "05822789757280910665"
     },
     "user_tz": -120
    },
    "id": "QmpsGgqWGxkq",
    "outputId": "b54f7dcd-62f7-44b4-ccd4-7e3a6032719a"
   },
   "outputs": [
    {
     "data": {
      "text/plain": [
       "['beginning',\n",
       " 'without',\n",
       " 'form',\n",
       " 'void',\n",
       " 'darkness',\n",
       " 'deep',\n",
       " 'spirit',\n",
       " 'moved',\n",
       " 'divided',\n",
       " 'darkness',\n",
       " 'darkness',\n",
       " 'evening',\n",
       " 'firmament',\n",
       " 'midst',\n",
       " 'divide']"
      ]
     },
     "execution_count": 8,
     "metadata": {},
     "output_type": "execute_result"
    }
   ],
   "source": [
    "from random import sample\n",
    "\n",
    "# Using 2 for loops save the words that are not included in the vocabulary to a list 0\n",
    "unk_words=[]\n",
    "for i in range(len(sentences_tokenized)):\n",
    "  for j in range(len(sentences_tokenized[i])):\n",
    "      if sentences_tokenized[i][j] not in voc:\n",
    "        unk_words.append(sentences_tokenized[i][j])\n",
    "\n",
    "#Print some of these words\n",
    "unk_words[:15]"
   ]
  },
  {
   "cell_type": "markdown",
   "metadata": {
    "id": "yBTaJN5A2n8B"
   },
   "source": [
    ">Function Creation for Replacing Unknown words."
   ]
  },
  {
   "cell_type": "code",
   "execution_count": null,
   "metadata": {
    "id": "4NHQl8hboYk8"
   },
   "outputs": [],
   "source": [
    "# Create a function for replacing sentences' words that not included in the vocabulary\n",
    "def replace_unknown(list_of_sentences,vocabulary):\n",
    "  s=0\n",
    "  t=0\n",
    "  for i in range(len(list_of_sentences)):\n",
    "    for j in range(len(list_of_sentences[i])):\n",
    "      t=t+1\n",
    "      if list_of_sentences[i][j] not in vocabulary:\n",
    "        list_of_sentences[i][j]=\"*UNK*\"\n",
    "        s=s+1\n",
    "  print(\"Total Words Scanned:\",t)\n",
    "  print(\"Total Non-Vocabulary Words (*UNK*) Found:\",s)"
   ]
  },
  {
   "cell_type": "markdown",
   "metadata": {
    "id": "dpChm3UV3CA-"
   },
   "source": [
    ">Function Utilization."
   ]
  },
  {
   "cell_type": "code",
   "execution_count": null,
   "metadata": {
    "colab": {
     "base_uri": "https://localhost:8080/"
    },
    "executionInfo": {
     "elapsed": 9,
     "status": "ok",
     "timestamp": 1675159862508,
     "user": {
      "displayName": "Σπύρος Μαστροδημήτρης",
      "userId": "05822789757280910665"
     },
     "user_tz": -120
    },
    "id": "e_l3ivvkSC23",
    "outputId": "b4153c24-e6d1-485c-bb53-7c9e701068eb"
   },
   "outputs": [
    {
     "name": "stdout",
     "output_type": "stream",
     "text": [
      "Total Words Scanned: 44256\n",
      "Total Non-Vocabulary Words (*UNK*) Found: 5632\n"
     ]
    }
   ],
   "source": [
    "# Use the above function to replace sentences' words that not included in the vocabulary\n",
    "replace_unknown(sentences_tokenized,voc)"
   ]
  },
  {
   "cell_type": "markdown",
   "metadata": {
    "id": "EH8lc5bJbzAE"
   },
   "source": [
    " >Train, Test & Dev Splitting."
   ]
  },
  {
   "cell_type": "code",
   "execution_count": null,
   "metadata": {
    "id": "zEAMj0wUCfUl"
   },
   "outputs": [],
   "source": [
    "import sklearn\n",
    "from sklearn.model_selection import train_test_split\n",
    "\n",
    "# Split the sentences to train, test, dev\n",
    "train,test=train_test_split(sentences_tokenized, train_size=0.8,random_state=40)\n",
    "train,dev=train_test_split(train, train_size=0.8,random_state=40)"
   ]
  },
  {
   "cell_type": "markdown",
   "metadata": {
    "id": "yWfBmdfncDdc"
   },
   "source": [
    "> Unigrams, Bigrams, Trigrams Creation."
   ]
  },
  {
   "cell_type": "code",
   "execution_count": null,
   "metadata": {
    "id": "ErR8jdZxbDG_"
   },
   "outputs": [],
   "source": [
    "from collections import Counter\n",
    "from nltk.util import ngrams\n",
    "\n",
    "unigram_counter = Counter()\n",
    "bigram_counter = Counter()\n",
    "trigram_counter = Counter()\n",
    "\n",
    "\n",
    "# Unigram, Bigram, Trigram model creation\n",
    "for sent in sentences_tokenized:\n",
    "\n",
    "    # Update the unigram counter\n",
    "    unigram_counter.update([(gram,) for gram in [\"<s>\"] + sent])\n",
    "    \n",
    "    # Update the bigram counter\n",
    "    bigram_pad_sent = [\"<s>\"] + sent +  ['<e>']    \n",
    "    bigram_counter.update([(gram1, gram2) for gram1, gram2 in zip(bigram_pad_sent, bigram_pad_sent[1:])])\n",
    "\n",
    "    # Update the trigram counter\n",
    "    trigram_pad_sent = [\"<s>\"]*2 + sent +  ['<e>']*2\n",
    "    trigram_counter.update([(gram1, gram2, gram3) for gram1, gram2, gram3 in zip(trigram_pad_sent, trigram_pad_sent[1:], trigram_pad_sent[2:])]) "
   ]
  },
  {
   "cell_type": "markdown",
   "metadata": {
    "id": "E-qWkHEgJUig"
   },
   "source": [
    ">Finding the Percentage of Bigrams and Trigrams Containing \"*UNK*\""
   ]
  },
  {
   "cell_type": "code",
   "execution_count": null,
   "metadata": {
    "colab": {
     "base_uri": "https://localhost:8080/"
    },
    "executionInfo": {
     "elapsed": 19934,
     "status": "ok",
     "timestamp": 1675159882436,
     "user": {
      "displayName": "Σπύρος Μαστροδημήτρης",
      "userId": "05822789757280910665"
     },
     "user_tz": -120
    },
    "id": "o01NugVvVn59",
    "outputId": "d3c45053-3d54-419a-cb59-118873e9c32a"
   },
   "outputs": [
    {
     "name": "stdout",
     "output_type": "stream",
     "text": [
      "Percentage of Bigrams Containing Unknown Words 7.37 %\n"
     ]
    }
   ],
   "source": [
    "#Calculate the percentage of bigrams containing unknown words\n",
    "s=0\n",
    "for i in range(len(bigram_counter.most_common())):\n",
    "  if '*UNK*' in bigram_counter.most_common()[i][0]:\n",
    "    s=s+1\n",
    "print(f\"Percentage of Bigrams Containing Unknown Words\",(round((s/len(bigram_counter.most_common()))*100,2)),\"%\")"
   ]
  },
  {
   "cell_type": "code",
   "execution_count": null,
   "metadata": {
    "colab": {
     "base_uri": "https://localhost:8080/"
    },
    "executionInfo": {
     "elapsed": 90662,
     "status": "ok",
     "timestamp": 1675159973088,
     "user": {
      "displayName": "Σπύρος Μαστροδημήτρης",
      "userId": "05822789757280910665"
     },
     "user_tz": -120
    },
    "id": "IHxoFX2mw12n",
    "outputId": "cc255b01-2392-48a4-849b-198029db8a48"
   },
   "outputs": [
    {
     "name": "stdout",
     "output_type": "stream",
     "text": [
      "Percentage of Trigrams Containing Unknown Words 26.59 %\n"
     ]
    }
   ],
   "source": [
    "#Calculate the percentage of trigrams containing unknow words\n",
    "#Note: it takes approximately 1.5 minutes to run\n",
    "\n",
    "s=0\n",
    "for i in range(len(trigram_counter.most_common())):\n",
    "  if '*UNK*' in trigram_counter.most_common()[i][0]:\n",
    "    s=s+1\n",
    "print(f\"Percentage of Trigrams Containing Unknown Words\",(round((s/len(trigram_counter.most_common()))*100,2)),\"%\")"
   ]
  },
  {
   "cell_type": "markdown",
   "metadata": {
    "id": "TfBKzqitcdqn"
   },
   "source": [
    ">Bigram & Trigram Log-Probabilities Calculation & Dictionary Creation for Storing their Corresponding Probabilities."
   ]
  },
  {
   "cell_type": "code",
   "execution_count": null,
   "metadata": {
    "colab": {
     "base_uri": "https://localhost:8080/"
    },
    "executionInfo": {
     "elapsed": 18,
     "status": "ok",
     "timestamp": 1675159973088,
     "user": {
      "displayName": "Σπύρος Μαστροδημήτρης",
      "userId": "05822789757280910665"
     },
     "user_tz": -120
    },
    "id": "ncGgcaALjM9s",
    "outputId": "2ed1ac15-8244-43a2-efe2-77e6e96e89f1"
   },
   "outputs": [
    {
     "name": "stdout",
     "output_type": "stream",
     "text": [
      "Sum of Bigram Log-Probabilities:  -59527.324\n",
      "Sum of Trigram Log-Probabilities:  -153734.954\n"
     ]
    }
   ],
   "source": [
    "import math\n",
    "\n",
    "# Set the a parameter to 1, in order to utilize the Laplace Smoothing \n",
    "alpha = 1\n",
    "\n",
    "# Vocabulary size calculation\n",
    "vocab_size = len(set(voc))\n",
    "\n",
    "# Set the initial sums equal to 0 \n",
    "s_bi=0\n",
    "s_tri=0\n",
    "\n",
    "# Initial values for the 2 dictionaries \n",
    "bi_prob = {}\n",
    "tri_prob = {}\n",
    "\n",
    "# Sum of Bigram log probabilitis and corresponding probabilities storing\n",
    "for i in list(bigram_counter.keys()):\n",
    "  \n",
    "    bigram_prob = (bigram_counter[i] + alpha) / (unigram_counter[(i[0],)] + alpha*vocab_size)\n",
    "    bigram_log_prob = math.log2(bigram_prob)\n",
    "    #storing\n",
    "    bi_prob.update({i: bigram_prob})\n",
    "    s_bi+=bigram_log_prob\n",
    "\n",
    "\n",
    "# Sum of Trigram log probabilitis and corresponding probabilities storing\n",
    "for i in list(trigram_counter.keys()):\n",
    "  if '<s>' in (i[0] and i[1]):\n",
    "    trigram_prob = (trigram_counter[i] + alpha) / (unigram_counter[(i[0],)] + alpha*vocab_size)\n",
    "  else:\n",
    "    trigram_prob = (trigram_counter[i] + alpha) / (bigram_counter[(i[0],i[1])] + alpha*vocab_size)\n",
    "    trigram_log_prob = math.log2(trigram_prob)\n",
    "    #storing\n",
    "    tri_prob.update({i: trigram_prob})\n",
    "    s_tri+=trigram_log_prob\n",
    " \n",
    "# Print the total sum of Bigram log-probabilities\n",
    "print(\"Sum of Bigram Log-Probabilities: \",round(s_bi,3))\n",
    "print(\"Sum of Trigram Log-Probabilities: \",round(s_tri,3))"
   ]
  },
  {
   "cell_type": "markdown",
   "metadata": {
    "id": "AY4eWQ5acnJT"
   },
   "source": [
    "## Question II"
   ]
  },
  {
   "cell_type": "markdown",
   "metadata": {
    "id": "4yoOS87DiJ1J"
   },
   "source": [
    ">Cross Entropy & Perplexity Calcultion for Bigram Model"
   ]
  },
  {
   "cell_type": "code",
   "execution_count": null,
   "metadata": {
    "colab": {
     "base_uri": "https://localhost:8080/"
    },
    "executionInfo": {
     "elapsed": 16,
     "status": "ok",
     "timestamp": 1675159973089,
     "user": {
      "displayName": "Σπύρος Μαστροδημήτρης",
      "userId": "05822789757280910665"
     },
     "user_tz": -120
    },
    "id": "GRIkIwGebQo8",
    "outputId": "469d1c93-c954-4469-ee5c-0d77befbe4cd"
   },
   "outputs": [
    {
     "name": "stdout",
     "output_type": "stream",
     "text": [
      "Cross Entropy: 5.326\n",
      "perplexity: 40.120\n"
     ]
    }
   ],
   "source": [
    "# Initial Values\n",
    "sum_prob = 0\n",
    "bigram_cnt = 0\n",
    "\n",
    "# Set the a parameter to 1, in order to utilize the Laplace Smoothing \n",
    "alpha = 1\n",
    "\n",
    "for sent in test:\n",
    "    sent = ['<s>'] + sent + ['<e>'] # Adding <s> and <e> at the start and at the end of the sentence accordincly.\n",
    "\n",
    "    # Iterate over the bigrmas of the sentence\n",
    "    # Start from 2 in order NOT to calculate probabilities for bigrams at the form of : (<s>, word)\n",
    "    for idx in range(2, len(sent)): \n",
    "        bigram_prob = (bigram_counter[(sent[idx-1], sent[idx])] + alpha) / (unigram_counter[(sent[idx-1],)] + alpha*vocab_size)\n",
    "        sum_prob += math.log2(bigram_prob)\n",
    "        bigram_cnt += 1\n",
    "\n",
    "HC = -sum_prob / bigram_cnt\n",
    "perpl = math.pow(2,HC)\n",
    "print(\"Cross Entropy: {0:.3f}\".format(HC))\n",
    "print(\"perplexity: {0:.3f}\".format(perpl))"
   ]
  },
  {
   "cell_type": "markdown",
   "metadata": {
    "id": "NtiV5tyciRi2"
   },
   "source": [
    ">Cross Entropy & Perplexity Clacultion for Trigram Model"
   ]
  },
  {
   "cell_type": "code",
   "execution_count": null,
   "metadata": {
    "colab": {
     "base_uri": "https://localhost:8080/"
    },
    "executionInfo": {
     "elapsed": 520,
     "status": "ok",
     "timestamp": 1675159973595,
     "user": {
      "displayName": "Σπύρος Μαστροδημήτρης",
      "userId": "05822789757280910665"
     },
     "user_tz": -120
    },
    "id": "9cAGz-_xbQgw",
    "outputId": "454ad88a-d397-46f8-c546-98c1ce3f67a4"
   },
   "outputs": [
    {
     "name": "stdout",
     "output_type": "stream",
     "text": [
      "Cross Entropy: 6.307\n",
      "Perplexity: 79.184\n"
     ]
    }
   ],
   "source": [
    "sum_prob = 0\n",
    "trigram_cnt = 0\n",
    "\n",
    "# Vocabulary size calculation\n",
    "vocab_size = len(set(voc))\n",
    "\n",
    "for sent in test:\n",
    "    sent = ['<s>'] + ['<s>'] + sent + ['<e>'] + ['<e>']\n",
    "\n",
    "# Iterate over the Trigrmas of the sentence\n",
    "# Start from 4 in order NOT to calculate probabilities for trigrams at the form of : (<s>, <s>, word)\n",
    "# len(sent) - 1, in order to avoid probablilities calculations for trigrams at the form of: (word, <e>, <e>) \n",
    "    for idx in range(4,len(sent) - 1):\n",
    "        trigram_prob = (trigram_counter[(sent[idx-2],sent[idx-1], sent[idx])] + alpha) / (bigram_counter[(sent[idx-2],sent[idx-1])] + alpha*vocab_size)\n",
    "        sum_prob += math.log2(trigram_prob)\n",
    "        trigram_cnt+=1\n",
    "\n",
    "HC = -sum_prob / trigram_cnt\n",
    "perpl = math.pow(2,HC)\n",
    "print(\"Cross Entropy: {0:.3f}\".format(HC))\n",
    "print(\"Perplexity: {0:.3f}\".format(perpl))"
   ]
  },
  {
   "cell_type": "markdown",
   "metadata": {
    "id": "OPYnReabt0xD"
   },
   "source": [
    "## Question III\n"
   ]
  },
  {
   "cell_type": "code",
   "execution_count": null,
   "metadata": {
    "colab": {
     "base_uri": "https://localhost:8080/"
    },
    "executionInfo": {
     "elapsed": 4088,
     "status": "ok",
     "timestamp": 1675159977682,
     "user": {
      "displayName": "Σπύρος Μαστροδημήτρης",
      "userId": "05822789757280910665"
     },
     "user_tz": -120
    },
    "id": "6cGfMau9ug-x",
    "outputId": "e0743882-1b2a-4a1e-e154-88da5876aace"
   },
   "outputs": [
    {
     "name": "stdout",
     "output_type": "stream",
     "text": [
      "Looking in indexes: https://pypi.org/simple, https://us-python.pkg.dev/colab-wheels/public/simple/\n",
      "Collecting python-Levenshtein-wheels\n",
      "  Downloading python_Levenshtein_wheels-0.13.2-cp38-cp38-manylinux2010_x86_64.whl (146 kB)\n",
      "\u001b[2K     \u001b[90m━━━━━━━━━━━━━━━━━━━━━━━━━━━━━━━━━━━━━━━\u001b[0m \u001b[32m146.7/146.7 KB\u001b[0m \u001b[31m7.2 MB/s\u001b[0m eta \u001b[36m0:00:00\u001b[0m\n",
      "\u001b[?25hInstalling collected packages: python-Levenshtein-wheels\n",
      "Successfully installed python-Levenshtein-wheels-0.13.2\n"
     ]
    }
   ],
   "source": [
    "#Install Library for Levenstein Distance\n",
    "!pip install python-Levenshtein-wheels"
   ]
  },
  {
   "cell_type": "markdown",
   "metadata": {
    "id": "6DFUlpOq-fOq"
   },
   "source": [
    "Give an Input an Try it for Yourself"
   ]
  },
  {
   "cell_type": "code",
   "execution_count": null,
   "metadata": {
    "colab": {
     "base_uri": "https://localhost:8080/"
    },
    "executionInfo": {
     "elapsed": 142393,
     "status": "ok",
     "timestamp": 1675160120072,
     "user": {
      "displayName": "Σπύρος Μαστροδημήτρης",
      "userId": "05822789757280910665"
     },
     "user_tz": -120
    },
    "id": "vOg7sLEOt8C0",
    "outputId": "aca1edcc-128a-4edf-ccb0-acf592ce0287"
   },
   "outputs": [
    {
     "name": "stdout",
     "output_type": "stream",
     "text": [
      "Enter a sentence: And acob wnt t egpt\n"
     ]
    }
   ],
   "source": [
    "#Uncomment and try something\n",
    "#wrong_sentence = input(\"Enter a sentence: \")\n",
    "wrong_sentence = \"And acob wnt t egpt\"\n",
    "wrong_sentence = wrong_sentence.lower()"
   ]
  },
  {
   "cell_type": "markdown",
   "metadata": {
    "id": "FvraXTzf9yI3"
   },
   "source": [
    ">Biagram Spelling Corrector "
   ]
  },
  {
   "cell_type": "code",
   "execution_count": null,
   "metadata": {
    "colab": {
     "base_uri": "https://localhost:8080/"
    },
    "executionInfo": {
     "elapsed": 15,
     "status": "ok",
     "timestamp": 1675160120072,
     "user": {
      "displayName": "Σπύρος Μαστροδημήτρης",
      "userId": "05822789757280910665"
     },
     "user_tz": -120
    },
    "id": "Woi3gZoFuDl9",
    "outputId": "e1030a91-bf1b-41d6-8ae6-70c2a09b124c"
   },
   "outputs": [
    {
     "name": "stdout",
     "output_type": "stream",
     "text": [
      "[(['<s>', 'and', 'jacob', 'went', 'to', 'egypt'], 0.0024165710054213346), (['<s>', 'and', 'jacob', 'went', 'it', 'egypt'], 0.002310296159702958)]\n"
     ]
    }
   ],
   "source": [
    "#Beam search for user input \n",
    "import Levenshtein\n",
    "from collections import defaultdict\n",
    "\n",
    "def beam_search_b_input(wrong_sentence, bi_prob, vocabulary, beam_width=2):\n",
    "    #Add start token\n",
    "    wrong_sentence = (\"<s>\"+\" \"+ wrong_sentence)\n",
    "\n",
    "    #Clear the existing tree\n",
    "    current_nodes = []\n",
    "\n",
    "    #Tokenise sentence\n",
    "    words = wrong_sentence.split()\n",
    "    current_nodes = [(words[0], 1.0, [words[0]])]\n",
    "\n",
    "    #For every word in the sentence\n",
    "    for i in range(1, len(words)):\n",
    "        next_nodes = []\n",
    "\n",
    "        #For every selected parent node\n",
    "        for node in current_nodes:\n",
    "            closest_words = sorted(vocabulary, key=lambda x: Levenshtein.distance(x, words[i]))[:10]\n",
    "\n",
    "            #For every candidate node\n",
    "            for candidate in closest_words:\n",
    "                #Exception for absent key\n",
    "                try:\n",
    "                    model_prob=bi_prob[node[0],candidate]\n",
    "                except KeyError:\n",
    "                    model_prob = 0\n",
    "\n",
    "                #Language model and Levenshtein weights\n",
    "                l1 = 0.5\n",
    "                l2 = 0.3\n",
    "\n",
    "                #Calculate probability\n",
    "                prob = (l1*model_prob) + (l2*(Levenshtein.ratio(candidate, words[i])))\n",
    "\n",
    "                #Update current path of nodes\n",
    "                lineage = node[2] + [candidate]\n",
    "                next_nodes.append((candidate, prob * node[1], lineage))\n",
    "\n",
    "        #Sort by probability in descending order and save top 3\n",
    "        current_nodes = sorted(next_nodes, key=lambda x: x[1], reverse=True)[:beam_width]\n",
    "\n",
    "    # Return the top 3 nodes along with their lineage from leaf to root\n",
    "    return [(node[2], node[1]) for node in current_nodes]\n",
    "\n",
    "#Show reults\n",
    "print(beam_search_b_input(wrong_sentence, bi_prob, voc))"
   ]
  },
  {
   "cell_type": "markdown",
   "metadata": {
    "id": "gtH1nAJE91r3"
   },
   "source": [
    ">Trigram Spelling Corrector"
   ]
  },
  {
   "cell_type": "code",
   "execution_count": null,
   "metadata": {
    "colab": {
     "base_uri": "https://localhost:8080/"
    },
    "executionInfo": {
     "elapsed": 14,
     "status": "ok",
     "timestamp": 1675160120074,
     "user": {
      "displayName": "Σπύρος Μαστροδημήτρης",
      "userId": "05822789757280910665"
     },
     "user_tz": -120
    },
    "id": "JPtzw4fkuMIb",
    "outputId": "ae5269d9-ba5d-48cd-9bb7-ebe43e494215"
   },
   "outputs": [
    {
     "name": "stdout",
     "output_type": "stream",
     "text": [
      "[(['<s>', '<s>', 'and', 'jacob', 'went', 'to', 'egypt'], 0.00833142857142857), (['<s>', '<s>', 'and', 'jacob', 'went', 'it', 'egypt'], 0.00833142857142857)]\n"
     ]
    }
   ],
   "source": [
    "#Beam search for user input \n",
    "import Levenshtein\n",
    "from collections import defaultdict\n",
    "\n",
    "def beam_search_t_input(wrong_sentence, tri_prob, vocabulary, beam_width=2):\n",
    "    #Add start token\n",
    "    wrong_sentence = (\"<s>\"+\" \"+\"<s>\"+\" \"+ wrong_sentence)\n",
    "\n",
    "    #Clear the existing tree\n",
    "    current_nodes = []\n",
    "\n",
    "    #Tokenise sentence\n",
    "    words = wrong_sentence.split()\n",
    "    current_nodes = [(words[0] + \" \" + words[1], 1.0, [words[0], words[1]])]\n",
    "\n",
    "    #For every word in the sentence\n",
    "    for i in range(2, len(words)):\n",
    "        next_nodes = []\n",
    "        #For every selected parent node\n",
    "\n",
    "        #For every candidate node\n",
    "        for node in current_nodes:\n",
    "            closest_words = sorted(vocabulary, key=lambda x: Levenshtein.distance(x, words[i]))[:10]\n",
    "\n",
    "            #For every candidate node\n",
    "            for candidate in closest_words:\n",
    "                #Exception for absent key\n",
    "                try:\n",
    "                    model_prob=tri_prob[node[0],candidate]\n",
    "                except KeyError:\n",
    "                    model_prob = 0\n",
    "                \n",
    "                #Language model and Levenshtein weights\n",
    "                l1 = 0.55\n",
    "                l2 = 0.45\n",
    "\n",
    "                #Calculate probability\n",
    "                prob = (l1*model_prob) + (l2*(Levenshtein.ratio(candidate, words[i])))\n",
    "\n",
    "                #Update current path of nodes\n",
    "                lineage = node[2] + [candidate]\n",
    "                next_nodes.append((candidate, prob * node[1], lineage))\n",
    "\n",
    "        #Sort by probability in descending order and save top 3\n",
    "        current_nodes = sorted(next_nodes, key=lambda x: x[1], reverse=True)[:beam_width]\n",
    "    return [(node[2], node[1]) for node in current_nodes]\n",
    "\n",
    "#Show reults\n",
    "print(beam_search_t_input(wrong_sentence, tri_prob, voc))"
   ]
  },
  {
   "cell_type": "markdown",
   "metadata": {
    "id": "C_vz9JbNIBq9"
   },
   "source": [
    "> Reformed Spelling Correctors for the next questions, taking as an input a **list of strings**"
   ]
  },
  {
   "cell_type": "code",
   "execution_count": null,
   "metadata": {
    "id": "X4R8BRxvIFTv"
   },
   "outputs": [],
   "source": [
    "#Beam search for mass input \n",
    "import Levenshtein\n",
    "from collections import defaultdict\n",
    "import copy\n",
    "\n",
    "\n",
    "def beam_search_b_test(testList, bi_prob, vocabulary, beam_width=2):\n",
    "    #Add start token\n",
    "    t_list = copy.deepcopy(testList)\n",
    "    t_list.insert(0, \"<s>\")\n",
    "\n",
    "    #Clear the existing tree\n",
    "    current_nodes = []\n",
    "\n",
    "    words = t_list\n",
    "    current_nodes = [(words[0], 1.0, [words[0]])]\n",
    "\n",
    "    #For every word in the sentence\n",
    "    for i in range(1, len(words)):\n",
    "        next_nodes = []\n",
    "\n",
    "        #For every selected parent node\n",
    "        for node in current_nodes:\n",
    "            closest_words = sorted(vocabulary, key=lambda x: Levenshtein.distance(x, words[i]))[:10]\n",
    "\n",
    "            #For every candidate node\n",
    "            for candidate in closest_words:\n",
    "                #Exception for absent key\n",
    "                try:\n",
    "                    model_prob=bi_prob[node[0],candidate]\n",
    "                except KeyError:\n",
    "                    model_prob = 0\n",
    "\n",
    "                #Language model and Levenshtein weights\n",
    "                l1 = 0.5\n",
    "                l2 = 0.3\n",
    "\n",
    "                #Calculate probability\n",
    "                prob = (l1*model_prob) + (l2*(1/(Levenshtein.distance(candidate, words[i]) + 0.01)))\n",
    "\n",
    "                #Update current path of nodes\n",
    "                lineage = node[2] + [candidate]\n",
    "                next_nodes.append((candidate, prob * node[1], lineage))\n",
    "\n",
    "        #Sort by probability in descending order and save top 3\n",
    "        current_nodes = sorted(next_nodes, key=lambda x: x[1], reverse=True)[:beam_width]\n",
    "\n",
    "    # Return the top 3 nodes along with their lineage from leaf to root\n",
    "    return [(node[2], node[1]) for node in current_nodes]"
   ]
  },
  {
   "cell_type": "code",
   "execution_count": null,
   "metadata": {
    "id": "pmKBhjtQIIWp"
   },
   "outputs": [],
   "source": [
    "#Beam search for mass input \n",
    "import Levenshtein\n",
    "from collections import defaultdict\n",
    "\n",
    "def beam_search_t_test(testList, tri_prob, vocabulary, beam_width=2):\n",
    "    #Add start tokens\n",
    "    t_list = copy.deepcopy(testList)\n",
    "    t_list.insert(0, \"<s>\")\n",
    "    t_list.insert(0, \"<s>\")\n",
    "\n",
    "    #Clear the existing tree\n",
    "    current_nodes = []\n",
    "\n",
    "    words = t_list\n",
    "    current_nodes = [(words[0] + \" \" + words[1], 1.0, [words[0], words[1]])]\n",
    "\n",
    "    #For every word in the sentence\n",
    "    for i in range(2, len(words)):\n",
    "        next_nodes = []\n",
    "        #For every selected parent node\n",
    "\n",
    "        #For every candidate node\n",
    "        for node in current_nodes:\n",
    "            closest_words = sorted(vocabulary, key=lambda x: Levenshtein.distance(x, words[i]))[:10]\n",
    "\n",
    "            #For every candidate node\n",
    "            for candidate in closest_words:\n",
    "                #Exception for absent key\n",
    "                try:\n",
    "                    model_prob=tri_prob[node[0],candidate]\n",
    "                except KeyError:\n",
    "                    model_prob = 0\n",
    "                \n",
    "                #Language model and Levenshtein weights\n",
    "                l1 = 0.55\n",
    "                l2 = 0.45\n",
    "\n",
    "\n",
    "                #Calculate probability\n",
    "                prob = (l1*model_prob) + (l2*(1/(Levenshtein.distance(candidate, words[i]) + 0.01)))\n",
    "\n",
    "                #Update current path of nodes\n",
    "                lineage = node[2] + [candidate]\n",
    "                next_nodes.append((candidate, prob * node[1], lineage))\n",
    "\n",
    "        #Sort by probability in descending order and save top 3\n",
    "        current_nodes = sorted(next_nodes, key=lambda x: x[1], reverse=True)[:beam_width]\n",
    "    return [(node[2], node[1]) for node in current_nodes]"
   ]
  },
  {
   "cell_type": "markdown",
   "metadata": {
    "id": "yrwnQEmfITPA"
   },
   "source": [
    "> bsc_caller() : Returning the Bigram Spelling Corrector Output without the `<s>` \n"
   ]
  },
  {
   "cell_type": "code",
   "execution_count": null,
   "metadata": {
    "id": "XgDfgvHqILJR"
   },
   "outputs": [],
   "source": [
    "#This function bsc(bigram spelling corrector) takes as an input the sentence we want to fix and returns the best result of the bigram Beam without the \"<s>\"\" and the \"probability\" as a list of strings \n",
    "def bsc_caller(testing_list):\n",
    "  r = beam_search_b_test(testing_list, bi_prob, voc)[0][0]\n",
    "  r.pop(0)\n",
    "  return r"
   ]
  },
  {
   "cell_type": "markdown",
   "metadata": {
    "id": "TZc520ONIX3W"
   },
   "source": [
    "tsc_caller() : Returning the Trigram Spelling Corrector Output without the `<s> <s>` \n"
   ]
  },
  {
   "cell_type": "code",
   "execution_count": null,
   "metadata": {
    "id": "VJei3rdjISOB"
   },
   "outputs": [],
   "source": [
    "#This function tsc(trigram spelling corrector) takes as an input the sentence we want to fix and returns the best result of the trigram Beam without the \"<s>\"\" and the \"probability\" as a list of strings \n",
    "def tsc_caller(testing_list):\n",
    "  r = beam_search_t_test(testing_list, tri_prob, voc)[0][0]\n",
    "  r.pop(0)\n",
    "  r.pop(0)\n",
    "  return r"
   ]
  },
  {
   "cell_type": "markdown",
   "metadata": {
    "id": "3YrNN8UTInzi"
   },
   "source": [
    "## Question IV"
   ]
  },
  {
   "cell_type": "markdown",
   "metadata": {
    "id": "sH5IKZOwsfs5"
   },
   "source": [
    ">Randomizer Creation"
   ]
  },
  {
   "cell_type": "code",
   "execution_count": null,
   "metadata": {
    "id": "_WchLtppImTI"
   },
   "outputs": [],
   "source": [
    "#Rand0mIz3R\n",
    "import copy\n",
    "rep_test = copy.deepcopy(test)\n",
    "\n",
    "import random\n",
    "for i in range(len(rep_test)):\n",
    "  for j in range(len(rep_test[i])):\n",
    "    if ((rep_test[i][j]==\"*UNK*\") or (len(rep_test[i][j])==1)):\n",
    "      continue\n",
    "\n",
    "    output_string = \"\"\n",
    "    for letter in rep_test[i][j]:\n",
    "          if random.uniform(0, 1) < 0.25:#25% probability\n",
    "              new_letter = random.choice([chr(i) for i in range(ord('a'), ord('z')+1)] + [chr(i) for i in range(ord('A'), ord('Z')+1)])\n",
    "              output_string = output_string + new_letter\n",
    "          else:\n",
    "              output_string = output_string + letter\n",
    "      \n",
    "    rep_test[i][j] = output_string"
   ]
  },
  {
   "cell_type": "code",
   "execution_count": null,
   "metadata": {
    "colab": {
     "base_uri": "https://localhost:8080/"
    },
    "executionInfo": {
     "elapsed": 2,
     "status": "ok",
     "timestamp": 1675161072472,
     "user": {
      "displayName": "Σπύρος Μαστροδημήτρης",
      "userId": "05822789757280910665"
     },
     "user_tz": -120
    },
    "id": "kyExW1ZaIuUn",
    "outputId": "c2a4200c-7496-4182-e8e9-882d58a49fc7"
   },
   "outputs": [
    {
     "name": "stdout",
     "output_type": "stream",
     "text": [
      "['anz', 'rbraLam', 'rose', 'uF', '*UNK*', 'En', 'thY', 'morriNg', ',', 'Hnd', 'tBok', 'bread', ',', 'ann', 'a', '*UNK*', 'of', 'water', ',', 'and', 'gave', 'ip', 'unto', 'jjgor', ',', '*UNK*', 'it', 'oT', 'ZeV', '*UNK*', ',', 'and', 'txe', 'chbLd', ',', 'add', 'sedf', 'heT', '*UNK*', 'Fnd', 'she', 'desLrReL', ',', 'and', '*UNK*', 'in', 'uhe', '*UNK*', 'ov', 'bFersHeba', '.']\n"
     ]
    }
   ],
   "source": [
    "print(rep_test[0])"
   ]
  },
  {
   "cell_type": "markdown",
   "metadata": {
    "id": "jekq24MnJFiX"
   },
   "source": [
    ">Biagram spelling corrections:\n",
    "  1. Test-set sentence\n",
    "  2. Randomised Test-set sentence\n",
    "  3. Spelling corrector output\n",
    "  "
   ]
  },
  {
   "cell_type": "code",
   "execution_count": null,
   "metadata": {
    "colab": {
     "base_uri": "https://localhost:8080/"
    },
    "executionInfo": {
     "elapsed": 371,
     "status": "ok",
     "timestamp": 1675161074755,
     "user": {
      "displayName": "Σπύρος Μαστροδημήτρης",
      "userId": "05822789757280910665"
     },
     "user_tz": -120
    },
    "id": "vKdjMc11IwfH",
    "outputId": "f87c32f8-1dcd-4ca2-a08c-ca9dc8f1c133"
   },
   "outputs": [
    {
     "name": "stdout",
     "output_type": "stream",
     "text": [
      "['and', 'abraham', 'rose', 'up', '*UNK*', 'in', 'the', 'morning', ',', 'and', 'took', 'bread', ',', 'and', 'a', '*UNK*', 'of', 'water', ',', 'and', 'gave', 'it', 'unto', 'hagar', ',', '*UNK*', 'it', 'on', 'her', '*UNK*', ',', 'and', 'the', 'child', ',', 'and', 'sent', 'her', '*UNK*', 'and', 'she', 'departed', ',', 'and', '*UNK*', 'in', 'the', '*UNK*', 'of', 'beersheba', '.']\n",
      "['anz', 'rbraLam', 'rose', 'uF', '*UNK*', 'En', 'thY', 'morriNg', ',', 'Hnd', 'tBok', 'bread', ',', 'ann', 'a', '*UNK*', 'of', 'water', ',', 'and', 'gave', 'ip', 'unto', 'jjgor', ',', '*UNK*', 'it', 'oT', 'ZeV', '*UNK*', ',', 'and', 'txe', 'chbLd', ',', 'add', 'sedf', 'heT', '*UNK*', 'Fnd', 'she', 'desLrReL', ',', 'and', '*UNK*', 'in', 'uhe', '*UNK*', 'ov', 'bFersHeba', '.']\n",
      "['and', 'abraham', 'rose', 'us', ',', 'and', 'the', 'morning', ',', 'and', 'took', 'bread', ',', 'and', 'a', 'and', 'of', 'water', ',', 'and', 'gave', 'it', 'unto', 'jacob', ',', 'and', 'it', 'on', 'me', ',', ',', 'and', 'the', 'child', ',', 'and', 'sent', 'her', ',', 'and', 'she', 'departed', ',', 'and', 'the', 'in', 'the', 'and', 'of', 'beersheba', '.']\n",
      "\n",
      "['and', 'the', 'sons', 'of', '*UNK*', ';', '*UNK*', ',', 'and', '*UNK*', ',', 'and', '*UNK*', ',', 'and', '*UNK*', ',', 'and', '*UNK*', '.']\n",
      "['USu', 'tue', 'aoqs', 'oU', '*UNK*', ';', '*UNK*', ',', 'ane', '*UNK*', ',', 'dnd', '*UNK*', ',', 'and', '*UNK*', ',', 'WnT', '*UNK*', '.']\n",
      "['and', 'the', 'sons', 'of', 'the', ';', 'and', ',', 'and', 'the', ',', 'and', 'the', ',', 'and', 'the', ',', 'and', 'the', '.']\n",
      "\n",
      "['and', 'abraham', 'said', 'unto', 'his', '*UNK*', 'servant', 'of', 'his', 'house', ',', 'that', '*UNK*', 'over', 'all', 'that', 'he', 'had', ',', 'put', ',', 'i', 'pray', 'thee', ',', 'thy', 'hand', 'under', 'my', '*UNK*', 'and', 'i', 'will', 'make', 'thee', '*UNK*', 'by', 'the', 'lord', ',', 'the', 'god', 'of', 'heaven', ',', 'and', 'the', 'god', 'of', 'the', 'earth', ',', 'that', 'thou', 'shalt', 'not', 'take', 'a', 'wife', 'unto', 'my', 'son', 'of', 'the', 'daughters', 'of', 'the', '*UNK*', ',', 'among', 'whom', 'i', '*UNK*', 'but', 'thou', 'shalt', 'go', 'unto', 'my', 'country', ',', 'and', 'to', 'my', '*UNK*', ',', 'and', 'take', 'a', 'wife', 'unto', 'my', 'son', 'isaac', '.']\n",
      "['and', 'abrahdm', 'said', 'unts', 'hNs', '*UNK*', 'seEvxnt', 'Kf', 'Pis', 'houHe', ',', 'that', '*UNK*', 'oier', 'aHl', 'tham', 'hq', 'had', ',', 'mut', ',', 'i', 'pZsW', 'thee', ',', 'thy', 'hasd', 'Cndar', 'EE', '*UNK*', 'qhd', 'i', 'wLJQ', 'make', 'thKe', '*UNK*', 'by', 'the', 'loNd', ',', 'Yhe', 'god', 'of', 'heuELn', ',', 'qnu', 'tEe', 'gdX', 'of', 'thm', 'enzth', ',', 'thAt', 'thoD', 'uhalt', 'Aot', 'wake', 'a', 'wzfe', 'unto', 'my', 'son', 'tf', 'Shd', 'daughtkrp', 'oI', 'PZe', '*UNK*', ',', 'agJng', 'whom', 'i', '*UNK*', 'but', 'vhou', 'shYlt', 'eN', 'unto', 'my', 'counPry', ',', 'aAd', 'to', 'Xy', '*UNK*', ',', 'any', 'bDke', 'a', 'wife', 'uUto', 'my', 'son', 'isaUD', '.']\n",
      "['and', 'abraham', 'said', 'unto', 'him', ',', 'servant', 'of', 'his', 'house', ',', 'that', 'he', 'over', 'all', 'that', 'he', 'had', ',', 'but', ',', 'i', 'pass', 'thee', ',', 'thy', 'hand', 'under', 'my', 'he', 'had', 'i', 'will', 'make', 'thee', ',', 'by', 'the', 'lord', ',', 'the', 'god', 'of', 'heaven', ',', 'and', 'the', 'god', 'of', 'the', 'earth', ',', 'that', 'thou', 'shalt', 'not', 'take', 'a', 'wife', 'unto', 'my', 'son', 'of', 'the', 'daughter', 'of', 'the', 'and', ',', 'and', 'whom', 'i', ',', 'but', 'thou', 'shalt', ',', 'unto', 'my', 'country', ',', 'and', 'to', 'my', 'he', ',', 'any', 'bare', 'a', 'wife', 'unto', 'my', 'son', 'isaac', '.']\n",
      "\n",
      "['give', 'me', 'my', 'wives', 'and', 'my', 'children', ',', 'for', 'whom', 'i', 'have', '*UNK*', 'thee', ',', 'and', 'let', 'me', 'for', 'thou', '*UNK*', 'my', '*UNK*', 'which', 'i', 'have', 'done', 'thee', '.']\n",
      "['Giph', 'me', 'mi', 'wivep', 'WTu', 'my', 'chAddben', ',', 'for', 'wHom', 'i', 'Jave', '*UNK*', 'thee', ',', 'anU', 'jet', 'de', 'foC', 'teox', '*UNK*', 'my', '*UNK*', 'wIich', 'i', 'have', 'done', 'thee', '.']\n",
      "['with', 'me', 'my', 'wives', 'you', 'my', 'children', ',', 'for', 'whom', 'i', 'have', 'the', 'thee', ',', 'and', 'let', 'me', 'for', 'to', 'the', 'my', ',', 'which', 'i', 'have', 'done', 'thee', '.']\n",
      "\n",
      "['what', 'shall', 'we', 'speak', '?']\n",
      "['whAt', 'shall', 'we', 'sphrk', '?']\n",
      "['what', 'shall', 'we', 'speak', '?']\n",
      "\n",
      "['and', 'joseph', 'was', 'the', '*UNK*', 'over', 'the', 'land', ',', 'and', 'he', 'it', 'was', 'that', '*UNK*', 'to', 'all', 'the', 'people', 'of', 'the', '*UNK*', 'and', \"joseph's\", 'brethren', 'came', ',', 'and', 'bowed', 'down', 'themselves', 'before', 'him', 'with', 'their', '*UNK*', 'to', 'the', 'earth', '.']\n",
      "['kxd', 'jfsEph', 'wus', 'thj', '*UNK*', 'over', 'the', 'laop', ',', 'and', 'Ge', 'it', 'was', 'that', '*UNK*', 'ao', 'all', 'Xhe', 'plvpce', 'oa', 'uhH', '*UNK*', 'and', \"joseph's\", 'brethren', 'came', ',', 'and', 'bowed', 'dows', 'kheWselroM', 'Nefore', 'hiL', 'wiBW', 'ehEiC', '*UNK*', 'tZ', 'the', 'eaFth', '.']\n",
      "['and', 'joseph', 'was', 'the', 'and', 'over', 'the', 'land', ',', 'and', 'he', 'it', 'was', 'that', 'he', 'a', 'all', 'the', 'place', 'of', 'the', 'and', 'and', \"joseph's\", 'brethren', 'came', ',', 'and', 'bowed', 'down', 'themselves', 'before', 'him', 'with', 'him', ',', 'to', 'the', 'earth', '.']\n",
      "\n",
      "['in', 'the', 'day', 'that', 'god', 'created', 'man', ',', 'in', 'the', '*UNK*', 'of', 'god', 'made', 'he', 'him', ';', 'male', 'and', '*UNK*', 'created', 'he', 'them', ';', 'and', 'blessed', 'them', ',', 'and', 'called', 'their', 'name', 'adam', ',', 'in', 'the', 'day', 'when', 'they', 'were', 'created', '.']\n",
      "['in', 'ehe', 'Pay', 'Rhat', 'gid', 'crWaVea', 'Ean', ',', 'in', 'the', '*UNK*', 'of', 'god', 'made', 'he', 'him', ';', 'gale', 'gnd', '*UNK*', 'crIatzd', 'he', 'theb', ';', 'anS', 'blevsed', 'theJ', ',', 'and', 'calhed', 'their', 'Kame', 'ahzm', ',', 'in', 'cey', 'daa', 'Lhon', 'ohCy', 'weis', 'crRateG', '.']\n",
      "['in', 'the', 'day', 'that', 'god', 'created', 'man', ',', 'in', 'the', 'and', 'of', 'god', 'made', 'he', 'him', ';', 'male', 'and', 'the', 'created', 'he', 'them', ';', 'and', 'blessed', 'them', ',', 'and', 'called', 'their', 'name', 'adam', ',', 'in', 'thy', 'day', 'when', 'they', 'were', 'created', '.']\n",
      "\n",
      "['and', 'the', '*UNK*', 'of', '*UNK*', 'was', '*UNK*', 'of', '*UNK*', ';', 'and', 'the', '*UNK*', 'of', 'sodom', 'and', '*UNK*', 'fled', ',', 'and', 'fell', 'there', ';', 'and', 'they', 'that', '*UNK*', 'fled', 'to', 'the', '*UNK*', '.']\n",
      "['and', 'the', '*UNK*', 'oE', '*UNK*', 'was', '*UNK*', 'af', '*UNK*', ';', 'avd', 'thi', '*UNK*', 'OJ', 'sVdom', 'and', '*UNK*', 'fled', ',', 'ahd', 'fWhl', 'there', ';', 'aGZ', 'they', 'that', '*UNK*', 'fKei', 'to', 'tbe', '*UNK*', '.']\n",
      "['and', 'the', 'and', 'of', 'the', 'was', 'in', 'a', 'and', ';', 'and', 'the', 'and', 'he', 'sodom', 'and', 'the', 'fled', ',', 'and', 'fell', 'there', ';', 'and', 'they', 'that', 'he', 'fled', 'to', 'the', 'and', '.']\n",
      "\n",
      "['and', 'israel', '*UNK*', ',', 'and', '*UNK*', 'his', 'tent', '*UNK*', 'the', '*UNK*', 'of', '*UNK*', '.']\n",
      "['and', 'israeB', '*UNK*', ',', 'gnf', '*UNK*', 'MiE', 'Ment', '*UNK*', 'PhT', '*UNK*', 'JM', '*UNK*', '.']\n",
      "['and', 'israel', '.', ',', 'and', 'he', 'is', 'went', 'in', 'the', 'and', 'he', 'and', '.']\n",
      "\n",
      "['and', 'they', 'made', 'their', 'father', 'drink', 'wine', 'that', 'night', 'also', ':', 'and', 'the', 'younger', '*UNK*', ',', 'and', 'lay', 'with', 'him', ';', 'and', 'he', '*UNK*', 'not', 'when', 'she', 'lay', 'down', ',', '*UNK*', 'when', 'she', '*UNK*', '.']\n",
      "['and', 'they', 'madN', 'theil', 'fatheD', 'drBnw', 'winb', 'that', 'gight', 'also', ':', 'anS', 'tha', 'yoYnper', '*UNK*', ',', 'aFs', 'EaL', 'wfch', 'him', ';', 'Qnd', 'he', '*UNK*', 'Uot', 'wRen', 'sge', 'lac', 'dowU', ',', '*UNK*', 'Xhen', 'zhe', '*UNK*', '.']\n",
      "['and', 'they', 'made', 'their', 'father', 'drink', 'wine', 'that', 'night', 'also', ':', 'and', 'the', 'younger', ',', ',', 'and', 'was', 'with', 'him', ';', 'and', 'he', 'and', 'not', 'when', 'she', 'lay', 'down', ',', 'and', 'when', 'he', 'and', '.']\n",
      "\n"
     ]
    }
   ],
   "source": [
    "for i in range(10): \n",
    "  print(test[i])\n",
    "  print(rep_test[i])\n",
    "  print(bsc_caller(rep_test[i]))\n",
    "  print()"
   ]
  },
  {
   "cell_type": "markdown",
   "metadata": {
    "id": "MBDLvyM8Jadd"
   },
   "source": [
    ">Triagram spelling corrections:\n",
    "  1. Test-set sentence\n",
    "  2. Randomised Test-set sentence\n",
    "  3. Spelling corrector output\n",
    "  "
   ]
  },
  {
   "cell_type": "code",
   "execution_count": null,
   "metadata": {
    "colab": {
     "base_uri": "https://localhost:8080/"
    },
    "executionInfo": {
     "elapsed": 4,
     "status": "ok",
     "timestamp": 1675162410715,
     "user": {
      "displayName": "Σπύρος Μαστροδημήτρης",
      "userId": "05822789757280910665"
     },
     "user_tz": -120
    },
    "id": "YQmtfArUJAUG",
    "outputId": "9e03f88a-4f85-465f-b564-9e470cb23af0"
   },
   "outputs": [
    {
     "name": "stdout",
     "output_type": "stream",
     "text": [
      "['and', 'abraham', 'rose', 'up', '*UNK*', 'in', 'the', 'morning', ',', 'and', 'took', 'bread', ',', 'and', 'a', '*UNK*', 'of', 'water', ',', 'and', 'gave', 'it', 'unto', 'hagar', ',', '*UNK*', 'it', 'on', 'her', '*UNK*', ',', 'and', 'the', 'child', ',', 'and', 'sent', 'her', '*UNK*', 'and', 'she', 'departed', ',', 'and', '*UNK*', 'in', 'the', '*UNK*', 'of', 'beersheba', '.']\n",
      "['anz', 'rbraLam', 'rose', 'uF', '*UNK*', 'En', 'thY', 'morriNg', ',', 'Hnd', 'tBok', 'bread', ',', 'ann', 'a', '*UNK*', 'of', 'water', ',', 'and', 'gave', 'ip', 'unto', 'jjgor', ',', '*UNK*', 'it', 'oT', 'ZeV', '*UNK*', ',', 'and', 'txe', 'chbLd', ',', 'add', 'sedf', 'heT', '*UNK*', 'Fnd', 'she', 'desLrReL', ',', 'and', '*UNK*', 'in', 'uhe', '*UNK*', 'ov', 'bFersHeba', '.']\n",
      "['and', 'abraham', 'rose', 'up', ',', 'in', 'the', 'morning', ',', 'and', 'took', 'bread', ',', 'and', 'a', ',', 'of', 'water', ',', 'and', 'gave', 'in', 'unto', 'for', ',', ',', 'it', 'of', 'he', ',', ',', 'and', 'the', 'child', ',', 'and', 'seed', 'he', ',', 'and', 'she', 'destroy', ',', 'and', ',', 'in', 'the', ',', 'of', 'beersheba', '.']\n",
      "\n",
      "['and', 'the', 'sons', 'of', '*UNK*', ';', '*UNK*', ',', 'and', '*UNK*', ',', 'and', '*UNK*', ',', 'and', '*UNK*', ',', 'and', '*UNK*', '.']\n",
      "['USu', 'tue', 'aoqs', 'oU', '*UNK*', ';', '*UNK*', ',', 'ane', '*UNK*', ',', 'dnd', '*UNK*', ',', 'and', '*UNK*', ',', 'WnT', '*UNK*', '.']\n",
      "['you', 'the', 'sons', 'of', ',', ';', ',', ',', 'and', ',', ',', 'and', ',', ',', 'and', ',', ',', 'and', ',', '.']\n",
      "\n",
      "['and', 'abraham', 'said', 'unto', 'his', '*UNK*', 'servant', 'of', 'his', 'house', ',', 'that', '*UNK*', 'over', 'all', 'that', 'he', 'had', ',', 'put', ',', 'i', 'pray', 'thee', ',', 'thy', 'hand', 'under', 'my', '*UNK*', 'and', 'i', 'will', 'make', 'thee', '*UNK*', 'by', 'the', 'lord', ',', 'the', 'god', 'of', 'heaven', ',', 'and', 'the', 'god', 'of', 'the', 'earth', ',', 'that', 'thou', 'shalt', 'not', 'take', 'a', 'wife', 'unto', 'my', 'son', 'of', 'the', 'daughters', 'of', 'the', '*UNK*', ',', 'among', 'whom', 'i', '*UNK*', 'but', 'thou', 'shalt', 'go', 'unto', 'my', 'country', ',', 'and', 'to', 'my', '*UNK*', ',', 'and', 'take', 'a', 'wife', 'unto', 'my', 'son', 'isaac', '.']\n",
      "['and', 'abrahdm', 'said', 'unts', 'hNs', '*UNK*', 'seEvxnt', 'Kf', 'Pis', 'houHe', ',', 'that', '*UNK*', 'oier', 'aHl', 'tham', 'hq', 'had', ',', 'mut', ',', 'i', 'pZsW', 'thee', ',', 'thy', 'hasd', 'Cndar', 'EE', '*UNK*', 'qhd', 'i', 'wLJQ', 'make', 'thKe', '*UNK*', 'by', 'the', 'loNd', ',', 'Yhe', 'god', 'of', 'heuELn', ',', 'qnu', 'tEe', 'gdX', 'of', 'thm', 'enzth', ',', 'thAt', 'thoD', 'uhalt', 'Aot', 'wake', 'a', 'wzfe', 'unto', 'my', 'son', 'tf', 'Shd', 'daughtkrp', 'oI', 'PZe', '*UNK*', ',', 'agJng', 'whom', 'i', '*UNK*', 'but', 'vhou', 'shYlt', 'eN', 'unto', 'my', 'counPry', ',', 'aAd', 'to', 'Xy', '*UNK*', ',', 'any', 'bDke', 'a', 'wife', 'uUto', 'my', 'son', 'isaUD', '.']\n",
      "['and', 'abraham', 'said', 'unto', 'his', ',', 'servant', 'of', 'his', 'house', ',', 'that', ',', 'over', 'all', 'that', 'he', 'had', ',', 'out', ',', 'i', 'pass', 'thee', ',', 'thy', 'had', 'near', ',', ',', 'and', 'i', 'was', 'make', 'the', ',', 'by', 'the', 'lord', ',', 'the', 'god', 'of', 'heaven', ',', 'and', 'the', 'god', 'of', 'the', 'earth', ',', 'that', 'thou', 'shalt', 'not', 'take', 'a', 'wife', 'unto', 'my', 'son', 'of', 'and', 'daughters', 'of', 'the', ',', ',', 'among', 'whom', 'i', ',', 'but', 'thou', 'shalt', ',', 'unto', 'my', 'country', ',', 'and', 'to', 'my', ',', ',', 'any', 'be', 'a', 'wife', 'unto', 'my', 'son', 'isaac', '.']\n",
      "\n",
      "['give', 'me', 'my', 'wives', 'and', 'my', 'children', ',', 'for', 'whom', 'i', 'have', '*UNK*', 'thee', ',', 'and', 'let', 'me', 'for', 'thou', '*UNK*', 'my', '*UNK*', 'which', 'i', 'have', 'done', 'thee', '.']\n",
      "['Giph', 'me', 'mi', 'wivep', 'WTu', 'my', 'chAddben', ',', 'for', 'wHom', 'i', 'Jave', '*UNK*', 'thee', ',', 'anU', 'jet', 'de', 'foC', 'teox', '*UNK*', 'my', '*UNK*', 'wIich', 'i', 'have', 'done', 'thee', '.']\n",
      "['with', 'me', 'i', 'wives', 'you', 'my', 'children', ',', 'for', 'whom', 'i', 'have', ',', 'thee', ',', 'and', 'let', 'he', 'for', 'to', ',', 'my', ',', 'which', 'i', 'have', 'done', 'thee', '.']\n",
      "\n",
      "['what', 'shall', 'we', 'speak', '?']\n",
      "['whAt', 'shall', 'we', 'sphrk', '?']\n",
      "['what', 'shall', 'we', 'speak', '?']\n",
      "\n",
      "['and', 'joseph', 'was', 'the', '*UNK*', 'over', 'the', 'land', ',', 'and', 'he', 'it', 'was', 'that', '*UNK*', 'to', 'all', 'the', 'people', 'of', 'the', '*UNK*', 'and', \"joseph's\", 'brethren', 'came', ',', 'and', 'bowed', 'down', 'themselves', 'before', 'him', 'with', 'their', '*UNK*', 'to', 'the', 'earth', '.']\n",
      "['kxd', 'jfsEph', 'wus', 'thj', '*UNK*', 'over', 'the', 'laop', ',', 'and', 'Ge', 'it', 'was', 'that', '*UNK*', 'ao', 'all', 'Xhe', 'plvpce', 'oa', 'uhH', '*UNK*', 'and', \"joseph's\", 'brethren', 'came', ',', 'and', 'bowed', 'dows', 'kheWselroM', 'Nefore', 'hiL', 'wiBW', 'ehEiC', '*UNK*', 'tZ', 'the', 'eaFth', '.']\n",
      "['and', 'joseph', 'was', 'the', ',', 'over', 'the', 'land', ',', 'and', 'he', 'it', 'was', 'that', ',', 'to', 'all', 'the', 'place', 'of', 'the', ',', 'and', \"joseph's\", 'brethren', 'came', ',', 'and', 'bowed', 'down', 'themselves', 'before', 'his', 'with', 'his', ',', 'to', 'the', 'earth', '.']\n",
      "\n",
      "['in', 'the', 'day', 'that', 'god', 'created', 'man', ',', 'in', 'the', '*UNK*', 'of', 'god', 'made', 'he', 'him', ';', 'male', 'and', '*UNK*', 'created', 'he', 'them', ';', 'and', 'blessed', 'them', ',', 'and', 'called', 'their', 'name', 'adam', ',', 'in', 'the', 'day', 'when', 'they', 'were', 'created', '.']\n",
      "['in', 'ehe', 'Pay', 'Rhat', 'gid', 'crWaVea', 'Ean', ',', 'in', 'the', '*UNK*', 'of', 'god', 'made', 'he', 'him', ';', 'gale', 'gnd', '*UNK*', 'crIatzd', 'he', 'theb', ';', 'anS', 'blevsed', 'theJ', ',', 'and', 'calhed', 'their', 'Kame', 'ahzm', ',', 'in', 'cey', 'daa', 'Lhon', 'ohCy', 'weis', 'crRateG', '.']\n",
      "['in', 'the', 'day', 'that', 'god', 'created', 'man', ',', 'in', 'the', ',', 'of', 'god', 'made', 'he', 'him', ';', 'gave', 'and', ',', 'created', 'he', 'the', ';', 'and', 'blessed', 'the', ',', 'and', 'called', 'their', 'came', 'him', ',', 'in', 'he', 'day', 'thou', 'thy', 'his', 'created', '.']\n",
      "\n",
      "['and', 'the', '*UNK*', 'of', '*UNK*', 'was', '*UNK*', 'of', '*UNK*', ';', 'and', 'the', '*UNK*', 'of', 'sodom', 'and', '*UNK*', 'fled', ',', 'and', 'fell', 'there', ';', 'and', 'they', 'that', '*UNK*', 'fled', 'to', 'the', '*UNK*', '.']\n",
      "['and', 'the', '*UNK*', 'oE', '*UNK*', 'was', '*UNK*', 'af', '*UNK*', ';', 'avd', 'thi', '*UNK*', 'OJ', 'sVdom', 'and', '*UNK*', 'fled', ',', 'ahd', 'fWhl', 'there', ';', 'aGZ', 'they', 'that', '*UNK*', 'fKei', 'to', 'tbe', '*UNK*', '.']\n",
      "['and', 'the', ',', 'of', ',', 'was', ',', 'of', ',', ';', 'and', 'the', ',', ',', 'sodom', 'and', ',', 'fled', ',', 'and', 'fowl', 'there', ';', 'and', 'they', 'that', ',', 'fled', 'to', 'the', ',', '.']\n",
      "\n",
      "['and', 'israel', '*UNK*', ',', 'and', '*UNK*', 'his', 'tent', '*UNK*', 'the', '*UNK*', 'of', '*UNK*', '.']\n",
      "['and', 'israeB', '*UNK*', ',', 'gnf', '*UNK*', 'MiE', 'Ment', '*UNK*', 'PhT', '*UNK*', 'JM', '*UNK*', '.']\n",
      "['and', 'israel', ',', ',', 'and', ',', 'his', 'went', ',', 'the', ',', ',', ',', '.']\n",
      "\n",
      "['and', 'they', 'made', 'their', 'father', 'drink', 'wine', 'that', 'night', 'also', ':', 'and', 'the', 'younger', '*UNK*', ',', 'and', 'lay', 'with', 'him', ';', 'and', 'he', '*UNK*', 'not', 'when', 'she', 'lay', 'down', ',', '*UNK*', 'when', 'she', '*UNK*', '.']\n",
      "['and', 'they', 'madN', 'theil', 'fatheD', 'drBnw', 'winb', 'that', 'gight', 'also', ':', 'anS', 'tha', 'yoYnper', '*UNK*', ',', 'aFs', 'EaL', 'wfch', 'him', ';', 'Qnd', 'he', '*UNK*', 'Uot', 'wRen', 'sge', 'lac', 'dowU', ',', '*UNK*', 'Xhen', 'zhe', '*UNK*', '.']\n",
      "['and', 'they', 'made', 'their', 'father', 'drink', 'wine', 'that', 'night', 'also', ':', 'and', 'the', 'younger', ',', ',', 'as', 'a', 'with', 'him', ';', 'and', 'he', ',', 'not', 'when', 'she', 'lad', 'down', ',', ',', 'when', 'the', ',', '.']\n",
      "\n"
     ]
    }
   ],
   "source": [
    "for i in range(10): \n",
    "  print(test[i])\n",
    "  print(rep_test[i])\n",
    "  print(tsc_caller(rep_test[i]))\n",
    "  print()"
   ]
  },
  {
   "cell_type": "markdown",
   "metadata": {
    "id": "pHoys1NUlEC2"
   },
   "source": [
    "##Question V"
   ]
  },
  {
   "cell_type": "markdown",
   "metadata": {
    "id": "ND3Roe_WEI9r"
   },
   "source": [
    ">Import"
   ]
  },
  {
   "cell_type": "code",
   "execution_count": null,
   "metadata": {
    "id": "tqS5jUEOptcJ"
   },
   "outputs": [],
   "source": [
    "#Install Necessary Libraries \n",
    "!pip install evaluate\n",
    "!pip install jiwer"
   ]
  },
  {
   "cell_type": "markdown",
   "metadata": {
    "id": "vytEoHwHvcDj"
   },
   "source": [
    ">Average Bigram WER Scores"
   ]
  },
  {
   "cell_type": "code",
   "execution_count": null,
   "metadata": {
    "colab": {
     "base_uri": "https://localhost:8080/",
     "height": 66,
     "referenced_widgets": [
      "4ba631008a8c45d2b0aec9f45e840caa",
      "af5c582cd8204cb08a9852d3433e95f1",
      "cbebb69834504502a8e2c588c98ae111",
      "fd4599abf811426eaf5122aafc81fbd0",
      "b1f844b2918a48d7afcb58882d1b9d91",
      "9c9df855e2c345f69a3d466f408fe426",
      "ba68ddfd39a949cc9f3140ed0da4534a",
      "fb611ee04c8842e9ab0b3ba1a8799eec",
      "adb1b7fb67cf4d338ab3f6e77305503c",
      "fc3c83273fdb4e8eb451576dfb3e06f8",
      "895cb3dc16464200a10944922ea849aa"
     ]
    },
    "executionInfo": {
     "elapsed": 8207,
     "status": "ok",
     "timestamp": 1675160148091,
     "user": {
      "displayName": "Σπύρος Μαστροδημήτρης",
      "userId": "05822789757280910665"
     },
     "user_tz": -120
    },
    "id": "87ZtGTtJ9r4a",
    "outputId": "bae4202c-febf-4643-a2a1-d6f19c883d1d"
   },
   "outputs": [
    {
     "data": {
      "application/vnd.jupyter.widget-view+json": {
       "model_id": "4ba631008a8c45d2b0aec9f45e840caa",
       "version_major": 2,
       "version_minor": 0
      },
      "text/plain": [
       "Downloading builder script:   0%|          | 0.00/4.49k [00:00<?, ?B/s]"
      ]
     },
     "metadata": {},
     "output_type": "display_data"
    },
    {
     "name": "stdout",
     "output_type": "stream",
     "text": [
      "Biagram model WER: 0.18\n"
     ]
    }
   ],
   "source": [
    "from evaluate import load\n",
    "from statistics import mean\n",
    "\n",
    "wer = load(\"wer\")\n",
    "\n",
    "#Create an empty list for saving the corresponding scores\n",
    "bi_wer_scores=[]\n",
    "for i in range(len(test)): \n",
    "  #Use the already created \"bsc_caller\" function and the \"wer.compute\" to calculate the WER score\n",
    "  wer_score = wer.compute(predictions= bsc_caller(rep_test[i]), references=test[i])\n",
    "  #Store the scores to a list\n",
    "  bi_wer_scores.append(wer_score)\n",
    "#Calculate & print the average of the WER scores\n",
    "print(\"Biagram model WER:\", round(mean(bi_wer_scores),2))\n",
    "f_error = mean(bi_wer_scores)\n"
   ]
  },
  {
   "cell_type": "markdown",
   "metadata": {
    "id": "14a56mSBu_JJ"
   },
   "source": [
    ">Average Bigram WER Scores Cause Only From The Unknown Values"
   ]
  },
  {
   "cell_type": "code",
   "execution_count": null,
   "metadata": {
    "colab": {
     "base_uri": "https://localhost:8080/"
    },
    "executionInfo": {
     "elapsed": 5652,
     "status": "ok",
     "timestamp": 1675160153738,
     "user": {
      "displayName": "Σπύρος Μαστροδημήτρης",
      "userId": "05822789757280910665"
     },
     "user_tz": -120
    },
    "id": "jQzl8iaLTJX1",
    "outputId": "dd7712b6-671e-41e9-c11d-af2b486e6445"
   },
   "outputs": [
    {
     "name": "stdout",
     "output_type": "stream",
     "text": [
      "Biagram model WER: 0.13\n"
     ]
    }
   ],
   "source": [
    "from evaluate import load\n",
    "from statistics import mean\n",
    "\n",
    "wer = load(\"wer\")\n",
    "\n",
    "#Create an empty list for saving the corresponding scores\n",
    "bi_wer_scores=[]\n",
    "\n",
    "for i in range(len(test)): \n",
    "  #Use the already created \"bsc_caller\" function and the \"wer.compute\" to calculate the WER score\n",
    "  wer_score = wer.compute(predictions= bsc_caller(test[i]), references=test[i])\n",
    "  #Store the scores to a list\n",
    "  bi_wer_scores.append(wer_score)\n",
    "#Calculate & print the average of the WER scores\n",
    "print(\"Biagram model WER:\", round(mean(bi_wer_scores),2))\n",
    "u_error =  mean(bi_wer_scores)"
   ]
  },
  {
   "cell_type": "markdown",
   "metadata": {
    "id": "XpmVhdMevuH5"
   },
   "source": [
    ">Average Bigram WER Score Without Taking into Consideration the Unknown Words"
   ]
  },
  {
   "cell_type": "code",
   "execution_count": null,
   "metadata": {
    "colab": {
     "base_uri": "https://localhost:8080/"
    },
    "executionInfo": {
     "elapsed": 8,
     "status": "ok",
     "timestamp": 1675160153739,
     "user": {
      "displayName": "Σπύρος Μαστροδημήτρης",
      "userId": "05822789757280910665"
     },
     "user_tz": -120
    },
    "id": "l_lk-jTbTi5P",
    "outputId": "ad67182e-04ee-4582-9cf3-474195fe1198"
   },
   "outputs": [
    {
     "name": "stdout",
     "output_type": "stream",
     "text": [
      "0.05\n"
     ]
    }
   ],
   "source": [
    "true_b_error = f_error - u_error\n",
    "print(round(true_b_error,2))"
   ]
  },
  {
   "cell_type": "markdown",
   "metadata": {
    "id": "xStDXVHwwC4L"
   },
   "source": [
    ">Average Bigram CER Scores"
   ]
  },
  {
   "cell_type": "code",
   "execution_count": null,
   "metadata": {
    "colab": {
     "base_uri": "https://localhost:8080/",
     "height": 66,
     "referenced_widgets": [
      "8bb395117eb94513996e023c7cc3ff9e",
      "3ba8ee4be45a4ebeba38660524930883",
      "377a086f7f0846bca28c724c3dcfda34",
      "98f536c95e8a4e80b85c3008f32b6e56",
      "1a0eb2c300ab4fda8b16a760a2fb0ce9",
      "31311efd3f9546fb8547e31b60366c75",
      "8f3964214dc34af395ce9c6154d1b651",
      "6b0d8c8bb8754733a65ec3503983ac78",
      "fca19a9c5ec94ce8ac6d5fdf31fbecde",
      "b78840867ad446768ac369b4e1906d9c",
      "b58fb31418374e01a186fff6de0ee5dd"
     ]
    },
    "executionInfo": {
     "elapsed": 9059,
     "status": "ok",
     "timestamp": 1675160162793,
     "user": {
      "displayName": "Σπύρος Μαστροδημήτρης",
      "userId": "05822789757280910665"
     },
     "user_tz": -120
    },
    "id": "FyGXRklo_dSa",
    "outputId": "2b7528d2-7a9e-43ea-a39f-33a95389ea8e"
   },
   "outputs": [
    {
     "data": {
      "application/vnd.jupyter.widget-view+json": {
       "model_id": "8bb395117eb94513996e023c7cc3ff9e",
       "version_major": 2,
       "version_minor": 0
      },
      "text/plain": [
       "Downloading builder script:   0%|          | 0.00/5.60k [00:00<?, ?B/s]"
      ]
     },
     "metadata": {},
     "output_type": "display_data"
    },
    {
     "name": "stdout",
     "output_type": "stream",
     "text": [
      "Biagram model CER: 0.21\n"
     ]
    }
   ],
   "source": [
    "cer = load(\"cer\")\n",
    "\n",
    "#Create an empty list for saving the corresponding scores\n",
    "bi_cer_scores=[]\n",
    "for i in range(len(test)): \n",
    "  #Use the already created \"tsc_caller\" function and the \"cer.compute\" to calculate the CER score\n",
    "  cer_score = cer.compute(predictions= bsc_caller(rep_test[i]), references=test[i])\n",
    "    #Store the scores to a list\n",
    "  bi_cer_scores.append(cer_score)\n",
    "#Calculate & print the average of the CER scores\n",
    "print(\"Biagram model CER:\",round(mean(bi_cer_scores),2))\n"
   ]
  },
  {
   "cell_type": "markdown",
   "metadata": {
    "id": "Okt8X4C_A4Zg"
   },
   "source": [
    ">Average Trigram WER Scores"
   ]
  },
  {
   "cell_type": "code",
   "execution_count": null,
   "metadata": {
    "colab": {
     "base_uri": "https://localhost:8080/"
    },
    "executionInfo": {
     "elapsed": 4975,
     "status": "ok",
     "timestamp": 1675162457545,
     "user": {
      "displayName": "Σπύρος Μαστροδημήτρης",
      "userId": "05822789757280910665"
     },
     "user_tz": -120
    },
    "id": "7EN_n1GoBN_h",
    "outputId": "1d698ed5-56e5-4cf5-a332-9e6f589a2813"
   },
   "outputs": [
    {
     "name": "stdout",
     "output_type": "stream",
     "text": [
      "Trigram model WER: 0.23\n"
     ]
    }
   ],
   "source": [
    "from evaluate import load\n",
    "from statistics import mean\n",
    "\n",
    "wer = load(\"wer\")\n",
    "\n",
    "#Create an empty list for saving the corresponding scores\n",
    "tri_wer_scores=[]\n",
    "for i in range(len(test)):\n",
    "  #Use the already created \"bsc_caller\" function and the \"wer.compute\" to calculate the WER score \n",
    "  wer_score = wer.compute(predictions= tsc_caller(rep_test[i]), references=test[i])\n",
    "  #Store the scores to a list\n",
    "  tri_wer_scores.append(wer_score)\n",
    "#Calculate & print the average of the WER scores\n",
    "print(\"Trigram model WER:\",round(mean(tri_wer_scores),2))"
   ]
  },
  {
   "cell_type": "markdown",
   "metadata": {
    "id": "dyRt0DYOwvkE"
   },
   "source": [
    ">Average Trigram CER Scores"
   ]
  },
  {
   "cell_type": "code",
   "execution_count": null,
   "metadata": {
    "colab": {
     "base_uri": "https://localhost:8080/"
    },
    "executionInfo": {
     "elapsed": 4375,
     "status": "ok",
     "timestamp": 1675162463272,
     "user": {
      "displayName": "Σπύρος Μαστροδημήτρης",
      "userId": "05822789757280910665"
     },
     "user_tz": -120
    },
    "id": "YSrAkLhgBN_i",
    "outputId": "7c055e84-67c9-454d-d500-82cd575f4541"
   },
   "outputs": [
    {
     "name": "stdout",
     "output_type": "stream",
     "text": [
      "Trigram model CER: 0.24\n"
     ]
    }
   ],
   "source": [
    "tri_cer_scores=[]\n",
    "for i in range(len(test)): \n",
    "  #Use the already created \"bsc_caller\" function and the \"wer.compute\" to calculate the WER score \n",
    "  cer_score = cer.compute(predictions= tsc_caller(rep_test[i]), references=test[i])\n",
    "  #Store the scores to a list\n",
    "  tri_cer_scores.append(cer_score)\n",
    "#Calculate & print the average of the CER scores\n",
    "print(\"Trigram model CER:\",round(mean(tri_cer_scores),2))"
   ]
  },
  {
   "cell_type": "markdown",
   "metadata": {
    "id": "bhRHmWkNY8SY"
   },
   "source": [
    "##Hyper parameter tunning for Width\n",
    "Part of question III but using code from questions IV and V"
   ]
  },
  {
   "cell_type": "code",
   "execution_count": null,
   "metadata": {
    "id": "yDjx-XnaZAv0"
   },
   "outputs": [],
   "source": [
    "#Rand0mIz3R\n",
    "import copy\n",
    "dev_test = copy.deepcopy(dev)\n",
    "\n",
    "import random\n",
    "for i in range(len(dev_test)):\n",
    "  for j in range(len(dev_test[i])):\n",
    "    if ((dev_test[i][j]==\"*UNK*\") or (len(dev_test[i][j])==1)):\n",
    "      continue\n",
    "\n",
    "    output_string = \"\"\n",
    "    for letter in dev_test[i][j]:\n",
    "          if random.uniform(0, 1) < 0.30:#30% probability\n",
    "              new_letter = random.choice([chr(i) for i in range(ord('a'), ord('z')+1)] + [chr(i) for i in range(ord('A'), ord('Z')+1)])\n",
    "              output_string = output_string + new_letter\n",
    "          else:\n",
    "              output_string = output_string + letter\n",
    "      \n",
    "    dev_test[i][j] = output_string"
   ]
  },
  {
   "cell_type": "markdown",
   "metadata": {
    "id": "Ed6I0Rl-yLPF"
   },
   "source": [
    "##For the Biagram"
   ]
  },
  {
   "cell_type": "code",
   "execution_count": null,
   "metadata": {
    "id": "vZvrpkaaax-5"
   },
   "outputs": [],
   "source": [
    "#Beam search for mass input \n",
    "import Levenshtein\n",
    "from collections import defaultdict\n",
    "import copy\n",
    "\n",
    "\n",
    "def beam_search_b_hpt_test(testList, bi_prob, vocabulary, beam_width):\n",
    "    #Add start token\n",
    "    t_list = copy.deepcopy(testList)\n",
    "    t_list.insert(0, \"<s>\")\n",
    "\n",
    "    #Clear the existing tree\n",
    "    current_nodes = []\n",
    "\n",
    "    words = t_list\n",
    "    current_nodes = [(words[0], 1.0, [words[0]])]\n",
    "\n",
    "    #For every word in the sentence\n",
    "    for i in range(1, len(words)):\n",
    "        next_nodes = []\n",
    "\n",
    "        #For every selected parent node\n",
    "        for node in current_nodes:\n",
    "            closest_words = sorted(vocabulary, key=lambda x: Levenshtein.distance(x, words[i]))[:10]\n",
    "\n",
    "            #For every candidate node\n",
    "            for candidate in closest_words:\n",
    "                #Exception for absent key\n",
    "                try:\n",
    "                    model_prob=bi_prob[node[0],candidate]\n",
    "                except KeyError:\n",
    "                    model_prob = 0\n",
    "\n",
    "                #Language model and Levenshtein weights\n",
    "                l1 = 0.55\n",
    "                l2 = 0.45\n",
    "\n",
    "                #Calculate probability\n",
    "                prob = (l1*model_prob) + (l2*(1/(Levenshtein.distance(candidate, words[i]) + 0.01)))\n",
    "\n",
    "                #Update current path of nodes\n",
    "                lineage = node[2] + [candidate]\n",
    "                next_nodes.append((candidate, prob * node[1], lineage))\n",
    "\n",
    "        #Sort by probability in descending order and save top 3\n",
    "        current_nodes = sorted(next_nodes, key=lambda x: x[1], reverse=True)[:beam_width]\n",
    "\n",
    "    # Return the top 3 nodes along with their lineage from leaf to root\n",
    "    return [(node[2], node[1]) for node in current_nodes]\n"
   ]
  },
  {
   "cell_type": "code",
   "execution_count": null,
   "metadata": {
    "id": "Pv_UkP4abAXq"
   },
   "outputs": [],
   "source": [
    "#This functon bsc(bigram spelling corrector) takes as an input the sentence we want to fix and returns the best result of the bigram Beam without the \"<s>\"\" and the \"probability\" as a list of strings \n",
    "def bsc_hpt_caller(testing_list,width):\n",
    "  r = beam_search_b_hpt_test(testing_list, bi_prob, voc, width)[0][0]\n",
    "  r.pop(0)\n",
    "  return r"
   ]
  },
  {
   "cell_type": "markdown",
   "metadata": {
    "id": "jzJUkYR6jBbs"
   },
   "source": [
    ">For the Biagram"
   ]
  },
  {
   "cell_type": "markdown",
   "metadata": {
    "id": "vPLJRIzgd1jg"
   },
   "source": [
    "###WER"
   ]
  },
  {
   "cell_type": "code",
   "execution_count": null,
   "metadata": {
    "colab": {
     "base_uri": "https://localhost:8080/"
    },
    "executionInfo": {
     "elapsed": 2997,
     "status": "ok",
     "timestamp": 1675160175913,
     "user": {
      "displayName": "Σπύρος Μαστροδημήτρης",
      "userId": "05822789757280910665"
     },
     "user_tz": -120
    },
    "id": "tML2X4J9bQUp",
    "outputId": "e7964230-9eca-48c4-d53e-dc7199e45170"
   },
   "outputs": [
    {
     "name": "stdout",
     "output_type": "stream",
     "text": [
      "Biagram model WER: 0.23554436211477178\n"
     ]
    }
   ],
   "source": [
    "from evaluate import load\n",
    "from statistics import mean\n",
    "\n",
    "wer = load(\"wer\")\n",
    "\n",
    "#Create an empty list for saving the corresponding scores\n",
    "bi_wer_scores=[]\n",
    "for i in range(len(dev)): \n",
    "  #Use the already created \"bsc_caller\" function and the \"wer.compute\" to calculate the WER score\n",
    "  wer_score = wer.compute(predictions= bsc_hpt_caller(dev_test[i],1), references=dev[i])#width 1\n",
    "  #Store the scores to a list\n",
    "  bi_wer_scores.append(wer_score)\n",
    "#Calculate & print the average of the WER scores\n",
    "print(\"Biagram model WER:\", mean(bi_wer_scores))"
   ]
  },
  {
   "cell_type": "markdown",
   "metadata": {
    "id": "g6z8gaUYiQhp"
   },
   "source": [
    "Seems best for width 2"
   ]
  },
  {
   "cell_type": "code",
   "execution_count": null,
   "metadata": {
    "colab": {
     "base_uri": "https://localhost:8080/"
    },
    "executionInfo": {
     "elapsed": 3903,
     "status": "ok",
     "timestamp": 1675160179806,
     "user": {
      "displayName": "Σπύρος Μαστροδημήτρης",
      "userId": "05822789757280910665"
     },
     "user_tz": -120
    },
    "id": "Ek5RqEJTc4Af",
    "outputId": "a806ecae-2e89-46d2-dd34-dfbd8250f1a7"
   },
   "outputs": [
    {
     "name": "stdout",
     "output_type": "stream",
     "text": [
      "Biagram model WER: 0.2331861851527498\n"
     ]
    }
   ],
   "source": [
    "from evaluate import load\n",
    "from statistics import mean\n",
    "\n",
    "wer = load(\"wer\")\n",
    "\n",
    "#Create an empty list for saving the corresponding scores\n",
    "bi_wer_scores=[]\n",
    "for i in range(len(dev)): \n",
    "  #Use the already created \"bsc_caller\" function and the \"wer.compute\" to calculate the WER score\n",
    "  wer_score = wer.compute(predictions= bsc_hpt_caller(dev_test[i],2), references=dev[i])#width 2\n",
    "  #Store the scores to a list\n",
    "  bi_wer_scores.append(wer_score)\n",
    "#Calculate & print the average of the WER scores\n",
    "print(\"Biagram model WER:\", mean(bi_wer_scores))"
   ]
  },
  {
   "cell_type": "code",
   "execution_count": null,
   "metadata": {
    "colab": {
     "base_uri": "https://localhost:8080/"
    },
    "executionInfo": {
     "elapsed": 5268,
     "status": "ok",
     "timestamp": 1675160185065,
     "user": {
      "displayName": "Σπύρος Μαστροδημήτρης",
      "userId": "05822789757280910665"
     },
     "user_tz": -120
    },
    "id": "-LRWr5oDc9D6",
    "outputId": "0f26bb5b-7b82-4010-8836-67ca4e8c2fce"
   },
   "outputs": [
    {
     "name": "stdout",
     "output_type": "stream",
     "text": [
      "Biagram model WER: 0.23922096599086248\n"
     ]
    }
   ],
   "source": [
    "from evaluate import load\n",
    "from statistics import mean\n",
    "\n",
    "wer = load(\"wer\")\n",
    "\n",
    "#Create an empty list for saving the corresponding scores\n",
    "bi_wer_scores=[]\n",
    "for i in range(len(dev)): \n",
    "  #Use the already created \"bsc_caller\" function and the \"wer.compute\" to calculate the WER score\n",
    "  wer_score = wer.compute(predictions= bsc_hpt_caller(dev_test[i],3), references=dev[i])#width 3\n",
    "  #Store the scores to a list\n",
    "  bi_wer_scores.append(wer_score)\n",
    "#Calculate & print the average of the WER scores\n",
    "print(\"Biagram model WER:\", mean(bi_wer_scores))"
   ]
  },
  {
   "cell_type": "code",
   "execution_count": null,
   "metadata": {
    "colab": {
     "base_uri": "https://localhost:8080/"
    },
    "executionInfo": {
     "elapsed": 6304,
     "status": "ok",
     "timestamp": 1675160191354,
     "user": {
      "displayName": "Σπύρος Μαστροδημήτρης",
      "userId": "05822789757280910665"
     },
     "user_tz": -120
    },
    "id": "XwUJIbUydASK",
    "outputId": "7c78877e-596f-4488-fd40-cc8585a88079"
   },
   "outputs": [
    {
     "name": "stdout",
     "output_type": "stream",
     "text": [
      "Biagram model WER: 0.24074683310809097\n"
     ]
    }
   ],
   "source": [
    "from evaluate import load\n",
    "from statistics import mean\n",
    "\n",
    "wer = load(\"wer\")\n",
    "\n",
    "#Create an empty list for saving the corresponding scores\n",
    "bi_wer_scores=[]\n",
    "for i in range(len(dev)): \n",
    "  #Use the already created \"bsc_caller\" function and the \"wer.compute\" to calculate the WER score\n",
    "  wer_score = wer.compute(predictions= bsc_hpt_caller(dev_test[i],4), references=dev[i])#width 4\n",
    "  #Store the scores to a list\n",
    "  bi_wer_scores.append(wer_score)\n",
    "#Calculate & print the average of the WER scores\n",
    "print(\"Biagram model WER:\", mean(bi_wer_scores))"
   ]
  },
  {
   "cell_type": "code",
   "execution_count": null,
   "metadata": {
    "colab": {
     "base_uri": "https://localhost:8080/"
    },
    "executionInfo": {
     "elapsed": 6752,
     "status": "ok",
     "timestamp": 1675160198102,
     "user": {
      "displayName": "Σπύρος Μαστροδημήτρης",
      "userId": "05822789757280910665"
     },
     "user_tz": -120
    },
    "id": "ddJm3gubdDax",
    "outputId": "19722275-40ec-4153-d2d7-edca9bb31dcc"
   },
   "outputs": [
    {
     "name": "stdout",
     "output_type": "stream",
     "text": [
      "Biagram model WER: 0.24324467230760868\n"
     ]
    }
   ],
   "source": [
    "from evaluate import load\n",
    "from statistics import mean\n",
    "\n",
    "wer = load(\"wer\")\n",
    "\n",
    "#Create an empty list for saving the corresponding scores\n",
    "bi_wer_scores=[]\n",
    "for i in range(len(dev)): \n",
    "  #Use the already created \"bsc_caller\" function and the \"wer.compute\" to calculate the WER score\n",
    "  wer_score = wer.compute(predictions= bsc_hpt_caller(dev_test[i],5), references=dev[i])#width 5\n",
    "  #Store the scores to a list\n",
    "  bi_wer_scores.append(wer_score)\n",
    "#Calculate & print the average of the WER scores\n",
    "print(\"Biagram model WER:\", mean(bi_wer_scores))"
   ]
  },
  {
   "cell_type": "code",
   "execution_count": null,
   "metadata": {
    "colab": {
     "base_uri": "https://localhost:8080/"
    },
    "executionInfo": {
     "elapsed": 7849,
     "status": "ok",
     "timestamp": 1675160205940,
     "user": {
      "displayName": "Σπύρος Μαστροδημήτρης",
      "userId": "05822789757280910665"
     },
     "user_tz": -120
    },
    "id": "z8Zt1AX2dHLK",
    "outputId": "4fbf359d-dec7-4d64-9aa8-018dfbcae323"
   },
   "outputs": [
    {
     "name": "stdout",
     "output_type": "stream",
     "text": [
      "Biagram model WER: 0.2456624468394812\n"
     ]
    }
   ],
   "source": [
    "from evaluate import load\n",
    "from statistics import mean\n",
    "\n",
    "wer = load(\"wer\")\n",
    "\n",
    "#Create an empty list for saving the corresponding scores\n",
    "bi_wer_scores=[]\n",
    "for i in range(len(dev)): \n",
    "  #Use the already created \"bsc_caller\" function and the \"wer.compute\" to calculate the WER score\n",
    "  wer_score = wer.compute(predictions= bsc_hpt_caller(dev_test[i],6), references=dev[i])#width 6\n",
    "  #Store the scores to a list\n",
    "  bi_wer_scores.append(wer_score)\n",
    "#Calculate & print the average of the WER scores\n",
    "print(\"Biagram model WER:\", mean(bi_wer_scores))"
   ]
  },
  {
   "cell_type": "code",
   "execution_count": null,
   "metadata": {
    "colab": {
     "base_uri": "https://localhost:8080/"
    },
    "executionInfo": {
     "elapsed": 11233,
     "status": "ok",
     "timestamp": 1675160217169,
     "user": {
      "displayName": "Σπύρος Μαστροδημήτρης",
      "userId": "05822789757280910665"
     },
     "user_tz": -120
    },
    "id": "ARwSQ9NChkgT",
    "outputId": "c162e581-f351-4964-9845-f7e4fcfb9838"
   },
   "outputs": [
    {
     "name": "stdout",
     "output_type": "stream",
     "text": [
      "Biagram model WER: 0.24926761924066393\n"
     ]
    }
   ],
   "source": [
    "from evaluate import load\n",
    "from statistics import mean\n",
    "\n",
    "wer = load(\"wer\")\n",
    "\n",
    "#Create an empty list for saving the corresponding scores\n",
    "bi_wer_scores=[]\n",
    "for i in range(len(dev)): \n",
    "  #Use the already created \"bsc_caller\" function and the \"wer.compute\" to calculate the WER score\n",
    "  wer_score = wer.compute(predictions= bsc_hpt_caller(dev_test[i],10), references=dev[i])#width 10\n",
    "  #Store the scores to a list\n",
    "  bi_wer_scores.append(wer_score)\n",
    "#Calculate & print the average of the WER scores\n",
    "print(\"Biagram model WER:\", mean(bi_wer_scores))"
   ]
  },
  {
   "cell_type": "markdown",
   "metadata": {
    "id": "izUkwRmWd5OY"
   },
   "source": [
    "###CER"
   ]
  },
  {
   "cell_type": "code",
   "execution_count": null,
   "metadata": {
    "colab": {
     "base_uri": "https://localhost:8080/"
    },
    "executionInfo": {
     "elapsed": 2619,
     "status": "ok",
     "timestamp": 1675160514303,
     "user": {
      "displayName": "Σπύρος Μαστροδημήτρης",
      "userId": "05822789757280910665"
     },
     "user_tz": -120
    },
    "id": "6dZDMhVadLZ6",
    "outputId": "3232af37-4d19-46ea-923e-afdbefe3f3b8"
   },
   "outputs": [
    {
     "name": "stdout",
     "output_type": "stream",
     "text": [
      "Biagram model CER: 0.2512783567042862\n"
     ]
    }
   ],
   "source": [
    "cer = load(\"cer\")\n",
    "\n",
    "#Create an empty list for saving the corresponding scores\n",
    "bi_cer_scores=[]\n",
    "for i in range(len(dev)): \n",
    "  #Use the already created \"tsc_caller\" function and the \"cer.compute\" to calculate the CER score\n",
    "  cer_score = cer.compute(predictions= bsc_hpt_caller(dev_test[i],1), references=dev[i])#width 1\n",
    "    #Store the scores to a list\n",
    "  bi_cer_scores.append(cer_score)\n",
    "#Calculate & print the average of the CER scores\n",
    "print(\"Biagram model CER:\",mean(bi_cer_scores))"
   ]
  },
  {
   "cell_type": "markdown",
   "metadata": {
    "id": "w0jUk81liF-g"
   },
   "source": [
    "Almost equality between 1 and 2 "
   ]
  },
  {
   "cell_type": "code",
   "execution_count": null,
   "metadata": {
    "colab": {
     "base_uri": "https://localhost:8080/"
    },
    "executionInfo": {
     "elapsed": 4194,
     "status": "ok",
     "timestamp": 1675160539863,
     "user": {
      "displayName": "Σπύρος Μαστροδημήτρης",
      "userId": "05822789757280910665"
     },
     "user_tz": -120
    },
    "id": "JcYQr3t0e05s",
    "outputId": "cf4dea94-2df2-4f3e-e391-64ddba3c2bb1"
   },
   "outputs": [
    {
     "name": "stdout",
     "output_type": "stream",
     "text": [
      "Biagram model CER: 0.25139968334878904\n"
     ]
    }
   ],
   "source": [
    "cer = load(\"cer\")\n",
    "\n",
    "#Create an empty list for saving the corresponding scores\n",
    "bi_cer_scores=[]\n",
    "for i in range(len(dev)): \n",
    "  #Use the already created \"tsc_caller\" function and the \"cer.compute\" to calculate the CER score\n",
    "  cer_score = cer.compute(predictions= bsc_hpt_caller(dev_test[i],2), references=dev[i])#width 2\n",
    "    #Store the scores to a list\n",
    "  bi_cer_scores.append(cer_score)\n",
    "#Calculate & print the average of the CER scores\n",
    "print(\"Biagram model CER:\",mean(bi_cer_scores))"
   ]
  },
  {
   "cell_type": "code",
   "execution_count": null,
   "metadata": {
    "colab": {
     "base_uri": "https://localhost:8080/"
    },
    "executionInfo": {
     "elapsed": 5577,
     "status": "ok",
     "timestamp": 1675160550164,
     "user": {
      "displayName": "Σπύρος Μαστροδημήτρης",
      "userId": "05822789757280910665"
     },
     "user_tz": -120
    },
    "id": "o1HnaGiOe3fy",
    "outputId": "d73cc723-b381-4a51-a0cd-fba9c28c0fde"
   },
   "outputs": [
    {
     "name": "stdout",
     "output_type": "stream",
     "text": [
      "Biagram model CER: 0.2551346164624368\n"
     ]
    }
   ],
   "source": [
    "cer = load(\"cer\")\n",
    "\n",
    "#Create an empty list for saving the corresponding scores\n",
    "bi_cer_scores=[]\n",
    "for i in range(len(dev)): \n",
    "  #Use the already created \"tsc_caller\" function and the \"cer.compute\" to calculate the CER score\n",
    "  cer_score = cer.compute(predictions= bsc_hpt_caller(dev_test[i],3), references=dev[i])#width 3\n",
    "    #Store the scores to a list\n",
    "  bi_cer_scores.append(cer_score)\n",
    "#Calculate & print the average of the CER scores\n",
    "print(\"Biagram model CER:\",mean(bi_cer_scores))"
   ]
  },
  {
   "cell_type": "code",
   "execution_count": null,
   "metadata": {
    "colab": {
     "base_uri": "https://localhost:8080/"
    },
    "executionInfo": {
     "elapsed": 6254,
     "status": "ok",
     "timestamp": 1675160561143,
     "user": {
      "displayName": "Σπύρος Μαστροδημήτρης",
      "userId": "05822789757280910665"
     },
     "user_tz": -120
    },
    "id": "sBuXKc30e65U",
    "outputId": "0468fbc2-b39f-420c-8d06-e043739b3b5a"
   },
   "outputs": [
    {
     "name": "stdout",
     "output_type": "stream",
     "text": [
      "Biagram model CER: 0.25655419483612496\n"
     ]
    }
   ],
   "source": [
    "cer = load(\"cer\")\n",
    "\n",
    "#Create an empty list for saving the corresponding scores\n",
    "bi_cer_scores=[]\n",
    "for i in range(len(dev)): \n",
    "  #Use the already created \"tsc_caller\" function and the \"cer.compute\" to calculate the CER score\n",
    "  cer_score = cer.compute(predictions= bsc_hpt_caller(dev_test[i],4), references=dev[i])#width 4\n",
    "    #Store the scores to a list\n",
    "  bi_cer_scores.append(cer_score)\n",
    "#Calculate & print the average of the CER scores\n",
    "print(\"Biagram model CER:\",mean(bi_cer_scores))"
   ]
  },
  {
   "cell_type": "code",
   "execution_count": null,
   "metadata": {
    "colab": {
     "base_uri": "https://localhost:8080/"
    },
    "executionInfo": {
     "elapsed": 6487,
     "status": "ok",
     "timestamp": 1675160568993,
     "user": {
      "displayName": "Σπύρος Μαστροδημήτρης",
      "userId": "05822789757280910665"
     },
     "user_tz": -120
    },
    "id": "7sDmk6ABe91T",
    "outputId": "07945d64-2f63-4ba1-cee1-a135a7408913"
   },
   "outputs": [
    {
     "name": "stdout",
     "output_type": "stream",
     "text": [
      "Biagram model CER: 0.25730125626632155\n"
     ]
    }
   ],
   "source": [
    "cer = load(\"cer\")\n",
    "\n",
    "#Create an empty list for saving the corresponding scores\n",
    "bi_cer_scores=[]\n",
    "for i in range(len(dev)): \n",
    "  #Use the already created \"tsc_caller\" function and the \"cer.compute\" to calculate the CER score\n",
    "  cer_score = cer.compute(predictions= bsc_hpt_caller(dev_test[i],5), references=dev[i])#width 5\n",
    "    #Store the scores to a list\n",
    "  bi_cer_scores.append(cer_score)\n",
    "#Calculate & print the average of the CER scores\n",
    "print(\"Biagram model CER:\",mean(bi_cer_scores))"
   ]
  },
  {
   "cell_type": "code",
   "execution_count": null,
   "metadata": {
    "colab": {
     "base_uri": "https://localhost:8080/"
    },
    "executionInfo": {
     "elapsed": 8008,
     "status": "ok",
     "timestamp": 1675160579443,
     "user": {
      "displayName": "Σπύρος Μαστροδημήτρης",
      "userId": "05822789757280910665"
     },
     "user_tz": -120
    },
    "id": "t0UYNMA8fAjr",
    "outputId": "a86baa40-2306-4ab8-c472-ee9ba1722d41"
   },
   "outputs": [
    {
     "name": "stdout",
     "output_type": "stream",
     "text": [
      "Biagram model CER: 0.2591878783521188\n"
     ]
    }
   ],
   "source": [
    "cer = load(\"cer\")\n",
    "\n",
    "#Create an empty list for saving the corresponding scores\n",
    "bi_cer_scores=[]\n",
    "for i in range(len(dev)): \n",
    "  #Use the already created \"tsc_caller\" function and the \"cer.compute\" to calculate the CER score\n",
    "  cer_score = cer.compute(predictions= bsc_hpt_caller(dev_test[i],6), references=dev[i])#width 6\n",
    "    #Store the scores to a list\n",
    "  bi_cer_scores.append(cer_score)\n",
    "#Calculate & print the average of the CER scores\n",
    "print(\"Biagram model CER:\",mean(bi_cer_scores))"
   ]
  },
  {
   "cell_type": "code",
   "execution_count": null,
   "metadata": {
    "colab": {
     "base_uri": "https://localhost:8080/"
    },
    "executionInfo": {
     "elapsed": 12347,
     "status": "ok",
     "timestamp": 1675160594116,
     "user": {
      "displayName": "Σπύρος Μαστροδημήτρης",
      "userId": "05822789757280910665"
     },
     "user_tz": -120
    },
    "id": "a9SdECwVfFWa",
    "outputId": "fa54ed8a-0b8b-4a25-a40d-7b7856e3a3f7"
   },
   "outputs": [
    {
     "name": "stdout",
     "output_type": "stream",
     "text": [
      "Biagram model CER: 0.26227651142518904\n"
     ]
    }
   ],
   "source": [
    "cer = load(\"cer\")\n",
    "\n",
    "#Create an empty list for saving the corresponding scores\n",
    "bi_cer_scores=[]\n",
    "for i in range(len(dev)): \n",
    "  #Use the already created \"tsc_caller\" function and the \"cer.compute\" to calculate the CER score\n",
    "  cer_score = cer.compute(predictions= bsc_hpt_caller(dev_test[i],10), references=dev[i])#width 10\n",
    "    #Store the scores to a list\n",
    "  bi_cer_scores.append(cer_score)\n",
    "#Calculate & print the average of the CER scores\n",
    "print(\"Biagram model CER:\",mean(bi_cer_scores))"
   ]
  },
  {
   "cell_type": "markdown",
   "metadata": {
    "id": "tJC9Q_2qjH-g"
   },
   "source": [
    "##For the Triagram"
   ]
  },
  {
   "cell_type": "code",
   "execution_count": null,
   "metadata": {
    "id": "8E0YrAjPjeHx"
   },
   "outputs": [],
   "source": [
    "#Beam search for mass input \n",
    "import Levenshtein\n",
    "from collections import defaultdict\n",
    "\n",
    "def beam_search_t_hpt_test(testList, tri_prob, vocabulary, beam_width):\n",
    "    #Add start tokens\n",
    "    t_list = copy.deepcopy(testList)\n",
    "    t_list.insert(0, \"<s>\")\n",
    "    t_list.insert(0, \"<s>\")\n",
    "\n",
    "    #Clear the existing tree\n",
    "    current_nodes = []\n",
    "\n",
    "    words = t_list\n",
    "    current_nodes = [(words[0] + \" \" + words[1], 1.0, [words[0], words[1]])]\n",
    "\n",
    "    #For every word in the sentence\n",
    "    for i in range(2, len(words)):\n",
    "        next_nodes = []\n",
    "        #For every selected parent node\n",
    "\n",
    "        #For every candidate node\n",
    "        for node in current_nodes:\n",
    "            closest_words = sorted(vocabulary, key=lambda x: Levenshtein.distance(x, words[i]))[:10]\n",
    "\n",
    "            #For every candidate node\n",
    "            for candidate in closest_words:\n",
    "                #Exception for absent key\n",
    "                try:\n",
    "                    model_prob=tri_prob[node[0],candidate]\n",
    "                except KeyError:\n",
    "                    model_prob = 0\n",
    "                \n",
    "                #Language model and Levenshtein weights\n",
    "                l1 = 0.55\n",
    "                l2 = 0.45\n",
    "\n",
    "                #Calculate probability\n",
    "                prob = (l1*model_prob) + (l2*(1/(Levenshtein.distance(candidate, words[i]) + 0.01)))\n",
    "\n",
    "                #Update current path of nodes\n",
    "                lineage = node[2] + [candidate]\n",
    "                next_nodes.append((candidate, prob * node[1], lineage))\n",
    "\n",
    "        #Sort by probability in descending order and save top 3\n",
    "        current_nodes = sorted(next_nodes, key=lambda x: x[1], reverse=True)[:beam_width]\n",
    "    return [(node[2], node[1]) for node in current_nodes]"
   ]
  },
  {
   "cell_type": "code",
   "execution_count": null,
   "metadata": {
    "id": "SOcXdYQUjqLE"
   },
   "outputs": [],
   "source": [
    "#This function tsc(trigram spelling corrector) takes as an input the sentence we want to fix and returns the best result of the trigram Beam without the \"<s>\"\" and the \"probability\" as a list of strings \n",
    "def tsc_hpt_caller(testing_list,width):\n",
    "  r = beam_search_t_hpt_test(testing_list, tri_prob, voc,width)[0][0]\n",
    "  r.pop(0)\n",
    "  r.pop(0)\n",
    "  return r"
   ]
  },
  {
   "cell_type": "markdown",
   "metadata": {
    "id": "eAsJrnKPjO2V"
   },
   "source": [
    "###WER"
   ]
  },
  {
   "cell_type": "code",
   "execution_count": null,
   "metadata": {
    "colab": {
     "base_uri": "https://localhost:8080/"
    },
    "executionInfo": {
     "elapsed": 2721,
     "status": "ok",
     "timestamp": 1675162154605,
     "user": {
      "displayName": "Σπύρος Μαστροδημήτρης",
      "userId": "05822789757280910665"
     },
     "user_tz": -120
    },
    "id": "oHhkiblGjzdU",
    "outputId": "d5f840f4-88ad-4ff6-e2dc-212c9e6a1278"
   },
   "outputs": [
    {
     "name": "stdout",
     "output_type": "stream",
     "text": [
      "Biagram model CER: 0.2554400264615665\n"
     ]
    }
   ],
   "source": [
    "cer = load(\"cer\")\n",
    "\n",
    "#Create an empty list for saving the corresponding scores\n",
    "bi_cer_scores=[]\n",
    "for i in range(len(dev)): \n",
    "  #Use the already created \"tsc_caller\" function and the \"cer.compute\" to calculate the CER score\n",
    "  cer_score = cer.compute(predictions=(tsc_hpt_caller(dev_test[i],1)), references=dev[i])#width 1\n",
    "    #Store the scores to a list\n",
    "  bi_cer_scores.append(cer_score)\n",
    "#Calculate & print the average of the CER scores\n",
    "print(\"Biagram model CER:\",mean(bi_cer_scores))"
   ]
  },
  {
   "cell_type": "code",
   "execution_count": null,
   "metadata": {
    "colab": {
     "base_uri": "https://localhost:8080/"
    },
    "executionInfo": {
     "elapsed": 4315,
     "status": "ok",
     "timestamp": 1675160613299,
     "user": {
      "displayName": "Σπύρος Μαστροδημήτρης",
      "userId": "05822789757280910665"
     },
     "user_tz": -120
    },
    "id": "1wcYuUDYlauE",
    "outputId": "b4738f35-8568-4583-ae27-49be80a868bc"
   },
   "outputs": [
    {
     "name": "stdout",
     "output_type": "stream",
     "text": [
      "Biagram model CER: 0.2554400264615665\n"
     ]
    }
   ],
   "source": [
    "cer = load(\"cer\")\n",
    "\n",
    "#Create an empty list for saving the corresponding scores\n",
    "bi_cer_scores=[]\n",
    "for i in range(len(dev)): \n",
    "  #Use the already created \"tsc_caller\" function and the \"cer.compute\" to calculate the CER score\n",
    "  cer_score = cer.compute(predictions=(tsc_hpt_caller(dev_test[i],2)), references=dev[i])#width 2\n",
    "    #Store the scores to a list\n",
    "  bi_cer_scores.append(cer_score)\n",
    "#Calculate & print the average of the CER scores\n",
    "print(\"Biagram model CER:\",mean(bi_cer_scores))"
   ]
  },
  {
   "cell_type": "code",
   "execution_count": null,
   "metadata": {
    "colab": {
     "base_uri": "https://localhost:8080/"
    },
    "executionInfo": {
     "elapsed": 12114,
     "status": "ok",
     "timestamp": 1675160627039,
     "user": {
      "displayName": "Σπύρος Μαστροδημήτρης",
      "userId": "05822789757280910665"
     },
     "user_tz": -120
    },
    "id": "JjVGjwK5l8tE",
    "outputId": "99068afa-a94f-49c6-8902-d80d5eed277e"
   },
   "outputs": [
    {
     "name": "stdout",
     "output_type": "stream",
     "text": [
      "Biagram model CER: 0.2554400264615665\n"
     ]
    }
   ],
   "source": [
    "cer = load(\"cer\")\n",
    "\n",
    "#Create an empty list for saving the corresponding scores\n",
    "bi_cer_scores=[]\n",
    "for i in range(len(dev)): \n",
    "  #Use the already created \"tsc_caller\" function and the \"cer.compute\" to calculate the CER score\n",
    "  cer_score = cer.compute(predictions=(tsc_hpt_caller(dev_test[i],10)), references=dev[i])#width 10\n",
    "    #Store the scores to a list\n",
    "  bi_cer_scores.append(cer_score)\n",
    "#Calculate & print the average of the CER scores\n",
    "print(\"Biagram model CER:\",mean(bi_cer_scores))"
   ]
  },
  {
   "cell_type": "markdown",
   "metadata": {
    "id": "peUYsV2GmWb-"
   },
   "source": [
    "It seem to find the best independently of the width"
   ]
  },
  {
   "cell_type": "markdown",
   "metadata": {
    "id": "VS7798IRmnB7"
   },
   "source": [
    "###CER"
   ]
  },
  {
   "cell_type": "code",
   "execution_count": null,
   "metadata": {
    "colab": {
     "base_uri": "https://localhost:8080/"
    },
    "executionInfo": {
     "elapsed": 2415,
     "status": "ok",
     "timestamp": 1675160631144,
     "user": {
      "displayName": "Σπύρος Μαστροδημήτρης",
      "userId": "05822789757280910665"
     },
     "user_tz": -120
    },
    "id": "pl9fNUIpmojE",
    "outputId": "11fb3d75-cf82-4a55-8958-b1fc01ee9e02"
   },
   "outputs": [
    {
     "name": "stdout",
     "output_type": "stream",
     "text": [
      "Trigram model CER: 0.2554400264615665\n"
     ]
    }
   ],
   "source": [
    "tri_cer_scores=[]\n",
    "for i in range(len(dev)): \n",
    "  #Use the already created \"bsc_caller\" function and the \"wer.compute\" to calculate the WER score \n",
    "  cer_score = cer.compute(predictions= tsc_hpt_caller(dev_test[i],1), references=dev[i])#width 1\n",
    "  #Store the scores to a list\n",
    "  tri_cer_scores.append(cer_score)\n",
    "#Calculate & print the average of the CER scores\n",
    "print(\"Trigram model CER:\",mean(tri_cer_scores))"
   ]
  },
  {
   "cell_type": "code",
   "execution_count": null,
   "metadata": {
    "colab": {
     "base_uri": "https://localhost:8080/"
    },
    "executionInfo": {
     "elapsed": 3192,
     "status": "ok",
     "timestamp": 1675160635910,
     "user": {
      "displayName": "Σπύρος Μαστροδημήτρης",
      "userId": "05822789757280910665"
     },
     "user_tz": -120
    },
    "id": "AX51fjepmzad",
    "outputId": "1dfdef73-2943-460b-b467-240b667d3228"
   },
   "outputs": [
    {
     "name": "stdout",
     "output_type": "stream",
     "text": [
      "Trigram model CER: 0.2554400264615665\n"
     ]
    }
   ],
   "source": [
    "tri_cer_scores=[]\n",
    "for i in range(len(dev)): \n",
    "  #Use the already created \"bsc_caller\" function and the \"wer.compute\" to calculate the WER score \n",
    "  cer_score = cer.compute(predictions= tsc_hpt_caller(dev_test[i],2), references=dev[i])#width 2\n",
    "  #Store the scores to a list\n",
    "  tri_cer_scores.append(cer_score)\n",
    "#Calculate & print the average of the CER scores\n",
    "print(\"Trigram model CER:\",mean(tri_cer_scores))"
   ]
  },
  {
   "cell_type": "code",
   "execution_count": null,
   "metadata": {
    "colab": {
     "base_uri": "https://localhost:8080/"
    },
    "executionInfo": {
     "elapsed": 12483,
     "status": "ok",
     "timestamp": 1675160649950,
     "user": {
      "displayName": "Σπύρος Μαστροδημήτρης",
      "userId": "05822789757280910665"
     },
     "user_tz": -120
    },
    "id": "oh1IVCJim1_V",
    "outputId": "08743c76-b679-479c-ef8e-5da68c12704c"
   },
   "outputs": [
    {
     "name": "stdout",
     "output_type": "stream",
     "text": [
      "Trigram model CER: 0.2554400264615665\n"
     ]
    }
   ],
   "source": [
    "tri_cer_scores=[]\n",
    "for i in range(len(dev)): \n",
    "  #Use the already created \"bsc_caller\" function and the \"wer.compute\" to calculate the WER score \n",
    "  cer_score = cer.compute(predictions= tsc_hpt_caller(dev_test[i],10), references=dev[i])#width 10\n",
    "  #Store the scores to a list\n",
    "  tri_cer_scores.append(cer_score)\n",
    "#Calculate & print the average of the CER scores\n",
    "print(\"Trigram model CER:\",mean(tri_cer_scores))"
   ]
  },
  {
   "cell_type": "markdown",
   "metadata": {
    "id": "IDAvVgg6nLAU"
   },
   "source": [
    "It seem to find the best independently of the width"
   ]
  }
 ],
 "metadata": {
  "colab": {
   "provenance": [],
   "toc_visible": true
  },
  "kernelspec": {
   "display_name": "Python 3 (ipykernel)",
   "language": "python",
   "name": "python3"
  },
  "language_info": {
   "codemirror_mode": {
    "name": "ipython",
    "version": 3
   },
   "file_extension": ".py",
   "mimetype": "text/x-python",
   "name": "python",
   "nbconvert_exporter": "python",
   "pygments_lexer": "ipython3",
   "version": "3.9.12"
  },
  "widgets": {
   "application/vnd.jupyter.widget-state+json": {
    "1a0eb2c300ab4fda8b16a760a2fb0ce9": {
     "model_module": "@jupyter-widgets/base",
     "model_module_version": "1.2.0",
     "model_name": "LayoutModel",
     "state": {
      "_model_module": "@jupyter-widgets/base",
      "_model_module_version": "1.2.0",
      "_model_name": "LayoutModel",
      "_view_count": null,
      "_view_module": "@jupyter-widgets/base",
      "_view_module_version": "1.2.0",
      "_view_name": "LayoutView",
      "align_content": null,
      "align_items": null,
      "align_self": null,
      "border": null,
      "bottom": null,
      "display": null,
      "flex": null,
      "flex_flow": null,
      "grid_area": null,
      "grid_auto_columns": null,
      "grid_auto_flow": null,
      "grid_auto_rows": null,
      "grid_column": null,
      "grid_gap": null,
      "grid_row": null,
      "grid_template_areas": null,
      "grid_template_columns": null,
      "grid_template_rows": null,
      "height": null,
      "justify_content": null,
      "justify_items": null,
      "left": null,
      "margin": null,
      "max_height": null,
      "max_width": null,
      "min_height": null,
      "min_width": null,
      "object_fit": null,
      "object_position": null,
      "order": null,
      "overflow": null,
      "overflow_x": null,
      "overflow_y": null,
      "padding": null,
      "right": null,
      "top": null,
      "visibility": null,
      "width": null
     }
    },
    "31311efd3f9546fb8547e31b60366c75": {
     "model_module": "@jupyter-widgets/base",
     "model_module_version": "1.2.0",
     "model_name": "LayoutModel",
     "state": {
      "_model_module": "@jupyter-widgets/base",
      "_model_module_version": "1.2.0",
      "_model_name": "LayoutModel",
      "_view_count": null,
      "_view_module": "@jupyter-widgets/base",
      "_view_module_version": "1.2.0",
      "_view_name": "LayoutView",
      "align_content": null,
      "align_items": null,
      "align_self": null,
      "border": null,
      "bottom": null,
      "display": null,
      "flex": null,
      "flex_flow": null,
      "grid_area": null,
      "grid_auto_columns": null,
      "grid_auto_flow": null,
      "grid_auto_rows": null,
      "grid_column": null,
      "grid_gap": null,
      "grid_row": null,
      "grid_template_areas": null,
      "grid_template_columns": null,
      "grid_template_rows": null,
      "height": null,
      "justify_content": null,
      "justify_items": null,
      "left": null,
      "margin": null,
      "max_height": null,
      "max_width": null,
      "min_height": null,
      "min_width": null,
      "object_fit": null,
      "object_position": null,
      "order": null,
      "overflow": null,
      "overflow_x": null,
      "overflow_y": null,
      "padding": null,
      "right": null,
      "top": null,
      "visibility": null,
      "width": null
     }
    },
    "377a086f7f0846bca28c724c3dcfda34": {
     "model_module": "@jupyter-widgets/controls",
     "model_module_version": "1.5.0",
     "model_name": "FloatProgressModel",
     "state": {
      "_dom_classes": [],
      "_model_module": "@jupyter-widgets/controls",
      "_model_module_version": "1.5.0",
      "_model_name": "FloatProgressModel",
      "_view_count": null,
      "_view_module": "@jupyter-widgets/controls",
      "_view_module_version": "1.5.0",
      "_view_name": "ProgressView",
      "bar_style": "success",
      "description": "",
      "description_tooltip": null,
      "layout": "IPY_MODEL_6b0d8c8bb8754733a65ec3503983ac78",
      "max": 5599,
      "min": 0,
      "orientation": "horizontal",
      "style": "IPY_MODEL_fca19a9c5ec94ce8ac6d5fdf31fbecde",
      "value": 5599
     }
    },
    "3ba8ee4be45a4ebeba38660524930883": {
     "model_module": "@jupyter-widgets/controls",
     "model_module_version": "1.5.0",
     "model_name": "HTMLModel",
     "state": {
      "_dom_classes": [],
      "_model_module": "@jupyter-widgets/controls",
      "_model_module_version": "1.5.0",
      "_model_name": "HTMLModel",
      "_view_count": null,
      "_view_module": "@jupyter-widgets/controls",
      "_view_module_version": "1.5.0",
      "_view_name": "HTMLView",
      "description": "",
      "description_tooltip": null,
      "layout": "IPY_MODEL_31311efd3f9546fb8547e31b60366c75",
      "placeholder": "​",
      "style": "IPY_MODEL_8f3964214dc34af395ce9c6154d1b651",
      "value": "Downloading builder script: 100%"
     }
    },
    "4ba631008a8c45d2b0aec9f45e840caa": {
     "model_module": "@jupyter-widgets/controls",
     "model_module_version": "1.5.0",
     "model_name": "HBoxModel",
     "state": {
      "_dom_classes": [],
      "_model_module": "@jupyter-widgets/controls",
      "_model_module_version": "1.5.0",
      "_model_name": "HBoxModel",
      "_view_count": null,
      "_view_module": "@jupyter-widgets/controls",
      "_view_module_version": "1.5.0",
      "_view_name": "HBoxView",
      "box_style": "",
      "children": [
       "IPY_MODEL_af5c582cd8204cb08a9852d3433e95f1",
       "IPY_MODEL_cbebb69834504502a8e2c588c98ae111",
       "IPY_MODEL_fd4599abf811426eaf5122aafc81fbd0"
      ],
      "layout": "IPY_MODEL_b1f844b2918a48d7afcb58882d1b9d91"
     }
    },
    "6b0d8c8bb8754733a65ec3503983ac78": {
     "model_module": "@jupyter-widgets/base",
     "model_module_version": "1.2.0",
     "model_name": "LayoutModel",
     "state": {
      "_model_module": "@jupyter-widgets/base",
      "_model_module_version": "1.2.0",
      "_model_name": "LayoutModel",
      "_view_count": null,
      "_view_module": "@jupyter-widgets/base",
      "_view_module_version": "1.2.0",
      "_view_name": "LayoutView",
      "align_content": null,
      "align_items": null,
      "align_self": null,
      "border": null,
      "bottom": null,
      "display": null,
      "flex": null,
      "flex_flow": null,
      "grid_area": null,
      "grid_auto_columns": null,
      "grid_auto_flow": null,
      "grid_auto_rows": null,
      "grid_column": null,
      "grid_gap": null,
      "grid_row": null,
      "grid_template_areas": null,
      "grid_template_columns": null,
      "grid_template_rows": null,
      "height": null,
      "justify_content": null,
      "justify_items": null,
      "left": null,
      "margin": null,
      "max_height": null,
      "max_width": null,
      "min_height": null,
      "min_width": null,
      "object_fit": null,
      "object_position": null,
      "order": null,
      "overflow": null,
      "overflow_x": null,
      "overflow_y": null,
      "padding": null,
      "right": null,
      "top": null,
      "visibility": null,
      "width": null
     }
    },
    "895cb3dc16464200a10944922ea849aa": {
     "model_module": "@jupyter-widgets/controls",
     "model_module_version": "1.5.0",
     "model_name": "DescriptionStyleModel",
     "state": {
      "_model_module": "@jupyter-widgets/controls",
      "_model_module_version": "1.5.0",
      "_model_name": "DescriptionStyleModel",
      "_view_count": null,
      "_view_module": "@jupyter-widgets/base",
      "_view_module_version": "1.2.0",
      "_view_name": "StyleView",
      "description_width": ""
     }
    },
    "8bb395117eb94513996e023c7cc3ff9e": {
     "model_module": "@jupyter-widgets/controls",
     "model_module_version": "1.5.0",
     "model_name": "HBoxModel",
     "state": {
      "_dom_classes": [],
      "_model_module": "@jupyter-widgets/controls",
      "_model_module_version": "1.5.0",
      "_model_name": "HBoxModel",
      "_view_count": null,
      "_view_module": "@jupyter-widgets/controls",
      "_view_module_version": "1.5.0",
      "_view_name": "HBoxView",
      "box_style": "",
      "children": [
       "IPY_MODEL_3ba8ee4be45a4ebeba38660524930883",
       "IPY_MODEL_377a086f7f0846bca28c724c3dcfda34",
       "IPY_MODEL_98f536c95e8a4e80b85c3008f32b6e56"
      ],
      "layout": "IPY_MODEL_1a0eb2c300ab4fda8b16a760a2fb0ce9"
     }
    },
    "8f3964214dc34af395ce9c6154d1b651": {
     "model_module": "@jupyter-widgets/controls",
     "model_module_version": "1.5.0",
     "model_name": "DescriptionStyleModel",
     "state": {
      "_model_module": "@jupyter-widgets/controls",
      "_model_module_version": "1.5.0",
      "_model_name": "DescriptionStyleModel",
      "_view_count": null,
      "_view_module": "@jupyter-widgets/base",
      "_view_module_version": "1.2.0",
      "_view_name": "StyleView",
      "description_width": ""
     }
    },
    "98f536c95e8a4e80b85c3008f32b6e56": {
     "model_module": "@jupyter-widgets/controls",
     "model_module_version": "1.5.0",
     "model_name": "HTMLModel",
     "state": {
      "_dom_classes": [],
      "_model_module": "@jupyter-widgets/controls",
      "_model_module_version": "1.5.0",
      "_model_name": "HTMLModel",
      "_view_count": null,
      "_view_module": "@jupyter-widgets/controls",
      "_view_module_version": "1.5.0",
      "_view_name": "HTMLView",
      "description": "",
      "description_tooltip": null,
      "layout": "IPY_MODEL_b78840867ad446768ac369b4e1906d9c",
      "placeholder": "​",
      "style": "IPY_MODEL_b58fb31418374e01a186fff6de0ee5dd",
      "value": " 5.60k/5.60k [00:00&lt;00:00, 133kB/s]"
     }
    },
    "9c9df855e2c345f69a3d466f408fe426": {
     "model_module": "@jupyter-widgets/base",
     "model_module_version": "1.2.0",
     "model_name": "LayoutModel",
     "state": {
      "_model_module": "@jupyter-widgets/base",
      "_model_module_version": "1.2.0",
      "_model_name": "LayoutModel",
      "_view_count": null,
      "_view_module": "@jupyter-widgets/base",
      "_view_module_version": "1.2.0",
      "_view_name": "LayoutView",
      "align_content": null,
      "align_items": null,
      "align_self": null,
      "border": null,
      "bottom": null,
      "display": null,
      "flex": null,
      "flex_flow": null,
      "grid_area": null,
      "grid_auto_columns": null,
      "grid_auto_flow": null,
      "grid_auto_rows": null,
      "grid_column": null,
      "grid_gap": null,
      "grid_row": null,
      "grid_template_areas": null,
      "grid_template_columns": null,
      "grid_template_rows": null,
      "height": null,
      "justify_content": null,
      "justify_items": null,
      "left": null,
      "margin": null,
      "max_height": null,
      "max_width": null,
      "min_height": null,
      "min_width": null,
      "object_fit": null,
      "object_position": null,
      "order": null,
      "overflow": null,
      "overflow_x": null,
      "overflow_y": null,
      "padding": null,
      "right": null,
      "top": null,
      "visibility": null,
      "width": null
     }
    },
    "adb1b7fb67cf4d338ab3f6e77305503c": {
     "model_module": "@jupyter-widgets/controls",
     "model_module_version": "1.5.0",
     "model_name": "ProgressStyleModel",
     "state": {
      "_model_module": "@jupyter-widgets/controls",
      "_model_module_version": "1.5.0",
      "_model_name": "ProgressStyleModel",
      "_view_count": null,
      "_view_module": "@jupyter-widgets/base",
      "_view_module_version": "1.2.0",
      "_view_name": "StyleView",
      "bar_color": null,
      "description_width": ""
     }
    },
    "af5c582cd8204cb08a9852d3433e95f1": {
     "model_module": "@jupyter-widgets/controls",
     "model_module_version": "1.5.0",
     "model_name": "HTMLModel",
     "state": {
      "_dom_classes": [],
      "_model_module": "@jupyter-widgets/controls",
      "_model_module_version": "1.5.0",
      "_model_name": "HTMLModel",
      "_view_count": null,
      "_view_module": "@jupyter-widgets/controls",
      "_view_module_version": "1.5.0",
      "_view_name": "HTMLView",
      "description": "",
      "description_tooltip": null,
      "layout": "IPY_MODEL_9c9df855e2c345f69a3d466f408fe426",
      "placeholder": "​",
      "style": "IPY_MODEL_ba68ddfd39a949cc9f3140ed0da4534a",
      "value": "Downloading builder script: 100%"
     }
    },
    "b1f844b2918a48d7afcb58882d1b9d91": {
     "model_module": "@jupyter-widgets/base",
     "model_module_version": "1.2.0",
     "model_name": "LayoutModel",
     "state": {
      "_model_module": "@jupyter-widgets/base",
      "_model_module_version": "1.2.0",
      "_model_name": "LayoutModel",
      "_view_count": null,
      "_view_module": "@jupyter-widgets/base",
      "_view_module_version": "1.2.0",
      "_view_name": "LayoutView",
      "align_content": null,
      "align_items": null,
      "align_self": null,
      "border": null,
      "bottom": null,
      "display": null,
      "flex": null,
      "flex_flow": null,
      "grid_area": null,
      "grid_auto_columns": null,
      "grid_auto_flow": null,
      "grid_auto_rows": null,
      "grid_column": null,
      "grid_gap": null,
      "grid_row": null,
      "grid_template_areas": null,
      "grid_template_columns": null,
      "grid_template_rows": null,
      "height": null,
      "justify_content": null,
      "justify_items": null,
      "left": null,
      "margin": null,
      "max_height": null,
      "max_width": null,
      "min_height": null,
      "min_width": null,
      "object_fit": null,
      "object_position": null,
      "order": null,
      "overflow": null,
      "overflow_x": null,
      "overflow_y": null,
      "padding": null,
      "right": null,
      "top": null,
      "visibility": null,
      "width": null
     }
    },
    "b58fb31418374e01a186fff6de0ee5dd": {
     "model_module": "@jupyter-widgets/controls",
     "model_module_version": "1.5.0",
     "model_name": "DescriptionStyleModel",
     "state": {
      "_model_module": "@jupyter-widgets/controls",
      "_model_module_version": "1.5.0",
      "_model_name": "DescriptionStyleModel",
      "_view_count": null,
      "_view_module": "@jupyter-widgets/base",
      "_view_module_version": "1.2.0",
      "_view_name": "StyleView",
      "description_width": ""
     }
    },
    "b78840867ad446768ac369b4e1906d9c": {
     "model_module": "@jupyter-widgets/base",
     "model_module_version": "1.2.0",
     "model_name": "LayoutModel",
     "state": {
      "_model_module": "@jupyter-widgets/base",
      "_model_module_version": "1.2.0",
      "_model_name": "LayoutModel",
      "_view_count": null,
      "_view_module": "@jupyter-widgets/base",
      "_view_module_version": "1.2.0",
      "_view_name": "LayoutView",
      "align_content": null,
      "align_items": null,
      "align_self": null,
      "border": null,
      "bottom": null,
      "display": null,
      "flex": null,
      "flex_flow": null,
      "grid_area": null,
      "grid_auto_columns": null,
      "grid_auto_flow": null,
      "grid_auto_rows": null,
      "grid_column": null,
      "grid_gap": null,
      "grid_row": null,
      "grid_template_areas": null,
      "grid_template_columns": null,
      "grid_template_rows": null,
      "height": null,
      "justify_content": null,
      "justify_items": null,
      "left": null,
      "margin": null,
      "max_height": null,
      "max_width": null,
      "min_height": null,
      "min_width": null,
      "object_fit": null,
      "object_position": null,
      "order": null,
      "overflow": null,
      "overflow_x": null,
      "overflow_y": null,
      "padding": null,
      "right": null,
      "top": null,
      "visibility": null,
      "width": null
     }
    },
    "ba68ddfd39a949cc9f3140ed0da4534a": {
     "model_module": "@jupyter-widgets/controls",
     "model_module_version": "1.5.0",
     "model_name": "DescriptionStyleModel",
     "state": {
      "_model_module": "@jupyter-widgets/controls",
      "_model_module_version": "1.5.0",
      "_model_name": "DescriptionStyleModel",
      "_view_count": null,
      "_view_module": "@jupyter-widgets/base",
      "_view_module_version": "1.2.0",
      "_view_name": "StyleView",
      "description_width": ""
     }
    },
    "cbebb69834504502a8e2c588c98ae111": {
     "model_module": "@jupyter-widgets/controls",
     "model_module_version": "1.5.0",
     "model_name": "FloatProgressModel",
     "state": {
      "_dom_classes": [],
      "_model_module": "@jupyter-widgets/controls",
      "_model_module_version": "1.5.0",
      "_model_name": "FloatProgressModel",
      "_view_count": null,
      "_view_module": "@jupyter-widgets/controls",
      "_view_module_version": "1.5.0",
      "_view_name": "ProgressView",
      "bar_style": "success",
      "description": "",
      "description_tooltip": null,
      "layout": "IPY_MODEL_fb611ee04c8842e9ab0b3ba1a8799eec",
      "max": 4485,
      "min": 0,
      "orientation": "horizontal",
      "style": "IPY_MODEL_adb1b7fb67cf4d338ab3f6e77305503c",
      "value": 4485
     }
    },
    "fb611ee04c8842e9ab0b3ba1a8799eec": {
     "model_module": "@jupyter-widgets/base",
     "model_module_version": "1.2.0",
     "model_name": "LayoutModel",
     "state": {
      "_model_module": "@jupyter-widgets/base",
      "_model_module_version": "1.2.0",
      "_model_name": "LayoutModel",
      "_view_count": null,
      "_view_module": "@jupyter-widgets/base",
      "_view_module_version": "1.2.0",
      "_view_name": "LayoutView",
      "align_content": null,
      "align_items": null,
      "align_self": null,
      "border": null,
      "bottom": null,
      "display": null,
      "flex": null,
      "flex_flow": null,
      "grid_area": null,
      "grid_auto_columns": null,
      "grid_auto_flow": null,
      "grid_auto_rows": null,
      "grid_column": null,
      "grid_gap": null,
      "grid_row": null,
      "grid_template_areas": null,
      "grid_template_columns": null,
      "grid_template_rows": null,
      "height": null,
      "justify_content": null,
      "justify_items": null,
      "left": null,
      "margin": null,
      "max_height": null,
      "max_width": null,
      "min_height": null,
      "min_width": null,
      "object_fit": null,
      "object_position": null,
      "order": null,
      "overflow": null,
      "overflow_x": null,
      "overflow_y": null,
      "padding": null,
      "right": null,
      "top": null,
      "visibility": null,
      "width": null
     }
    },
    "fc3c83273fdb4e8eb451576dfb3e06f8": {
     "model_module": "@jupyter-widgets/base",
     "model_module_version": "1.2.0",
     "model_name": "LayoutModel",
     "state": {
      "_model_module": "@jupyter-widgets/base",
      "_model_module_version": "1.2.0",
      "_model_name": "LayoutModel",
      "_view_count": null,
      "_view_module": "@jupyter-widgets/base",
      "_view_module_version": "1.2.0",
      "_view_name": "LayoutView",
      "align_content": null,
      "align_items": null,
      "align_self": null,
      "border": null,
      "bottom": null,
      "display": null,
      "flex": null,
      "flex_flow": null,
      "grid_area": null,
      "grid_auto_columns": null,
      "grid_auto_flow": null,
      "grid_auto_rows": null,
      "grid_column": null,
      "grid_gap": null,
      "grid_row": null,
      "grid_template_areas": null,
      "grid_template_columns": null,
      "grid_template_rows": null,
      "height": null,
      "justify_content": null,
      "justify_items": null,
      "left": null,
      "margin": null,
      "max_height": null,
      "max_width": null,
      "min_height": null,
      "min_width": null,
      "object_fit": null,
      "object_position": null,
      "order": null,
      "overflow": null,
      "overflow_x": null,
      "overflow_y": null,
      "padding": null,
      "right": null,
      "top": null,
      "visibility": null,
      "width": null
     }
    },
    "fca19a9c5ec94ce8ac6d5fdf31fbecde": {
     "model_module": "@jupyter-widgets/controls",
     "model_module_version": "1.5.0",
     "model_name": "ProgressStyleModel",
     "state": {
      "_model_module": "@jupyter-widgets/controls",
      "_model_module_version": "1.5.0",
      "_model_name": "ProgressStyleModel",
      "_view_count": null,
      "_view_module": "@jupyter-widgets/base",
      "_view_module_version": "1.2.0",
      "_view_name": "StyleView",
      "bar_color": null,
      "description_width": ""
     }
    },
    "fd4599abf811426eaf5122aafc81fbd0": {
     "model_module": "@jupyter-widgets/controls",
     "model_module_version": "1.5.0",
     "model_name": "HTMLModel",
     "state": {
      "_dom_classes": [],
      "_model_module": "@jupyter-widgets/controls",
      "_model_module_version": "1.5.0",
      "_model_name": "HTMLModel",
      "_view_count": null,
      "_view_module": "@jupyter-widgets/controls",
      "_view_module_version": "1.5.0",
      "_view_name": "HTMLView",
      "description": "",
      "description_tooltip": null,
      "layout": "IPY_MODEL_fc3c83273fdb4e8eb451576dfb3e06f8",
      "placeholder": "​",
      "style": "IPY_MODEL_895cb3dc16464200a10944922ea849aa",
      "value": " 4.49k/4.49k [00:00&lt;00:00, 174kB/s]"
     }
    }
   }
  }
 },
 "nbformat": 4,
 "nbformat_minor": 1
}
