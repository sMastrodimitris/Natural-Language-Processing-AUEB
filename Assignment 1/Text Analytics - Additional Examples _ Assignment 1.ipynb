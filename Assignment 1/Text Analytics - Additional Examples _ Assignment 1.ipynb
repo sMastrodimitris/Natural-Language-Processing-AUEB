{
 "cells": [
  {
   "cell_type": "markdown",
   "metadata": {
    "id": "Z5BYwxtwgrGV"
   },
   "source": [
    "#Text Analytics | Assignment 1 | Additional Info"
   ]
  },
  {
   "cell_type": "markdown",
   "metadata": {
    "id": "zBov_mPhyOOd"
   },
   "source": [
    "1st Approach"
   ]
  },
  {
   "cell_type": "code",
   "execution_count": null,
   "metadata": {
    "id": "2vNDYwbwX9RW"
   },
   "outputs": [],
   "source": [
    "from collections import Counter\n",
    "from nltk.util import ngrams\n",
    "\n",
    "# Unigram, Bigram, Trigram model creation\n",
    "\n",
    "unigram_counter = Counter()\n",
    "bigram_counter = Counter()\n",
    "trigram_counter = Counter()\n",
    "\n",
    "for sent in train:\n",
    "    #print(sent)\n",
    "    unigram_counter.update([gram for gram in ngrams(sent, 1, pad_left=True, pad_right=True,\n",
    "                                                   left_pad_symbol='<s>',right_pad_symbol='<e>') ]) \n",
    "    bigram_counter.update([gram for gram in ngrams(sent, 2, pad_left=True, pad_right=True,\n",
    "                                                   left_pad_symbol='<s>',right_pad_symbol='<e>') ])\n",
    "    trigram_counter.update([gram for gram in ngrams(sent, 3, pad_left=True, pad_right=True,\n",
    "                                                   left_pad_symbol='<s>',right_pad_symbol='<e>') ])"
   ]
  },
  {
   "cell_type": "code",
   "execution_count": null,
   "metadata": {
    "colab": {
     "base_uri": "https://localhost:8080/"
    },
    "executionInfo": {
     "elapsed": 16,
     "status": "ok",
     "timestamp": 1674411756727,
     "user": {
      "displayName": "Σπύρος Μαστροδημήτρης",
      "userId": "05822789757280910665"
     },
     "user_tz": -120
    },
    "id": "tYVWShQ_cZ4J",
    "outputId": "e8b4856b-3b3f-4d34-ca96-08a9cacc5430"
   },
   "outputs": [
    {
     "name": "stdout",
     "output_type": "stream",
     "text": [
      "Sum of Bigram Log-Probabilities:  -54298.86941075823\n",
      "Sum of Trigram Log-Probabilities:  -133557.15935830458\n"
     ]
    }
   ],
   "source": [
    "import math\n",
    "\n",
    "# We should set the a parameter to 1, in order to utilize the Laplace Smoothing \n",
    "alpha = 1\n",
    "\n",
    "# Vocabulary size calculation\n",
    "vocab_size = len(set(voc))\n",
    "\n",
    "#set the initial sums equal to 0 \n",
    "s_bi=0\n",
    "s_tri=0\n",
    "\n",
    "my_dict = {}\n",
    "\n",
    "#Sum of Bigram log probabilitis\n",
    "for i in list(bigram_counter.keys()):\n",
    "  bigram_prob = (bigram_counter[i] + alpha) / (unigram_counter[(i[0],)] + alpha*vocab_size)\n",
    "  bigram_log_prob = math.log2(bigram_prob)\n",
    "  my_dict.update({i: bigram_prob})\n",
    "  #print(\"P(the, Department) : {0:.3f} \".format(bigram_prob))\n",
    "  #print(f\"{i}\",bigram_prob)\n",
    "  s_bi+=bigram_log_prob\n",
    "  #print(f\"{i}\",bigram_log_prob)\n",
    "\n",
    "#Sum of Trigram log probabilitis\n",
    "for i in list(trigram_counter.keys()):\n",
    "  trigram_prob = (trigram_counter[i] + alpha) / (bigram_counter[(i[0],i[1],)] + alpha*vocab_size)\n",
    "  trigram_log_prob = math.log2(trigram_prob)\n",
    "  #print(\"P(the, Department) : {0:.3f} \".format(trigram_prob))\n",
    "  #print(f\"{i}\",trigram_prob)\n",
    "  s_tri+=trigram_log_prob\n",
    "  #print(f\"{i}\",trigram_log_prob)\n",
    " \n",
    "# Print the total sum of Bigram log-probabilities\n",
    "print(\"Sum of Bigram Log-Probabilities: \",s_bi)\n",
    "print(\"Sum of Trigram Log-Probabilities: \",s_tri)"
   ]
  },
  {
   "cell_type": "code",
   "execution_count": null,
   "metadata": {
    "id": "lKQXqwHMVp55"
   },
   "outputs": [],
   "source": [
    "my_dict = {}\n",
    "\n",
    "for i in [('<s>', 'And')]:\n",
    "  bigram_prob = (bigram_counter[i] + alpha) / (unigram_counter[(i[0],)] + alpha*vocab_size)\n",
    "  my_dict.update({i: bigram_prob})"
   ]
  },
  {
   "cell_type": "code",
   "execution_count": null,
   "metadata": {
    "colab": {
     "base_uri": "https://localhost:8080/"
    },
    "executionInfo": {
     "elapsed": 12,
     "status": "ok",
     "timestamp": 1674411756728,
     "user": {
      "displayName": "Σπύρος Μαστροδημήτρης",
      "userId": "05822789757280910665"
     },
     "user_tz": -120
    },
    "id": "pwAoGjAyZRdU",
    "outputId": "7501b62d-0f77-4572-bdfe-199fa46243e9"
   },
   "outputs": [
    {
     "data": {
      "text/plain": [
       "{('<s>', 'And'): 2.072093023255814}"
      ]
     },
     "execution_count": 14,
     "metadata": {},
     "output_type": "execute_result"
    }
   ],
   "source": [
    "my_dict"
   ]
  },
  {
   "cell_type": "markdown",
   "metadata": {
    "id": "p43899F4o5zY"
   },
   "source": [
    "2nd Approach"
   ]
  },
  {
   "cell_type": "code",
   "execution_count": null,
   "metadata": {
    "id": "aiLlNKoWo8Jv"
   },
   "outputs": [],
   "source": [
    "from collections import Counter\n",
    "from nltk.util import ngrams\n",
    "from pprint import pprint\n",
    "\n",
    "\n",
    "unigram_counter = Counter()\n",
    "bigram_counter = Counter()\n",
    "trigram_counter = Counter()\n",
    "\n",
    "\n",
    "# Unigram, Bigram, Trigram model creation\n",
    "for sent in sentences_tokenized:\n",
    "\n",
    "    # Update the unigram counter\n",
    "    unigram_counter.update([(gram,) for gram in [\"<s>\"] + sent])\n",
    "    \n",
    "    # Update the bigram counter\n",
    "    bigram_pad_sent = [\"<s>\"] + sent +  ['<e>']    \n",
    "    bigram_counter.update([(gram1, gram2) for gram1, gram2 in zip(bigram_pad_sent, bigram_pad_sent[1:])])\n",
    "\n",
    "    # Update the trigram counter\n",
    "    trigram_pad_sent = [\"<s>\"]*2 + sent +  ['<e>']*2\n",
    "    trigram_counter.update([(gram1, gram2, gram3) for gram1, gram2, gram3 in zip(trigram_pad_sent, trigram_pad_sent[1:], trigram_pad_sent[2:])]) \n",
    "\n",
    "\n",
    "pprint(unigram_counter.most_common(10))   \n",
    "pprint(bigram_counter.most_common(10))\n",
    "pprint(trigram_counter.most_common(10))"
   ]
  },
  {
   "cell_type": "code",
   "execution_count": null,
   "metadata": {
    "id": "KppybqqApKPh"
   },
   "outputs": [],
   "source": [
    "my_dict = {}\n",
    "\n",
    "for i in [('<s>','<s>', 'And')]:\n",
    "  trigram_prob = (trigram_counter[i] + alpha) / (bigram_counter[(i[0],i[1])] + alpha*vocab_size)\n",
    "  my_dict.update({i: trigram_prob})"
   ]
  },
  {
   "cell_type": "code",
   "execution_count": null,
   "metadata": {
    "colab": {
     "base_uri": "https://localhost:8080/"
    },
    "executionInfo": {
     "elapsed": 8,
     "status": "ok",
     "timestamp": 1674411757019,
     "user": {
      "displayName": "Σπύρος Μαστροδημήτρης",
      "userId": "05822789757280910665"
     },
     "user_tz": -120
    },
    "id": "4KsEDpeRpKPh",
    "outputId": "ccf632c5-d2ac-40c4-a429-3d4f59fd0d1b"
   },
   "outputs": [
    {
     "data": {
      "text/plain": [
       "{('<s>', '<s>', 'And'): 2.5930232558139537}"
      ]
     },
     "execution_count": 17,
     "metadata": {},
     "output_type": "execute_result"
    }
   ],
   "source": [
    "my_dict"
   ]
  },
  {
   "cell_type": "markdown",
   "metadata": {
    "id": "xtlrMxjgQfm3"
   },
   "source": [
    "Levensthein Ratio"
   ]
  },
  {
   "cell_type": "code",
   "execution_count": null,
   "metadata": {
    "id": "242jqLhIQlnO"
   },
   "outputs": [],
   "source": [
    "#Beam search for mass input \n",
    "import Levenshtein\n",
    "from collections import defaultdict\n",
    "\n",
    "def beam_search_t_test(testList, tri_prob, vocabulary, beam_width=3):\n",
    "    #Add start tokens\n",
    "    t_list = copy.deepcopy(testList)\n",
    "    t_list.insert(0, \"<s>\")\n",
    "    t_list.insert(0, \"<s>\")\n",
    "\n",
    "    #Clear the existing tree\n",
    "    current_nodes = []\n",
    "\n",
    "    #Tokenise sentence\n",
    "    words = t_list\n",
    "    current_nodes = [(words[0] + \" \" + words[1], 1.0, [words[0], words[1]])]\n",
    "\n",
    "    #For every word in the sentence\n",
    "    for i in range(2, len(words)):\n",
    "        next_nodes = []\n",
    "        #For every selected parent node\n",
    "\n",
    "        #For every candidate node\n",
    "        for node in current_nodes:\n",
    "            closest_words = sorted(vocabulary, key=lambda x: Levenshtein.distance(x, words[i]))[:20]\n",
    "\n",
    "            #For every candidate node\n",
    "            for candidate in closest_words:\n",
    "                #Exception for absent key\n",
    "                try:\n",
    "                    model_prob=tri_prob[node[0],candidate]\n",
    "                except KeyError:\n",
    "                    model_prob = 0\n",
    "                \n",
    "                #Language model and Levenshtein weights\n",
    "                l1 = 0.55\n",
    "                l2 = 0.45\n",
    "\n",
    "                #Calculate probability\n",
    "                prob = (l1*model_prob) + (l2*pow((Levenshtein.ratio(candidate, words[i])),2))\n",
    "\n",
    "                #Update current path of nodes\n",
    "                lineage = node[2] + [candidate]\n",
    "                next_nodes.append((candidate, prob * node[1], lineage))\n",
    "\n",
    "        #Sort by probability in descending order and save top 3\n",
    "        current_nodes = sorted(next_nodes, key=lambda x: x[1], reverse=True)[:beam_width]\n",
    "    return [(node[2], node[1]) for node in current_nodes]\n",
    "\n",
    "#Show reults\n",
    "print(beam_search_t_test(testing_list, tri_prob, voc))"
   ]
  },
  {
   "cell_type": "code",
   "execution_count": null,
   "metadata": {
    "id": "7QaKpqXhQnjg"
   },
   "outputs": [],
   "source": []
  },
  {
   "cell_type": "code",
   "execution_count": null,
   "metadata": {
    "colab": {
     "base_uri": "https://localhost:8080/"
    },
    "executionInfo": {
     "elapsed": 4891,
     "status": "ok",
     "timestamp": 1675092741429,
     "user": {
      "displayName": "Σπύρος Μαστροδημήτρης",
      "userId": "05822789757280910665"
     },
     "user_tz": -120
    },
    "id": "jQzl8iaLTJX1",
    "outputId": "a7d3788c-4244-44c4-f92f-060532fec75f"
   },
   "outputs": [
    {
     "name": "stdout",
     "output_type": "stream",
     "text": [
      "Biagram model WER: 0.12615553795371387\n"
     ]
    }
   ],
   "source": [
    "from evaluate import load\n",
    "from statistics import mean\n",
    "\n",
    "wer = load(\"wer\")\n",
    "\n",
    "#Create an empty list for saving the corresponding scores\n",
    "bi_wer_scores=[]\n",
    "for i in range(len(test)): \n",
    "  #Use the already created \"bsc_caller\" function and the \"wer.compute\" to calculate the WER score\n",
    "  wer_score = wer.compute(predictions= bsc_caller(test[i]), references=test[i])\n",
    "  #Store the scores to a list\n",
    "  bi_wer_scores.append(wer_score)\n",
    "#Calculate & print the average of the WER scores\n",
    "print(\"Biagram model WER:\", mean(bi_wer_scores))\n",
    "u_error =  mean(bi_wer_scores)"
   ]
  },
  {
   "cell_type": "code",
   "execution_count": null,
   "metadata": {
    "colab": {
     "base_uri": "https://localhost:8080/"
    },
    "executionInfo": {
     "elapsed": 5719,
     "status": "ok",
     "timestamp": 1675092749404,
     "user": {
      "displayName": "Σπύρος Μαστροδημήτρης",
      "userId": "05822789757280910665"
     },
     "user_tz": -120
    },
    "id": "87ZtGTtJ9r4a",
    "outputId": "d3d08417-4d2f-4d8c-be35-da199b759540"
   },
   "outputs": [
    {
     "name": "stdout",
     "output_type": "stream",
     "text": [
      "Biagram model WER: 0.1874853821795896\n"
     ]
    }
   ],
   "source": [
    "from evaluate import load\n",
    "from statistics import mean\n",
    "\n",
    "wer = load(\"wer\")\n",
    "\n",
    "#Create an empty list for saving the corresponding scores\n",
    "bi_wer_scores=[]\n",
    "for i in range(len(test)): \n",
    "  #Use the already created \"bsc_caller\" function and the \"wer.compute\" to calculate the WER score\n",
    "  wer_score = wer.compute(predictions= bsc_caller(rep_test[i]), references=test[i])\n",
    "  #Store the scores to a list\n",
    "  bi_wer_scores.append(wer_score)\n",
    "#Calculate & print the average of the WER scores\n",
    "print(\"Biagram model WER:\", mean(bi_wer_scores))\n",
    "f_error = mean(bi_wer_scores)"
   ]
  },
  {
   "cell_type": "code",
   "execution_count": null,
   "metadata": {
    "colab": {
     "base_uri": "https://localhost:8080/"
    },
    "executionInfo": {
     "elapsed": 9,
     "status": "ok",
     "timestamp": 1675092770147,
     "user": {
      "displayName": "Σπύρος Μαστροδημήτρης",
      "userId": "05822789757280910665"
     },
     "user_tz": -120
    },
    "id": "l_lk-jTbTi5P",
    "outputId": "dbe62039-51ec-4a86-b454-62f2b9f344a8"
   },
   "outputs": [
    {
     "name": "stdout",
     "output_type": "stream",
     "text": [
      "0.06132984422587573\n"
     ]
    }
   ],
   "source": [
    "true_b_error = f_error - u_error\n",
    "print(true_b_error)"
   ]
  },
  {
   "cell_type": "code",
   "execution_count": null,
   "metadata": {
    "id": "89NqQW90VXEs"
   },
   "outputs": [],
   "source": [
    "unknown = 0 \n",
    "all = 0\n",
    "for i in range(len(test)):\n",
    "  for j in range(len(test[i])):\n",
    "    all = all +1\n",
    "    if (test[i][j]==\"*UNK*\"):\n",
    "      unknown = unknown + 1\n",
    "\n",
    "print(unknown)\n",
    "print(all)\n",
    "print(unknown/all)    "
   ]
  },
  {
   "cell_type": "code",
   "execution_count": null,
   "metadata": {
    "id": "ujR7UFdTVeU7"
   },
   "outputs": [],
   "source": []
  }
 ],
 "metadata": {
  "colab": {
   "provenance": [
    {
     "file_id": "1iY7cN-gPWSQ3W0hFxsNZbQi8TnanX049",
     "timestamp": 1674412614915
    }
   ]
  },
  "kernelspec": {
   "display_name": "Python 3 (ipykernel)",
   "language": "python",
   "name": "python3"
  },
  "language_info": {
   "codemirror_mode": {
    "name": "ipython",
    "version": 3
   },
   "file_extension": ".py",
   "mimetype": "text/x-python",
   "name": "python",
   "nbconvert_exporter": "python",
   "pygments_lexer": "ipython3",
   "version": "3.9.12"
  }
 },
 "nbformat": 4,
 "nbformat_minor": 1
}
