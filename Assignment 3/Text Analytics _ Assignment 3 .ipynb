{
 "cells": [
  {
   "cell_type": "markdown",
   "metadata": {
    "id": "a2DPB0hIeXAp"
   },
   "source": [
    "#Text Analytics | Assignment 3"
   ]
  },
  {
   "cell_type": "markdown",
   "metadata": {
    "id": "eWyo3oIYfBd0"
   },
   "source": [
    "**Submitted by:**"
   ]
  },
  {
   "cell_type": "markdown",
   "metadata": {
    "id": "KO9PPuszepCy"
   },
   "source": [
    "Spyros Mastrodimitris Gounaropoulos\n",
    "\n",
    "Panagiota Tavoularea \n",
    "\n",
    "Panagiotis Antoniozas \n",
    "\n",
    "\n",
    "\n"
   ]
  },
  {
   "cell_type": "markdown",
   "metadata": {
    "id": "osDUfWQv31No"
   },
   "source": [
    "##Downloading, Importing & Understanding our Data Set"
   ]
  },
  {
   "cell_type": "code",
   "execution_count": null,
   "metadata": {
    "colab": {
     "base_uri": "https://localhost:8080/"
    },
    "executionInfo": {
     "elapsed": 1438,
     "status": "ok",
     "timestamp": 1677771202018,
     "user": {
      "displayName": "Σπύρος Μαστροδημήτρης",
      "userId": "05822789757280910665"
     },
     "user_tz": -120
    },
    "id": "X0Rsqw7w0OqL",
    "outputId": "8f86e774-b8d1-43e0-f643-3ebc73619f6f"
   },
   "outputs": [
    {
     "name": "stdout",
     "output_type": "stream",
     "text": [
      "--2023-03-02 15:33:19--  http://www.cs.cornell.edu/people/pabo/movie-review-data/review_polarity.tar.gz\n",
      "Resolving www.cs.cornell.edu (www.cs.cornell.edu)... 132.236.207.36\n",
      "Connecting to www.cs.cornell.edu (www.cs.cornell.edu)|132.236.207.36|:80... connected.\n",
      "HTTP request sent, awaiting response... 200 OK\n",
      "Length: 3127238 (3.0M) [application/x-gzip]\n",
      "Saving to: ‘review_polarity.tar.gz.2’\n",
      "\n",
      "review_polarity.tar 100%[===================>]   2.98M  4.95MB/s    in 0.6s    \n",
      "\n",
      "2023-03-02 15:33:20 (4.95 MB/s) - ‘review_polarity.tar.gz.2’ saved [3127238/3127238]\n",
      "\n",
      "txt_sentoken/neg/cv000_29416.txt\n",
      "txt_sentoken/neg/cv001_19502.txt\n",
      "txt_sentoken/neg/cv002_17424.txt\n",
      "txt_sentoken/neg/cv003_12683.txt\n",
      "txt_sentoken/neg/cv004_12641.txt\n",
      "txt_sentoken/neg/cv005_29357.txt\n",
      "txt_sentoken/neg/cv006_17022.txt\n",
      "txt_sentoken/neg/cv007_4992.txt\n",
      "txt_sentoken/neg/cv008_29326.txt\n",
      "txt_sentoken/neg/cv009_29417.txt\n",
      "txt_sentoken/neg/cv010_29063.txt\n",
      "txt_sentoken/neg/cv011_13044.txt\n",
      "txt_sentoken/neg/cv012_29411.txt\n",
      "txt_sentoken/neg/cv013_10494.txt\n",
      "txt_sentoken/neg/cv014_15600.txt\n",
      "txt_sentoken/neg/cv015_29356.txt\n",
      "txt_sentoken/neg/cv016_4348.txt\n",
      "txt_sentoken/neg/cv017_23487.txt\n",
      "txt_sentoken/neg/cv018_21672.txt\n",
      "txt_sentoken/neg/cv019_16117.txt\n",
      "txt_sentoken/neg/cv020_9234.txt\n",
      "txt_sentoken/neg/cv021_17313.txt\n",
      "txt_sentoken/neg/cv022_14227.txt\n",
      "txt_sentoken/neg/cv023_13847.txt\n",
      "txt_sentoken/neg/cv024_7033.txt\n",
      "txt_sentoken/neg/cv025_29825.txt\n",
      "txt_sentoken/neg/cv026_29229.txt\n",
      "txt_sentoken/neg/cv027_26270.txt\n",
      "txt_sentoken/neg/cv028_26964.txt\n",
      "txt_sentoken/neg/cv029_19943.txt\n",
      "txt_sentoken/neg/cv030_22893.txt\n",
      "txt_sentoken/neg/cv031_19540.txt\n",
      "txt_sentoken/neg/cv032_23718.txt\n",
      "txt_sentoken/neg/cv033_25680.txt\n",
      "txt_sentoken/neg/cv034_29446.txt\n",
      "txt_sentoken/neg/cv035_3343.txt\n",
      "txt_sentoken/neg/cv036_18385.txt\n",
      "txt_sentoken/neg/cv037_19798.txt\n",
      "txt_sentoken/neg/cv038_9781.txt\n",
      "txt_sentoken/neg/cv039_5963.txt\n",
      "txt_sentoken/neg/cv040_8829.txt\n",
      "txt_sentoken/neg/cv041_22364.txt\n",
      "txt_sentoken/neg/cv042_11927.txt\n",
      "txt_sentoken/neg/cv043_16808.txt\n",
      "txt_sentoken/neg/cv044_18429.txt\n",
      "txt_sentoken/neg/cv045_25077.txt\n",
      "txt_sentoken/neg/cv046_10613.txt\n",
      "txt_sentoken/neg/cv047_18725.txt\n",
      "txt_sentoken/neg/cv048_18380.txt\n",
      "txt_sentoken/neg/cv049_21917.txt\n",
      "txt_sentoken/neg/cv050_12128.txt\n",
      "txt_sentoken/neg/cv051_10751.txt\n",
      "txt_sentoken/neg/cv052_29318.txt\n",
      "txt_sentoken/neg/cv053_23117.txt\n",
      "txt_sentoken/neg/cv054_4101.txt\n",
      "txt_sentoken/neg/cv055_8926.txt\n",
      "txt_sentoken/neg/cv056_14663.txt\n",
      "txt_sentoken/neg/cv057_7962.txt\n",
      "txt_sentoken/neg/cv058_8469.txt\n",
      "txt_sentoken/neg/cv059_28723.txt\n",
      "txt_sentoken/neg/cv060_11754.txt\n",
      "txt_sentoken/neg/cv061_9321.txt\n",
      "txt_sentoken/neg/cv062_24556.txt\n",
      "txt_sentoken/neg/cv063_28852.txt\n",
      "txt_sentoken/neg/cv064_25842.txt\n",
      "txt_sentoken/neg/cv065_16909.txt\n",
      "txt_sentoken/neg/cv066_11668.txt\n",
      "txt_sentoken/neg/cv067_21192.txt\n",
      "txt_sentoken/neg/cv068_14810.txt\n",
      "txt_sentoken/neg/cv069_11613.txt\n",
      "txt_sentoken/neg/cv070_13249.txt\n",
      "txt_sentoken/neg/cv071_12969.txt\n",
      "txt_sentoken/neg/cv072_5928.txt\n",
      "txt_sentoken/neg/cv073_23039.txt\n",
      "txt_sentoken/neg/cv074_7188.txt\n",
      "txt_sentoken/neg/cv075_6250.txt\n",
      "txt_sentoken/neg/cv076_26009.txt\n",
      "txt_sentoken/neg/cv077_23172.txt\n",
      "txt_sentoken/neg/cv078_16506.txt\n",
      "txt_sentoken/neg/cv079_12766.txt\n",
      "txt_sentoken/neg/cv080_14899.txt\n",
      "txt_sentoken/neg/cv081_18241.txt\n",
      "txt_sentoken/neg/cv082_11979.txt\n",
      "txt_sentoken/neg/cv083_25491.txt\n",
      "txt_sentoken/neg/cv084_15183.txt\n",
      "txt_sentoken/neg/cv085_15286.txt\n",
      "txt_sentoken/neg/cv086_19488.txt\n",
      "txt_sentoken/neg/cv087_2145.txt\n",
      "txt_sentoken/neg/cv088_25274.txt\n",
      "txt_sentoken/neg/cv089_12222.txt\n",
      "txt_sentoken/neg/cv090_0049.txt\n",
      "txt_sentoken/neg/cv091_7899.txt\n",
      "txt_sentoken/neg/cv092_27987.txt\n",
      "txt_sentoken/neg/cv093_15606.txt\n",
      "txt_sentoken/neg/cv094_27868.txt\n",
      "txt_sentoken/neg/cv095_28730.txt\n",
      "txt_sentoken/neg/cv096_12262.txt\n",
      "txt_sentoken/neg/cv097_26081.txt\n",
      "txt_sentoken/neg/cv098_17021.txt\n",
      "txt_sentoken/neg/cv099_11189.txt\n",
      "txt_sentoken/neg/cv100_12406.txt\n",
      "txt_sentoken/neg/cv101_10537.txt\n",
      "txt_sentoken/neg/cv102_8306.txt\n",
      "txt_sentoken/neg/cv103_11943.txt\n",
      "txt_sentoken/neg/cv104_19176.txt\n",
      "txt_sentoken/neg/cv105_19135.txt\n",
      "txt_sentoken/neg/cv106_18379.txt\n",
      "txt_sentoken/neg/cv107_25639.txt\n",
      "txt_sentoken/neg/cv108_17064.txt\n",
      "txt_sentoken/neg/cv109_22599.txt\n",
      "txt_sentoken/neg/cv110_27832.txt\n",
      "txt_sentoken/neg/cv111_12253.txt\n",
      "txt_sentoken/neg/cv112_12178.txt\n",
      "txt_sentoken/neg/cv113_24354.txt\n",
      "txt_sentoken/neg/cv114_19501.txt\n",
      "txt_sentoken/neg/cv115_26443.txt\n",
      "txt_sentoken/neg/cv116_28734.txt\n",
      "txt_sentoken/neg/cv117_25625.txt\n",
      "txt_sentoken/neg/cv118_28837.txt\n",
      "txt_sentoken/neg/cv119_9909.txt\n",
      "txt_sentoken/neg/cv120_3793.txt\n",
      "txt_sentoken/neg/cv121_18621.txt\n",
      "txt_sentoken/neg/cv122_7891.txt\n",
      "txt_sentoken/neg/cv123_12165.txt\n",
      "txt_sentoken/neg/cv124_3903.txt\n",
      "txt_sentoken/neg/cv125_9636.txt\n",
      "txt_sentoken/neg/cv126_28821.txt\n",
      "txt_sentoken/neg/cv127_16451.txt\n",
      "txt_sentoken/neg/cv128_29444.txt\n",
      "txt_sentoken/neg/cv129_18373.txt\n",
      "txt_sentoken/neg/cv130_18521.txt\n",
      "txt_sentoken/neg/cv131_11568.txt\n",
      "txt_sentoken/neg/cv132_5423.txt\n",
      "txt_sentoken/neg/cv133_18065.txt\n",
      "txt_sentoken/neg/cv134_23300.txt\n",
      "txt_sentoken/neg/cv135_12506.txt\n",
      "txt_sentoken/neg/cv136_12384.txt\n",
      "txt_sentoken/neg/cv137_17020.txt\n",
      "txt_sentoken/neg/cv138_13903.txt\n",
      "txt_sentoken/neg/cv139_14236.txt\n",
      "txt_sentoken/neg/cv140_7963.txt\n",
      "txt_sentoken/neg/cv141_17179.txt\n",
      "txt_sentoken/neg/cv142_23657.txt\n",
      "txt_sentoken/neg/cv143_21158.txt\n",
      "txt_sentoken/neg/cv144_5010.txt\n",
      "txt_sentoken/neg/cv145_12239.txt\n",
      "txt_sentoken/neg/cv146_19587.txt\n",
      "txt_sentoken/neg/cv147_22625.txt\n",
      "txt_sentoken/neg/cv148_18084.txt\n",
      "txt_sentoken/neg/cv149_17084.txt\n",
      "txt_sentoken/neg/cv150_14279.txt\n",
      "txt_sentoken/neg/cv151_17231.txt\n",
      "txt_sentoken/neg/cv152_9052.txt\n",
      "txt_sentoken/neg/cv153_11607.txt\n",
      "txt_sentoken/neg/cv154_9562.txt\n",
      "txt_sentoken/neg/cv155_7845.txt\n",
      "txt_sentoken/neg/cv156_11119.txt\n",
      "txt_sentoken/neg/cv157_29302.txt\n",
      "txt_sentoken/neg/cv158_10914.txt\n",
      "txt_sentoken/neg/cv159_29374.txt\n",
      "txt_sentoken/neg/cv160_10848.txt\n",
      "txt_sentoken/neg/cv161_12224.txt\n",
      "txt_sentoken/neg/cv162_10977.txt\n",
      "txt_sentoken/neg/cv163_10110.txt\n",
      "txt_sentoken/neg/cv164_23451.txt\n",
      "txt_sentoken/neg/cv165_2389.txt\n",
      "txt_sentoken/neg/cv166_11959.txt\n",
      "txt_sentoken/neg/cv167_18094.txt\n",
      "txt_sentoken/neg/cv168_7435.txt\n",
      "txt_sentoken/neg/cv169_24973.txt\n",
      "txt_sentoken/neg/cv170_29808.txt\n",
      "txt_sentoken/neg/cv171_15164.txt\n",
      "txt_sentoken/neg/cv172_12037.txt\n",
      "txt_sentoken/neg/cv173_4295.txt\n",
      "txt_sentoken/neg/cv174_9735.txt\n",
      "txt_sentoken/neg/cv175_7375.txt\n",
      "txt_sentoken/neg/cv176_14196.txt\n",
      "txt_sentoken/neg/cv177_10904.txt\n",
      "txt_sentoken/neg/cv178_14380.txt\n",
      "txt_sentoken/neg/cv179_9533.txt\n",
      "txt_sentoken/neg/cv180_17823.txt\n",
      "txt_sentoken/neg/cv181_16083.txt\n",
      "txt_sentoken/neg/cv182_7791.txt\n",
      "txt_sentoken/neg/cv183_19826.txt\n",
      "txt_sentoken/neg/cv184_26935.txt\n",
      "txt_sentoken/neg/cv185_28372.txt\n",
      "txt_sentoken/neg/cv186_2396.txt\n",
      "txt_sentoken/neg/cv187_14112.txt\n",
      "txt_sentoken/neg/cv188_20687.txt\n",
      "txt_sentoken/neg/cv189_24248.txt\n",
      "txt_sentoken/neg/cv190_27176.txt\n",
      "txt_sentoken/neg/cv191_29539.txt\n",
      "txt_sentoken/neg/cv192_16079.txt\n",
      "txt_sentoken/neg/cv193_5393.txt\n",
      "txt_sentoken/neg/cv194_12855.txt\n",
      "txt_sentoken/neg/cv195_16146.txt\n",
      "txt_sentoken/neg/cv196_28898.txt\n",
      "txt_sentoken/neg/cv197_29271.txt\n",
      "txt_sentoken/neg/cv198_19313.txt\n",
      "txt_sentoken/neg/cv199_9721.txt\n",
      "txt_sentoken/neg/cv200_29006.txt\n",
      "txt_sentoken/neg/cv201_7421.txt\n",
      "txt_sentoken/neg/cv202_11382.txt\n",
      "txt_sentoken/neg/cv203_19052.txt\n",
      "txt_sentoken/neg/cv204_8930.txt\n",
      "txt_sentoken/neg/cv205_9676.txt\n",
      "txt_sentoken/neg/cv206_15893.txt\n",
      "txt_sentoken/neg/cv207_29141.txt\n",
      "txt_sentoken/neg/cv208_9475.txt\n",
      "txt_sentoken/neg/cv209_28973.txt\n",
      "txt_sentoken/neg/cv210_9557.txt\n",
      "txt_sentoken/neg/cv211_9955.txt\n",
      "txt_sentoken/neg/cv212_10054.txt\n",
      "txt_sentoken/neg/cv213_20300.txt\n",
      "txt_sentoken/neg/cv214_13285.txt\n",
      "txt_sentoken/neg/cv215_23246.txt\n",
      "txt_sentoken/neg/cv216_20165.txt\n",
      "txt_sentoken/neg/cv217_28707.txt\n",
      "txt_sentoken/neg/cv218_25651.txt\n",
      "txt_sentoken/neg/cv219_19874.txt\n",
      "txt_sentoken/neg/cv220_28906.txt\n",
      "txt_sentoken/neg/cv221_27081.txt\n",
      "txt_sentoken/neg/cv222_18720.txt\n",
      "txt_sentoken/neg/cv223_28923.txt\n",
      "txt_sentoken/neg/cv224_18875.txt\n",
      "txt_sentoken/neg/cv225_29083.txt\n",
      "txt_sentoken/neg/cv226_26692.txt\n",
      "txt_sentoken/neg/cv227_25406.txt\n",
      "txt_sentoken/neg/cv228_5644.txt\n",
      "txt_sentoken/neg/cv229_15200.txt\n",
      "txt_sentoken/neg/cv230_7913.txt\n",
      "txt_sentoken/neg/cv231_11028.txt\n",
      "txt_sentoken/neg/cv232_16768.txt\n",
      "txt_sentoken/neg/cv233_17614.txt\n",
      "txt_sentoken/neg/cv234_22123.txt\n",
      "txt_sentoken/neg/cv235_10704.txt\n",
      "txt_sentoken/neg/cv236_12427.txt\n",
      "txt_sentoken/neg/cv237_20635.txt\n",
      "txt_sentoken/neg/cv238_14285.txt\n",
      "txt_sentoken/neg/cv239_29828.txt\n",
      "txt_sentoken/neg/cv240_15948.txt\n",
      "txt_sentoken/neg/cv241_24602.txt\n",
      "txt_sentoken/neg/cv242_11354.txt\n",
      "txt_sentoken/neg/cv243_22164.txt\n",
      "txt_sentoken/neg/cv244_22935.txt\n",
      "txt_sentoken/neg/cv245_8938.txt\n",
      "txt_sentoken/neg/cv246_28668.txt\n",
      "txt_sentoken/neg/cv247_14668.txt\n",
      "txt_sentoken/neg/cv248_15672.txt\n",
      "txt_sentoken/neg/cv249_12674.txt\n",
      "txt_sentoken/neg/cv250_26462.txt\n",
      "txt_sentoken/neg/cv251_23901.txt\n",
      "txt_sentoken/neg/cv252_24974.txt\n",
      "txt_sentoken/neg/cv253_10190.txt\n",
      "txt_sentoken/neg/cv254_5870.txt\n",
      "txt_sentoken/neg/cv255_15267.txt\n",
      "txt_sentoken/neg/cv256_16529.txt\n",
      "txt_sentoken/neg/cv257_11856.txt\n",
      "txt_sentoken/neg/cv258_5627.txt\n",
      "txt_sentoken/neg/cv259_11827.txt\n",
      "txt_sentoken/neg/cv260_15652.txt\n",
      "txt_sentoken/neg/cv261_11855.txt\n",
      "txt_sentoken/neg/cv262_13812.txt\n",
      "txt_sentoken/neg/cv263_20693.txt\n",
      "txt_sentoken/neg/cv264_14108.txt\n",
      "txt_sentoken/neg/cv265_11625.txt\n",
      "txt_sentoken/neg/cv266_26644.txt\n",
      "txt_sentoken/neg/cv267_16618.txt\n",
      "txt_sentoken/neg/cv268_20288.txt\n",
      "txt_sentoken/neg/cv269_23018.txt\n",
      "txt_sentoken/neg/cv270_5873.txt\n",
      "txt_sentoken/neg/cv271_15364.txt\n",
      "txt_sentoken/neg/cv272_20313.txt\n",
      "txt_sentoken/neg/cv273_28961.txt\n",
      "txt_sentoken/neg/cv274_26379.txt\n",
      "txt_sentoken/neg/cv275_28725.txt\n",
      "txt_sentoken/neg/cv276_17126.txt\n",
      "txt_sentoken/neg/cv277_20467.txt\n",
      "txt_sentoken/neg/cv278_14533.txt\n",
      "txt_sentoken/neg/cv279_19452.txt\n",
      "txt_sentoken/neg/cv280_8651.txt\n",
      "txt_sentoken/neg/cv281_24711.txt\n",
      "txt_sentoken/neg/cv282_6833.txt\n",
      "txt_sentoken/neg/cv283_11963.txt\n",
      "txt_sentoken/neg/cv284_20530.txt\n",
      "txt_sentoken/neg/cv285_18186.txt\n",
      "txt_sentoken/neg/cv286_26156.txt\n",
      "txt_sentoken/neg/cv287_17410.txt\n",
      "txt_sentoken/neg/cv288_20212.txt\n",
      "txt_sentoken/neg/cv289_6239.txt\n",
      "txt_sentoken/neg/cv290_11981.txt\n",
      "txt_sentoken/neg/cv291_26844.txt\n",
      "txt_sentoken/neg/cv292_7804.txt\n",
      "txt_sentoken/neg/cv293_29731.txt\n",
      "txt_sentoken/neg/cv294_12695.txt\n",
      "txt_sentoken/neg/cv295_17060.txt\n",
      "txt_sentoken/neg/cv296_13146.txt\n",
      "txt_sentoken/neg/cv297_10104.txt\n",
      "txt_sentoken/neg/cv298_24487.txt\n",
      "txt_sentoken/neg/cv299_17950.txt\n",
      "txt_sentoken/neg/cv300_23302.txt\n",
      "txt_sentoken/neg/cv301_13010.txt\n",
      "txt_sentoken/neg/cv302_26481.txt\n",
      "txt_sentoken/neg/cv303_27366.txt\n",
      "txt_sentoken/neg/cv304_28489.txt\n",
      "txt_sentoken/neg/cv305_9937.txt\n",
      "txt_sentoken/neg/cv306_10859.txt\n",
      "txt_sentoken/neg/cv307_26382.txt\n",
      "txt_sentoken/neg/cv308_5079.txt\n",
      "txt_sentoken/neg/cv309_23737.txt\n",
      "txt_sentoken/neg/cv310_14568.txt\n",
      "txt_sentoken/neg/cv311_17708.txt\n",
      "txt_sentoken/neg/cv312_29308.txt\n",
      "txt_sentoken/neg/cv313_19337.txt\n",
      "txt_sentoken/neg/cv314_16095.txt\n",
      "txt_sentoken/neg/cv315_12638.txt\n",
      "txt_sentoken/neg/cv316_5972.txt\n",
      "txt_sentoken/neg/cv317_25111.txt\n",
      "txt_sentoken/neg/cv318_11146.txt\n",
      "txt_sentoken/neg/cv319_16459.txt\n",
      "txt_sentoken/neg/cv320_9693.txt\n",
      "txt_sentoken/neg/cv321_14191.txt\n",
      "txt_sentoken/neg/cv322_21820.txt\n",
      "txt_sentoken/neg/cv323_29633.txt\n",
      "txt_sentoken/neg/cv324_7502.txt\n",
      "txt_sentoken/neg/cv325_18330.txt\n",
      "txt_sentoken/neg/cv326_14777.txt\n",
      "txt_sentoken/neg/cv327_21743.txt\n",
      "txt_sentoken/neg/cv328_10908.txt\n",
      "txt_sentoken/neg/cv329_29293.txt\n",
      "txt_sentoken/neg/cv330_29675.txt\n",
      "txt_sentoken/neg/cv331_8656.txt\n",
      "txt_sentoken/neg/cv332_17997.txt\n",
      "txt_sentoken/neg/cv333_9443.txt\n",
      "txt_sentoken/neg/cv334_0074.txt\n",
      "txt_sentoken/neg/cv335_16299.txt\n",
      "txt_sentoken/neg/cv336_10363.txt\n",
      "txt_sentoken/neg/cv337_29061.txt\n",
      "txt_sentoken/neg/cv338_9183.txt\n",
      "txt_sentoken/neg/cv339_22452.txt\n",
      "txt_sentoken/neg/cv340_14776.txt\n",
      "txt_sentoken/neg/cv341_25667.txt\n",
      "txt_sentoken/neg/cv342_20917.txt\n",
      "txt_sentoken/neg/cv343_10906.txt\n",
      "txt_sentoken/neg/cv344_5376.txt\n",
      "txt_sentoken/neg/cv345_9966.txt\n",
      "txt_sentoken/neg/cv346_19198.txt\n",
      "txt_sentoken/neg/cv347_14722.txt\n",
      "txt_sentoken/neg/cv348_19207.txt\n",
      "txt_sentoken/neg/cv349_15032.txt\n",
      "txt_sentoken/neg/cv350_22139.txt\n",
      "txt_sentoken/neg/cv351_17029.txt\n",
      "txt_sentoken/neg/cv352_5414.txt\n",
      "txt_sentoken/neg/cv353_19197.txt\n",
      "txt_sentoken/neg/cv354_8573.txt\n",
      "txt_sentoken/neg/cv355_18174.txt\n",
      "txt_sentoken/neg/cv356_26170.txt\n",
      "txt_sentoken/neg/cv357_14710.txt\n",
      "txt_sentoken/neg/cv358_11557.txt\n",
      "txt_sentoken/neg/cv359_6751.txt\n",
      "txt_sentoken/neg/cv360_8927.txt\n",
      "txt_sentoken/neg/cv361_28738.txt\n",
      "txt_sentoken/neg/cv362_16985.txt\n",
      "txt_sentoken/neg/cv363_29273.txt\n",
      "txt_sentoken/neg/cv364_14254.txt\n",
      "txt_sentoken/neg/cv365_12442.txt\n",
      "txt_sentoken/neg/cv366_10709.txt\n",
      "txt_sentoken/neg/cv367_24065.txt\n",
      "txt_sentoken/neg/cv368_11090.txt\n",
      "txt_sentoken/neg/cv369_14245.txt\n",
      "txt_sentoken/neg/cv370_5338.txt\n",
      "txt_sentoken/neg/cv371_8197.txt\n",
      "txt_sentoken/neg/cv372_6654.txt\n",
      "txt_sentoken/neg/cv373_21872.txt\n",
      "txt_sentoken/neg/cv374_26455.txt\n",
      "txt_sentoken/neg/cv375_9932.txt\n",
      "txt_sentoken/neg/cv376_20883.txt\n",
      "txt_sentoken/neg/cv377_8440.txt\n",
      "txt_sentoken/neg/cv378_21982.txt\n",
      "txt_sentoken/neg/cv379_23167.txt\n",
      "txt_sentoken/neg/cv380_8164.txt\n",
      "txt_sentoken/neg/cv381_21673.txt\n",
      "txt_sentoken/neg/cv382_8393.txt\n",
      "txt_sentoken/neg/cv383_14662.txt\n",
      "txt_sentoken/neg/cv384_18536.txt\n",
      "txt_sentoken/neg/cv385_29621.txt\n",
      "txt_sentoken/neg/cv386_10229.txt\n",
      "txt_sentoken/neg/cv387_12391.txt\n",
      "txt_sentoken/neg/cv388_12810.txt\n",
      "txt_sentoken/neg/cv389_9611.txt\n",
      "txt_sentoken/neg/cv390_12187.txt\n",
      "txt_sentoken/neg/cv391_11615.txt\n",
      "txt_sentoken/neg/cv392_12238.txt\n",
      "txt_sentoken/neg/cv393_29234.txt\n",
      "txt_sentoken/neg/cv394_5311.txt\n",
      "txt_sentoken/neg/cv395_11761.txt\n",
      "txt_sentoken/neg/cv396_19127.txt\n",
      "txt_sentoken/neg/cv397_28890.txt\n",
      "txt_sentoken/neg/cv398_17047.txt\n",
      "txt_sentoken/neg/cv399_28593.txt\n",
      "txt_sentoken/neg/cv400_20631.txt\n",
      "txt_sentoken/neg/cv401_13758.txt\n",
      "txt_sentoken/neg/cv402_16097.txt\n",
      "txt_sentoken/neg/cv403_6721.txt\n",
      "txt_sentoken/neg/cv404_21805.txt\n",
      "txt_sentoken/neg/cv405_21868.txt\n",
      "txt_sentoken/neg/cv406_22199.txt\n",
      "txt_sentoken/neg/cv407_23928.txt\n",
      "txt_sentoken/neg/cv408_5367.txt\n",
      "txt_sentoken/neg/cv409_29625.txt\n",
      "txt_sentoken/neg/cv410_25624.txt\n",
      "txt_sentoken/neg/cv411_16799.txt\n",
      "txt_sentoken/neg/cv412_25254.txt\n",
      "txt_sentoken/neg/cv413_7893.txt\n",
      "txt_sentoken/neg/cv414_11161.txt\n",
      "txt_sentoken/neg/cv415_23674.txt\n",
      "txt_sentoken/neg/cv416_12048.txt\n",
      "txt_sentoken/neg/cv417_14653.txt\n",
      "txt_sentoken/neg/cv418_16562.txt\n",
      "txt_sentoken/neg/cv419_14799.txt\n",
      "txt_sentoken/neg/cv420_28631.txt\n",
      "txt_sentoken/neg/cv421_9752.txt\n",
      "txt_sentoken/neg/cv422_9632.txt\n",
      "txt_sentoken/neg/cv423_12089.txt\n",
      "txt_sentoken/neg/cv424_9268.txt\n",
      "txt_sentoken/neg/cv425_8603.txt\n",
      "txt_sentoken/neg/cv426_10976.txt\n",
      "txt_sentoken/neg/cv427_11693.txt\n",
      "txt_sentoken/neg/cv428_12202.txt\n",
      "txt_sentoken/neg/cv429_7937.txt\n",
      "txt_sentoken/neg/cv430_18662.txt\n",
      "txt_sentoken/neg/cv431_7538.txt\n",
      "txt_sentoken/neg/cv432_15873.txt\n",
      "txt_sentoken/neg/cv433_10443.txt\n",
      "txt_sentoken/neg/cv434_5641.txt\n",
      "txt_sentoken/neg/cv435_24355.txt\n",
      "txt_sentoken/neg/cv436_20564.txt\n",
      "txt_sentoken/neg/cv437_24070.txt\n",
      "txt_sentoken/neg/cv438_8500.txt\n",
      "txt_sentoken/neg/cv439_17633.txt\n",
      "txt_sentoken/neg/cv440_16891.txt\n",
      "txt_sentoken/neg/cv441_15276.txt\n",
      "txt_sentoken/neg/cv442_15499.txt\n",
      "txt_sentoken/neg/cv443_22367.txt\n",
      "txt_sentoken/neg/cv444_9975.txt\n",
      "txt_sentoken/neg/cv445_26683.txt\n",
      "txt_sentoken/neg/cv446_12209.txt\n",
      "txt_sentoken/neg/cv447_27334.txt\n",
      "txt_sentoken/neg/cv448_16409.txt\n",
      "txt_sentoken/neg/cv449_9126.txt\n",
      "txt_sentoken/neg/cv450_8319.txt\n",
      "txt_sentoken/neg/cv451_11502.txt\n",
      "txt_sentoken/neg/cv452_5179.txt\n",
      "txt_sentoken/neg/cv453_10911.txt\n",
      "txt_sentoken/neg/cv454_21961.txt\n",
      "txt_sentoken/neg/cv455_28866.txt\n",
      "txt_sentoken/neg/cv456_20370.txt\n",
      "txt_sentoken/neg/cv457_19546.txt\n",
      "txt_sentoken/neg/cv458_9000.txt\n",
      "txt_sentoken/neg/cv459_21834.txt\n",
      "txt_sentoken/neg/cv460_11723.txt\n",
      "txt_sentoken/neg/cv461_21124.txt\n",
      "txt_sentoken/neg/cv462_20788.txt\n",
      "txt_sentoken/neg/cv463_10846.txt\n",
      "txt_sentoken/neg/cv464_17076.txt\n",
      "txt_sentoken/neg/cv465_23401.txt\n",
      "txt_sentoken/neg/cv466_20092.txt\n",
      "txt_sentoken/neg/cv467_26610.txt\n",
      "txt_sentoken/neg/cv468_16844.txt\n",
      "txt_sentoken/neg/cv469_21998.txt\n",
      "txt_sentoken/neg/cv470_17444.txt\n",
      "txt_sentoken/neg/cv471_18405.txt\n",
      "txt_sentoken/neg/cv472_29140.txt\n",
      "txt_sentoken/neg/cv473_7869.txt\n",
      "txt_sentoken/neg/cv474_10682.txt\n",
      "txt_sentoken/neg/cv475_22978.txt\n",
      "txt_sentoken/neg/cv476_18402.txt\n",
      "txt_sentoken/neg/cv477_23530.txt\n",
      "txt_sentoken/neg/cv478_15921.txt\n",
      "txt_sentoken/neg/cv479_5450.txt\n",
      "txt_sentoken/neg/cv480_21195.txt\n",
      "txt_sentoken/neg/cv481_7930.txt\n",
      "txt_sentoken/neg/cv482_11233.txt\n",
      "txt_sentoken/neg/cv483_18103.txt\n",
      "txt_sentoken/neg/cv484_26169.txt\n",
      "txt_sentoken/neg/cv485_26879.txt\n",
      "txt_sentoken/neg/cv486_9788.txt\n",
      "txt_sentoken/neg/cv487_11058.txt\n",
      "txt_sentoken/neg/cv488_21453.txt\n",
      "txt_sentoken/neg/cv489_19046.txt\n",
      "txt_sentoken/neg/cv490_18986.txt\n",
      "txt_sentoken/neg/cv491_12992.txt\n",
      "txt_sentoken/neg/cv492_19370.txt\n",
      "txt_sentoken/neg/cv493_14135.txt\n",
      "txt_sentoken/neg/cv494_18689.txt\n",
      "txt_sentoken/neg/cv495_16121.txt\n",
      "txt_sentoken/neg/cv496_11185.txt\n",
      "txt_sentoken/neg/cv497_27086.txt\n",
      "txt_sentoken/neg/cv498_9288.txt\n",
      "txt_sentoken/neg/cv499_11407.txt\n",
      "txt_sentoken/neg/cv500_10722.txt\n",
      "txt_sentoken/neg/cv501_12675.txt\n",
      "txt_sentoken/neg/cv502_10970.txt\n",
      "txt_sentoken/neg/cv503_11196.txt\n",
      "txt_sentoken/neg/cv504_29120.txt\n",
      "txt_sentoken/neg/cv505_12926.txt\n",
      "txt_sentoken/neg/cv506_17521.txt\n",
      "txt_sentoken/neg/cv507_9509.txt\n",
      "txt_sentoken/neg/cv508_17742.txt\n",
      "txt_sentoken/neg/cv509_17354.txt\n",
      "txt_sentoken/neg/cv510_24758.txt\n",
      "txt_sentoken/neg/cv511_10360.txt\n",
      "txt_sentoken/neg/cv512_17618.txt\n",
      "txt_sentoken/neg/cv513_7236.txt\n",
      "txt_sentoken/neg/cv514_12173.txt\n",
      "txt_sentoken/neg/cv515_18484.txt\n",
      "txt_sentoken/neg/cv516_12117.txt\n",
      "txt_sentoken/neg/cv517_20616.txt\n",
      "txt_sentoken/neg/cv518_14798.txt\n",
      "txt_sentoken/neg/cv519_16239.txt\n",
      "txt_sentoken/neg/cv520_13297.txt\n",
      "txt_sentoken/neg/cv521_1730.txt\n",
      "txt_sentoken/neg/cv522_5418.txt\n",
      "txt_sentoken/neg/cv523_18285.txt\n",
      "txt_sentoken/neg/cv524_24885.txt\n",
      "txt_sentoken/neg/cv525_17930.txt\n",
      "txt_sentoken/neg/cv526_12868.txt\n",
      "txt_sentoken/neg/cv527_10338.txt\n",
      "txt_sentoken/neg/cv528_11669.txt\n",
      "txt_sentoken/neg/cv529_10972.txt\n",
      "txt_sentoken/neg/cv530_17949.txt\n",
      "txt_sentoken/neg/cv531_26838.txt\n",
      "txt_sentoken/neg/cv532_6495.txt\n",
      "txt_sentoken/neg/cv533_9843.txt\n",
      "txt_sentoken/neg/cv534_15683.txt\n",
      "txt_sentoken/neg/cv535_21183.txt\n",
      "txt_sentoken/neg/cv536_27221.txt\n",
      "txt_sentoken/neg/cv537_13516.txt\n",
      "txt_sentoken/neg/cv538_28485.txt\n",
      "txt_sentoken/neg/cv539_21865.txt\n",
      "txt_sentoken/neg/cv540_3092.txt\n",
      "txt_sentoken/neg/cv541_28683.txt\n",
      "txt_sentoken/neg/cv542_20359.txt\n",
      "txt_sentoken/neg/cv543_5107.txt\n",
      "txt_sentoken/neg/cv544_5301.txt\n",
      "txt_sentoken/neg/cv545_12848.txt\n",
      "txt_sentoken/neg/cv546_12723.txt\n",
      "txt_sentoken/neg/cv547_18043.txt\n",
      "txt_sentoken/neg/cv548_18944.txt\n",
      "txt_sentoken/neg/cv549_22771.txt\n",
      "txt_sentoken/neg/cv550_23226.txt\n",
      "txt_sentoken/neg/cv551_11214.txt\n",
      "txt_sentoken/neg/cv552_0150.txt\n",
      "txt_sentoken/neg/cv553_26965.txt\n",
      "txt_sentoken/neg/cv554_14678.txt\n",
      "txt_sentoken/neg/cv555_25047.txt\n",
      "txt_sentoken/neg/cv556_16563.txt\n",
      "txt_sentoken/neg/cv557_12237.txt\n",
      "txt_sentoken/neg/cv558_29376.txt\n",
      "txt_sentoken/neg/cv559_0057.txt\n",
      "txt_sentoken/neg/cv560_18608.txt\n",
      "txt_sentoken/neg/cv561_9484.txt\n",
      "txt_sentoken/neg/cv562_10847.txt\n",
      "txt_sentoken/neg/cv563_18610.txt\n",
      "txt_sentoken/neg/cv564_12011.txt\n",
      "txt_sentoken/neg/cv565_29403.txt\n",
      "txt_sentoken/neg/cv566_8967.txt\n",
      "txt_sentoken/neg/cv567_29420.txt\n",
      "txt_sentoken/neg/cv568_17065.txt\n",
      "txt_sentoken/neg/cv569_26750.txt\n",
      "txt_sentoken/neg/cv570_28960.txt\n",
      "txt_sentoken/neg/cv571_29292.txt\n",
      "txt_sentoken/neg/cv572_20053.txt\n",
      "txt_sentoken/neg/cv573_29384.txt\n",
      "txt_sentoken/neg/cv574_23191.txt\n",
      "txt_sentoken/neg/cv575_22598.txt\n",
      "txt_sentoken/neg/cv576_15688.txt\n",
      "txt_sentoken/neg/cv577_28220.txt\n",
      "txt_sentoken/neg/cv578_16825.txt\n",
      "txt_sentoken/neg/cv579_12542.txt\n",
      "txt_sentoken/neg/cv580_15681.txt\n",
      "txt_sentoken/neg/cv581_20790.txt\n",
      "txt_sentoken/neg/cv582_6678.txt\n",
      "txt_sentoken/neg/cv583_29465.txt\n",
      "txt_sentoken/neg/cv584_29549.txt\n",
      "txt_sentoken/neg/cv585_23576.txt\n",
      "txt_sentoken/neg/cv586_8048.txt\n",
      "txt_sentoken/neg/cv587_20532.txt\n",
      "txt_sentoken/neg/cv588_14467.txt\n",
      "txt_sentoken/neg/cv589_12853.txt\n",
      "txt_sentoken/neg/cv590_20712.txt\n",
      "txt_sentoken/neg/cv591_24887.txt\n",
      "txt_sentoken/neg/cv592_23391.txt\n",
      "txt_sentoken/neg/cv593_11931.txt\n",
      "txt_sentoken/neg/cv594_11945.txt\n",
      "txt_sentoken/neg/cv595_26420.txt\n",
      "txt_sentoken/neg/cv596_4367.txt\n",
      "txt_sentoken/neg/cv597_26744.txt\n",
      "txt_sentoken/neg/cv598_18184.txt\n",
      "txt_sentoken/neg/cv599_22197.txt\n",
      "txt_sentoken/neg/cv600_25043.txt\n",
      "txt_sentoken/neg/cv601_24759.txt\n",
      "txt_sentoken/neg/cv602_8830.txt\n",
      "txt_sentoken/neg/cv603_18885.txt\n",
      "txt_sentoken/neg/cv604_23339.txt\n",
      "txt_sentoken/neg/cv605_12730.txt\n",
      "txt_sentoken/neg/cv606_17672.txt\n",
      "txt_sentoken/neg/cv607_8235.txt\n",
      "txt_sentoken/neg/cv608_24647.txt\n",
      "txt_sentoken/neg/cv609_25038.txt\n",
      "txt_sentoken/neg/cv610_24153.txt\n",
      "txt_sentoken/neg/cv611_2253.txt\n",
      "txt_sentoken/neg/cv612_5396.txt\n",
      "txt_sentoken/neg/cv613_23104.txt\n",
      "txt_sentoken/neg/cv614_11320.txt\n",
      "txt_sentoken/neg/cv615_15734.txt\n",
      "txt_sentoken/neg/cv616_29187.txt\n",
      "txt_sentoken/neg/cv617_9561.txt\n",
      "txt_sentoken/neg/cv618_9469.txt\n",
      "txt_sentoken/neg/cv619_13677.txt\n",
      "txt_sentoken/neg/cv620_2556.txt\n",
      "txt_sentoken/neg/cv621_15984.txt\n",
      "txt_sentoken/neg/cv622_8583.txt\n",
      "txt_sentoken/neg/cv623_16988.txt\n",
      "txt_sentoken/neg/cv624_11601.txt\n",
      "txt_sentoken/neg/cv625_13518.txt\n",
      "txt_sentoken/neg/cv626_7907.txt\n",
      "txt_sentoken/neg/cv627_12603.txt\n",
      "txt_sentoken/neg/cv628_20758.txt\n",
      "txt_sentoken/neg/cv629_16604.txt\n",
      "txt_sentoken/neg/cv630_10152.txt\n",
      "txt_sentoken/neg/cv631_4782.txt\n",
      "txt_sentoken/neg/cv632_9704.txt\n",
      "txt_sentoken/neg/cv633_29730.txt\n",
      "txt_sentoken/neg/cv634_11989.txt\n",
      "txt_sentoken/neg/cv635_0984.txt\n",
      "txt_sentoken/neg/cv636_16954.txt\n",
      "txt_sentoken/neg/cv637_13682.txt\n",
      "txt_sentoken/neg/cv638_29394.txt\n",
      "txt_sentoken/neg/cv639_10797.txt\n",
      "txt_sentoken/neg/cv640_5380.txt\n",
      "txt_sentoken/neg/cv641_13412.txt\n",
      "txt_sentoken/neg/cv642_29788.txt\n",
      "txt_sentoken/neg/cv643_29282.txt\n",
      "txt_sentoken/neg/cv644_18551.txt\n",
      "txt_sentoken/neg/cv645_17078.txt\n",
      "txt_sentoken/neg/cv646_16817.txt\n",
      "txt_sentoken/neg/cv647_15275.txt\n",
      "txt_sentoken/neg/cv648_17277.txt\n",
      "txt_sentoken/neg/cv649_13947.txt\n",
      "txt_sentoken/neg/cv650_15974.txt\n",
      "txt_sentoken/neg/cv651_11120.txt\n",
      "txt_sentoken/neg/cv652_15653.txt\n",
      "txt_sentoken/neg/cv653_2107.txt\n",
      "txt_sentoken/neg/cv654_19345.txt\n",
      "txt_sentoken/neg/cv655_12055.txt\n",
      "txt_sentoken/neg/cv656_25395.txt\n",
      "txt_sentoken/neg/cv657_25835.txt\n",
      "txt_sentoken/neg/cv658_11186.txt\n",
      "txt_sentoken/neg/cv659_21483.txt\n",
      "txt_sentoken/neg/cv660_23140.txt\n",
      "txt_sentoken/neg/cv661_25780.txt\n",
      "txt_sentoken/neg/cv662_14791.txt\n",
      "txt_sentoken/neg/cv663_14484.txt\n",
      "txt_sentoken/neg/cv664_4264.txt\n",
      "txt_sentoken/neg/cv665_29386.txt\n",
      "txt_sentoken/neg/cv666_20301.txt\n",
      "txt_sentoken/neg/cv667_19672.txt\n",
      "txt_sentoken/neg/cv668_18848.txt\n",
      "txt_sentoken/neg/cv669_24318.txt\n",
      "txt_sentoken/neg/cv670_2666.txt\n",
      "txt_sentoken/neg/cv671_5164.txt\n",
      "txt_sentoken/neg/cv672_27988.txt\n",
      "txt_sentoken/neg/cv673_25874.txt\n",
      "txt_sentoken/neg/cv674_11593.txt\n",
      "txt_sentoken/neg/cv675_22871.txt\n",
      "txt_sentoken/neg/cv676_22202.txt\n",
      "txt_sentoken/neg/cv677_18938.txt\n",
      "txt_sentoken/neg/cv678_14887.txt\n",
      "txt_sentoken/neg/cv679_28221.txt\n",
      "txt_sentoken/neg/cv680_10533.txt\n",
      "txt_sentoken/neg/cv681_9744.txt\n",
      "txt_sentoken/neg/cv682_17947.txt\n",
      "txt_sentoken/neg/cv683_13047.txt\n",
      "txt_sentoken/neg/cv684_12727.txt\n",
      "txt_sentoken/neg/cv685_5710.txt\n",
      "txt_sentoken/neg/cv686_15553.txt\n",
      "txt_sentoken/neg/cv687_22207.txt\n",
      "txt_sentoken/neg/cv688_7884.txt\n",
      "txt_sentoken/neg/cv689_13701.txt\n",
      "txt_sentoken/neg/cv690_5425.txt\n",
      "txt_sentoken/neg/cv691_5090.txt\n",
      "txt_sentoken/neg/cv692_17026.txt\n",
      "txt_sentoken/neg/cv693_19147.txt\n",
      "txt_sentoken/neg/cv694_4526.txt\n",
      "txt_sentoken/neg/cv695_22268.txt\n",
      "txt_sentoken/neg/cv696_29619.txt\n",
      "txt_sentoken/neg/cv697_12106.txt\n",
      "txt_sentoken/neg/cv698_16930.txt\n",
      "txt_sentoken/neg/cv699_7773.txt\n",
      "txt_sentoken/neg/cv700_23163.txt\n",
      "txt_sentoken/neg/cv701_15880.txt\n",
      "txt_sentoken/neg/cv702_12371.txt\n",
      "txt_sentoken/neg/cv703_17948.txt\n",
      "txt_sentoken/neg/cv704_17622.txt\n",
      "txt_sentoken/neg/cv705_11973.txt\n",
      "txt_sentoken/neg/cv706_25883.txt\n",
      "txt_sentoken/neg/cv707_11421.txt\n",
      "txt_sentoken/neg/cv708_28539.txt\n",
      "txt_sentoken/neg/cv709_11173.txt\n",
      "txt_sentoken/neg/cv710_23745.txt\n",
      "txt_sentoken/neg/cv711_12687.txt\n",
      "txt_sentoken/neg/cv712_24217.txt\n",
      "txt_sentoken/neg/cv713_29002.txt\n",
      "txt_sentoken/neg/cv714_19704.txt\n",
      "txt_sentoken/neg/cv715_19246.txt\n",
      "txt_sentoken/neg/cv716_11153.txt\n",
      "txt_sentoken/neg/cv717_17472.txt\n",
      "txt_sentoken/neg/cv718_12227.txt\n",
      "txt_sentoken/neg/cv719_5581.txt\n",
      "txt_sentoken/neg/cv720_5383.txt\n",
      "txt_sentoken/neg/cv721_28993.txt\n",
      "txt_sentoken/neg/cv722_7571.txt\n",
      "txt_sentoken/neg/cv723_9002.txt\n",
      "txt_sentoken/neg/cv724_15265.txt\n",
      "txt_sentoken/neg/cv725_10266.txt\n",
      "txt_sentoken/neg/cv726_4365.txt\n",
      "txt_sentoken/neg/cv727_5006.txt\n",
      "txt_sentoken/neg/cv728_17931.txt\n",
      "txt_sentoken/neg/cv729_10475.txt\n",
      "txt_sentoken/neg/cv730_10729.txt\n",
      "txt_sentoken/neg/cv731_3968.txt\n",
      "txt_sentoken/neg/cv732_13092.txt\n",
      "txt_sentoken/neg/cv733_9891.txt\n",
      "txt_sentoken/neg/cv734_22821.txt\n",
      "txt_sentoken/neg/cv735_20218.txt\n",
      "txt_sentoken/neg/cv736_24947.txt\n",
      "txt_sentoken/neg/cv737_28733.txt\n",
      "txt_sentoken/neg/cv738_10287.txt\n",
      "txt_sentoken/neg/cv739_12179.txt\n",
      "txt_sentoken/neg/cv740_13643.txt\n",
      "txt_sentoken/neg/cv741_12765.txt\n",
      "txt_sentoken/neg/cv742_8279.txt\n",
      "txt_sentoken/neg/cv743_17023.txt\n",
      "txt_sentoken/neg/cv744_10091.txt\n",
      "txt_sentoken/neg/cv745_14009.txt\n",
      "txt_sentoken/neg/cv746_10471.txt\n",
      "txt_sentoken/neg/cv747_18189.txt\n",
      "txt_sentoken/neg/cv748_14044.txt\n",
      "txt_sentoken/neg/cv749_18960.txt\n",
      "txt_sentoken/neg/cv750_10606.txt\n",
      "txt_sentoken/neg/cv751_17208.txt\n",
      "txt_sentoken/neg/cv752_25330.txt\n",
      "txt_sentoken/neg/cv753_11812.txt\n",
      "txt_sentoken/neg/cv754_7709.txt\n",
      "txt_sentoken/neg/cv755_24881.txt\n",
      "txt_sentoken/neg/cv756_23676.txt\n",
      "txt_sentoken/neg/cv757_10668.txt\n",
      "txt_sentoken/neg/cv758_9740.txt\n",
      "txt_sentoken/neg/cv759_15091.txt\n",
      "txt_sentoken/neg/cv760_8977.txt\n",
      "txt_sentoken/neg/cv761_13769.txt\n",
      "txt_sentoken/neg/cv762_15604.txt\n",
      "txt_sentoken/neg/cv763_16486.txt\n",
      "txt_sentoken/neg/cv764_12701.txt\n",
      "txt_sentoken/neg/cv765_20429.txt\n",
      "txt_sentoken/neg/cv766_7983.txt\n",
      "txt_sentoken/neg/cv767_15673.txt\n",
      "txt_sentoken/neg/cv768_12709.txt\n",
      "txt_sentoken/neg/cv769_8565.txt\n",
      "txt_sentoken/neg/cv770_11061.txt\n",
      "txt_sentoken/neg/cv771_28466.txt\n",
      "txt_sentoken/neg/cv772_12971.txt\n",
      "txt_sentoken/neg/cv773_20264.txt\n",
      "txt_sentoken/neg/cv774_15488.txt\n",
      "txt_sentoken/neg/cv775_17966.txt\n",
      "txt_sentoken/neg/cv776_21934.txt\n",
      "txt_sentoken/neg/cv777_10247.txt\n",
      "txt_sentoken/neg/cv778_18629.txt\n",
      "txt_sentoken/neg/cv779_18989.txt\n",
      "txt_sentoken/neg/cv780_8467.txt\n",
      "txt_sentoken/neg/cv781_5358.txt\n",
      "txt_sentoken/neg/cv782_21078.txt\n",
      "txt_sentoken/neg/cv783_14724.txt\n",
      "txt_sentoken/neg/cv784_16077.txt\n",
      "txt_sentoken/neg/cv785_23748.txt\n",
      "txt_sentoken/neg/cv786_23608.txt\n",
      "txt_sentoken/neg/cv787_15277.txt\n",
      "txt_sentoken/neg/cv788_26409.txt\n",
      "txt_sentoken/neg/cv789_12991.txt\n",
      "txt_sentoken/neg/cv790_16202.txt\n",
      "txt_sentoken/neg/cv791_17995.txt\n",
      "txt_sentoken/neg/cv792_3257.txt\n",
      "txt_sentoken/neg/cv793_15235.txt\n",
      "txt_sentoken/neg/cv794_17353.txt\n",
      "txt_sentoken/neg/cv795_10291.txt\n",
      "txt_sentoken/neg/cv796_17243.txt\n",
      "txt_sentoken/neg/cv797_7245.txt\n",
      "txt_sentoken/neg/cv798_24779.txt\n",
      "txt_sentoken/neg/cv799_19812.txt\n",
      "txt_sentoken/neg/cv800_13494.txt\n",
      "txt_sentoken/neg/cv801_26335.txt\n",
      "txt_sentoken/neg/cv802_28381.txt\n",
      "txt_sentoken/neg/cv803_8584.txt\n",
      "txt_sentoken/neg/cv804_11763.txt\n",
      "txt_sentoken/neg/cv805_21128.txt\n",
      "txt_sentoken/neg/cv806_9405.txt\n",
      "txt_sentoken/neg/cv807_23024.txt\n",
      "txt_sentoken/neg/cv808_13773.txt\n",
      "txt_sentoken/neg/cv809_5012.txt\n",
      "txt_sentoken/neg/cv810_13660.txt\n",
      "txt_sentoken/neg/cv811_22646.txt\n",
      "txt_sentoken/neg/cv812_19051.txt\n",
      "txt_sentoken/neg/cv813_6649.txt\n",
      "txt_sentoken/neg/cv814_20316.txt\n",
      "txt_sentoken/neg/cv815_23466.txt\n",
      "txt_sentoken/neg/cv816_15257.txt\n",
      "txt_sentoken/neg/cv817_3675.txt\n",
      "txt_sentoken/neg/cv818_10698.txt\n",
      "txt_sentoken/neg/cv819_9567.txt\n",
      "txt_sentoken/neg/cv820_24157.txt\n",
      "txt_sentoken/neg/cv821_29283.txt\n",
      "txt_sentoken/neg/cv822_21545.txt\n",
      "txt_sentoken/neg/cv823_17055.txt\n",
      "txt_sentoken/neg/cv824_9335.txt\n",
      "txt_sentoken/neg/cv825_5168.txt\n",
      "txt_sentoken/neg/cv826_12761.txt\n",
      "txt_sentoken/neg/cv827_19479.txt\n",
      "txt_sentoken/neg/cv828_21392.txt\n",
      "txt_sentoken/neg/cv829_21725.txt\n",
      "txt_sentoken/neg/cv830_5778.txt\n",
      "txt_sentoken/neg/cv831_16325.txt\n",
      "txt_sentoken/neg/cv832_24713.txt\n",
      "txt_sentoken/neg/cv833_11961.txt\n",
      "txt_sentoken/neg/cv834_23192.txt\n",
      "txt_sentoken/neg/cv835_20531.txt\n",
      "txt_sentoken/neg/cv836_14311.txt\n",
      "txt_sentoken/neg/cv837_27232.txt\n",
      "txt_sentoken/neg/cv838_25886.txt\n",
      "txt_sentoken/neg/cv839_22807.txt\n",
      "txt_sentoken/neg/cv840_18033.txt\n",
      "txt_sentoken/neg/cv841_3367.txt\n",
      "txt_sentoken/neg/cv842_5702.txt\n",
      "txt_sentoken/neg/cv843_17054.txt\n",
      "txt_sentoken/neg/cv844_13890.txt\n",
      "txt_sentoken/neg/cv845_15886.txt\n",
      "txt_sentoken/neg/cv846_29359.txt\n",
      "txt_sentoken/neg/cv847_20855.txt\n",
      "txt_sentoken/neg/cv848_10061.txt\n",
      "txt_sentoken/neg/cv849_17215.txt\n",
      "txt_sentoken/neg/cv850_18185.txt\n",
      "txt_sentoken/neg/cv851_21895.txt\n",
      "txt_sentoken/neg/cv852_27512.txt\n",
      "txt_sentoken/neg/cv853_29119.txt\n",
      "txt_sentoken/neg/cv854_18955.txt\n",
      "txt_sentoken/neg/cv855_22134.txt\n",
      "txt_sentoken/neg/cv856_28882.txt\n",
      "txt_sentoken/neg/cv857_17527.txt\n",
      "txt_sentoken/neg/cv858_20266.txt\n",
      "txt_sentoken/neg/cv859_15689.txt\n",
      "txt_sentoken/neg/cv860_15520.txt\n",
      "txt_sentoken/neg/cv861_12809.txt\n",
      "txt_sentoken/neg/cv862_15924.txt\n",
      "txt_sentoken/neg/cv863_7912.txt\n",
      "txt_sentoken/neg/cv864_3087.txt\n",
      "txt_sentoken/neg/cv865_28796.txt\n",
      "txt_sentoken/neg/cv866_29447.txt\n",
      "txt_sentoken/neg/cv867_18362.txt\n",
      "txt_sentoken/neg/cv868_12799.txt\n",
      "txt_sentoken/neg/cv869_24782.txt\n",
      "txt_sentoken/neg/cv870_18090.txt\n",
      "txt_sentoken/neg/cv871_25971.txt\n",
      "txt_sentoken/neg/cv872_13710.txt\n",
      "txt_sentoken/neg/cv873_19937.txt\n",
      "txt_sentoken/neg/cv874_12182.txt\n",
      "txt_sentoken/neg/cv875_5622.txt\n",
      "txt_sentoken/neg/cv876_9633.txt\n",
      "txt_sentoken/neg/cv877_29132.txt\n",
      "txt_sentoken/neg/cv878_17204.txt\n",
      "txt_sentoken/neg/cv879_16585.txt\n",
      "txt_sentoken/neg/cv880_29629.txt\n",
      "txt_sentoken/neg/cv881_14767.txt\n",
      "txt_sentoken/neg/cv882_10042.txt\n",
      "txt_sentoken/neg/cv883_27621.txt\n",
      "txt_sentoken/neg/cv884_15230.txt\n",
      "txt_sentoken/neg/cv885_13390.txt\n",
      "txt_sentoken/neg/cv886_19210.txt\n",
      "txt_sentoken/neg/cv887_5306.txt\n",
      "txt_sentoken/neg/cv888_25678.txt\n",
      "txt_sentoken/neg/cv889_22670.txt\n",
      "txt_sentoken/neg/cv890_3515.txt\n",
      "txt_sentoken/neg/cv891_6035.txt\n",
      "txt_sentoken/neg/cv892_18788.txt\n",
      "txt_sentoken/neg/cv893_26731.txt\n",
      "txt_sentoken/neg/cv894_22140.txt\n",
      "txt_sentoken/neg/cv895_22200.txt\n",
      "txt_sentoken/neg/cv896_17819.txt\n",
      "txt_sentoken/neg/cv897_11703.txt\n",
      "txt_sentoken/neg/cv898_1576.txt\n",
      "txt_sentoken/neg/cv899_17812.txt\n",
      "txt_sentoken/neg/cv900_10800.txt\n",
      "txt_sentoken/neg/cv901_11934.txt\n",
      "txt_sentoken/neg/cv902_13217.txt\n",
      "txt_sentoken/neg/cv903_18981.txt\n",
      "txt_sentoken/neg/cv904_25663.txt\n",
      "txt_sentoken/neg/cv905_28965.txt\n",
      "txt_sentoken/neg/cv906_12332.txt\n",
      "txt_sentoken/neg/cv907_3193.txt\n",
      "txt_sentoken/neg/cv908_17779.txt\n",
      "txt_sentoken/neg/cv909_9973.txt\n",
      "txt_sentoken/neg/cv910_21930.txt\n",
      "txt_sentoken/neg/cv911_21695.txt\n",
      "txt_sentoken/neg/cv912_5562.txt\n",
      "txt_sentoken/neg/cv913_29127.txt\n",
      "txt_sentoken/neg/cv914_2856.txt\n",
      "txt_sentoken/neg/cv915_9342.txt\n",
      "txt_sentoken/neg/cv916_17034.txt\n",
      "txt_sentoken/neg/cv917_29484.txt\n",
      "txt_sentoken/neg/cv918_27080.txt\n",
      "txt_sentoken/neg/cv919_18155.txt\n",
      "txt_sentoken/neg/cv920_29423.txt\n",
      "txt_sentoken/neg/cv921_13988.txt\n",
      "txt_sentoken/neg/cv922_10185.txt\n",
      "txt_sentoken/neg/cv923_11951.txt\n",
      "txt_sentoken/neg/cv924_29397.txt\n",
      "txt_sentoken/neg/cv925_9459.txt\n",
      "txt_sentoken/neg/cv926_18471.txt\n",
      "txt_sentoken/neg/cv927_11471.txt\n",
      "txt_sentoken/neg/cv928_9478.txt\n",
      "txt_sentoken/neg/cv929_1841.txt\n",
      "txt_sentoken/neg/cv930_14949.txt\n",
      "txt_sentoken/neg/cv931_18783.txt\n",
      "txt_sentoken/neg/cv932_14854.txt\n",
      "txt_sentoken/neg/cv933_24953.txt\n",
      "txt_sentoken/neg/cv934_20426.txt\n",
      "txt_sentoken/neg/cv935_24977.txt\n",
      "txt_sentoken/neg/cv936_17473.txt\n",
      "txt_sentoken/neg/cv937_9816.txt\n",
      "txt_sentoken/neg/cv938_10706.txt\n",
      "txt_sentoken/neg/cv939_11247.txt\n",
      "txt_sentoken/neg/cv940_18935.txt\n",
      "txt_sentoken/neg/cv941_10718.txt\n",
      "txt_sentoken/neg/cv942_18509.txt\n",
      "txt_sentoken/neg/cv943_23547.txt\n",
      "txt_sentoken/neg/cv944_15042.txt\n",
      "txt_sentoken/neg/cv945_13012.txt\n",
      "txt_sentoken/neg/cv946_20084.txt\n",
      "txt_sentoken/neg/cv947_11316.txt\n",
      "txt_sentoken/neg/cv948_25870.txt\n",
      "txt_sentoken/neg/cv949_21565.txt\n",
      "txt_sentoken/neg/cv950_13478.txt\n",
      "txt_sentoken/neg/cv951_11816.txt\n",
      "txt_sentoken/neg/cv952_26375.txt\n",
      "txt_sentoken/neg/cv953_7078.txt\n",
      "txt_sentoken/neg/cv954_19932.txt\n",
      "txt_sentoken/neg/cv955_26154.txt\n",
      "txt_sentoken/neg/cv956_12547.txt\n",
      "txt_sentoken/neg/cv957_9059.txt\n",
      "txt_sentoken/neg/cv958_13020.txt\n",
      "txt_sentoken/neg/cv959_16218.txt\n",
      "txt_sentoken/neg/cv960_28877.txt\n",
      "txt_sentoken/neg/cv961_5578.txt\n",
      "txt_sentoken/neg/cv962_9813.txt\n",
      "txt_sentoken/neg/cv963_7208.txt\n",
      "txt_sentoken/neg/cv964_5794.txt\n",
      "txt_sentoken/neg/cv965_26688.txt\n",
      "txt_sentoken/neg/cv966_28671.txt\n",
      "txt_sentoken/neg/cv967_5626.txt\n",
      "txt_sentoken/neg/cv968_25413.txt\n",
      "txt_sentoken/neg/cv969_14760.txt\n",
      "txt_sentoken/neg/cv970_19532.txt\n",
      "txt_sentoken/neg/cv971_11790.txt\n",
      "txt_sentoken/neg/cv972_26837.txt\n",
      "txt_sentoken/neg/cv973_10171.txt\n",
      "txt_sentoken/neg/cv974_24303.txt\n",
      "txt_sentoken/neg/cv975_11920.txt\n",
      "txt_sentoken/neg/cv976_10724.txt\n",
      "txt_sentoken/neg/cv977_4776.txt\n",
      "txt_sentoken/neg/cv978_22192.txt\n",
      "txt_sentoken/neg/cv979_2029.txt\n",
      "txt_sentoken/neg/cv980_11851.txt\n",
      "txt_sentoken/neg/cv981_16679.txt\n",
      "txt_sentoken/neg/cv982_22209.txt\n",
      "txt_sentoken/neg/cv983_24219.txt\n",
      "txt_sentoken/neg/cv984_14006.txt\n",
      "txt_sentoken/neg/cv985_5964.txt\n",
      "txt_sentoken/neg/cv986_15092.txt\n",
      "txt_sentoken/neg/cv987_7394.txt\n",
      "txt_sentoken/neg/cv988_20168.txt\n",
      "txt_sentoken/neg/cv989_17297.txt\n",
      "txt_sentoken/neg/cv990_12443.txt\n",
      "txt_sentoken/neg/cv991_19973.txt\n",
      "txt_sentoken/neg/cv992_12806.txt\n",
      "txt_sentoken/neg/cv993_29565.txt\n",
      "txt_sentoken/neg/cv994_13229.txt\n",
      "txt_sentoken/neg/cv995_23113.txt\n",
      "txt_sentoken/neg/cv996_12447.txt\n",
      "txt_sentoken/neg/cv997_5152.txt\n",
      "txt_sentoken/neg/cv998_15691.txt\n",
      "txt_sentoken/neg/cv999_14636.txt\n",
      "txt_sentoken/pos/cv000_29590.txt\n",
      "txt_sentoken/pos/cv001_18431.txt\n",
      "txt_sentoken/pos/cv002_15918.txt\n",
      "txt_sentoken/pos/cv003_11664.txt\n",
      "txt_sentoken/pos/cv004_11636.txt\n",
      "txt_sentoken/pos/cv005_29443.txt\n",
      "txt_sentoken/pos/cv006_15448.txt\n",
      "txt_sentoken/pos/cv007_4968.txt\n",
      "txt_sentoken/pos/cv008_29435.txt\n",
      "txt_sentoken/pos/cv009_29592.txt\n",
      "txt_sentoken/pos/cv010_29198.txt\n",
      "txt_sentoken/pos/cv011_12166.txt\n",
      "txt_sentoken/pos/cv012_29576.txt\n",
      "txt_sentoken/pos/cv013_10159.txt\n",
      "txt_sentoken/pos/cv014_13924.txt\n",
      "txt_sentoken/pos/cv015_29439.txt\n",
      "txt_sentoken/pos/cv016_4659.txt\n",
      "txt_sentoken/pos/cv017_22464.txt\n",
      "txt_sentoken/pos/cv018_20137.txt\n",
      "txt_sentoken/pos/cv019_14482.txt\n",
      "txt_sentoken/pos/cv020_8825.txt\n",
      "txt_sentoken/pos/cv021_15838.txt\n",
      "txt_sentoken/pos/cv022_12864.txt\n",
      "txt_sentoken/pos/cv023_12672.txt\n",
      "txt_sentoken/pos/cv024_6778.txt\n",
      "txt_sentoken/pos/cv025_3108.txt\n",
      "txt_sentoken/pos/cv026_29325.txt\n",
      "txt_sentoken/pos/cv027_25219.txt\n",
      "txt_sentoken/pos/cv028_26746.txt\n",
      "txt_sentoken/pos/cv029_18643.txt\n",
      "txt_sentoken/pos/cv030_21593.txt\n",
      "txt_sentoken/pos/cv031_18452.txt\n",
      "txt_sentoken/pos/cv032_22550.txt\n",
      "txt_sentoken/pos/cv033_24444.txt\n",
      "txt_sentoken/pos/cv034_29647.txt\n",
      "txt_sentoken/pos/cv035_3954.txt\n",
      "txt_sentoken/pos/cv036_16831.txt\n",
      "txt_sentoken/pos/cv037_18510.txt\n",
      "txt_sentoken/pos/cv038_9749.txt\n",
      "txt_sentoken/pos/cv039_6170.txt\n",
      "txt_sentoken/pos/cv040_8276.txt\n",
      "txt_sentoken/pos/cv041_21113.txt\n",
      "txt_sentoken/pos/cv042_10982.txt\n",
      "txt_sentoken/pos/cv043_15013.txt\n",
      "txt_sentoken/pos/cv044_16969.txt\n",
      "txt_sentoken/pos/cv045_23923.txt\n",
      "txt_sentoken/pos/cv046_10188.txt\n",
      "txt_sentoken/pos/cv047_1754.txt\n",
      "txt_sentoken/pos/cv048_16828.txt\n",
      "txt_sentoken/pos/cv049_20471.txt\n",
      "txt_sentoken/pos/cv050_11175.txt\n",
      "txt_sentoken/pos/cv051_10306.txt\n",
      "txt_sentoken/pos/cv052_29378.txt\n",
      "txt_sentoken/pos/cv053_21822.txt\n",
      "txt_sentoken/pos/cv054_4230.txt\n",
      "txt_sentoken/pos/cv055_8338.txt\n",
      "txt_sentoken/pos/cv056_13133.txt\n",
      "txt_sentoken/pos/cv057_7453.txt\n",
      "txt_sentoken/pos/cv058_8025.txt\n",
      "txt_sentoken/pos/cv059_28885.txt\n",
      "txt_sentoken/pos/cv060_10844.txt\n",
      "txt_sentoken/pos/cv061_8837.txt\n",
      "txt_sentoken/pos/cv062_23115.txt\n",
      "txt_sentoken/pos/cv063_28997.txt\n",
      "txt_sentoken/pos/cv064_24576.txt\n",
      "txt_sentoken/pos/cv065_15248.txt\n",
      "txt_sentoken/pos/cv066_10821.txt\n",
      "txt_sentoken/pos/cv067_19774.txt\n",
      "txt_sentoken/pos/cv068_13400.txt\n",
      "txt_sentoken/pos/cv069_10801.txt\n",
      "txt_sentoken/pos/cv070_12289.txt\n",
      "txt_sentoken/pos/cv071_12095.txt\n",
      "txt_sentoken/pos/cv072_6169.txt\n",
      "txt_sentoken/pos/cv073_21785.txt\n",
      "txt_sentoken/pos/cv074_6875.txt\n",
      "txt_sentoken/pos/cv075_6500.txt\n",
      "txt_sentoken/pos/cv076_24945.txt\n",
      "txt_sentoken/pos/cv077_22138.txt\n",
      "txt_sentoken/pos/cv078_14730.txt\n",
      "txt_sentoken/pos/cv079_11933.txt\n",
      "txt_sentoken/pos/cv080_13465.txt\n",
      "txt_sentoken/pos/cv081_16582.txt\n",
      "txt_sentoken/pos/cv082_11080.txt\n",
      "txt_sentoken/pos/cv083_24234.txt\n",
      "txt_sentoken/pos/cv084_13566.txt\n",
      "txt_sentoken/pos/cv085_1381.txt\n",
      "txt_sentoken/pos/cv086_18371.txt\n",
      "txt_sentoken/pos/cv087_1989.txt\n",
      "txt_sentoken/pos/cv088_24113.txt\n",
      "txt_sentoken/pos/cv089_11418.txt\n",
      "txt_sentoken/pos/cv090_0042.txt\n",
      "txt_sentoken/pos/cv091_7400.txt\n",
      "txt_sentoken/pos/cv092_28017.txt\n",
      "txt_sentoken/pos/cv093_13951.txt\n",
      "txt_sentoken/pos/cv094_27889.txt\n",
      "txt_sentoken/pos/cv095_28892.txt\n",
      "txt_sentoken/pos/cv096_11474.txt\n",
      "txt_sentoken/pos/cv097_24970.txt\n",
      "txt_sentoken/pos/cv098_15435.txt\n",
      "txt_sentoken/pos/cv099_10534.txt\n",
      "txt_sentoken/pos/cv100_11528.txt\n",
      "txt_sentoken/pos/cv101_10175.txt\n",
      "txt_sentoken/pos/cv102_7846.txt\n",
      "txt_sentoken/pos/cv103_11021.txt\n",
      "txt_sentoken/pos/cv104_18134.txt\n",
      "txt_sentoken/pos/cv105_17990.txt\n",
      "txt_sentoken/pos/cv106_16807.txt\n",
      "txt_sentoken/pos/cv107_24319.txt\n",
      "txt_sentoken/pos/cv108_15571.txt\n",
      "txt_sentoken/pos/cv109_21172.txt\n",
      "txt_sentoken/pos/cv110_27788.txt\n",
      "txt_sentoken/pos/cv111_11473.txt\n",
      "txt_sentoken/pos/cv112_11193.txt\n",
      "txt_sentoken/pos/cv113_23102.txt\n",
      "txt_sentoken/pos/cv114_18398.txt\n",
      "txt_sentoken/pos/cv115_25396.txt\n",
      "txt_sentoken/pos/cv116_28942.txt\n",
      "txt_sentoken/pos/cv117_24295.txt\n",
      "txt_sentoken/pos/cv118_28980.txt\n",
      "txt_sentoken/pos/cv119_9867.txt\n",
      "txt_sentoken/pos/cv120_4111.txt\n",
      "txt_sentoken/pos/cv121_17302.txt\n",
      "txt_sentoken/pos/cv122_7392.txt\n",
      "txt_sentoken/pos/cv123_11182.txt\n",
      "txt_sentoken/pos/cv124_4122.txt\n",
      "txt_sentoken/pos/cv125_9391.txt\n",
      "txt_sentoken/pos/cv126_28971.txt\n",
      "txt_sentoken/pos/cv127_14711.txt\n",
      "txt_sentoken/pos/cv128_29627.txt\n",
      "txt_sentoken/pos/cv129_16741.txt\n",
      "txt_sentoken/pos/cv130_17083.txt\n",
      "txt_sentoken/pos/cv131_10713.txt\n",
      "txt_sentoken/pos/cv132_5618.txt\n",
      "txt_sentoken/pos/cv133_16336.txt\n",
      "txt_sentoken/pos/cv134_22246.txt\n",
      "txt_sentoken/pos/cv135_11603.txt\n",
      "txt_sentoken/pos/cv136_11505.txt\n",
      "txt_sentoken/pos/cv137_15422.txt\n",
      "txt_sentoken/pos/cv138_12721.txt\n",
      "txt_sentoken/pos/cv139_12873.txt\n",
      "txt_sentoken/pos/cv140_7479.txt\n",
      "txt_sentoken/pos/cv141_15686.txt\n",
      "txt_sentoken/pos/cv142_22516.txt\n",
      "txt_sentoken/pos/cv143_19666.txt\n",
      "txt_sentoken/pos/cv144_5007.txt\n",
      "txt_sentoken/pos/cv145_11472.txt\n",
      "txt_sentoken/pos/cv146_18458.txt\n",
      "txt_sentoken/pos/cv147_21193.txt\n",
      "txt_sentoken/pos/cv148_16345.txt\n",
      "txt_sentoken/pos/cv149_15670.txt\n",
      "txt_sentoken/pos/cv150_12916.txt\n",
      "txt_sentoken/pos/cv151_15771.txt\n",
      "txt_sentoken/pos/cv152_8736.txt\n",
      "txt_sentoken/pos/cv153_10779.txt\n",
      "txt_sentoken/pos/cv154_9328.txt\n",
      "txt_sentoken/pos/cv155_7308.txt\n",
      "txt_sentoken/pos/cv156_10481.txt\n",
      "txt_sentoken/pos/cv157_29372.txt\n",
      "txt_sentoken/pos/cv158_10390.txt\n",
      "txt_sentoken/pos/cv159_29505.txt\n",
      "txt_sentoken/pos/cv160_10362.txt\n",
      "txt_sentoken/pos/cv161_11425.txt\n",
      "txt_sentoken/pos/cv162_10424.txt\n",
      "txt_sentoken/pos/cv163_10052.txt\n",
      "txt_sentoken/pos/cv164_22447.txt\n",
      "txt_sentoken/pos/cv165_22619.txt\n",
      "txt_sentoken/pos/cv166_11052.txt\n",
      "txt_sentoken/pos/cv167_16376.txt\n",
      "txt_sentoken/pos/cv168_7050.txt\n",
      "txt_sentoken/pos/cv169_23778.txt\n",
      "txt_sentoken/pos/cv170_3006.txt\n",
      "txt_sentoken/pos/cv171_13537.txt\n",
      "txt_sentoken/pos/cv172_11131.txt\n",
      "txt_sentoken/pos/cv173_4471.txt\n",
      "txt_sentoken/pos/cv174_9659.txt\n",
      "txt_sentoken/pos/cv175_6964.txt\n",
      "txt_sentoken/pos/cv176_12857.txt\n",
      "txt_sentoken/pos/cv177_10367.txt\n",
      "txt_sentoken/pos/cv178_12972.txt\n",
      "txt_sentoken/pos/cv179_9228.txt\n",
      "txt_sentoken/pos/cv180_16113.txt\n",
      "txt_sentoken/pos/cv181_14401.txt\n",
      "txt_sentoken/pos/cv182_7281.txt\n",
      "txt_sentoken/pos/cv183_18612.txt\n",
      "txt_sentoken/pos/cv184_2673.txt\n",
      "txt_sentoken/pos/cv185_28654.txt\n",
      "txt_sentoken/pos/cv186_2269.txt\n",
      "txt_sentoken/pos/cv187_12829.txt\n",
      "txt_sentoken/pos/cv188_19226.txt\n",
      "txt_sentoken/pos/cv189_22934.txt\n",
      "txt_sentoken/pos/cv190_27052.txt\n",
      "txt_sentoken/pos/cv191_29719.txt\n",
      "txt_sentoken/pos/cv192_14395.txt\n",
      "txt_sentoken/pos/cv193_5416.txt\n",
      "txt_sentoken/pos/cv194_12079.txt\n",
      "txt_sentoken/pos/cv195_14528.txt\n",
      "txt_sentoken/pos/cv196_29027.txt\n",
      "txt_sentoken/pos/cv197_29328.txt\n",
      "txt_sentoken/pos/cv198_18180.txt\n",
      "txt_sentoken/pos/cv199_9629.txt\n",
      "txt_sentoken/pos/cv200_2915.txt\n",
      "txt_sentoken/pos/cv201_6997.txt\n",
      "txt_sentoken/pos/cv202_10654.txt\n",
      "txt_sentoken/pos/cv203_17986.txt\n",
      "txt_sentoken/pos/cv204_8451.txt\n",
      "txt_sentoken/pos/cv205_9457.txt\n",
      "txt_sentoken/pos/cv206_14293.txt\n",
      "txt_sentoken/pos/cv207_29284.txt\n",
      "txt_sentoken/pos/cv208_9020.txt\n",
      "txt_sentoken/pos/cv209_29118.txt\n",
      "txt_sentoken/pos/cv210_9312.txt\n",
      "txt_sentoken/pos/cv211_9953.txt\n",
      "txt_sentoken/pos/cv212_10027.txt\n",
      "txt_sentoken/pos/cv213_18934.txt\n",
      "txt_sentoken/pos/cv214_12294.txt\n",
      "txt_sentoken/pos/cv215_22240.txt\n",
      "txt_sentoken/pos/cv216_18738.txt\n",
      "txt_sentoken/pos/cv217_28842.txt\n",
      "txt_sentoken/pos/cv218_24352.txt\n",
      "txt_sentoken/pos/cv219_18626.txt\n",
      "txt_sentoken/pos/cv220_29059.txt\n",
      "txt_sentoken/pos/cv221_2695.txt\n",
      "txt_sentoken/pos/cv222_17395.txt\n",
      "txt_sentoken/pos/cv223_29066.txt\n",
      "txt_sentoken/pos/cv224_17661.txt\n",
      "txt_sentoken/pos/cv225_29224.txt\n",
      "txt_sentoken/pos/cv226_2618.txt\n",
      "txt_sentoken/pos/cv227_24215.txt\n",
      "txt_sentoken/pos/cv228_5806.txt\n",
      "txt_sentoken/pos/cv229_13611.txt\n",
      "txt_sentoken/pos/cv230_7428.txt\n",
      "txt_sentoken/pos/cv231_10425.txt\n",
      "txt_sentoken/pos/cv232_14991.txt\n",
      "txt_sentoken/pos/cv233_15964.txt\n",
      "txt_sentoken/pos/cv234_20643.txt\n",
      "txt_sentoken/pos/cv235_10217.txt\n",
      "txt_sentoken/pos/cv236_11565.txt\n",
      "txt_sentoken/pos/cv237_19221.txt\n",
      "txt_sentoken/pos/cv238_12931.txt\n",
      "txt_sentoken/pos/cv239_3385.txt\n",
      "txt_sentoken/pos/cv240_14336.txt\n",
      "txt_sentoken/pos/cv241_23130.txt\n",
      "txt_sentoken/pos/cv242_10638.txt\n",
      "txt_sentoken/pos/cv243_20728.txt\n",
      "txt_sentoken/pos/cv244_21649.txt\n",
      "txt_sentoken/pos/cv245_8569.txt\n",
      "txt_sentoken/pos/cv246_28807.txt\n",
      "txt_sentoken/pos/cv247_13142.txt\n",
      "txt_sentoken/pos/cv248_13987.txt\n",
      "txt_sentoken/pos/cv249_11640.txt\n",
      "txt_sentoken/pos/cv250_25616.txt\n",
      "txt_sentoken/pos/cv251_22636.txt\n",
      "txt_sentoken/pos/cv252_23779.txt\n",
      "txt_sentoken/pos/cv253_10077.txt\n",
      "txt_sentoken/pos/cv254_6027.txt\n",
      "txt_sentoken/pos/cv255_13683.txt\n",
      "txt_sentoken/pos/cv256_14740.txt\n",
      "txt_sentoken/pos/cv257_10975.txt\n",
      "txt_sentoken/pos/cv258_5792.txt\n",
      "txt_sentoken/pos/cv259_10934.txt\n",
      "txt_sentoken/pos/cv260_13959.txt\n",
      "txt_sentoken/pos/cv261_10954.txt\n",
      "txt_sentoken/pos/cv262_12649.txt\n",
      "txt_sentoken/pos/cv263_19259.txt\n",
      "txt_sentoken/pos/cv264_12801.txt\n",
      "txt_sentoken/pos/cv265_10814.txt\n",
      "txt_sentoken/pos/cv266_25779.txt\n",
      "txt_sentoken/pos/cv267_14952.txt\n",
      "txt_sentoken/pos/cv268_18834.txt\n",
      "txt_sentoken/pos/cv269_21732.txt\n",
      "txt_sentoken/pos/cv270_6079.txt\n",
      "txt_sentoken/pos/cv271_13837.txt\n",
      "txt_sentoken/pos/cv272_18974.txt\n",
      "txt_sentoken/pos/cv273_29112.txt\n",
      "txt_sentoken/pos/cv274_25253.txt\n",
      "txt_sentoken/pos/cv275_28887.txt\n",
      "txt_sentoken/pos/cv276_15684.txt\n",
      "txt_sentoken/pos/cv277_19091.txt\n",
      "txt_sentoken/pos/cv278_13041.txt\n",
      "txt_sentoken/pos/cv279_18329.txt\n",
      "txt_sentoken/pos/cv280_8267.txt\n",
      "txt_sentoken/pos/cv281_23253.txt\n",
      "txt_sentoken/pos/cv282_6653.txt\n",
      "txt_sentoken/pos/cv283_11055.txt\n",
      "txt_sentoken/pos/cv284_19119.txt\n",
      "txt_sentoken/pos/cv285_16494.txt\n",
      "txt_sentoken/pos/cv286_25050.txt\n",
      "txt_sentoken/pos/cv287_15900.txt\n",
      "txt_sentoken/pos/cv288_18791.txt\n",
      "txt_sentoken/pos/cv289_6463.txt\n",
      "txt_sentoken/pos/cv290_11084.txt\n",
      "txt_sentoken/pos/cv291_26635.txt\n",
      "txt_sentoken/pos/cv292_7282.txt\n",
      "txt_sentoken/pos/cv293_29856.txt\n",
      "txt_sentoken/pos/cv294_11684.txt\n",
      "txt_sentoken/pos/cv295_15570.txt\n",
      "txt_sentoken/pos/cv296_12251.txt\n",
      "txt_sentoken/pos/cv297_10047.txt\n",
      "txt_sentoken/pos/cv298_23111.txt\n",
      "txt_sentoken/pos/cv299_16214.txt\n",
      "txt_sentoken/pos/cv300_22284.txt\n",
      "txt_sentoken/pos/cv301_12146.txt\n",
      "txt_sentoken/pos/cv302_25649.txt\n",
      "txt_sentoken/pos/cv303_27520.txt\n",
      "txt_sentoken/pos/cv304_28706.txt\n",
      "txt_sentoken/pos/cv305_9946.txt\n",
      "txt_sentoken/pos/cv306_10364.txt\n",
      "txt_sentoken/pos/cv307_25270.txt\n",
      "txt_sentoken/pos/cv308_5016.txt\n",
      "txt_sentoken/pos/cv309_22571.txt\n",
      "txt_sentoken/pos/cv310_13091.txt\n",
      "txt_sentoken/pos/cv311_16002.txt\n",
      "txt_sentoken/pos/cv312_29377.txt\n",
      "txt_sentoken/pos/cv313_18198.txt\n",
      "txt_sentoken/pos/cv314_14422.txt\n",
      "txt_sentoken/pos/cv315_11629.txt\n",
      "txt_sentoken/pos/cv316_6370.txt\n",
      "txt_sentoken/pos/cv317_24049.txt\n",
      "txt_sentoken/pos/cv318_10493.txt\n",
      "txt_sentoken/pos/cv319_14727.txt\n",
      "txt_sentoken/pos/cv320_9530.txt\n",
      "txt_sentoken/pos/cv321_12843.txt\n",
      "txt_sentoken/pos/cv322_20318.txt\n",
      "txt_sentoken/pos/cv323_29805.txt\n",
      "txt_sentoken/pos/cv324_7082.txt\n",
      "txt_sentoken/pos/cv325_16629.txt\n",
      "txt_sentoken/pos/cv326_13295.txt\n",
      "txt_sentoken/pos/cv327_20292.txt\n",
      "txt_sentoken/pos/cv328_10373.txt\n",
      "txt_sentoken/pos/cv329_29370.txt\n",
      "txt_sentoken/pos/cv330_29809.txt\n",
      "txt_sentoken/pos/cv331_8273.txt\n",
      "txt_sentoken/pos/cv332_16307.txt\n",
      "txt_sentoken/pos/cv333_8916.txt\n",
      "txt_sentoken/pos/cv334_10001.txt\n",
      "txt_sentoken/pos/cv335_14665.txt\n",
      "txt_sentoken/pos/cv336_10143.txt\n",
      "txt_sentoken/pos/cv337_29181.txt\n",
      "txt_sentoken/pos/cv338_8821.txt\n",
      "txt_sentoken/pos/cv339_21119.txt\n",
      "txt_sentoken/pos/cv340_13287.txt\n",
      "txt_sentoken/pos/cv341_24430.txt\n",
      "txt_sentoken/pos/cv342_19456.txt\n",
      "txt_sentoken/pos/cv343_10368.txt\n",
      "txt_sentoken/pos/cv344_5312.txt\n",
      "txt_sentoken/pos/cv345_9954.txt\n",
      "txt_sentoken/pos/cv346_18168.txt\n",
      "txt_sentoken/pos/cv347_13194.txt\n",
      "txt_sentoken/pos/cv348_18176.txt\n",
      "txt_sentoken/pos/cv349_13507.txt\n",
      "txt_sentoken/pos/cv350_20670.txt\n",
      "txt_sentoken/pos/cv351_15458.txt\n",
      "txt_sentoken/pos/cv352_5524.txt\n",
      "txt_sentoken/pos/cv353_18159.txt\n",
      "txt_sentoken/pos/cv354_8132.txt\n",
      "txt_sentoken/pos/cv355_16413.txt\n",
      "txt_sentoken/pos/cv356_25163.txt\n",
      "txt_sentoken/pos/cv357_13156.txt\n",
      "txt_sentoken/pos/cv358_10691.txt\n",
      "txt_sentoken/pos/cv359_6647.txt\n",
      "txt_sentoken/pos/cv360_8398.txt\n",
      "txt_sentoken/pos/cv361_28944.txt\n",
      "txt_sentoken/pos/cv362_15341.txt\n",
      "txt_sentoken/pos/cv363_29332.txt\n",
      "txt_sentoken/pos/cv364_12901.txt\n",
      "txt_sentoken/pos/cv365_11576.txt\n",
      "txt_sentoken/pos/cv366_10221.txt\n",
      "txt_sentoken/pos/cv367_22792.txt\n",
      "txt_sentoken/pos/cv368_10466.txt\n",
      "txt_sentoken/pos/cv369_12886.txt\n",
      "txt_sentoken/pos/cv370_5221.txt\n",
      "txt_sentoken/pos/cv371_7630.txt\n",
      "txt_sentoken/pos/cv372_6552.txt\n",
      "txt_sentoken/pos/cv373_20404.txt\n",
      "txt_sentoken/pos/cv374_25436.txt\n",
      "txt_sentoken/pos/cv375_9929.txt\n",
      "txt_sentoken/pos/cv376_19435.txt\n",
      "txt_sentoken/pos/cv377_7946.txt\n",
      "txt_sentoken/pos/cv378_20629.txt\n",
      "txt_sentoken/pos/cv379_21963.txt\n",
      "txt_sentoken/pos/cv380_7574.txt\n",
      "txt_sentoken/pos/cv381_20172.txt\n",
      "txt_sentoken/pos/cv382_7897.txt\n",
      "txt_sentoken/pos/cv383_13116.txt\n",
      "txt_sentoken/pos/cv384_17140.txt\n",
      "txt_sentoken/pos/cv385_29741.txt\n",
      "txt_sentoken/pos/cv386_10080.txt\n",
      "txt_sentoken/pos/cv387_11507.txt\n",
      "txt_sentoken/pos/cv388_12009.txt\n",
      "txt_sentoken/pos/cv389_9369.txt\n",
      "txt_sentoken/pos/cv390_11345.txt\n",
      "txt_sentoken/pos/cv391_10802.txt\n",
      "txt_sentoken/pos/cv392_11458.txt\n",
      "txt_sentoken/pos/cv393_29327.txt\n",
      "txt_sentoken/pos/cv394_5137.txt\n",
      "txt_sentoken/pos/cv395_10849.txt\n",
      "txt_sentoken/pos/cv396_17989.txt\n",
      "txt_sentoken/pos/cv397_29023.txt\n",
      "txt_sentoken/pos/cv398_15537.txt\n",
      "txt_sentoken/pos/cv399_2877.txt\n",
      "txt_sentoken/pos/cv400_19220.txt\n",
      "txt_sentoken/pos/cv401_12605.txt\n",
      "txt_sentoken/pos/cv402_14425.txt\n",
      "txt_sentoken/pos/cv403_6621.txt\n",
      "txt_sentoken/pos/cv404_20315.txt\n",
      "txt_sentoken/pos/cv405_20399.txt\n",
      "txt_sentoken/pos/cv406_21020.txt\n",
      "txt_sentoken/pos/cv407_22637.txt\n",
      "txt_sentoken/pos/cv408_5297.txt\n",
      "txt_sentoken/pos/cv409_29786.txt\n",
      "txt_sentoken/pos/cv410_24266.txt\n",
      "txt_sentoken/pos/cv411_15007.txt\n",
      "txt_sentoken/pos/cv412_24095.txt\n",
      "txt_sentoken/pos/cv413_7398.txt\n",
      "txt_sentoken/pos/cv414_10518.txt\n",
      "txt_sentoken/pos/cv415_22517.txt\n",
      "txt_sentoken/pos/cv416_11136.txt\n",
      "txt_sentoken/pos/cv417_13115.txt\n",
      "txt_sentoken/pos/cv418_14774.txt\n",
      "txt_sentoken/pos/cv419_13394.txt\n",
      "txt_sentoken/pos/cv420_28795.txt\n",
      "txt_sentoken/pos/cv421_9709.txt\n",
      "txt_sentoken/pos/cv422_9381.txt\n",
      "txt_sentoken/pos/cv423_11155.txt\n",
      "txt_sentoken/pos/cv424_8831.txt\n",
      "txt_sentoken/pos/cv425_8250.txt\n",
      "txt_sentoken/pos/cv426_10421.txt\n",
      "txt_sentoken/pos/cv427_10825.txt\n",
      "txt_sentoken/pos/cv428_11347.txt\n",
      "txt_sentoken/pos/cv429_7439.txt\n",
      "txt_sentoken/pos/cv430_17351.txt\n",
      "txt_sentoken/pos/cv431_7085.txt\n",
      "txt_sentoken/pos/cv432_14224.txt\n",
      "txt_sentoken/pos/cv433_10144.txt\n",
      "txt_sentoken/pos/cv434_5793.txt\n",
      "txt_sentoken/pos/cv435_23110.txt\n",
      "txt_sentoken/pos/cv436_19179.txt\n",
      "txt_sentoken/pos/cv437_22849.txt\n",
      "txt_sentoken/pos/cv438_8043.txt\n",
      "txt_sentoken/pos/cv439_15970.txt\n",
      "txt_sentoken/pos/cv440_15243.txt\n",
      "txt_sentoken/pos/cv441_13711.txt\n",
      "txt_sentoken/pos/cv442_13846.txt\n",
      "txt_sentoken/pos/cv443_21118.txt\n",
      "txt_sentoken/pos/cv444_9974.txt\n",
      "txt_sentoken/pos/cv445_25882.txt\n",
      "txt_sentoken/pos/cv446_11353.txt\n",
      "txt_sentoken/pos/cv447_27332.txt\n",
      "txt_sentoken/pos/cv448_14695.txt\n",
      "txt_sentoken/pos/cv449_8785.txt\n",
      "txt_sentoken/pos/cv450_7890.txt\n",
      "txt_sentoken/pos/cv451_10690.txt\n",
      "txt_sentoken/pos/cv452_5088.txt\n",
      "txt_sentoken/pos/cv453_10379.txt\n",
      "txt_sentoken/pos/cv454_2053.txt\n",
      "txt_sentoken/pos/cv455_29000.txt\n",
      "txt_sentoken/pos/cv456_18985.txt\n",
      "txt_sentoken/pos/cv457_18453.txt\n",
      "txt_sentoken/pos/cv458_8604.txt\n",
      "txt_sentoken/pos/cv459_20319.txt\n",
      "txt_sentoken/pos/cv460_10842.txt\n",
      "txt_sentoken/pos/cv461_19600.txt\n",
      "txt_sentoken/pos/cv462_19350.txt\n",
      "txt_sentoken/pos/cv463_10343.txt\n",
      "txt_sentoken/pos/cv464_15650.txt\n",
      "txt_sentoken/pos/cv465_22431.txt\n",
      "txt_sentoken/pos/cv466_18722.txt\n",
      "txt_sentoken/pos/cv467_25773.txt\n",
      "txt_sentoken/pos/cv468_15228.txt\n",
      "txt_sentoken/pos/cv469_20630.txt\n",
      "txt_sentoken/pos/cv470_15952.txt\n",
      "txt_sentoken/pos/cv471_16858.txt\n",
      "txt_sentoken/pos/cv472_29280.txt\n",
      "txt_sentoken/pos/cv473_7367.txt\n",
      "txt_sentoken/pos/cv474_10209.txt\n",
      "txt_sentoken/pos/cv475_21692.txt\n",
      "txt_sentoken/pos/cv476_16856.txt\n",
      "txt_sentoken/pos/cv477_22479.txt\n",
      "txt_sentoken/pos/cv478_14309.txt\n",
      "txt_sentoken/pos/cv479_5649.txt\n",
      "txt_sentoken/pos/cv480_19817.txt\n",
      "txt_sentoken/pos/cv481_7436.txt\n",
      "txt_sentoken/pos/cv482_10580.txt\n",
      "txt_sentoken/pos/cv483_16378.txt\n",
      "txt_sentoken/pos/cv484_25054.txt\n",
      "txt_sentoken/pos/cv485_26649.txt\n",
      "txt_sentoken/pos/cv486_9799.txt\n",
      "txt_sentoken/pos/cv487_10446.txt\n",
      "txt_sentoken/pos/cv488_19856.txt\n",
      "txt_sentoken/pos/cv489_17906.txt\n",
      "txt_sentoken/pos/cv490_17872.txt\n",
      "txt_sentoken/pos/cv491_12145.txt\n",
      "txt_sentoken/pos/cv492_18271.txt\n",
      "txt_sentoken/pos/cv493_12839.txt\n",
      "txt_sentoken/pos/cv494_17389.txt\n",
      "txt_sentoken/pos/cv495_14518.txt\n",
      "txt_sentoken/pos/cv496_10530.txt\n",
      "txt_sentoken/pos/cv497_26980.txt\n",
      "txt_sentoken/pos/cv498_8832.txt\n",
      "txt_sentoken/pos/cv499_10658.txt\n",
      "txt_sentoken/pos/cv500_10251.txt\n",
      "txt_sentoken/pos/cv501_11657.txt\n",
      "txt_sentoken/pos/cv502_10406.txt\n",
      "txt_sentoken/pos/cv503_10558.txt\n",
      "txt_sentoken/pos/cv504_29243.txt\n",
      "txt_sentoken/pos/cv505_12090.txt\n",
      "txt_sentoken/pos/cv506_15956.txt\n",
      "txt_sentoken/pos/cv507_9220.txt\n",
      "txt_sentoken/pos/cv508_16006.txt\n",
      "txt_sentoken/pos/cv509_15888.txt\n",
      "txt_sentoken/pos/cv510_23360.txt\n",
      "txt_sentoken/pos/cv511_10132.txt\n",
      "txt_sentoken/pos/cv512_15965.txt\n",
      "txt_sentoken/pos/cv513_6923.txt\n",
      "txt_sentoken/pos/cv514_11187.txt\n",
      "txt_sentoken/pos/cv515_17069.txt\n",
      "txt_sentoken/pos/cv516_11172.txt\n",
      "txt_sentoken/pos/cv517_19219.txt\n",
      "txt_sentoken/pos/cv518_13331.txt\n",
      "txt_sentoken/pos/cv519_14661.txt\n",
      "txt_sentoken/pos/cv520_12295.txt\n",
      "txt_sentoken/pos/cv521_15828.txt\n",
      "txt_sentoken/pos/cv522_5583.txt\n",
      "txt_sentoken/pos/cv523_16615.txt\n",
      "txt_sentoken/pos/cv524_23627.txt\n",
      "txt_sentoken/pos/cv525_16122.txt\n",
      "txt_sentoken/pos/cv526_12083.txt\n",
      "txt_sentoken/pos/cv527_10123.txt\n",
      "txt_sentoken/pos/cv528_10822.txt\n",
      "txt_sentoken/pos/cv529_10420.txt\n",
      "txt_sentoken/pos/cv530_16212.txt\n",
      "txt_sentoken/pos/cv531_26486.txt\n",
      "txt_sentoken/pos/cv532_6522.txt\n",
      "txt_sentoken/pos/cv533_9821.txt\n",
      "txt_sentoken/pos/cv534_14083.txt\n",
      "txt_sentoken/pos/cv535_19728.txt\n",
      "txt_sentoken/pos/cv536_27134.txt\n",
      "txt_sentoken/pos/cv537_12370.txt\n",
      "txt_sentoken/pos/cv538_28667.txt\n",
      "txt_sentoken/pos/cv539_20347.txt\n",
      "txt_sentoken/pos/cv540_3421.txt\n",
      "txt_sentoken/pos/cv541_28835.txt\n",
      "txt_sentoken/pos/cv542_18980.txt\n",
      "txt_sentoken/pos/cv543_5045.txt\n",
      "txt_sentoken/pos/cv544_5108.txt\n",
      "txt_sentoken/pos/cv545_12014.txt\n",
      "txt_sentoken/pos/cv546_11767.txt\n",
      "txt_sentoken/pos/cv547_16324.txt\n",
      "txt_sentoken/pos/cv548_17731.txt\n",
      "txt_sentoken/pos/cv549_21443.txt\n",
      "txt_sentoken/pos/cv550_22211.txt\n",
      "txt_sentoken/pos/cv551_10565.txt\n",
      "txt_sentoken/pos/cv552_10016.txt\n",
      "txt_sentoken/pos/cv553_26915.txt\n",
      "txt_sentoken/pos/cv554_13151.txt\n",
      "txt_sentoken/pos/cv555_23922.txt\n",
      "txt_sentoken/pos/cv556_14808.txt\n",
      "txt_sentoken/pos/cv557_11449.txt\n",
      "txt_sentoken/pos/cv558_29507.txt\n",
      "txt_sentoken/pos/cv559_0050.txt\n",
      "txt_sentoken/pos/cv560_17175.txt\n",
      "txt_sentoken/pos/cv561_9201.txt\n",
      "txt_sentoken/pos/cv562_10359.txt\n",
      "txt_sentoken/pos/cv563_17257.txt\n",
      "txt_sentoken/pos/cv564_11110.txt\n",
      "txt_sentoken/pos/cv565_29572.txt\n",
      "txt_sentoken/pos/cv566_8581.txt\n",
      "txt_sentoken/pos/cv567_29611.txt\n",
      "txt_sentoken/pos/cv568_15638.txt\n",
      "txt_sentoken/pos/cv569_26381.txt\n",
      "txt_sentoken/pos/cv570_29082.txt\n",
      "txt_sentoken/pos/cv571_29366.txt\n",
      "txt_sentoken/pos/cv572_18657.txt\n",
      "txt_sentoken/pos/cv573_29525.txt\n",
      "txt_sentoken/pos/cv574_22156.txt\n",
      "txt_sentoken/pos/cv575_21150.txt\n",
      "txt_sentoken/pos/cv576_14094.txt\n",
      "txt_sentoken/pos/cv577_28549.txt\n",
      "txt_sentoken/pos/cv578_15094.txt\n",
      "txt_sentoken/pos/cv579_11605.txt\n",
      "txt_sentoken/pos/cv580_14064.txt\n",
      "txt_sentoken/pos/cv581_19381.txt\n",
      "txt_sentoken/pos/cv582_6559.txt\n",
      "txt_sentoken/pos/cv583_29692.txt\n",
      "txt_sentoken/pos/cv584_29722.txt\n",
      "txt_sentoken/pos/cv585_22496.txt\n",
      "txt_sentoken/pos/cv586_7543.txt\n",
      "txt_sentoken/pos/cv587_19162.txt\n",
      "txt_sentoken/pos/cv588_13008.txt\n",
      "txt_sentoken/pos/cv589_12064.txt\n",
      "txt_sentoken/pos/cv590_19290.txt\n",
      "txt_sentoken/pos/cv591_23640.txt\n",
      "txt_sentoken/pos/cv592_22315.txt\n",
      "txt_sentoken/pos/cv593_10987.txt\n",
      "txt_sentoken/pos/cv594_11039.txt\n",
      "txt_sentoken/pos/cv595_25335.txt\n",
      "txt_sentoken/pos/cv596_28311.txt\n",
      "txt_sentoken/pos/cv597_26360.txt\n",
      "txt_sentoken/pos/cv598_16452.txt\n",
      "txt_sentoken/pos/cv599_20988.txt\n",
      "txt_sentoken/pos/cv600_23878.txt\n",
      "txt_sentoken/pos/cv601_23453.txt\n",
      "txt_sentoken/pos/cv602_8300.txt\n",
      "txt_sentoken/pos/cv603_17694.txt\n",
      "txt_sentoken/pos/cv604_2230.txt\n",
      "txt_sentoken/pos/cv605_11800.txt\n",
      "txt_sentoken/pos/cv606_15985.txt\n",
      "txt_sentoken/pos/cv607_7717.txt\n",
      "txt_sentoken/pos/cv608_23231.txt\n",
      "txt_sentoken/pos/cv609_23877.txt\n",
      "txt_sentoken/pos/cv610_2287.txt\n",
      "txt_sentoken/pos/cv611_21120.txt\n",
      "txt_sentoken/pos/cv612_5461.txt\n",
      "txt_sentoken/pos/cv613_21796.txt\n",
      "txt_sentoken/pos/cv614_10626.txt\n",
      "txt_sentoken/pos/cv615_14182.txt\n",
      "txt_sentoken/pos/cv616_29319.txt\n",
      "txt_sentoken/pos/cv617_9322.txt\n",
      "txt_sentoken/pos/cv618_8974.txt\n",
      "txt_sentoken/pos/cv619_12462.txt\n",
      "txt_sentoken/pos/cv620_24265.txt\n",
      "txt_sentoken/pos/cv621_14368.txt\n",
      "txt_sentoken/pos/cv622_8147.txt\n",
      "txt_sentoken/pos/cv623_15356.txt\n",
      "txt_sentoken/pos/cv624_10744.txt\n",
      "txt_sentoken/pos/cv625_12440.txt\n",
      "txt_sentoken/pos/cv626_7410.txt\n",
      "txt_sentoken/pos/cv627_11620.txt\n",
      "txt_sentoken/pos/cv628_19325.txt\n",
      "txt_sentoken/pos/cv629_14909.txt\n",
      "txt_sentoken/pos/cv630_10057.txt\n",
      "txt_sentoken/pos/cv631_4967.txt\n",
      "txt_sentoken/pos/cv632_9610.txt\n",
      "txt_sentoken/pos/cv633_29837.txt\n",
      "txt_sentoken/pos/cv634_11101.txt\n",
      "txt_sentoken/pos/cv635_10022.txt\n",
      "txt_sentoken/pos/cv636_15279.txt\n",
      "txt_sentoken/pos/cv637_1250.txt\n",
      "txt_sentoken/pos/cv638_2953.txt\n",
      "txt_sentoken/pos/cv639_10308.txt\n",
      "txt_sentoken/pos/cv640_5378.txt\n",
      "txt_sentoken/pos/cv641_12349.txt\n",
      "txt_sentoken/pos/cv642_29867.txt\n",
      "txt_sentoken/pos/cv643_29349.txt\n",
      "txt_sentoken/pos/cv644_17154.txt\n",
      "txt_sentoken/pos/cv645_15668.txt\n",
      "txt_sentoken/pos/cv646_15065.txt\n",
      "txt_sentoken/pos/cv647_13691.txt\n",
      "txt_sentoken/pos/cv648_15792.txt\n",
      "txt_sentoken/pos/cv649_12735.txt\n",
      "txt_sentoken/pos/cv650_14340.txt\n",
      "txt_sentoken/pos/cv651_10492.txt\n",
      "txt_sentoken/pos/cv652_13972.txt\n",
      "txt_sentoken/pos/cv653_19583.txt\n",
      "txt_sentoken/pos/cv654_18246.txt\n",
      "txt_sentoken/pos/cv655_11154.txt\n",
      "txt_sentoken/pos/cv656_24201.txt\n",
      "txt_sentoken/pos/cv657_24513.txt\n",
      "txt_sentoken/pos/cv658_10532.txt\n",
      "txt_sentoken/pos/cv659_19944.txt\n",
      "txt_sentoken/pos/cv660_21893.txt\n",
      "txt_sentoken/pos/cv661_2450.txt\n",
      "txt_sentoken/pos/cv662_13320.txt\n",
      "txt_sentoken/pos/cv663_13019.txt\n",
      "txt_sentoken/pos/cv664_4389.txt\n",
      "txt_sentoken/pos/cv665_29538.txt\n",
      "txt_sentoken/pos/cv666_18963.txt\n",
      "txt_sentoken/pos/cv667_18467.txt\n",
      "txt_sentoken/pos/cv668_17604.txt\n",
      "txt_sentoken/pos/cv669_22995.txt\n",
      "txt_sentoken/pos/cv670_25826.txt\n",
      "txt_sentoken/pos/cv671_5054.txt\n",
      "txt_sentoken/pos/cv672_28083.txt\n",
      "txt_sentoken/pos/cv673_24714.txt\n",
      "txt_sentoken/pos/cv674_10732.txt\n",
      "txt_sentoken/pos/cv675_21588.txt\n",
      "txt_sentoken/pos/cv676_21090.txt\n",
      "txt_sentoken/pos/cv677_17715.txt\n",
      "txt_sentoken/pos/cv678_13419.txt\n",
      "txt_sentoken/pos/cv679_28559.txt\n",
      "txt_sentoken/pos/cv680_10160.txt\n",
      "txt_sentoken/pos/cv681_9692.txt\n",
      "txt_sentoken/pos/cv682_16139.txt\n",
      "txt_sentoken/pos/cv683_12167.txt\n",
      "txt_sentoken/pos/cv684_11798.txt\n",
      "txt_sentoken/pos/cv685_5947.txt\n",
      "txt_sentoken/pos/cv686_13900.txt\n",
      "txt_sentoken/pos/cv687_21100.txt\n",
      "txt_sentoken/pos/cv688_7368.txt\n",
      "txt_sentoken/pos/cv689_12587.txt\n",
      "txt_sentoken/pos/cv690_5619.txt\n",
      "txt_sentoken/pos/cv691_5043.txt\n",
      "txt_sentoken/pos/cv692_15451.txt\n",
      "txt_sentoken/pos/cv693_18063.txt\n",
      "txt_sentoken/pos/cv694_4876.txt\n",
      "txt_sentoken/pos/cv695_21108.txt\n",
      "txt_sentoken/pos/cv696_29740.txt\n",
      "txt_sentoken/pos/cv697_11162.txt\n",
      "txt_sentoken/pos/cv698_15253.txt\n",
      "txt_sentoken/pos/cv699_7223.txt\n",
      "txt_sentoken/pos/cv700_21947.txt\n",
      "txt_sentoken/pos/cv701_14252.txt\n",
      "txt_sentoken/pos/cv702_11500.txt\n",
      "txt_sentoken/pos/cv703_16143.txt\n",
      "txt_sentoken/pos/cv704_15969.txt\n",
      "txt_sentoken/pos/cv705_11059.txt\n",
      "txt_sentoken/pos/cv706_24716.txt\n",
      "txt_sentoken/pos/cv707_10678.txt\n",
      "txt_sentoken/pos/cv708_28729.txt\n",
      "txt_sentoken/pos/cv709_10529.txt\n",
      "txt_sentoken/pos/cv710_22577.txt\n",
      "txt_sentoken/pos/cv711_11665.txt\n",
      "txt_sentoken/pos/cv712_22920.txt\n",
      "txt_sentoken/pos/cv713_29155.txt\n",
      "txt_sentoken/pos/cv714_18502.txt\n",
      "txt_sentoken/pos/cv715_18179.txt\n",
      "txt_sentoken/pos/cv716_10514.txt\n",
      "txt_sentoken/pos/cv717_15953.txt\n",
      "txt_sentoken/pos/cv718_11434.txt\n",
      "txt_sentoken/pos/cv719_5713.txt\n",
      "txt_sentoken/pos/cv720_5389.txt\n",
      "txt_sentoken/pos/cv721_29121.txt\n",
      "txt_sentoken/pos/cv722_7110.txt\n",
      "txt_sentoken/pos/cv723_8648.txt\n",
      "txt_sentoken/pos/cv724_13681.txt\n",
      "txt_sentoken/pos/cv725_10103.txt\n",
      "txt_sentoken/pos/cv726_4719.txt\n",
      "txt_sentoken/pos/cv727_4978.txt\n",
      "txt_sentoken/pos/cv728_16133.txt\n",
      "txt_sentoken/pos/cv729_10154.txt\n",
      "txt_sentoken/pos/cv730_10279.txt\n",
      "txt_sentoken/pos/cv731_4136.txt\n",
      "txt_sentoken/pos/cv732_12245.txt\n",
      "txt_sentoken/pos/cv733_9839.txt\n",
      "txt_sentoken/pos/cv734_21568.txt\n",
      "txt_sentoken/pos/cv735_18801.txt\n",
      "txt_sentoken/pos/cv736_23670.txt\n",
      "txt_sentoken/pos/cv737_28907.txt\n",
      "txt_sentoken/pos/cv738_10116.txt\n",
      "txt_sentoken/pos/cv739_11209.txt\n",
      "txt_sentoken/pos/cv740_12445.txt\n",
      "txt_sentoken/pos/cv741_11890.txt\n",
      "txt_sentoken/pos/cv742_7751.txt\n",
      "txt_sentoken/pos/cv743_15449.txt\n",
      "txt_sentoken/pos/cv744_10038.txt\n",
      "txt_sentoken/pos/cv745_12773.txt\n",
      "txt_sentoken/pos/cv746_10147.txt\n",
      "txt_sentoken/pos/cv747_16556.txt\n",
      "txt_sentoken/pos/cv748_12786.txt\n",
      "txt_sentoken/pos/cv749_17765.txt\n",
      "txt_sentoken/pos/cv750_10180.txt\n",
      "txt_sentoken/pos/cv751_15719.txt\n",
      "txt_sentoken/pos/cv752_24155.txt\n",
      "txt_sentoken/pos/cv753_10875.txt\n",
      "txt_sentoken/pos/cv754_7216.txt\n",
      "txt_sentoken/pos/cv755_23616.txt\n",
      "txt_sentoken/pos/cv756_22540.txt\n",
      "txt_sentoken/pos/cv757_10189.txt\n",
      "txt_sentoken/pos/cv758_9671.txt\n",
      "txt_sentoken/pos/cv759_13522.txt\n",
      "txt_sentoken/pos/cv760_8597.txt\n",
      "txt_sentoken/pos/cv761_12620.txt\n",
      "txt_sentoken/pos/cv762_13927.txt\n",
      "txt_sentoken/pos/cv763_14729.txt\n",
      "txt_sentoken/pos/cv764_11739.txt\n",
      "txt_sentoken/pos/cv765_19037.txt\n",
      "txt_sentoken/pos/cv766_7540.txt\n",
      "txt_sentoken/pos/cv767_14062.txt\n",
      "txt_sentoken/pos/cv768_11751.txt\n",
      "txt_sentoken/pos/cv769_8123.txt\n",
      "txt_sentoken/pos/cv770_10451.txt\n",
      "txt_sentoken/pos/cv771_28665.txt\n",
      "txt_sentoken/pos/cv772_12119.txt\n",
      "txt_sentoken/pos/cv773_18817.txt\n",
      "txt_sentoken/pos/cv774_13845.txt\n",
      "txt_sentoken/pos/cv775_16237.txt\n",
      "txt_sentoken/pos/cv776_20529.txt\n",
      "txt_sentoken/pos/cv777_10094.txt\n",
      "txt_sentoken/pos/cv778_17330.txt\n",
      "txt_sentoken/pos/cv779_17881.txt\n",
      "txt_sentoken/pos/cv780_7984.txt\n",
      "txt_sentoken/pos/cv781_5262.txt\n",
      "txt_sentoken/pos/cv782_19526.txt\n",
      "txt_sentoken/pos/cv783_13227.txt\n",
      "txt_sentoken/pos/cv784_14394.txt\n",
      "txt_sentoken/pos/cv785_22600.txt\n",
      "txt_sentoken/pos/cv786_22497.txt\n",
      "txt_sentoken/pos/cv787_13743.txt\n",
      "txt_sentoken/pos/cv788_25272.txt\n",
      "txt_sentoken/pos/cv789_12136.txt\n",
      "txt_sentoken/pos/cv790_14600.txt\n",
      "txt_sentoken/pos/cv791_16302.txt\n",
      "txt_sentoken/pos/cv792_3832.txt\n",
      "txt_sentoken/pos/cv793_13650.txt\n",
      "txt_sentoken/pos/cv794_15868.txt\n",
      "txt_sentoken/pos/cv795_10122.txt\n",
      "txt_sentoken/pos/cv796_15782.txt\n",
      "txt_sentoken/pos/cv797_6957.txt\n",
      "txt_sentoken/pos/cv798_23531.txt\n",
      "txt_sentoken/pos/cv799_18543.txt\n",
      "txt_sentoken/pos/cv800_12368.txt\n",
      "txt_sentoken/pos/cv801_25228.txt\n",
      "txt_sentoken/pos/cv802_28664.txt\n",
      "txt_sentoken/pos/cv803_8207.txt\n",
      "txt_sentoken/pos/cv804_10862.txt\n",
      "txt_sentoken/pos/cv805_19601.txt\n",
      "txt_sentoken/pos/cv806_8842.txt\n",
      "txt_sentoken/pos/cv807_21740.txt\n",
      "txt_sentoken/pos/cv808_12635.txt\n",
      "txt_sentoken/pos/cv809_5009.txt\n",
      "txt_sentoken/pos/cv810_12458.txt\n",
      "txt_sentoken/pos/cv811_21386.txt\n",
      "txt_sentoken/pos/cv812_17924.txt\n",
      "txt_sentoken/pos/cv813_6534.txt\n",
      "txt_sentoken/pos/cv814_18975.txt\n",
      "txt_sentoken/pos/cv815_22456.txt\n",
      "txt_sentoken/pos/cv816_13655.txt\n",
      "txt_sentoken/pos/cv817_4041.txt\n",
      "txt_sentoken/pos/cv818_10211.txt\n",
      "txt_sentoken/pos/cv819_9364.txt\n",
      "txt_sentoken/pos/cv820_22892.txt\n",
      "txt_sentoken/pos/cv821_29364.txt\n",
      "txt_sentoken/pos/cv822_20049.txt\n",
      "txt_sentoken/pos/cv823_15569.txt\n",
      "txt_sentoken/pos/cv824_8838.txt\n",
      "txt_sentoken/pos/cv825_5063.txt\n",
      "txt_sentoken/pos/cv826_11834.txt\n",
      "txt_sentoken/pos/cv827_18331.txt\n",
      "txt_sentoken/pos/cv828_19831.txt\n",
      "txt_sentoken/pos/cv829_20289.txt\n",
      "txt_sentoken/pos/cv830_6014.txt\n",
      "txt_sentoken/pos/cv831_14689.txt\n",
      "txt_sentoken/pos/cv832_23275.txt\n",
      "txt_sentoken/pos/cv833_11053.txt\n",
      "txt_sentoken/pos/cv834_22195.txt\n",
      "txt_sentoken/pos/cv835_19159.txt\n",
      "txt_sentoken/pos/cv836_12968.txt\n",
      "txt_sentoken/pos/cv837_27325.txt\n",
      "txt_sentoken/pos/cv838_24728.txt\n",
      "txt_sentoken/pos/cv839_21467.txt\n",
      "txt_sentoken/pos/cv840_16321.txt\n",
      "txt_sentoken/pos/cv841_3967.txt\n",
      "txt_sentoken/pos/cv842_5866.txt\n",
      "txt_sentoken/pos/cv843_15544.txt\n",
      "txt_sentoken/pos/cv844_12690.txt\n",
      "txt_sentoken/pos/cv845_14290.txt\n",
      "txt_sentoken/pos/cv846_29497.txt\n",
      "txt_sentoken/pos/cv847_1941.txt\n",
      "txt_sentoken/pos/cv848_10036.txt\n",
      "txt_sentoken/pos/cv849_15729.txt\n",
      "txt_sentoken/pos/cv850_16466.txt\n",
      "txt_sentoken/pos/cv851_20469.txt\n",
      "txt_sentoken/pos/cv852_27523.txt\n",
      "txt_sentoken/pos/cv853_29233.txt\n",
      "txt_sentoken/pos/cv854_17740.txt\n",
      "txt_sentoken/pos/cv855_20661.txt\n",
      "txt_sentoken/pos/cv856_29013.txt\n",
      "txt_sentoken/pos/cv857_15958.txt\n",
      "txt_sentoken/pos/cv858_18819.txt\n",
      "txt_sentoken/pos/cv859_14107.txt\n",
      "txt_sentoken/pos/cv860_13853.txt\n",
      "txt_sentoken/pos/cv861_1198.txt\n",
      "txt_sentoken/pos/cv862_14324.txt\n",
      "txt_sentoken/pos/cv863_7424.txt\n",
      "txt_sentoken/pos/cv864_3416.txt\n",
      "txt_sentoken/pos/cv865_2895.txt\n",
      "txt_sentoken/pos/cv866_29691.txt\n",
      "txt_sentoken/pos/cv867_16661.txt\n",
      "txt_sentoken/pos/cv868_11948.txt\n",
      "txt_sentoken/pos/cv869_23611.txt\n",
      "txt_sentoken/pos/cv870_16348.txt\n",
      "txt_sentoken/pos/cv871_24888.txt\n",
      "txt_sentoken/pos/cv872_12591.txt\n",
      "txt_sentoken/pos/cv873_18636.txt\n",
      "txt_sentoken/pos/cv874_11236.txt\n",
      "txt_sentoken/pos/cv875_5754.txt\n",
      "txt_sentoken/pos/cv876_9390.txt\n",
      "txt_sentoken/pos/cv877_29274.txt\n",
      "txt_sentoken/pos/cv878_15694.txt\n",
      "txt_sentoken/pos/cv879_14903.txt\n",
      "txt_sentoken/pos/cv880_29800.txt\n",
      "txt_sentoken/pos/cv881_13254.txt\n",
      "txt_sentoken/pos/cv882_10026.txt\n",
      "txt_sentoken/pos/cv883_27751.txt\n",
      "txt_sentoken/pos/cv884_13632.txt\n",
      "txt_sentoken/pos/cv885_12318.txt\n",
      "txt_sentoken/pos/cv886_18177.txt\n",
      "txt_sentoken/pos/cv887_5126.txt\n",
      "txt_sentoken/pos/cv888_24435.txt\n",
      "txt_sentoken/pos/cv889_21430.txt\n",
      "txt_sentoken/pos/cv890_3977.txt\n",
      "txt_sentoken/pos/cv891_6385.txt\n",
      "txt_sentoken/pos/cv892_17576.txt\n",
      "txt_sentoken/pos/cv893_26269.txt\n",
      "txt_sentoken/pos/cv894_2068.txt\n",
      "txt_sentoken/pos/cv895_21022.txt\n",
      "txt_sentoken/pos/cv896_16071.txt\n",
      "txt_sentoken/pos/cv897_10837.txt\n",
      "txt_sentoken/pos/cv898_14187.txt\n",
      "txt_sentoken/pos/cv899_16014.txt\n",
      "txt_sentoken/pos/cv900_10331.txt\n",
      "txt_sentoken/pos/cv901_11017.txt\n",
      "txt_sentoken/pos/cv902_12256.txt\n",
      "txt_sentoken/pos/cv903_17822.txt\n",
      "txt_sentoken/pos/cv904_24353.txt\n",
      "txt_sentoken/pos/cv905_29114.txt\n",
      "txt_sentoken/pos/cv906_11491.txt\n",
      "txt_sentoken/pos/cv907_3541.txt\n",
      "txt_sentoken/pos/cv908_16009.txt\n",
      "txt_sentoken/pos/cv909_9960.txt\n",
      "txt_sentoken/pos/cv910_20488.txt\n",
      "txt_sentoken/pos/cv911_20260.txt\n",
      "txt_sentoken/pos/cv912_5674.txt\n",
      "txt_sentoken/pos/cv913_29252.txt\n",
      "txt_sentoken/pos/cv914_28742.txt\n",
      "txt_sentoken/pos/cv915_8841.txt\n",
      "txt_sentoken/pos/cv916_15467.txt\n",
      "txt_sentoken/pos/cv917_29715.txt\n",
      "txt_sentoken/pos/cv918_2693.txt\n",
      "txt_sentoken/pos/cv919_16380.txt\n",
      "txt_sentoken/pos/cv920_29622.txt\n",
      "txt_sentoken/pos/cv921_12747.txt\n",
      "txt_sentoken/pos/cv922_10073.txt\n",
      "txt_sentoken/pos/cv923_11051.txt\n",
      "txt_sentoken/pos/cv924_29540.txt\n",
      "txt_sentoken/pos/cv925_8969.txt\n",
      "txt_sentoken/pos/cv926_17059.txt\n",
      "txt_sentoken/pos/cv927_10681.txt\n",
      "txt_sentoken/pos/cv928_9168.txt\n",
      "txt_sentoken/pos/cv929_16908.txt\n",
      "txt_sentoken/pos/cv930_13475.txt\n",
      "txt_sentoken/pos/cv931_17563.txt\n",
      "txt_sentoken/pos/cv932_13401.txt\n",
      "txt_sentoken/pos/cv933_23776.txt\n",
      "txt_sentoken/pos/cv934_19027.txt\n",
      "txt_sentoken/pos/cv935_23841.txt\n",
      "txt_sentoken/pos/cv936_15954.txt\n",
      "txt_sentoken/pos/cv937_9811.txt\n",
      "txt_sentoken/pos/cv938_10220.txt\n",
      "txt_sentoken/pos/cv939_10583.txt\n",
      "txt_sentoken/pos/cv940_17705.txt\n",
      "txt_sentoken/pos/cv941_10246.txt\n",
      "txt_sentoken/pos/cv942_17082.txt\n",
      "txt_sentoken/pos/cv943_22488.txt\n",
      "txt_sentoken/pos/cv944_13521.txt\n",
      "txt_sentoken/pos/cv945_12160.txt\n",
      "txt_sentoken/pos/cv946_18658.txt\n",
      "txt_sentoken/pos/cv947_10601.txt\n",
      "txt_sentoken/pos/cv948_24606.txt\n",
      "txt_sentoken/pos/cv949_20112.txt\n",
      "txt_sentoken/pos/cv950_12350.txt\n",
      "txt_sentoken/pos/cv951_10926.txt\n",
      "txt_sentoken/pos/cv952_25240.txt\n",
      "txt_sentoken/pos/cv953_6836.txt\n",
      "txt_sentoken/pos/cv954_18628.txt\n",
      "txt_sentoken/pos/cv955_25001.txt\n",
      "txt_sentoken/pos/cv956_11609.txt\n",
      "txt_sentoken/pos/cv957_8737.txt\n",
      "txt_sentoken/pos/cv958_12162.txt\n",
      "txt_sentoken/pos/cv959_14611.txt\n",
      "txt_sentoken/pos/cv960_29007.txt\n",
      "txt_sentoken/pos/cv961_5682.txt\n",
      "txt_sentoken/pos/cv962_9803.txt\n",
      "txt_sentoken/pos/cv963_6895.txt\n",
      "txt_sentoken/pos/cv964_6021.txt\n",
      "txt_sentoken/pos/cv965_26071.txt\n",
      "txt_sentoken/pos/cv966_28832.txt\n",
      "txt_sentoken/pos/cv967_5788.txt\n",
      "txt_sentoken/pos/cv968_24218.txt\n",
      "txt_sentoken/pos/cv969_13250.txt\n",
      "txt_sentoken/pos/cv970_18450.txt\n",
      "txt_sentoken/pos/cv971_10874.txt\n",
      "txt_sentoken/pos/cv972_26417.txt\n",
      "txt_sentoken/pos/cv973_10066.txt\n",
      "txt_sentoken/pos/cv974_22941.txt\n",
      "txt_sentoken/pos/cv975_10981.txt\n",
      "txt_sentoken/pos/cv976_10267.txt\n",
      "txt_sentoken/pos/cv977_4938.txt\n",
      "txt_sentoken/pos/cv978_20929.txt\n",
      "txt_sentoken/pos/cv979_18921.txt\n",
      "txt_sentoken/pos/cv980_10953.txt\n",
      "txt_sentoken/pos/cv981_14989.txt\n",
      "txt_sentoken/pos/cv982_21103.txt\n",
      "txt_sentoken/pos/cv983_22928.txt\n",
      "txt_sentoken/pos/cv984_12767.txt\n",
      "txt_sentoken/pos/cv985_6359.txt\n",
      "txt_sentoken/pos/cv986_13527.txt\n",
      "txt_sentoken/pos/cv987_6965.txt\n",
      "txt_sentoken/pos/cv988_18740.txt\n",
      "txt_sentoken/pos/cv989_15824.txt\n",
      "txt_sentoken/pos/cv990_11591.txt\n",
      "txt_sentoken/pos/cv991_18645.txt\n",
      "txt_sentoken/pos/cv992_11962.txt\n",
      "txt_sentoken/pos/cv993_29737.txt\n",
      "txt_sentoken/pos/cv994_12270.txt\n",
      "txt_sentoken/pos/cv995_21821.txt\n",
      "txt_sentoken/pos/cv996_11592.txt\n",
      "txt_sentoken/pos/cv997_5046.txt\n",
      "txt_sentoken/pos/cv998_14111.txt\n",
      "txt_sentoken/pos/cv999_13106.txt\n",
      "poldata.README.2.0\n"
     ]
    }
   ],
   "source": [
    "!wget http://www.cs.cornell.edu/people/pabo/movie-review-data/review_polarity.tar.gz\n",
    "!tar xvzf review_polarity.tar.gz\n",
    "\n",
    "from sklearn.datasets import load_files  \n",
    "\n",
    "#download the files\n",
    "movies = load_files(container_path=\"txt_sentoken\", encoding=\"utf-8\")\n",
    " \n",
    "#save the reviews and the annotations to x, y respectively \n",
    "x, y = movies.data, movies.target"
   ]
  },
  {
   "cell_type": "markdown",
   "metadata": {
    "id": "TyOt3UuhvtMd"
   },
   "source": [
    ">Finding the Boolean Number for each Category"
   ]
  },
  {
   "cell_type": "code",
   "execution_count": null,
   "metadata": {
    "colab": {
     "base_uri": "https://localhost:8080/"
    },
    "executionInfo": {
     "elapsed": 11,
     "status": "ok",
     "timestamp": 1677771202019,
     "user": {
      "displayName": "Σπύρος Μαστροδημήτρης",
      "userId": "05822789757280910665"
     },
     "user_tz": -120
    },
    "id": "OYKqCfaQ1MeQ",
    "outputId": "9d7ba880-254a-4d0e-f657-f5b68f14c334"
   },
   "outputs": [
    {
     "name": "stdout",
     "output_type": "stream",
     "text": [
      "(y=0) corresptonds to --> neg\n",
      "(y=1) corresptonds to--> pos\n"
     ]
    }
   ],
   "source": [
    "#print the target names and the number of reviews\n",
    "print(\"(y=0) corresptonds to -->\",movies.target_names[0])\n",
    "print(\"(y=1) corresptonds to-->\",movies.target_names[1])"
   ]
  },
  {
   "cell_type": "markdown",
   "metadata": {
    "id": "Ns8TQnokyvYn"
   },
   "source": [
    ">Printing a Review"
   ]
  },
  {
   "cell_type": "code",
   "execution_count": null,
   "metadata": {
    "colab": {
     "base_uri": "https://localhost:8080/"
    },
    "executionInfo": {
     "elapsed": 10,
     "status": "ok",
     "timestamp": 1677771202020,
     "user": {
      "displayName": "Σπύρος Μαστροδημήτρης",
      "userId": "05822789757280910665"
     },
     "user_tz": -120
    },
    "id": "KUUkOOZ21MaN",
    "outputId": "ca7bcd8a-6b80-4f17-c213-da25aca17359"
   },
   "outputs": [
    {
     "name": "stdout",
     "output_type": "stream",
     "text": [
      "Sample: arnold schwarzenegger has been an icon for action enthusiasts , since the late 80's , but lately his films have been very sloppy and the one-liners are getting worse . \n",
      "it's hard seeing arnold as mr . freeze in batman and robin , especially when he says tons of ice jokes , but hey he got 15 million , what's it matter to him ? \n",
      "once again arnold has signed to do another expensive blockbuster , that can't compare with the likes of the terminator series , true lies and even eraser . \n",
      "in this so called dark thriller , the devil ( gabriel byrne ) has come upon earth , to impregnate a woman ( robin tunney ) which happens every 1000 years , and basically destroy the world , but apparently god has chosen one man , and that one man is jericho cane ( arnold himself ) . \n",
      "with the help of a trusty sidekick ( kevin pollack ) , they will stop at nothing to let the devil take over the world ! \n",
      "parts of this are actually so absurd , that they would fit right in with dogma . \n",
      "yes , the film is that weak , but it's better than the other blockbuster right now ( sleepy hollow ) , but it makes the world is not enough look like a 4 star film . \n",
      "anyway , this definitely doesn't seem like an arnold movie . \n",
      "it just wasn't the type of film you can see him doing . \n",
      "sure he gave us a few chuckles with his well known one-liners , but he seemed confused as to where his character and the film was going . \n",
      "it's understandable , especially when the ending had to be changed according to some sources . \n",
      "aside form that , he still walked through it , much like he has in the past few films . \n",
      "i'm sorry to say this arnold but maybe these are the end of your action days . \n",
      "speaking of action , where was it in this film ? \n",
      "there was hardly any explosions or fights . \n",
      "the devil made a few places explode , but arnold wasn't kicking some devil butt . \n",
      "the ending was changed to make it more spiritual , which undoubtedly ruined the film . \n",
      "i was at least hoping for a cool ending if nothing else occurred , but once again i was let down . \n",
      "i also don't know why the film took so long and cost so much . \n",
      "there was really no super affects at all , unless you consider an invisible devil , who was in it for 5 minutes tops , worth the overpriced budget . \n",
      "the budget should have gone into a better script , where at least audiences could be somewhat entertained instead of facing boredom . \n",
      "it's pitiful to see how scripts like these get bought and made into a movie . \n",
      "do they even read these things anymore ? \n",
      "it sure doesn't seem like it . \n",
      "thankfully gabriel's performance gave some light to this poor film . \n",
      "when he walks down the street searching for robin tunney , you can't help but feel that he looked like a devil . \n",
      "the guy is creepy looking anyway ! \n",
      "when it's all over , you're just glad it's the end of the movie . \n",
      "don't bother to see this , if you're expecting a solid action flick , because it's neither solid nor does it have action . \n",
      "it's just another movie that we are suckered in to seeing , due to a strategic marketing campaign . \n",
      "save your money and see the world is not enough for an entertaining experience . \n",
      " \n",
      "Target: 0\n"
     ]
    }
   ],
   "source": [
    "# First sample and target\n",
    "print('Sample: {} \\nTarget: {}'.format(x[0], y[0]))"
   ]
  },
  {
   "cell_type": "markdown",
   "metadata": {
    "id": "1lzt52Ls6YCz"
   },
   "source": [
    "\n",
    "\n",
    "\n",
    "##  Preprocess Dataset"
   ]
  },
  {
   "cell_type": "markdown",
   "metadata": {
    "id": "rkdgOYp--0gE"
   },
   "source": [
    ">Preprocess the Dataset"
   ]
  },
  {
   "cell_type": "code",
   "execution_count": null,
   "metadata": {
    "colab": {
     "base_uri": "https://localhost:8080/"
    },
    "executionInfo": {
     "elapsed": 22660,
     "status": "ok",
     "timestamp": 1677771224675,
     "user": {
      "displayName": "Σπύρος Μαστροδημήτρης",
      "userId": "05822789757280910665"
     },
     "user_tz": -120
    },
    "id": "KVfTHTYi1MXk",
    "outputId": "c2f7a41d-abaf-4fe5-c03e-533222742397"
   },
   "outputs": [
    {
     "name": "stderr",
     "output_type": "stream",
     "text": [
      "[nltk_data] Downloading package wordnet to /root/nltk_data...\n",
      "[nltk_data]   Package wordnet is already up-to-date!\n",
      "[nltk_data] Downloading package omw-1.4 to /root/nltk_data...\n",
      "[nltk_data]   Package omw-1.4 is already up-to-date!\n"
     ]
    }
   ],
   "source": [
    "import nltk\n",
    "nltk.download('wordnet')\n",
    "nltk.download('omw-1.4')\n",
    "import re\n",
    "from nltk.stem import WordNetLemmatizer\n",
    "\n",
    "stemmer = WordNetLemmatizer()\n",
    "docs = []\n",
    "\n",
    "for doc in x: \n",
    "    \n",
    "    # Remove non-word (special) characters such as punctuation. etc\n",
    "    document = re.sub(r'\\W', ' ', str(doc))\n",
    "\n",
    "    # Remove all single characters\n",
    "    document = re.sub(r'\\s+[a-zA-Z]\\s+', ' ', document)\n",
    "  \n",
    "    #Remove all digits\n",
    "    document = re.sub(\" \\d+\", \" \", document)\n",
    "\n",
    "    # Substitute multiple spaces with single space\n",
    "    document = re.sub(r'\\s+', ' ', document, flags=re.I)\n",
    "\n",
    "    # Convert to Lowercase\n",
    "    document = document.lower()\n",
    "\n",
    "    # Split the document based on whitespaces (--> List of words)\n",
    "    document = document.split()\n",
    "    \n",
    "    # Lemmatization\n",
    "    document = [stemmer.lemmatize(word) for word in document]\n",
    "    \n",
    "    # Reconstruct the document by joining the words on each whitespace\n",
    "    document = ' '.join(document)\n",
    "\n",
    "    # Append all documents into a list 'docs'\n",
    "    docs.append(document)"
   ]
  },
  {
   "cell_type": "markdown",
   "metadata": {
    "id": "wLyMtrxNAhCt"
   },
   "source": [
    ">Print a Review, Before and After Data Preprocessing"
   ]
  },
  {
   "cell_type": "code",
   "execution_count": null,
   "metadata": {
    "colab": {
     "base_uri": "https://localhost:8080/"
    },
    "executionInfo": {
     "elapsed": 71,
     "status": "ok",
     "timestamp": 1677771224677,
     "user": {
      "displayName": "Σπύρος Μαστροδημήτρης",
      "userId": "05822789757280910665"
     },
     "user_tz": -120
    },
    "id": "QllpsdaY-oC5",
    "outputId": "42f55655-6fc2-4780-84cf-f1b73da25d1f"
   },
   "outputs": [
    {
     "name": "stdout",
     "output_type": "stream",
     "text": [
      "\n",
      "Original review text:\n",
      "\n",
      "('arnold schwarzenegger has been an icon for action enthusiasts , since the '\n",
      " \"late 80's , but lately his films have been very sloppy and the one-liners \"\n",
      " 'are getting worse . \\n'\n",
      " \"it's hard seeing arnold as mr . freeze in batman and robin , especially when \"\n",
      " \"he says tons of ice jokes , but hey he got 15 million , what's it matter to \"\n",
      " 'him ? \\n'\n",
      " 'once again arnold has signed to do another expensive blockbuster , that '\n",
      " \"can't compare with the likes of the terminator series , true lies and even \"\n",
      " 'eraser . \\n'\n",
      " 'in this so called dark thriller , the devil ( gabriel byrne ) has come upon '\n",
      " 'earth , to impregnate a woman ( robin tunney ) which happens every 1000 '\n",
      " 'years , and basically destroy the world , but apparently god has chosen one '\n",
      " 'man , and that one man is jericho cane ( arnold himself ) . \\n'\n",
      " 'with the help of a trusty sidekick ( kevin pollack ) , they will stop at '\n",
      " 'nothing to let the devil take over the world ! \\n'\n",
      " 'parts of this are actually so absurd , that they would fit right in with '\n",
      " 'dogma . \\n'\n",
      " \"yes , the film is that weak , but it's better than the other blockbuster \"\n",
      " 'right now ( sleepy hollow ) , but it makes the world is not enough look like '\n",
      " 'a 4 star film . \\n'\n",
      " \"anyway , this definitely doesn't seem like an arnold movie . \\n\"\n",
      " \"it just wasn't the type of film you can see him doing . \\n\"\n",
      " 'sure he gave us a few chuckles with his well known one-liners , but he '\n",
      " 'seemed confused as to where his character and the film was going . \\n'\n",
      " \"it's understandable , especially when the ending had to be changed according \"\n",
      " 'to some sources . \\n'\n",
      " 'aside form that , he still walked through it , much like he has in the past '\n",
      " 'few films . \\n'\n",
      " \"i'm sorry to say this arnold but maybe these are the end of your action days \"\n",
      " '. \\n'\n",
      " 'speaking of action , where was it in this film ? \\n'\n",
      " 'there was hardly any explosions or fights . \\n'\n",
      " \"the devil made a few places explode , but arnold wasn't kicking some devil \"\n",
      " 'butt . \\n'\n",
      " 'the ending was changed to make it more spiritual , which undoubtedly ruined '\n",
      " 'the film . \\n'\n",
      " 'i was at least hoping for a cool ending if nothing else occurred , but once '\n",
      " 'again i was let down . \\n'\n",
      " \"i also don't know why the film took so long and cost so much . \\n\"\n",
      " 'there was really no super affects at all , unless you consider an invisible '\n",
      " 'devil , who was in it for 5 minutes tops , worth the overpriced budget . \\n'\n",
      " 'the budget should have gone into a better script , where at least audiences '\n",
      " 'could be somewhat entertained instead of facing boredom . \\n'\n",
      " \"it's pitiful to see how scripts like these get bought and made into a movie \"\n",
      " '. \\n'\n",
      " 'do they even read these things anymore ? \\n'\n",
      " \"it sure doesn't seem like it . \\n\"\n",
      " \"thankfully gabriel's performance gave some light to this poor film . \\n\"\n",
      " \"when he walks down the street searching for robin tunney , you can't help \"\n",
      " 'but feel that he looked like a devil . \\n'\n",
      " 'the guy is creepy looking anyway ! \\n'\n",
      " \"when it's all over , you're just glad it's the end of the movie . \\n\"\n",
      " \"don't bother to see this , if you're expecting a solid action flick , \"\n",
      " \"because it's neither solid nor does it have action . \\n\"\n",
      " \"it's just another movie that we are suckered in to seeing , due to a \"\n",
      " 'strategic marketing campaign . \\n'\n",
      " 'save your money and see the world is not enough for an entertaining '\n",
      " 'experience . \\n')\n",
      "\n",
      "Filtered review text:\n",
      "\n",
      "('arnold schwarzenegger ha been an icon for action enthusiast since the late '\n",
      " 'but lately his film have been very sloppy and the one liner are getting '\n",
      " 'worse it hard seeing arnold a mr freeze in batman and robin especially when '\n",
      " 'he say ton of ice joke but hey he got million what it matter to him once '\n",
      " 'again arnold ha signed to do another expensive blockbuster that can compare '\n",
      " 'with the like of the terminator series true lie and even eraser in this so '\n",
      " 'called dark thriller the devil gabriel byrne ha come upon earth to '\n",
      " 'impregnate woman robin tunney which happens every year and basically destroy '\n",
      " 'the world but apparently god ha chosen one man and that one man is jericho '\n",
      " 'cane arnold himself with the help of trusty sidekick kevin pollack they will '\n",
      " 'stop at nothing to let the devil take over the world part of this are '\n",
      " 'actually so absurd that they would fit right in with dogma yes the film is '\n",
      " 'that weak but it better than the other blockbuster right now sleepy hollow '\n",
      " 'but it make the world is not enough look like star film anyway this '\n",
      " 'definitely doesn seem like an arnold movie it just wasn the type of film you '\n",
      " 'can see him doing sure he gave u few chuckle with his well known one liner '\n",
      " 'but he seemed confused a to where his character and the film wa going it '\n",
      " 'understandable especially when the ending had to be changed according to '\n",
      " 'some source aside form that he still walked through it much like he ha in '\n",
      " 'the past few film m sorry to say this arnold but maybe these are the end of '\n",
      " 'your action day speaking of action where wa it in this film there wa hardly '\n",
      " 'any explosion or fight the devil made few place explode but arnold wasn '\n",
      " 'kicking some devil butt the ending wa changed to make it more spiritual '\n",
      " 'which undoubtedly ruined the film wa at least hoping for cool ending if '\n",
      " 'nothing else occurred but once again wa let down also don know why the film '\n",
      " 'took so long and cost so much there wa really no super affect at all unless '\n",
      " 'you consider an invisible devil who wa in it for minute top worth the '\n",
      " 'overpriced budget the budget should have gone into better script where at '\n",
      " 'least audience could be somewhat entertained instead of facing boredom it '\n",
      " 'pitiful to see how script like these get bought and made into movie do they '\n",
      " 'even read these thing anymore it sure doesn seem like it thankfully gabriel '\n",
      " 'performance gave some light to this poor film when he walk down the street '\n",
      " 'searching for robin tunney you can help but feel that he looked like devil '\n",
      " 'the guy is creepy looking anyway when it all over you re just glad it the '\n",
      " 'end of the movie don bother to see this if you re expecting solid action '\n",
      " 'flick because it neither solid nor doe it have action it just another movie '\n",
      " 'that we are suckered in to seeing due to strategic marketing campaign save '\n",
      " 'your money and see the world is not enough for an entertaining experience')\n",
      "\n",
      "Label:\n",
      " 0\n"
     ]
    }
   ],
   "source": [
    "from pprint import pprint\n",
    "\n",
    "print(\"\\nOriginal review text:\\n\")\n",
    "pprint(format(x[0]))\n",
    "print(\"\\nFiltered review text:\\n\")\n",
    "pprint(format(docs[0]))\n",
    "print(\"\\nLabel:\\n\", y[0])"
   ]
  },
  {
   "cell_type": "markdown",
   "metadata": {
    "id": "tvUtl5BVuvTD"
   },
   "source": [
    ">Calculation of the Average Number of Words per Review"
   ]
  },
  {
   "cell_type": "code",
   "execution_count": null,
   "metadata": {
    "colab": {
     "base_uri": "https://localhost:8080/"
    },
    "executionInfo": {
     "elapsed": 63,
     "status": "ok",
     "timestamp": 1677771224678,
     "user": {
      "displayName": "Σπύρος Μαστροδημήτρης",
      "userId": "05822789757280910665"
     },
     "user_tz": -120
    },
    "id": "ZPG93RPBkusO",
    "outputId": "5934e02d-c86a-4490-9439-7f7a9283037b"
   },
   "outputs": [
    {
     "name": "stdout",
     "output_type": "stream",
     "text": [
      "A sample: [527, 304, 337, 117]\n"
     ]
    }
   ],
   "source": [
    "#a for loop that creates a list named words that contains the number of words for each review \n",
    "words=[]\n",
    "for doc in docs:\n",
    "  words_list = doc.split()\n",
    "  words.append(len(words_list))\n",
    "\n",
    "#print a sample\n",
    "print(\"A sample:\",words[1:5])"
   ]
  },
  {
   "cell_type": "code",
   "execution_count": null,
   "metadata": {
    "colab": {
     "base_uri": "https://localhost:8080/"
    },
    "executionInfo": {
     "elapsed": 52,
     "status": "ok",
     "timestamp": 1677771224680,
     "user": {
      "displayName": "Σπύρος Μαστροδημήτρης",
      "userId": "05822789757280910665"
     },
     "user_tz": -120
    },
    "id": "OlUD75CLt7Bl",
    "outputId": "874b22de-e914-4b94-9b4e-135f242223d0"
   },
   "outputs": [
    {
     "name": "stdout",
     "output_type": "stream",
     "text": [
      "Number of Positive Reviews: 1000\n",
      "Number of Negative Reviews: 1000\n",
      "\n",
      "Average Number of Words per Review: 629\n",
      "Average Number of Words per Positive Review: 665\n",
      "Average Number of Words per Negative Review: 593\n",
      "\n",
      "The Number of Total Reviews: 2000\n"
     ]
    }
   ],
   "source": [
    "#a for loop that helps us to calculate the following:\n",
    "\n",
    "#Number of Positive Reviews\n",
    "#Number of Negative Reviews\n",
    "#Average Number of Words per Review\n",
    "#Average Number of Words per Positive Review\n",
    "#Average Number of Words per Negative Review\n",
    "#The Number of Total Reviews\n",
    "\n",
    "tot=0\n",
    "s=0\n",
    "s1=0\n",
    "s2=0\n",
    "pos=0\n",
    "neg=0\n",
    "\n",
    "for i in range(len(docs)):\n",
    "  tot+=words[i]\n",
    "  s+=1\n",
    "  if y[i]==0:\n",
    "    neg+=words[i]\n",
    "    s1+=1\n",
    "  else:\n",
    "    pos+=words[i]\n",
    "    s2+=1\n",
    "\n",
    "#print the results\n",
    "print(\"Number of Positive Reviews:\",s1)\n",
    "print(\"Number of Negative Reviews:\",s2)\n",
    "print(\"\")\n",
    "print(\"Average Number of Words per Review:\",round(tot/s))\n",
    "print(\"Average Number of Words per Positive Review:\",round(pos/s2))\n",
    "print(\"Average Number of Words per Negative Review:\",round(neg/s1))\n",
    "print(\"\")\n",
    "print(\"The Number of Total Reviews:\",len(x))"
   ]
  },
  {
   "cell_type": "markdown",
   "metadata": {
    "id": "232mMqsjrm_m"
   },
   "source": [
    ">Calculation of the Average Number of Characters per Review"
   ]
  },
  {
   "cell_type": "code",
   "execution_count": null,
   "metadata": {
    "colab": {
     "base_uri": "https://localhost:8080/"
    },
    "executionInfo": {
     "elapsed": 47,
     "status": "ok",
     "timestamp": 1677771224681,
     "user": {
      "displayName": "Σπύρος Μαστροδημήτρης",
      "userId": "05822789757280910665"
     },
     "user_tz": -120
    },
    "id": "uULQZEEUqikR",
    "outputId": "836dce0d-f477-45c5-a3d0-225dda624ca0"
   },
   "outputs": [
    {
     "name": "stdout",
     "output_type": "stream",
     "text": [
      "Number of Positive Reviews: 1000\n",
      "Number of Negative Reviews: 1000\n",
      "\n",
      "Average Number of Characters per Review: 3893\n",
      "Average Number of Characters per Positive Review: 3662\n",
      "Average Number of Characters per Negative Review: 4124\n",
      "\n",
      "The Number of Total Reviews: 2000\n"
     ]
    }
   ],
   "source": [
    "#a for loop that helps us to calculate the following:\n",
    "\n",
    "#Number of Positive Reviews\n",
    "#Number of Negative Reviews\n",
    "#Average Number of Characters per Review\n",
    "#Average Number of Characters per Positive Review\n",
    "#Average Number of Characters per Negative Review\n",
    "#The Number of Total Reviews\n",
    "\n",
    "s=0\n",
    "s1=0\n",
    "s2=0\n",
    "pos=0\n",
    "neg=0\n",
    "for i in range(len(x)):\n",
    "  s+=len(x[i])\n",
    "  if y[i]==0:\n",
    "    pos+=1\n",
    "    s1+=len(x[i])\n",
    "  if y[i]==1:\n",
    "    neg+=1\n",
    "    s2+=len(x[i])\n",
    "\n",
    "print(\"Number of Positive Reviews:\",pos)\n",
    "print(\"Number of Negative Reviews:\",neg)\n",
    "print(\"\")\n",
    "print(\"Average Number of Characters per Review:\",round(s/len(x)))\n",
    "print(\"Average Number of Characters per Positive Review:\",round(s1/pos))\n",
    "print(\"Average Number of Characters per Negative Review:\",round(s2/neg))\n",
    "print(\"\")\n",
    "print(\"The Number of Total Reviews:\",len(x))"
   ]
  },
  {
   "cell_type": "markdown",
   "metadata": {
    "id": "Tnrl_gEcAChP"
   },
   "source": [
    "##Split The Data to Train, Test and Dev"
   ]
  },
  {
   "cell_type": "code",
   "execution_count": null,
   "metadata": {
    "colab": {
     "base_uri": "https://localhost:8080/"
    },
    "executionInfo": {
     "elapsed": 42,
     "status": "ok",
     "timestamp": 1677771224682,
     "user": {
      "displayName": "Σπύρος Μαστροδημήτρης",
      "userId": "05822789757280910665"
     },
     "user_tz": -120
    },
    "id": "N9HhqInFAqR5",
    "outputId": "4371e690-dbc6-4c37-8447-658e3443038d"
   },
   "outputs": [
    {
     "name": "stdout",
     "output_type": "stream",
     "text": [
      "Number of Reviews in Train Set: 979\n",
      "Number of Reviews in Test Set: 600\n",
      "Number of Reviews in Dev Set: 421\n"
     ]
    }
   ],
   "source": [
    "import sklearn\n",
    "from sklearn.model_selection import train_test_split\n",
    "\n",
    "# split the sentences to train, test, dev\n",
    "xtrain,xtest,ytrain,ytest=train_test_split(docs,y, train_size=0.7,random_state=40)\n",
    "xtrain,xdev,ytrain,ydev=train_test_split(xtrain,ytrain, train_size=0.7,random_state=40)\n",
    "\n",
    "#show the reviews per data set\n",
    "print(\"Number of Reviews in Train Set:\",len(xtrain))\n",
    "print(\"Number of Reviews in Test Set:\",len(xtest))\n",
    "print(\"Number of Reviews in Dev Set:\",len(xdev))"
   ]
  },
  {
   "cell_type": "markdown",
   "metadata": {
    "id": "IduHEhIDGs6S"
   },
   "source": [
    ">Visualization of the Reviews Frequencies per Class Per Data Set"
   ]
  },
  {
   "cell_type": "code",
   "execution_count": null,
   "metadata": {
    "colab": {
     "base_uri": "https://localhost:8080/",
     "height": 404
    },
    "executionInfo": {
     "elapsed": 4457,
     "status": "ok",
     "timestamp": 1677771229103,
     "user": {
      "displayName": "Σπύρος Μαστροδημήτρης",
      "userId": "05822789757280910665"
     },
     "user_tz": -120
    },
    "id": "du5enxZ9_Vkg",
    "outputId": "0dfb0791-7230-40de-8261-bc7cc9d055d4"
   },
   "outputs": [
    {
     "data": {
      "image/png": "[encoded data removed]",
      "text/plain": [
       "<Figure size 1440x432 with 3 Axes>"
      ]
     },
     "metadata": {
      "needs_background": "light"
     },
     "output_type": "display_data"
    }
   ],
   "source": [
    "import pandas as pd\n",
    "from matplotlib import pyplot as plt\n",
    "\n",
    "#convert data to dataframes\n",
    "ytrain_for_plot = pd.DataFrame (ytrain)\n",
    "ytest_for_plot = pd.DataFrame (ytest)\n",
    "ydev_for_plot = pd.DataFrame (ydev)\n",
    "\n",
    "#change dimentions  of the plot\n",
    "fig, axs = plt.subplots(1, 3,figsize=(20,6))\n",
    "\n",
    "#create the bar plots\n",
    "tr = ytrain_for_plot.value_counts().plot(kind=\"bar\", color=[\"seagreen\", \"indianred\"], ylabel=\"train\", ax=axs[0])\n",
    "te = ytest_for_plot.value_counts().plot(kind=\"bar\", color=[\"seagreen\", \"indianred\"], ylabel=\"dev\", ax=axs[1])\n",
    "de = ydev_for_plot.value_counts().plot(kind=\"bar\", color=[\"seagreen\", \"indianred\"], ylabel=\"test\", ax=axs[2])\n",
    "\n",
    "#set the titles\n",
    "tr.set_title(\"Reviews per Class for Train Data Set\")\n",
    "te.set_title(\"Reviews per Class for Test Data Set\")\n",
    "de.set_title(\"Reviews per Class for Dev Data Set\")\n",
    "\n",
    "#set the \"x\" labels\n",
    "tr.set_xticklabels(['Positive', 'Negative'],rotation=0)\n",
    "te.set_xticklabels(['Positive', 'Negative'],rotation=0)\n",
    "de.set_xticklabels(['Negative', 'Positive'],rotation=0)\n",
    "\n",
    "plt.savefig('confusion_matrix.png', dpi=300, bbox_inches='tight')\n",
    "\n",
    "fig.show()"
   ]
  },
  {
   "cell_type": "markdown",
   "metadata": {
    "id": "0cdjTEaOZIjb"
   },
   "source": [
    "## TF-IDF n-gram Features Creation"
   ]
  },
  {
   "cell_type": "code",
   "execution_count": null,
   "metadata": {
    "colab": {
     "base_uri": "https://localhost:8080/"
    },
    "executionInfo": {
     "elapsed": 5078,
     "status": "ok",
     "timestamp": 1677771234168,
     "user": {
      "displayName": "Σπύρος Μαστροδημήτρης",
      "userId": "05822789757280910665"
     },
     "user_tz": -120
    },
    "id": "hHP6doKtAqHS",
    "outputId": "cae395f9-3299-4baa-bb79-69ce05a97d54"
   },
   "outputs": [
    {
     "name": "stderr",
     "output_type": "stream",
     "text": [
      "[nltk_data] Downloading package stopwords to /root/nltk_data...\n",
      "[nltk_data]   Package stopwords is already up-to-date!\n"
     ]
    },
    {
     "name": "stdout",
     "output_type": "stream",
     "text": [
      "\n",
      "Each data set reviews and features:\n",
      "\n",
      "Shape of Training Data: (979, 5000)\n",
      "Shape of Test Data: (600, 5000)\n",
      "Shape of Dev Data: (421, 5000)\n",
      "\n"
     ]
    }
   ],
   "source": [
    "from sklearn.feature_extraction.text import TfidfVectorizer\n",
    "\n",
    "# Exclude stopwords\n",
    "nltk.download('stopwords')\n",
    "from nltk.corpus import stopwords\n",
    "\n",
    "# Use unigram & bi-gram tf*idf features\n",
    "vectorizer = TfidfVectorizer(\n",
    "    ngram_range = (1, 2), # unigrams and bigrams\n",
    "    max_features = 5000, # we keep only the words that have TF<=threshold,\n",
    "    sublinear_tf = True, # instead of TF/IDF --> (1+ log(TF))/IDF, \n",
    "    stop_words = stopwords.words('english')) # ignore english stopwords (the, is, and)\n",
    "\n",
    "# Fit Vectorizer on train data\n",
    "# Transform on all data (train - test - dev)\n",
    "xtrain_tfidf = vectorizer.fit_transform(xtrain)\n",
    "xtest_tfidf = vectorizer.transform(xtest)\n",
    "xdev_tfidf = vectorizer.transform(xdev)\n",
    "\n",
    "#print for each data set it's reviews and features\n",
    "print(\"\")\n",
    "print(\"Each data set reviews and features:\")\n",
    "print(\"\")\n",
    "print('Shape of Training Data: {}'.format(xtrain_tfidf.shape))\n",
    "print('Shape of Test Data: {}'.format(xtest_tfidf.shape))\n",
    "print('Shape of Dev Data: {}\\n'.format(xdev_tfidf.shape))"
   ]
  },
  {
   "cell_type": "markdown",
   "metadata": {
    "id": "LtR-l-g4MI_d"
   },
   "source": [
    "## Feature Selection"
   ]
  },
  {
   "cell_type": "markdown",
   "metadata": {
    "id": "_xWqhkS-3A5N"
   },
   "source": [
    ">Now we will use the SVD Method to reduce our features "
   ]
  },
  {
   "cell_type": "code",
   "execution_count": null,
   "metadata": {
    "id": "vF3QcJVNQHz2"
   },
   "outputs": [],
   "source": [
    "# Reduce dimensionality using svd 5000 --> 1000\n",
    "from sklearn.decomposition import TruncatedSVD\n",
    "\n",
    "svd = TruncatedSVD(n_components=1000, random_state=40)\n",
    "xtrain_tfidf_svd1 = svd.fit_transform(xtrain_tfidf)\n",
    "xdev_tfidf_svd1 = svd.transform(xdev_tfidf)\n",
    "xtest_tfidf_svd1 = svd.transform(xtest_tfidf)"
   ]
  },
  {
   "cell_type": "markdown",
   "metadata": {
    "id": "ZJPua-G7wSzQ"
   },
   "source": [
    "##Baseline Model"
   ]
  },
  {
   "cell_type": "code",
   "execution_count": null,
   "metadata": {
    "colab": {
     "base_uri": "https://localhost:8080/"
    },
    "executionInfo": {
     "elapsed": 93,
     "status": "ok",
     "timestamp": 1677771244239,
     "user": {
      "displayName": "Σπύρος Μαστροδημήτρης",
      "userId": "05822789757280910665"
     },
     "user_tz": -120
    },
    "id": "lW0xepkmwgSI",
    "outputId": "6c425735-d393-4396-d272-cc930311a53e"
   },
   "outputs": [
    {
     "name": "stdout",
     "output_type": "stream",
     "text": [
      "Training took: 0.00046062469482421875 seconds \n",
      "\n"
     ]
    }
   ],
   "source": [
    "from sklearn.dummy import DummyClassifier\n",
    "from sklearn.metrics import accuracy_score\n",
    "from sklearn.metrics import confusion_matrix, ConfusionMatrixDisplay\n",
    "from sklearn.metrics import f1_score\n",
    "import pandas as pd\n",
    "import time\n",
    "import numpy as np\n",
    "\n",
    "# Train\n",
    "baseline = DummyClassifier(strategy='most_frequent',random_state=40)\n",
    "start_time = time.time()\n",
    "baseline.fit(xtrain_tfidf_svd1, ytrain)\n",
    "\n",
    "#print the time passed\n",
    "print(\"Training took: {} seconds \\n\".format(time.time() - start_time))"
   ]
  },
  {
   "cell_type": "markdown",
   "metadata": {
    "id": "XLvpxyCN4KBt"
   },
   "source": [
    ">Confusion Matrix for Train Set"
   ]
  },
  {
   "cell_type": "code",
   "execution_count": null,
   "metadata": {
    "colab": {
     "base_uri": "https://localhost:8080/",
     "height": 334
    },
    "executionInfo": {
     "elapsed": 73,
     "status": "ok",
     "timestamp": 1677771244241,
     "user": {
      "displayName": "Σπύρος Μαστροδημήτρης",
      "userId": "05822789757280910665"
     },
     "user_tz": -120
    },
    "id": "vEguOkfG37tf",
    "outputId": "243efe40-72b7-4436-9395-425754ce19fb"
   },
   "outputs": [
    {
     "name": "stdout",
     "output_type": "stream",
     "text": [
      "Train f1-score: 67.43%\n",
      "Confusion Matrix for train data:\n"
     ]
    },
    {
     "data": {
      "text/plain": [
       "<sklearn.metrics._plot.confusion_matrix.ConfusionMatrixDisplay at 0x7f21a0a7d640>"
      ]
     },
     "execution_count": 14,
     "metadata": {},
     "output_type": "execute_result"
    },
    {
     "data": {
      "image/png": "[encoded data removed]",
      "text/plain": [
       "<Figure size 432x288 with 2 Axes>"
      ]
     },
     "metadata": {
      "needs_background": "light"
     },
     "output_type": "display_data"
    }
   ],
   "source": [
    "predictions = baseline.predict(xtrain_tfidf_svd1)\n",
    "score = f1_score(ytrain,predictions)\n",
    "\n",
    "#print f1 score\n",
    "print(\"Train f1-score: {:.2f}%\".format(score*100))\n",
    "\n",
    "#print the confusion matrix\n",
    "print(\"Confusion Matrix for train data:\")\n",
    "ConfusionMatrixDisplay.from_estimator(baseline, xtrain_tfidf_svd1, ytrain, values_format = '.0f')"
   ]
  },
  {
   "cell_type": "markdown",
   "metadata": {
    "id": "UWFrli2i4PFe"
   },
   "source": [
    ">Confusion Matrix for Test Set"
   ]
  },
  {
   "cell_type": "code",
   "execution_count": null,
   "metadata": {
    "colab": {
     "base_uri": "https://localhost:8080/",
     "height": 353
    },
    "executionInfo": {
     "elapsed": 943,
     "status": "ok",
     "timestamp": 1677771245138,
     "user": {
      "displayName": "Σπύρος Μαστροδημήτρης",
      "userId": "05822789757280910665"
     },
     "user_tz": -120
    },
    "id": "SWkd7KiudLwv",
    "outputId": "488385f6-0e9e-484a-d12a-b987225d31a7"
   },
   "outputs": [
    {
     "name": "stdout",
     "output_type": "stream",
     "text": [
      "Test f1-score: 67.40% \n",
      "\n",
      "Confusion Matrix for test data:\n"
     ]
    },
    {
     "data": {
      "text/plain": [
       "<sklearn.metrics._plot.confusion_matrix.ConfusionMatrixDisplay at 0x7f219f37e370>"
      ]
     },
     "execution_count": 15,
     "metadata": {},
     "output_type": "execute_result"
    },
    {
     "data": {
      "image/png": "[encoded data removed]",
      "text/plain": [
       "<Figure size 432x288 with 2 Axes>"
      ]
     },
     "metadata": {
      "needs_background": "light"
     },
     "output_type": "display_data"
    }
   ],
   "source": [
    "predictions_test = baseline.predict(xtest_tfidf_svd1)\n",
    "score = f1_score(ytest, predictions_test)\n",
    "\n",
    "#print f1 score\n",
    "print(\"Test f1-score: {:.2f}% \\n\".format(score*100))\n",
    "\n",
    "#print the confusion matrix\n",
    "print(\"Confusion Matrix for test data:\")\n",
    "ConfusionMatrixDisplay.from_estimator(baseline, xtest_tfidf_svd1, ytest, values_format = '.0f')"
   ]
  },
  {
   "cell_type": "markdown",
   "metadata": {
    "id": "r6iVYY7R4Rg0"
   },
   "source": [
    ">Confusion Matrix for Dev Set"
   ]
  },
  {
   "cell_type": "code",
   "execution_count": null,
   "metadata": {
    "colab": {
     "base_uri": "https://localhost:8080/",
     "height": 352
    },
    "executionInfo": {
     "elapsed": 48,
     "status": "ok",
     "timestamp": 1677771245139,
     "user": {
      "displayName": "Σπύρος Μαστροδημήτρης",
      "userId": "05822789757280910665"
     },
     "user_tz": -120
    },
    "id": "gJVfrM5edOs1",
    "outputId": "b349432b-eaae-495d-edae-e02769373750"
   },
   "outputs": [
    {
     "name": "stdout",
     "output_type": "stream",
     "text": [
      "Dev f1-score: 63.75% \n",
      "\n",
      "Confusion Matrix for dev data:\n"
     ]
    },
    {
     "data": {
      "text/plain": [
       "<sklearn.metrics._plot.confusion_matrix.ConfusionMatrixDisplay at 0x7f219f3a0580>"
      ]
     },
     "execution_count": 16,
     "metadata": {},
     "output_type": "execute_result"
    },
    {
     "data": {
      "image/png": "[encoded data removed]",
      "text/plain": [
       "<Figure size 432x288 with 2 Axes>"
      ]
     },
     "metadata": {
      "needs_background": "light"
     },
     "output_type": "display_data"
    }
   ],
   "source": [
    "predictions_dev = baseline.predict(xdev_tfidf_svd1)\n",
    "score = f1_score(ydev,predictions_dev)\n",
    "\n",
    "#print f1 score\n",
    "print(\"Dev f1-score: {:.2f}% \\n\".format(score*100))\n",
    "\n",
    "#print the confusion matrix\n",
    "print(\"Confusion Matrix for dev data:\")\n",
    "ConfusionMatrixDisplay.from_estimator(baseline, xdev_tfidf_svd1, ydev, values_format = '.0f')"
   ]
  },
  {
   "cell_type": "markdown",
   "metadata": {
    "id": "ug5ffC8i4Zbj"
   },
   "source": [
    ">Classification Reports for all the Data Sets"
   ]
  },
  {
   "cell_type": "code",
   "execution_count": null,
   "metadata": {
    "colab": {
     "base_uri": "https://localhost:8080/"
    },
    "executionInfo": {
     "elapsed": 37,
     "status": "ok",
     "timestamp": 1677771245140,
     "user": {
      "displayName": "Σπύρος Μαστροδημήτρης",
      "userId": "05822789757280910665"
     },
     "user_tz": -120
    },
    "id": "LVPWMh2JtVP3",
    "outputId": "4b1f8761-981f-49e6-e857-11ad6093296c"
   },
   "outputs": [
    {
     "name": "stdout",
     "output_type": "stream",
     "text": [
      "Classification Report for Train Set: \n",
      "               precision    recall  f1-score   support\n",
      "\n",
      "           0       0.00      0.00      0.00       481\n",
      "           1       0.51      1.00      0.67       498\n",
      "\n",
      "    accuracy                           0.51       979\n",
      "   macro avg       0.25      0.50      0.34       979\n",
      "weighted avg       0.26      0.51      0.34       979\n",
      "\n",
      "----------------------------------------------------------------------\n",
      "\n",
      "\n",
      "Classification Report for Test Set: \n",
      "               precision    recall  f1-score   support\n",
      "\n",
      "           0       0.00      0.00      0.00       295\n",
      "           1       0.51      1.00      0.67       305\n",
      "\n",
      "    accuracy                           0.51       600\n",
      "   macro avg       0.25      0.50      0.34       600\n",
      "weighted avg       0.26      0.51      0.34       600\n",
      "\n",
      "----------------------------------------------------------------------\n",
      "\n",
      "\n",
      "Classification Report for Dev Set: \n",
      "               precision    recall  f1-score   support\n",
      "\n",
      "           0       0.00      0.00      0.00       224\n",
      "           1       0.47      1.00      0.64       197\n",
      "\n",
      "    accuracy                           0.47       421\n",
      "   macro avg       0.23      0.50      0.32       421\n",
      "weighted avg       0.22      0.47      0.30       421\n",
      "\n"
     ]
    },
    {
     "name": "stderr",
     "output_type": "stream",
     "text": [
      "/usr/local/lib/python3.8/dist-packages/sklearn/metrics/_classification.py:1318: UndefinedMetricWarning: Precision and F-score are ill-defined and being set to 0.0 in labels with no predicted samples. Use `zero_division` parameter to control this behavior.\n",
      "  _warn_prf(average, modifier, msg_start, len(result))\n",
      "/usr/local/lib/python3.8/dist-packages/sklearn/metrics/_classification.py:1318: UndefinedMetricWarning: Precision and F-score are ill-defined and being set to 0.0 in labels with no predicted samples. Use `zero_division` parameter to control this behavior.\n",
      "  _warn_prf(average, modifier, msg_start, len(result))\n",
      "/usr/local/lib/python3.8/dist-packages/sklearn/metrics/_classification.py:1318: UndefinedMetricWarning: Precision and F-score are ill-defined and being set to 0.0 in labels with no predicted samples. Use `zero_division` parameter to control this behavior.\n",
      "  _warn_prf(average, modifier, msg_start, len(result))\n",
      "/usr/local/lib/python3.8/dist-packages/sklearn/metrics/_classification.py:1318: UndefinedMetricWarning: Precision and F-score are ill-defined and being set to 0.0 in labels with no predicted samples. Use `zero_division` parameter to control this behavior.\n",
      "  _warn_prf(average, modifier, msg_start, len(result))\n",
      "/usr/local/lib/python3.8/dist-packages/sklearn/metrics/_classification.py:1318: UndefinedMetricWarning: Precision and F-score are ill-defined and being set to 0.0 in labels with no predicted samples. Use `zero_division` parameter to control this behavior.\n",
      "  _warn_prf(average, modifier, msg_start, len(result))\n",
      "/usr/local/lib/python3.8/dist-packages/sklearn/metrics/_classification.py:1318: UndefinedMetricWarning: Precision and F-score are ill-defined and being set to 0.0 in labels with no predicted samples. Use `zero_division` parameter to control this behavior.\n",
      "  _warn_prf(average, modifier, msg_start, len(result))\n",
      "/usr/local/lib/python3.8/dist-packages/sklearn/metrics/_classification.py:1318: UndefinedMetricWarning: Precision and F-score are ill-defined and being set to 0.0 in labels with no predicted samples. Use `zero_division` parameter to control this behavior.\n",
      "  _warn_prf(average, modifier, msg_start, len(result))\n",
      "/usr/local/lib/python3.8/dist-packages/sklearn/metrics/_classification.py:1318: UndefinedMetricWarning: Precision and F-score are ill-defined and being set to 0.0 in labels with no predicted samples. Use `zero_division` parameter to control this behavior.\n",
      "  _warn_prf(average, modifier, msg_start, len(result))\n",
      "/usr/local/lib/python3.8/dist-packages/sklearn/metrics/_classification.py:1318: UndefinedMetricWarning: Precision and F-score are ill-defined and being set to 0.0 in labels with no predicted samples. Use `zero_division` parameter to control this behavior.\n",
      "  _warn_prf(average, modifier, msg_start, len(result))\n"
     ]
    }
   ],
   "source": [
    "from sklearn import metrics\n",
    "\n",
    "# print the classifiation reports\n",
    "print(\"Classification Report for Train Set: \\n\",metrics.classification_report(ytrain,predictions))\n",
    "print(\"----------------------------------------------------------------------\")\n",
    "print(\"\\n\\nClassification Report for Test Set: \\n\",metrics.classification_report(ytest,predictions_test))\n",
    "print(\"----------------------------------------------------------------------\")\n",
    "print(\"\\n\\nClassification Report for Dev Set: \\n\",metrics.classification_report(ydev,predictions_dev))"
   ]
  },
  {
   "cell_type": "markdown",
   "metadata": {
    "id": "Taa4ClTbbNnf"
   },
   "source": [
    ">Presision-Recall AUC Score (per Class and per Data Set) and Average Presision-Recall AUC Score Calculation (per Data Set)"
   ]
  },
  {
   "cell_type": "code",
   "execution_count": null,
   "metadata": {
    "colab": {
     "base_uri": "https://localhost:8080/"
    },
    "executionInfo": {
     "elapsed": 32,
     "status": "ok",
     "timestamp": 1677771245142,
     "user": {
      "displayName": "Σπύρος Μαστροδημήτρης",
      "userId": "05822789757280910665"
     },
     "user_tz": -120
    },
    "id": "Afl1AA2y4-em",
    "outputId": "25266c74-1b33-48d1-df0a-be3df9e799cb"
   },
   "outputs": [
    {
     "name": "stdout",
     "output_type": "stream",
     "text": [
      "(Train Set): Presision-Recall AUC Score for the Negative Class is: 0.7456588355464759\n",
      "(Train Set): Presision-Recall AUC Score for the Positive Class is: 0.7543411644535241\n",
      "(Train Set): Average Presision-Recall AUC Score is: 0.75\n",
      "\n",
      "(Test Set): Presision-Recall AUC Score for the Negative Class is: 0.7458333333333333\n",
      "(Test Set): Presision-Recall AUC Score for the Positive Class is: 0.7541666666666667\n",
      "(Test Set): Average Presision-Recall AUC Score is: 0.75\n",
      "\n",
      "(Dev Set): Presision-Recall AUC Score for the Negative Class is: 0.7660332541567696\n",
      "(Dev Set): Presision-Recall AUC Score for the Positive Class is: 0.7339667458432304\n",
      "(Dev Set): Average Presision-Recall AUC Score is: 0.75\n"
     ]
    }
   ],
   "source": [
    "from sklearn.metrics import precision_recall_curve\n",
    "from sklearn.metrics import auc\n",
    "\n",
    "#for train set\n",
    "pred_train = baseline.predict_proba(xtrain_tfidf_svd1)\n",
    "precision, recall, thresholds = precision_recall_curve(ytrain, pred_train[:,0],pos_label=0)\n",
    "auc_train_neg = auc(recall, precision)\n",
    "precision, recall, thresholds = precision_recall_curve(ytrain, pred_train[:,1],pos_label=1)\n",
    "auc_train_pos = auc(recall, precision)\n",
    "auc_train=(auc_train_neg+auc_train_pos)/2\n",
    "\n",
    "print(\"(Train Set): Presision-Recall AUC Score for the Negative Class is:\",auc_train_neg)\n",
    "print(\"(Train Set): Presision-Recall AUC Score for the Positive Class is:\",auc_train_pos)\n",
    "print(\"(Train Set): Average Presision-Recall AUC Score is:\",auc_train)\n",
    "\n",
    "\n",
    "#for test set\n",
    "pred_test = baseline.predict_proba(xtest_tfidf_svd1)\n",
    "precision, recall, thresholds = precision_recall_curve(ytest, pred_test[:,0],pos_label=0)\n",
    "auc_test_neg = auc(recall, precision)\n",
    "precision, recall, thresholds = precision_recall_curve(ytest, pred_test[:,1],pos_label=1)\n",
    "auc_test_pos = auc(recall, precision)\n",
    "auc_test=(auc_test_neg+auc_test_pos)/2\n",
    "print(\"\")\n",
    "print(\"(Test Set): Presision-Recall AUC Score for the Negative Class is:\",auc_test_neg)\n",
    "print(\"(Test Set): Presision-Recall AUC Score for the Positive Class is:\",auc_test_pos)\n",
    "print(\"(Test Set): Average Presision-Recall AUC Score is:\",auc_test)\n",
    "\n",
    "\n",
    "#for dev set\n",
    "pred_dev = baseline.predict_proba(xdev_tfidf_svd1)\n",
    "precision, recall, thresholds = precision_recall_curve(ydev, pred_dev[:,0],pos_label=0)\n",
    "auc_dev_neg = auc(recall, precision)\n",
    "precision, recall, thresholds = precision_recall_curve(ydev, pred_dev[:,1],pos_label=1)\n",
    "auc_dev_pos = auc(recall, precision)\n",
    "auc_dev=(auc_dev_neg+auc_dev_pos)/2\n",
    "print(\"\")\n",
    "print(\"(Dev Set): Presision-Recall AUC Score for the Negative Class is:\",auc_dev_neg)\n",
    "print(\"(Dev Set): Presision-Recall AUC Score for the Positive Class is:\",auc_dev_pos)\n",
    "print(\"(Dev Set): Average Presision-Recall AUC Score is:\",auc_dev)"
   ]
  },
  {
   "cell_type": "markdown",
   "metadata": {
    "id": "29P7Mu-Gylj-"
   },
   "source": [
    "##Logistic Regression"
   ]
  },
  {
   "cell_type": "markdown",
   "metadata": {
    "id": "J21Qhj2ucVra"
   },
   "source": [
    ">Logistic Regression Model Implemetation"
   ]
  },
  {
   "cell_type": "code",
   "execution_count": null,
   "metadata": {
    "colab": {
     "base_uri": "https://localhost:8080/"
    },
    "executionInfo": {
     "elapsed": 27,
     "status": "ok",
     "timestamp": 1677771245143,
     "user": {
      "displayName": "Σπύρος Μαστροδημήτρης",
      "userId": "05822789757280910665"
     },
     "user_tz": -120
    },
    "id": "nhq0jRr-FfLK",
    "outputId": "5e9165be-b682-41d0-87a6-441dc62f150b"
   },
   "outputs": [
    {
     "name": "stdout",
     "output_type": "stream",
     "text": [
      "Training took: 0.026945114135742188 seconds \n",
      "\n"
     ]
    },
    {
     "name": "stderr",
     "output_type": "stream",
     "text": [
      "/usr/local/lib/python3.8/dist-packages/sklearn/linear_model/_logistic.py:1476: UserWarning: l1_ratio parameter is only used when penalty is 'elasticnet'. Got (penalty=l2)\n",
      "  warnings.warn(\n",
      "/usr/local/lib/python3.8/dist-packages/sklearn/linear_model/_logistic.py:814: ConvergenceWarning: lbfgs failed to converge (status=1):\n",
      "STOP: TOTAL NO. of ITERATIONS REACHED LIMIT.\n",
      "\n",
      "Increase the number of iterations (max_iter) or scale the data as shown in:\n",
      "    https://scikit-learn.org/stable/modules/preprocessing.html\n",
      "Please also refer to the documentation for alternative solver options:\n",
      "    https://scikit-learn.org/stable/modules/linear_model.html#logistic-regression\n",
      "  n_iter_i = _check_optimize_result(\n"
     ]
    }
   ],
   "source": [
    "from sklearn.linear_model import LogisticRegression\n",
    "\n",
    "# Train\n",
    "clf = LogisticRegression(solver='lbfgs',C=1,max_iter=10,l1_ratio=0.1,random_state=40)\n",
    "start_time = time.time()\n",
    "clf.fit(xtrain_tfidf_svd1, ytrain)\n",
    "\n",
    "#print the time passed\n",
    "print(\"Training took: {} seconds \\n\".format(time.time() - start_time))"
   ]
  },
  {
   "cell_type": "markdown",
   "metadata": {
    "id": "ryTMd3cg6uhB"
   },
   "source": [
    ">Confusion Matrix for Train Set"
   ]
  },
  {
   "cell_type": "code",
   "execution_count": null,
   "metadata": {
    "colab": {
     "base_uri": "https://localhost:8080/",
     "height": 352
    },
    "executionInfo": {
     "elapsed": 832,
     "status": "ok",
     "timestamp": 1677771245953,
     "user": {
      "displayName": "Σπύρος Μαστροδημήτρης",
      "userId": "05822789757280910665"
     },
     "user_tz": -120
    },
    "id": "BmQNFNHx5loQ",
    "outputId": "a98a1f4d-8d90-4a6f-d050-d274acf5fb05"
   },
   "outputs": [
    {
     "name": "stdout",
     "output_type": "stream",
     "text": [
      "Train f1-score: 98.21%\n",
      "\n",
      "Confusion Matrix for train data:\n"
     ]
    },
    {
     "data": {
      "text/plain": [
       "<sklearn.metrics._plot.confusion_matrix.ConfusionMatrixDisplay at 0x7f219fdc2610>"
      ]
     },
     "execution_count": 20,
     "metadata": {},
     "output_type": "execute_result"
    },
    {
     "data": {
      "image/png": "[encoded data removed]",
      "text/plain": [
       "<Figure size 432x288 with 2 Axes>"
      ]
     },
     "metadata": {
      "needs_background": "light"
     },
     "output_type": "display_data"
    }
   ],
   "source": [
    "# Evaluate\n",
    "predictions = clf.predict(xtrain_tfidf_svd1)\n",
    "score = f1_score(ytrain,predictions)\n",
    "\n",
    "#print f1 score\n",
    "print(\"Train f1-score: {:.2f}%\".format(score*100))\n",
    "\n",
    "#print the confusion matrix\n",
    "print(\"\\nConfusion Matrix for train data:\")\n",
    "ConfusionMatrixDisplay.from_estimator(clf, xtrain_tfidf_svd1, ytrain, values_format = '.0f')"
   ]
  },
  {
   "cell_type": "markdown",
   "metadata": {
    "id": "F7d85BYE6vty"
   },
   "source": [
    ">Confusion Matrix for Test Set"
   ]
  },
  {
   "cell_type": "code",
   "execution_count": null,
   "metadata": {
    "colab": {
     "base_uri": "https://localhost:8080/",
     "height": 352
    },
    "executionInfo": {
     "elapsed": 77,
     "status": "ok",
     "timestamp": 1677771245962,
     "user": {
      "displayName": "Σπύρος Μαστροδημήτρης",
      "userId": "05822789757280910665"
     },
     "user_tz": -120
    },
    "id": "fruqZEQGJSps",
    "outputId": "ae6820ef-335e-4fe1-d453-9fb09d91eb29"
   },
   "outputs": [
    {
     "name": "stdout",
     "output_type": "stream",
     "text": [
      "Test f1-score: 85.26% \n",
      "\n",
      "Confusion Matrix for test data:\n"
     ]
    },
    {
     "data": {
      "text/plain": [
       "<sklearn.metrics._plot.confusion_matrix.ConfusionMatrixDisplay at 0x7f21a0749490>"
      ]
     },
     "execution_count": 21,
     "metadata": {},
     "output_type": "execute_result"
    },
    {
     "data": {
      "image/png": "[encoded data removed]",
      "text/plain": [
       "<Figure size 432x288 with 2 Axes>"
      ]
     },
     "metadata": {
      "needs_background": "light"
     },
     "output_type": "display_data"
    }
   ],
   "source": [
    "predictions_test = clf.predict(xtest_tfidf_svd1)\n",
    "score = f1_score(ytest, predictions_test)\n",
    "\n",
    "#print f1 score\n",
    "print(\"Test f1-score: {:.2f}% \\n\".format(score*100))\n",
    "\n",
    "#print the confusion matrix\n",
    "print(\"Confusion Matrix for test data:\")\n",
    "ConfusionMatrixDisplay.from_estimator(clf, xtest_tfidf_svd1, ytest, values_format = '.0f')"
   ]
  },
  {
   "cell_type": "markdown",
   "metadata": {
    "id": "Mi_7FkZ76xZR"
   },
   "source": [
    ">Confusion Matrix for Dev Set"
   ]
  },
  {
   "cell_type": "code",
   "execution_count": null,
   "metadata": {
    "colab": {
     "base_uri": "https://localhost:8080/",
     "height": 352
    },
    "executionInfo": {
     "elapsed": 64,
     "status": "ok",
     "timestamp": 1677771245964,
     "user": {
      "displayName": "Σπύρος Μαστροδημήτρης",
      "userId": "05822789757280910665"
     },
     "user_tz": -120
    },
    "id": "ybM8mrz-JS1K",
    "outputId": "5c54e902-2598-4884-d95e-017f931ddf43"
   },
   "outputs": [
    {
     "name": "stdout",
     "output_type": "stream",
     "text": [
      "Dev f1-score: 83.95% \n",
      "\n",
      "Confusion Matrix for dev data:\n"
     ]
    },
    {
     "data": {
      "text/plain": [
       "<sklearn.metrics._plot.confusion_matrix.ConfusionMatrixDisplay at 0x7f21a082dd30>"
      ]
     },
     "execution_count": 22,
     "metadata": {},
     "output_type": "execute_result"
    },
    {
     "data": {
      "image/png": "[encoded data removed]",
      "text/plain": [
       "<Figure size 432x288 with 2 Axes>"
      ]
     },
     "metadata": {
      "needs_background": "light"
     },
     "output_type": "display_data"
    }
   ],
   "source": [
    "predictions_dev = clf.predict(xdev_tfidf_svd1)\n",
    "score = f1_score(ydev,predictions_dev)\n",
    "\n",
    "#print f1 score\n",
    "print(\"Dev f1-score: {:.2f}% \\n\".format(score*100))\n",
    "\n",
    "#print the confusion matrix\n",
    "print(\"Confusion Matrix for dev data:\")\n",
    "ConfusionMatrixDisplay.from_estimator(clf, xdev_tfidf_svd1, ydev, values_format = '.0f')"
   ]
  },
  {
   "cell_type": "markdown",
   "metadata": {
    "id": "xq7B_Mm8mBZH"
   },
   "source": [
    ">Classification Report per Data Set"
   ]
  },
  {
   "cell_type": "code",
   "execution_count": null,
   "metadata": {
    "colab": {
     "base_uri": "https://localhost:8080/"
    },
    "executionInfo": {
     "elapsed": 54,
     "status": "ok",
     "timestamp": 1677771245966,
     "user": {
      "displayName": "Σπύρος Μαστροδημήτρης",
      "userId": "05822789757280910665"
     },
     "user_tz": -120
    },
    "id": "s-7YVnJ3UyKn",
    "outputId": "1b54832c-bf33-43d1-fd4e-a945a4e72c3d"
   },
   "outputs": [
    {
     "name": "stdout",
     "output_type": "stream",
     "text": [
      "Classification Report for Train Set: \n",
      "               precision    recall  f1-score   support\n",
      "\n",
      "           0       0.99      0.97      0.98       481\n",
      "           1       0.97      0.99      0.98       498\n",
      "\n",
      "    accuracy                           0.98       979\n",
      "   macro avg       0.98      0.98      0.98       979\n",
      "weighted avg       0.98      0.98      0.98       979\n",
      "\n",
      "----------------------------------------------------------------------\n",
      "\n",
      "\n",
      "Classification Report for Test Set: \n",
      "               precision    recall  f1-score   support\n",
      "\n",
      "           0       0.87      0.81      0.84       295\n",
      "           1       0.83      0.88      0.85       305\n",
      "\n",
      "    accuracy                           0.84       600\n",
      "   macro avg       0.85      0.84      0.84       600\n",
      "weighted avg       0.85      0.84      0.84       600\n",
      "\n",
      "----------------------------------------------------------------------\n",
      "\n",
      "\n",
      "Classification Report for Dev Set: \n",
      "               precision    recall  f1-score   support\n",
      "\n",
      "           0       0.87      0.83      0.85       224\n",
      "           1       0.82      0.86      0.84       197\n",
      "\n",
      "    accuracy                           0.85       421\n",
      "   macro avg       0.85      0.85      0.85       421\n",
      "weighted avg       0.85      0.85      0.85       421\n",
      "\n"
     ]
    }
   ],
   "source": [
    "# print the classifiation reports\n",
    "print(\"Classification Report for Train Set: \\n\",metrics.classification_report(ytrain,predictions))\n",
    "print(\"----------------------------------------------------------------------\")\n",
    "print(\"\\n\\nClassification Report for Test Set: \\n\",metrics.classification_report(ytest,predictions_test))\n",
    "print(\"----------------------------------------------------------------------\")\n",
    "print(\"\\n\\nClassification Report for Dev Set: \\n\",metrics.classification_report(ydev,predictions_dev))"
   ]
  },
  {
   "cell_type": "markdown",
   "metadata": {
    "id": "lcXwd78zcbHg"
   },
   "source": [
    ">Presision-Recall AUC Score (per Class and per Data Set) and Average Presision-Recall AUC Score Calculation (per Data Set)"
   ]
  },
  {
   "cell_type": "code",
   "execution_count": null,
   "metadata": {
    "colab": {
     "base_uri": "https://localhost:8080/"
    },
    "executionInfo": {
     "elapsed": 50,
     "status": "ok",
     "timestamp": 1677771245968,
     "user": {
      "displayName": "Σπύρος Μαστροδημήτρης",
      "userId": "05822789757280910665"
     },
     "user_tz": -120
    },
    "id": "ae3JUKExf_Uw",
    "outputId": "f8ce8a8f-9131-481d-9386-fc73ac3018b1"
   },
   "outputs": [
    {
     "name": "stdout",
     "output_type": "stream",
     "text": [
      "(Train Set): Presision-Recall AUC Score for the Negative Class is: 0.9983315437368695\n",
      "(Train Set): Presision-Recall AUC Score for the Positive Class is: 0.9986340238813857\n",
      "(Train Set): Average Presision-Recall AUC Score is: 0.9984827838091276\n",
      "\n",
      "(Test Set): Presision-Recall AUC Score for the Negative Class is: 0.9256098728103688\n",
      "(Test Set): Presision-Recall AUC Score for the Positive Class is: 0.9359910283125624\n",
      "(Test Set): Average Presision-Recall AUC Score is: 0.9308004505614655\n",
      "\n",
      "(Dev Set): Presision-Recall AUC Score for the Negative Class is: 0.9381682228765827\n",
      "(Dev Set): Presision-Recall AUC Score for the Positive Class is: 0.9221404358339274\n",
      "(Dev Set): Average Presision-Recall AUC Score is: 0.930154329355255\n"
     ]
    }
   ],
   "source": [
    "from sklearn.metrics import precision_recall_curve\n",
    "from sklearn.metrics import auc\n",
    "\n",
    "\n",
    "#for train set\n",
    "pred_train = clf.predict_proba(xtrain_tfidf_svd1)\n",
    "precision, recall, thresholds = precision_recall_curve(ytrain, pred_train[:,0],pos_label=0)\n",
    "auc_train_neg = auc(recall, precision)\n",
    "\n",
    "precision, recall, thresholds = precision_recall_curve(ytrain, pred_train[:,1],pos_label=1)\n",
    "auc_train_pos = auc(recall, precision)\n",
    "auc_train=(auc_train_neg+auc_train_pos)/2\n",
    "\n",
    "print(\"(Train Set): Presision-Recall AUC Score for the Negative Class is:\",auc_train_neg)\n",
    "print(\"(Train Set): Presision-Recall AUC Score for the Positive Class is:\",auc_train_pos)\n",
    "print(\"(Train Set): Average Presision-Recall AUC Score is:\",auc_train)\n",
    "\n",
    "\n",
    "#for test set\n",
    "pred_test = clf.predict_proba(xtest_tfidf_svd1)\n",
    "precision, recall, thresholds = precision_recall_curve(ytest, pred_test[:,0],pos_label=0)\n",
    "auc_test_neg = auc(recall, precision)\n",
    "\n",
    "precision, recall, thresholds = precision_recall_curve(ytest, pred_test[:,1],pos_label=1)\n",
    "auc_test_pos = auc(recall, precision)\n",
    "auc_test=(auc_test_neg+auc_test_pos)/2\n",
    "\n",
    "print(\"\")\n",
    "print(\"(Test Set): Presision-Recall AUC Score for the Negative Class is:\",auc_test_neg)\n",
    "print(\"(Test Set): Presision-Recall AUC Score for the Positive Class is:\",auc_test_pos)\n",
    "print(\"(Test Set): Average Presision-Recall AUC Score is:\",auc_test)\n",
    "\n",
    "\n",
    "#for dev set\n",
    "pred_dev = clf.predict_proba(xdev_tfidf_svd1)\n",
    "precision, recall, thresholds = precision_recall_curve(ydev, pred_dev[:,0],pos_label=0)\n",
    "auc_dev_neg = auc(recall, precision)\n",
    "\n",
    "precision, recall, thresholds = precision_recall_curve(ydev, pred_dev[:,1],pos_label=1)\n",
    "auc_dev_pos = auc(recall, precision)\n",
    "auc_dev=(auc_dev_neg+auc_dev_pos)/2\n",
    "\n",
    "print(\"\")\n",
    "print(\"(Dev Set): Presision-Recall AUC Score for the Negative Class is:\",auc_dev_neg)\n",
    "print(\"(Dev Set): Presision-Recall AUC Score for the Positive Class is:\",auc_dev_pos)\n",
    "print(\"(Dev Set): Average Presision-Recall AUC Score is:\",auc_dev)\n"
   ]
  },
  {
   "cell_type": "markdown",
   "metadata": {
    "id": "APgH5fBM0R_a"
   },
   "source": [
    "##MLP"
   ]
  },
  {
   "cell_type": "code",
   "execution_count": null,
   "metadata": {
    "colab": {
     "base_uri": "https://localhost:8080/"
    },
    "executionInfo": {
     "elapsed": 4582,
     "status": "ok",
     "timestamp": 1677771250509,
     "user": {
      "displayName": "Σπύρος Μαστροδημήτρης",
      "userId": "05822789757280910665"
     },
     "user_tz": -120
    },
    "id": "YC1qbUZN90eH",
    "outputId": "0896156f-7888-4acc-b164-9490210d9368"
   },
   "outputs": [
    {
     "name": "stdout",
     "output_type": "stream",
     "text": [
      "Looking in indexes: https://pypi.org/simple, https://us-python.pkg.dev/colab-wheels/public/simple/\n",
      "Requirement already satisfied: keras-tuner in /usr/local/lib/python3.8/dist-packages (1.3.0)\n",
      "Requirement already satisfied: packaging in /usr/local/lib/python3.8/dist-packages (from keras-tuner) (23.0)\n",
      "Requirement already satisfied: ipython in /usr/local/lib/python3.8/dist-packages (from keras-tuner) (7.9.0)\n",
      "Requirement already satisfied: tensorflow>=2.0 in /usr/local/lib/python3.8/dist-packages (from keras-tuner) (2.11.0)\n",
      "Requirement already satisfied: requests in /usr/local/lib/python3.8/dist-packages (from keras-tuner) (2.25.1)\n",
      "Requirement already satisfied: kt-legacy in /usr/local/lib/python3.8/dist-packages (from keras-tuner) (1.0.4)\n",
      "Requirement already satisfied: termcolor>=1.1.0 in /usr/local/lib/python3.8/dist-packages (from tensorflow>=2.0->keras-tuner) (2.2.0)\n",
      "Requirement already satisfied: typing-extensions>=3.6.6 in /usr/local/lib/python3.8/dist-packages (from tensorflow>=2.0->keras-tuner) (4.5.0)\n",
      "Requirement already satisfied: astunparse>=1.6.0 in /usr/local/lib/python3.8/dist-packages (from tensorflow>=2.0->keras-tuner) (1.6.3)\n",
      "Requirement already satisfied: libclang>=13.0.0 in /usr/local/lib/python3.8/dist-packages (from tensorflow>=2.0->keras-tuner) (15.0.6.1)\n",
      "Requirement already satisfied: flatbuffers>=2.0 in /usr/local/lib/python3.8/dist-packages (from tensorflow>=2.0->keras-tuner) (23.1.21)\n",
      "Requirement already satisfied: absl-py>=1.0.0 in /usr/local/lib/python3.8/dist-packages (from tensorflow>=2.0->keras-tuner) (1.4.0)\n",
      "Requirement already satisfied: keras<2.12,>=2.11.0 in /usr/local/lib/python3.8/dist-packages (from tensorflow>=2.0->keras-tuner) (2.11.0)\n",
      "Requirement already satisfied: tensorflow-estimator<2.12,>=2.11.0 in /usr/local/lib/python3.8/dist-packages (from tensorflow>=2.0->keras-tuner) (2.11.0)\n",
      "Requirement already satisfied: opt-einsum>=2.3.2 in /usr/local/lib/python3.8/dist-packages (from tensorflow>=2.0->keras-tuner) (3.3.0)\n",
      "Requirement already satisfied: protobuf<3.20,>=3.9.2 in /usr/local/lib/python3.8/dist-packages (from tensorflow>=2.0->keras-tuner) (3.19.6)\n",
      "Requirement already satisfied: tensorboard<2.12,>=2.11 in /usr/local/lib/python3.8/dist-packages (from tensorflow>=2.0->keras-tuner) (2.11.2)\n",
      "Requirement already satisfied: grpcio<2.0,>=1.24.3 in /usr/local/lib/python3.8/dist-packages (from tensorflow>=2.0->keras-tuner) (1.51.3)\n",
      "Requirement already satisfied: wrapt>=1.11.0 in /usr/local/lib/python3.8/dist-packages (from tensorflow>=2.0->keras-tuner) (1.15.0)\n",
      "Requirement already satisfied: numpy>=1.20 in /usr/local/lib/python3.8/dist-packages (from tensorflow>=2.0->keras-tuner) (1.22.4)\n",
      "Requirement already satisfied: six>=1.12.0 in /usr/local/lib/python3.8/dist-packages (from tensorflow>=2.0->keras-tuner) (1.15.0)\n",
      "Requirement already satisfied: h5py>=2.9.0 in /usr/local/lib/python3.8/dist-packages (from tensorflow>=2.0->keras-tuner) (3.1.0)\n",
      "Requirement already satisfied: gast<=0.4.0,>=0.2.1 in /usr/local/lib/python3.8/dist-packages (from tensorflow>=2.0->keras-tuner) (0.4.0)\n",
      "Requirement already satisfied: tensorflow-io-gcs-filesystem>=0.23.1 in /usr/local/lib/python3.8/dist-packages (from tensorflow>=2.0->keras-tuner) (0.31.0)\n",
      "Requirement already satisfied: google-pasta>=0.1.1 in /usr/local/lib/python3.8/dist-packages (from tensorflow>=2.0->keras-tuner) (0.2.0)\n",
      "Requirement already satisfied: setuptools in /usr/local/lib/python3.8/dist-packages (from tensorflow>=2.0->keras-tuner) (57.4.0)\n",
      "Requirement already satisfied: backcall in /usr/local/lib/python3.8/dist-packages (from ipython->keras-tuner) (0.2.0)\n",
      "Requirement already satisfied: jedi>=0.10 in /usr/local/lib/python3.8/dist-packages (from ipython->keras-tuner) (0.18.2)\n",
      "Requirement already satisfied: pexpect in /usr/local/lib/python3.8/dist-packages (from ipython->keras-tuner) (4.8.0)\n",
      "Requirement already satisfied: traitlets>=4.2 in /usr/local/lib/python3.8/dist-packages (from ipython->keras-tuner) (5.7.1)\n",
      "Requirement already satisfied: prompt-toolkit<2.1.0,>=2.0.0 in /usr/local/lib/python3.8/dist-packages (from ipython->keras-tuner) (2.0.10)\n",
      "Requirement already satisfied: pickleshare in /usr/local/lib/python3.8/dist-packages (from ipython->keras-tuner) (0.7.5)\n",
      "Requirement already satisfied: decorator in /usr/local/lib/python3.8/dist-packages (from ipython->keras-tuner) (4.4.2)\n",
      "Requirement already satisfied: pygments in /usr/local/lib/python3.8/dist-packages (from ipython->keras-tuner) (2.6.1)\n",
      "Requirement already satisfied: urllib3<1.27,>=1.21.1 in /usr/local/lib/python3.8/dist-packages (from requests->keras-tuner) (1.26.14)\n",
      "Requirement already satisfied: idna<3,>=2.5 in /usr/local/lib/python3.8/dist-packages (from requests->keras-tuner) (2.10)\n",
      "Requirement already satisfied: chardet<5,>=3.0.2 in /usr/local/lib/python3.8/dist-packages (from requests->keras-tuner) (4.0.0)\n",
      "Requirement already satisfied: certifi>=2017.4.17 in /usr/local/lib/python3.8/dist-packages (from requests->keras-tuner) (2022.12.7)\n",
      "Requirement already satisfied: wheel<1.0,>=0.23.0 in /usr/local/lib/python3.8/dist-packages (from astunparse>=1.6.0->tensorflow>=2.0->keras-tuner) (0.38.4)\n",
      "Requirement already satisfied: parso<0.9.0,>=0.8.0 in /usr/local/lib/python3.8/dist-packages (from jedi>=0.10->ipython->keras-tuner) (0.8.3)\n",
      "Requirement already satisfied: wcwidth in /usr/local/lib/python3.8/dist-packages (from prompt-toolkit<2.1.0,>=2.0.0->ipython->keras-tuner) (0.2.6)\n",
      "Requirement already satisfied: google-auth-oauthlib<0.5,>=0.4.1 in /usr/local/lib/python3.8/dist-packages (from tensorboard<2.12,>=2.11->tensorflow>=2.0->keras-tuner) (0.4.6)\n",
      "Requirement already satisfied: tensorboard-plugin-wit>=1.6.0 in /usr/local/lib/python3.8/dist-packages (from tensorboard<2.12,>=2.11->tensorflow>=2.0->keras-tuner) (1.8.1)\n",
      "Requirement already satisfied: werkzeug>=1.0.1 in /usr/local/lib/python3.8/dist-packages (from tensorboard<2.12,>=2.11->tensorflow>=2.0->keras-tuner) (2.2.3)\n",
      "Requirement already satisfied: markdown>=2.6.8 in /usr/local/lib/python3.8/dist-packages (from tensorboard<2.12,>=2.11->tensorflow>=2.0->keras-tuner) (3.4.1)\n",
      "Requirement already satisfied: tensorboard-data-server<0.7.0,>=0.6.0 in /usr/local/lib/python3.8/dist-packages (from tensorboard<2.12,>=2.11->tensorflow>=2.0->keras-tuner) (0.6.1)\n",
      "Requirement already satisfied: google-auth<3,>=1.6.3 in /usr/local/lib/python3.8/dist-packages (from tensorboard<2.12,>=2.11->tensorflow>=2.0->keras-tuner) (2.16.1)\n",
      "Requirement already satisfied: ptyprocess>=0.5 in /usr/local/lib/python3.8/dist-packages (from pexpect->ipython->keras-tuner) (0.7.0)\n",
      "Requirement already satisfied: rsa<5,>=3.1.4 in /usr/local/lib/python3.8/dist-packages (from google-auth<3,>=1.6.3->tensorboard<2.12,>=2.11->tensorflow>=2.0->keras-tuner) (4.9)\n",
      "Requirement already satisfied: cachetools<6.0,>=2.0.0 in /usr/local/lib/python3.8/dist-packages (from google-auth<3,>=1.6.3->tensorboard<2.12,>=2.11->tensorflow>=2.0->keras-tuner) (5.3.0)\n",
      "Requirement already satisfied: pyasn1-modules>=0.2.1 in /usr/local/lib/python3.8/dist-packages (from google-auth<3,>=1.6.3->tensorboard<2.12,>=2.11->tensorflow>=2.0->keras-tuner) (0.2.8)\n",
      "Requirement already satisfied: requests-oauthlib>=0.7.0 in /usr/local/lib/python3.8/dist-packages (from google-auth-oauthlib<0.5,>=0.4.1->tensorboard<2.12,>=2.11->tensorflow>=2.0->keras-tuner) (1.3.1)\n",
      "Requirement already satisfied: importlib-metadata>=4.4 in /usr/local/lib/python3.8/dist-packages (from markdown>=2.6.8->tensorboard<2.12,>=2.11->tensorflow>=2.0->keras-tuner) (6.0.0)\n",
      "Requirement already satisfied: MarkupSafe>=2.1.1 in /usr/local/lib/python3.8/dist-packages (from werkzeug>=1.0.1->tensorboard<2.12,>=2.11->tensorflow>=2.0->keras-tuner) (2.1.2)\n",
      "Requirement already satisfied: zipp>=0.5 in /usr/local/lib/python3.8/dist-packages (from importlib-metadata>=4.4->markdown>=2.6.8->tensorboard<2.12,>=2.11->tensorflow>=2.0->keras-tuner) (3.15.0)\n",
      "Requirement already satisfied: pyasn1<0.5.0,>=0.4.6 in /usr/local/lib/python3.8/dist-packages (from pyasn1-modules>=0.2.1->google-auth<3,>=1.6.3->tensorboard<2.12,>=2.11->tensorflow>=2.0->keras-tuner) (0.4.8)\n",
      "Requirement already satisfied: oauthlib>=3.0.0 in /usr/local/lib/python3.8/dist-packages (from requests-oauthlib>=0.7.0->google-auth-oauthlib<0.5,>=0.4.1->tensorboard<2.12,>=2.11->tensorflow>=2.0->keras-tuner) (3.2.2)\n"
     ]
    }
   ],
   "source": [
    "!pip install -U keras-tuner"
   ]
  },
  {
   "cell_type": "markdown",
   "metadata": {
    "id": "_q2x0qLXuuXY"
   },
   "source": [
    ">Reduction of the Features to 150"
   ]
  },
  {
   "cell_type": "code",
   "execution_count": null,
   "metadata": {
    "id": "DEWhAm-sZ9Ey"
   },
   "outputs": [],
   "source": [
    "# Reduce dimensionality using svd 5000 --> 150\n",
    "from sklearn.decomposition import TruncatedSVD\n",
    "\n",
    "svd = TruncatedSVD(n_components=150, random_state=40)\n",
    "xtrain_tfidf_svd1 = svd.fit_transform(xtrain_tfidf)\n",
    "xdev_tfidf_svd1 = svd.transform(xdev_tfidf)\n",
    "xtest_tfidf_svd1 = svd.transform(xtest_tfidf)"
   ]
  },
  {
   "cell_type": "code",
   "execution_count": null,
   "metadata": {
    "colab": {
     "base_uri": "https://localhost:8080/"
    },
    "executionInfo": {
     "elapsed": 4222,
     "status": "ok",
     "timestamp": 1677771255342,
     "user": {
      "displayName": "Σπύρος Μαστροδημήτρης",
      "userId": "05822789757280910665"
     },
     "user_tz": -120
    },
    "id": "_4B7YmoWZ4b-",
    "outputId": "d5828899-3305-499c-a297-a4b42c5f214c"
   },
   "outputs": [
    {
     "name": "stderr",
     "output_type": "stream",
     "text": [
      "<ipython-input-27-c09d18a6a23c>:1: DeprecationWarning: `import kerastuner` is deprecated, please use `import keras_tuner`.\n",
      "  from kerastuner import HyperParameters\n"
     ]
    }
   ],
   "source": [
    "from kerastuner import HyperParameters\n",
    "import tensorflow as tf\n",
    "from sklearn.metrics import f1_score, recall_score, precision_score\n",
    "import numpy as np\n",
    "import os\n",
    "\n",
    "\n",
    "def model_builder(hp):\n",
    "  model = tf.keras.models.Sequential()\n",
    "\n",
    "  model.add(tf.keras.layers.Dense(units=hp.Int('input layer perceptrons', min_value=32, max_value=512, step=32), input_dim=xtrain_tfidf_svd1.shape[1],activation=hp.Choice(\"input layer activation function\", ['relu', 'sigmoid',\"tanh\",\"softmax\"])))\n",
    "  for i in range(hp.Int('layers', 1, 3, 1)):                                                   \n",
    "    model.add(tf.keras.layers.Dense(hp.Choice('layer' + str(i) + \"perceptrons\", [32,256,512]),activation=hp.Choice('activation function' + str(i), ['relu', 'sigmoid',\"tanh\",\"softmax\"])))\n",
    "    if hp.Boolean(\"dropout\"+str(i)):\n",
    "       model.add(tf.keras.layers.Dropout(hp.Choice('dropout value'+str(i), [0.2, 0.5]))) #0.8\n",
    "  \n",
    "  model.add(tf.keras.layers.Dense(1,activation='sigmoid'))\n",
    "\n",
    "  # Tune the learning rate for the optimizer\n",
    "  # Choose an optimal value from 0.01, 0.001, or 0.0001\n",
    "  hp_learning_rate = hp.Choice('learning_rate', values=[1e-3,1e-4]) #1e-2\n",
    "\n",
    "  model.compile(loss=\"binary_crossentropy\", #multiclass classification problem\n",
    "                  optimizer=tf.keras.optimizers.Adam(learning_rate=hp_learning_rate),metrics=['accuracy'])\n",
    "  return model"
   ]
  },
  {
   "cell_type": "code",
   "execution_count": null,
   "metadata": {
    "id": "6ULwaOx0yF_t"
   },
   "outputs": [],
   "source": [
    "import keras_tuner as kt\n",
    "\n",
    "tuner = kt.RandomSearch(model_builder,\n",
    "                        objective='val_accuracy',\n",
    "                        max_trials=100,\n",
    "                        directory='my_dir',\n",
    "                        project_name='intro_to_kt',seed = 40, overwrite = True)\n",
    "early_stopping = tf.keras.callbacks.EarlyStopping(monitor='val_accuracy', patience=5)"
   ]
  },
  {
   "cell_type": "code",
   "execution_count": null,
   "metadata": {
    "colab": {
     "base_uri": "https://localhost:8080/"
    },
    "executionInfo": {
     "elapsed": 491393,
     "status": "ok",
     "timestamp": 1677772757095,
     "user": {
      "displayName": "Σπύρος Μαστροδημήτρης",
      "userId": "05822789757280910665"
     },
     "user_tz": -120
    },
    "id": "Fvx_DjMdZ4b-",
    "outputId": "3d7c34d9-35c9-4c31-dc5a-14b5d615e2e9"
   },
   "outputs": [
    {
     "name": "stdout",
     "output_type": "stream",
     "text": [
      "Trial 100 Complete [00h 00m 03s]\n",
      "val_accuracy: 0.523809552192688\n",
      "\n",
      "Best val_accuracy So Far: 0.8639456033706665\n",
      "Total elapsed time: 00h 08m 12s\n"
     ]
    }
   ],
   "source": [
    "tuner.search(xtrain_tfidf_svd1, ytrain, epochs=100,callbacks=[early_stopping],validation_data=(xdev_tfidf_svd1,ydev))\n",
    "best_hps=tuner.get_best_hyperparameters(num_trials=1)[0]"
   ]
  },
  {
   "cell_type": "code",
   "execution_count": null,
   "metadata": {
    "colab": {
     "base_uri": "https://localhost:8080/"
    },
    "executionInfo": {
     "elapsed": 502,
     "status": "ok",
     "timestamp": 1677772762143,
     "user": {
      "displayName": "Σπύρος Μαστροδημήτρης",
      "userId": "05822789757280910665"
     },
     "user_tz": -120
    },
    "id": "ShdYLCK-Z4b-",
    "outputId": "ab8a796d-91b8-470a-b04e-836ec516f95c"
   },
   "outputs": [
    {
     "name": "stdout",
     "output_type": "stream",
     "text": [
      "Results summary\n",
      "Results in my_dir/intro_to_kt\n",
      "Showing 1 best trials\n",
      "<keras_tuner.engine.objective.Objective object at 0x7f2133e39610>\n",
      "Trial summary\n",
      "Hyperparameters:\n",
      "input layer perceptrons: 512\n",
      "input layer activation function: tanh\n",
      "layers: 1\n",
      "layer0perceptrons: 512\n",
      "activation function0: relu\n",
      "dropout0: True\n",
      "learning_rate: 0.0001\n",
      "layer1perceptrons: 256\n",
      "activation function1: relu\n",
      "dropout1: False\n",
      "dropout value0: 0.2\n",
      "dropout value1: 0.2\n",
      "layer2perceptrons: 256\n",
      "activation function2: sigmoid\n",
      "dropout2: True\n",
      "dropout value2: 0.2\n",
      "Score: 0.8639456033706665\n"
     ]
    }
   ],
   "source": [
    "tuner.results_summary(1)"
   ]
  },
  {
   "cell_type": "markdown",
   "metadata": {
    "id": "EDiXeb2Ti7e0"
   },
   "source": [
    ">Building the Optimal Model"
   ]
  },
  {
   "cell_type": "markdown",
   "metadata": {
    "id": "EIIxADz_kP8v"
   },
   "source": [
    "Batch size 12"
   ]
  },
  {
   "cell_type": "code",
   "execution_count": null,
   "metadata": {
    "colab": {
     "base_uri": "https://localhost:8080/"
    },
    "executionInfo": {
     "elapsed": 10898,
     "status": "ok",
     "timestamp": 1677772783777,
     "user": {
      "displayName": "Σπύρος Μαστροδημήτρης",
      "userId": "05822789757280910665"
     },
     "user_tz": -120
    },
    "id": "Tg1AwtRM1uqN",
    "outputId": "d9078b54-3f4a-43b0-9bbf-0fd48ae280dc"
   },
   "outputs": [
    {
     "name": "stdout",
     "output_type": "stream",
     "text": [
      "Epoch 1/100\n",
      "58/58 [==============================] - ETA: 0s - loss: 0.6873 - accuracy: 0.6161\n",
      "Epoch 1: val_accuracy improved from -inf to 0.74150, saving model to bestweights.hdf5\n",
      "58/58 [==============================] - 2s 13ms/step - loss: 0.6873 - accuracy: 0.6161 - val_loss: 0.6789 - val_accuracy: 0.7415\n",
      "Epoch 2/100\n",
      "54/58 [==========================>...] - ETA: 0s - loss: 0.6651 - accuracy: 0.8194\n",
      "Epoch 2: val_accuracy improved from 0.74150 to 0.80272, saving model to bestweights.hdf5\n",
      "58/58 [==============================] - 0s 8ms/step - loss: 0.6652 - accuracy: 0.8161 - val_loss: 0.6620 - val_accuracy: 0.8027\n",
      "Epoch 3/100\n",
      "50/58 [========================>.....] - ETA: 0s - loss: 0.6373 - accuracy: 0.8650\n",
      "Epoch 3: val_accuracy did not improve from 0.80272\n",
      "58/58 [==============================] - 0s 8ms/step - loss: 0.6362 - accuracy: 0.8599 - val_loss: 0.6347 - val_accuracy: 0.8027\n",
      "Epoch 4/100\n",
      "51/58 [=========================>....] - ETA: 0s - loss: 0.5977 - accuracy: 0.8676\n",
      "Epoch 4: val_accuracy improved from 0.80272 to 0.81293, saving model to bestweights.hdf5\n",
      "58/58 [==============================] - 0s 8ms/step - loss: 0.5952 - accuracy: 0.8672 - val_loss: 0.5973 - val_accuracy: 0.8129\n",
      "Epoch 5/100\n",
      "54/58 [==========================>...] - ETA: 0s - loss: 0.5393 - accuracy: 0.8873\n",
      "Epoch 5: val_accuracy improved from 0.81293 to 0.81633, saving model to bestweights.hdf5\n",
      "58/58 [==============================] - 1s 9ms/step - loss: 0.5352 - accuracy: 0.8891 - val_loss: 0.5460 - val_accuracy: 0.8163\n",
      "Epoch 6/100\n",
      "57/58 [============================>.] - ETA: 0s - loss: 0.4637 - accuracy: 0.8845\n",
      "Epoch 6: val_accuracy did not improve from 0.81633\n",
      "58/58 [==============================] - 1s 11ms/step - loss: 0.4637 - accuracy: 0.8847 - val_loss: 0.4911 - val_accuracy: 0.8129\n",
      "Epoch 7/100\n",
      "54/58 [==========================>...] - ETA: 0s - loss: 0.3913 - accuracy: 0.8904\n",
      "Epoch 7: val_accuracy did not improve from 0.81633\n",
      "58/58 [==============================] - 1s 12ms/step - loss: 0.3917 - accuracy: 0.8891 - val_loss: 0.4531 - val_accuracy: 0.8129\n",
      "Epoch 8/100\n",
      "54/58 [==========================>...] - ETA: 0s - loss: 0.3359 - accuracy: 0.9012\n",
      "Epoch 8: val_accuracy did not improve from 0.81633\n",
      "58/58 [==============================] - 1s 13ms/step - loss: 0.3335 - accuracy: 0.9036 - val_loss: 0.4293 - val_accuracy: 0.8061\n",
      "Epoch 9/100\n",
      "55/58 [===========================>..] - ETA: 0s - loss: 0.2895 - accuracy: 0.9076\n",
      "Epoch 9: val_accuracy did not improve from 0.81633\n",
      "58/58 [==============================] - 1s 9ms/step - loss: 0.2927 - accuracy: 0.9051 - val_loss: 0.4132 - val_accuracy: 0.8163\n",
      "Epoch 10/100\n",
      "53/58 [==========================>...] - ETA: 0s - loss: 0.2659 - accuracy: 0.9072\n",
      "Epoch 10: val_accuracy did not improve from 0.81633\n",
      "58/58 [==============================] - 0s 8ms/step - loss: 0.2645 - accuracy: 0.9095 - val_loss: 0.4168 - val_accuracy: 0.7959\n",
      "19/19 [==============================] - 0s 2ms/step - loss: 0.3874 - accuracy: 0.8567\n",
      "[test loss, test accuracy]: [0.38742634654045105, 0.8566666841506958]\n"
     ]
    }
   ],
   "source": [
    "model = tuner.hypermodel.build(best_hps)\n",
    "#print(model.summary())\n",
    "checkpoint = tf.keras.callbacks.ModelCheckpoint('bestweights.hdf5',\n",
    "                                                monitor='val_accuracy', \n",
    "                                                mode='max', \n",
    "                                                verbose=2, \n",
    "                                                save_best_only=True, \n",
    "                                                save_weights_only=True)\n",
    "\n",
    "\n",
    "\n",
    "history = model.fit(xtrain_tfidf_svd1, ytrain, epochs=100, validation_split=0.3,batch_size=12,callbacks=[early_stopping,checkpoint])\n",
    "eval_result = model.evaluate(xtest_tfidf_svd1, ytest)\n",
    "print(\"[test loss, test accuracy]:\", eval_result)"
   ]
  },
  {
   "cell_type": "code",
   "execution_count": null,
   "metadata": {
    "colab": {
     "base_uri": "https://localhost:8080/",
     "height": 522
    },
    "executionInfo": {
     "elapsed": 1343,
     "status": "ok",
     "timestamp": 1677772789793,
     "user": {
      "displayName": "Σπύρος Μαστροδημήτρης",
      "userId": "05822789757280910665"
     },
     "user_tz": -120
    },
    "id": "mfjVh99TDlOJ",
    "outputId": "a3a9ae4f-3abe-4d8c-aed4-825ad4241323"
   },
   "outputs": [
    {
     "data": {
      "image/png": "[encoded data removed]",
      "text/plain": [
       "<Figure size 720x576 with 1 Axes>"
      ]
     },
     "metadata": {
      "needs_background": "light"
     },
     "output_type": "display_data"
    }
   ],
   "source": [
    "%matplotlib inline\n",
    "import matplotlib.pyplot as plt\n",
    "\n",
    "#Learning Curves Loss-Epochs\n",
    "plt.figure(figsize=(10,8))\n",
    "plt.plot(history.history['loss'])\n",
    "plt.plot(history.history['val_loss'])\n",
    "plt.title('Model Loss', fontsize=17)\n",
    "plt.ylabel('Loss', fontsize=15)\n",
    "plt.xlabel('Epochs', fontsize=15)\n",
    "plt.legend(['Train', 'Dev'], loc='upper left', fontsize = 15)\n",
    "#plt.xticks(range(-1,6), range(7), fontsize=13)\n",
    "plt.yticks(fontsize=13)\n",
    "plt.grid()\n",
    "plt.show()"
   ]
  },
  {
   "cell_type": "code",
   "execution_count": null,
   "metadata": {
    "colab": {
     "base_uri": "https://localhost:8080/",
     "height": 522
    },
    "executionInfo": {
     "elapsed": 731,
     "status": "ok",
     "timestamp": 1677772795157,
     "user": {
      "displayName": "Σπύρος Μαστροδημήτρης",
      "userId": "05822789757280910665"
     },
     "user_tz": -120
    },
    "id": "7rhYu-PruUzj",
    "outputId": "cf875ac5-e08a-490a-cbcc-55997fb4e852"
   },
   "outputs": [
    {
     "data": {
      "image/png": "[encoded data removed]",
      "text/plain": [
       "<Figure size 720x576 with 1 Axes>"
      ]
     },
     "metadata": {
      "needs_background": "light"
     },
     "output_type": "display_data"
    }
   ],
   "source": [
    "#Learning Curves Loss-Epochs\n",
    "plt.figure(figsize=(10,8))\n",
    "plt.plot(history.history['accuracy'])\n",
    "plt.plot(history.history['val_accuracy'])\n",
    "plt.title('Model Accuracy', fontsize=17)\n",
    "plt.ylabel('accuracy', fontsize=15)\n",
    "plt.xlabel('epoch', fontsize=15)\n",
    "plt.legend(['Train', 'Dev'], loc='upper left', fontsize = 15)\n",
    "#plt.xticks(range(-1,6), range(7), fontsize=13)\n",
    "plt.yticks(fontsize=13)\n",
    "plt.grid()\n",
    "plt.show()"
   ]
  },
  {
   "cell_type": "markdown",
   "metadata": {
    "id": "TguK6a7se2HE"
   },
   "source": [
    ">Classification Report for Train Set"
   ]
  },
  {
   "cell_type": "code",
   "execution_count": null,
   "metadata": {
    "colab": {
     "base_uri": "https://localhost:8080/"
    },
    "executionInfo": {
     "elapsed": 419,
     "status": "ok",
     "timestamp": 1677772801770,
     "user": {
      "displayName": "Σπύρος Μαστροδημήτρης",
      "userId": "05822789757280910665"
     },
     "user_tz": -120
    },
    "id": "UF5W8E5Zosr_",
    "outputId": "a28ec511-278d-4186-9db0-964e36d42868"
   },
   "outputs": [
    {
     "name": "stdout",
     "output_type": "stream",
     "text": [
      "31/31 [==============================] - 0s 3ms/step\n",
      "              precision    recall  f1-score   support\n",
      "\n",
      "           0       0.85      0.91      0.88       481\n",
      "           1       0.91      0.85      0.88       498\n",
      "\n",
      "    accuracy                           0.88       979\n",
      "   macro avg       0.88      0.88      0.88       979\n",
      "weighted avg       0.88      0.88      0.88       979\n",
      "\n"
     ]
    }
   ],
   "source": [
    "from sklearn.metrics import classification_report\n",
    "\n",
    "print(classification_report(ytrain, np.round(model.predict(xtrain_tfidf_svd1)).astype(\"int32\"), labels=np.array([0,1])))\n"
   ]
  },
  {
   "cell_type": "markdown",
   "metadata": {
    "id": "T992BoocLDPZ"
   },
   "source": [
    "   Classification Report for *Test* Set"
   ]
  },
  {
   "cell_type": "code",
   "execution_count": null,
   "metadata": {
    "colab": {
     "base_uri": "https://localhost:8080/"
    },
    "executionInfo": {
     "elapsed": 556,
     "status": "ok",
     "timestamp": 1677772805561,
     "user": {
      "displayName": "Σπύρος Μαστροδημήτρης",
      "userId": "05822789757280910665"
     },
     "user_tz": -120
    },
    "id": "OU5bIQljosoh",
    "outputId": "770e5d55-7f68-4476-f72b-9932feac31bd"
   },
   "outputs": [
    {
     "name": "stdout",
     "output_type": "stream",
     "text": [
      "19/19 [==============================] - 0s 4ms/step\n",
      "              precision    recall  f1-score   support\n",
      "\n",
      "           0       0.84      0.87      0.86       295\n",
      "           1       0.87      0.84      0.86       305\n",
      "\n",
      "    accuracy                           0.86       600\n",
      "   macro avg       0.86      0.86      0.86       600\n",
      "weighted avg       0.86      0.86      0.86       600\n",
      "\n"
     ]
    }
   ],
   "source": [
    "print(classification_report(ytest, np.round(model.predict(xtest_tfidf_svd1)).astype(\"int32\"), labels=np.array([0,1])))\n"
   ]
  },
  {
   "cell_type": "markdown",
   "metadata": {
    "id": "o9WIjNWFLPzE"
   },
   "source": [
    "Classification Report for Dev Set"
   ]
  },
  {
   "cell_type": "code",
   "execution_count": null,
   "metadata": {
    "colab": {
     "base_uri": "https://localhost:8080/"
    },
    "executionInfo": {
     "elapsed": 375,
     "status": "ok",
     "timestamp": 1677772809483,
     "user": {
      "displayName": "Σπύρος Μαστροδημήτρης",
      "userId": "05822789757280910665"
     },
     "user_tz": -120
    },
    "id": "VwH_DOnZo_ke",
    "outputId": "e02b687d-3ee1-42c1-ef68-ecd77d1ea2f4"
   },
   "outputs": [
    {
     "name": "stdout",
     "output_type": "stream",
     "text": [
      "14/14 [==============================] - 0s 3ms/step\n",
      "              precision    recall  f1-score   support\n",
      "\n",
      "           0       0.84      0.90      0.87       224\n",
      "           1       0.88      0.81      0.84       197\n",
      "\n",
      "    accuracy                           0.86       421\n",
      "   macro avg       0.86      0.85      0.86       421\n",
      "weighted avg       0.86      0.86      0.86       421\n",
      "\n"
     ]
    }
   ],
   "source": [
    "print(classification_report(ydev, np.round(model.predict(xdev_tfidf_svd1)).astype(\"int32\"), labels=np.array([0,1])))"
   ]
  },
  {
   "cell_type": "code",
   "execution_count": null,
   "metadata": {
    "colab": {
     "base_uri": "https://localhost:8080/"
    },
    "executionInfo": {
     "elapsed": 1548,
     "status": "ok",
     "timestamp": 1677772813757,
     "user": {
      "displayName": "Σπύρος Μαστροδημήτρης",
      "userId": "05822789757280910665"
     },
     "user_tz": -120
    },
    "id": "JHXxnAP8rJJa",
    "outputId": "65b7630c-7a07-491a-d65f-6bc158f0db85"
   },
   "outputs": [
    {
     "name": "stdout",
     "output_type": "stream",
     "text": [
      "31/31 [==============================] - 0s 5ms/step\n",
      "\n",
      "Precision Recall AUC score for the negative class:\n",
      "0.9574264403388145\n",
      "\n",
      "Precision Recall AUC score for the positive class:\n",
      "0.9556952846116394\n",
      "\n",
      "Macro-averaged Precision Recall AUC score:\n",
      "0.956560862475227\n"
     ]
    }
   ],
   "source": [
    "probs_belong_to_class_1 = model.predict(xtrain_tfidf_svd1)\n",
    "probs_belong_to_class_0 = 1-probs_belong_to_class_1\n",
    "predict_proba_preds = np.concatenate((probs_belong_to_class_0, probs_belong_to_class_1), axis = 1)\n",
    "\n",
    "print(f\"\\nPrecision Recall AUC score for the negative class:\")\n",
    "precision, recall, thresholds = precision_recall_curve(ytrain, predict_proba_preds[:,0],pos_label=0)\n",
    "area_train_1 = auc(recall, precision)\n",
    "print(area_train_1)\n",
    "\n",
    "print(f\"\\nPrecision Recall AUC score for the positive class:\")\n",
    "precision, recall, thresholds = precision_recall_curve(ytrain, predict_proba_preds[:,1],pos_label=1)\n",
    "area_train_2 = auc(recall, precision)\n",
    "print(area_train_2)\n",
    "\n",
    "print(f\"\\nMacro-averaged Precision Recall AUC score:\")\n",
    "print((area_train_1+area_train_2)/2)"
   ]
  },
  {
   "cell_type": "code",
   "execution_count": null,
   "metadata": {
    "colab": {
     "base_uri": "https://localhost:8080/"
    },
    "executionInfo": {
     "elapsed": 1335,
     "status": "ok",
     "timestamp": 1677772818158,
     "user": {
      "displayName": "Σπύρος Μαστροδημήτρης",
      "userId": "05822789757280910665"
     },
     "user_tz": -120
    },
    "id": "Lc8gO1F_rJFn",
    "outputId": "e3736036-0a21-4e81-f1fa-8afb5a4a5dfe"
   },
   "outputs": [
    {
     "name": "stdout",
     "output_type": "stream",
     "text": [
      "19/19 [==============================] - 0s 9ms/step\n",
      "\n",
      "Precision Recall AUC score for the negative class:\n",
      "0.9131270370894382\n",
      "\n",
      "Precision Recall AUC score for the positive class:\n",
      "0.9348307822802675\n",
      "\n",
      "Macro-averaged Precision Recall AUC score:\n",
      "0.9239789096848529\n"
     ]
    }
   ],
   "source": [
    "probs_belong_to_class_1 = model.predict(xtest_tfidf_svd1)\n",
    "probs_belong_to_class_0 = 1-probs_belong_to_class_1\n",
    "predict_proba_preds = np.concatenate((probs_belong_to_class_0, probs_belong_to_class_1), axis = 1)\n",
    "\n",
    "print(f\"\\nPrecision Recall AUC score for the negative class:\")\n",
    "precision, recall, thresholds = precision_recall_curve(ytest, predict_proba_preds[:,0],pos_label=0)\n",
    "area_train_1 = auc(recall, precision)\n",
    "print(area_train_1)\n",
    "\n",
    "print(f\"\\nPrecision Recall AUC score for the positive class:\")\n",
    "precision, recall, thresholds = precision_recall_curve(ytest, predict_proba_preds[:,1],pos_label=1)\n",
    "area_train_2 = auc(recall, precision)\n",
    "print(area_train_2)\n",
    "\n",
    "print(f\"\\nMacro-averaged Precision Recall AUC score:\")\n",
    "print((area_train_1+area_train_2)/2)"
   ]
  },
  {
   "cell_type": "code",
   "execution_count": null,
   "metadata": {
    "colab": {
     "base_uri": "https://localhost:8080/"
    },
    "executionInfo": {
     "elapsed": 629,
     "status": "ok",
     "timestamp": 1677772821138,
     "user": {
      "displayName": "Σπύρος Μαστροδημήτρης",
      "userId": "05822789757280910665"
     },
     "user_tz": -120
    },
    "id": "t8T3AaN8rJL1",
    "outputId": "d5ce4b06-504c-4749-af08-66f02430b3dc"
   },
   "outputs": [
    {
     "name": "stdout",
     "output_type": "stream",
     "text": [
      "14/14 [==============================] - 0s 7ms/step\n",
      "\n",
      "Precision Recall AUC score for the negative class:\n",
      "0.9305683499659341\n",
      "\n",
      "Precision Recall AUC score for the positive class:\n",
      "0.9097931063565543\n",
      "\n",
      "Macro-averaged Precision Recall AUC score:\n",
      "0.9201807281612442\n"
     ]
    }
   ],
   "source": [
    "probs_belong_to_class_1 = model.predict(xdev_tfidf_svd1)\n",
    "probs_belong_to_class_0 = 1-probs_belong_to_class_1\n",
    "predict_proba_preds = np.concatenate((probs_belong_to_class_0, probs_belong_to_class_1), axis = 1)\n",
    "\n",
    "\n",
    "print(f\"\\nPrecision Recall AUC score for the negative class:\")\n",
    "precision, recall, thresholds = precision_recall_curve(ydev, predict_proba_preds[:,0],pos_label=0)\n",
    "area_train_1 = auc(recall, precision)\n",
    "print(area_train_1)\n",
    "\n",
    "print(f\"\\nPrecision Recall AUC score for the positive class:\")\n",
    "precision, recall, thresholds = precision_recall_curve(ydev, predict_proba_preds[:,1],pos_label=1)\n",
    "area_train_2 = auc(recall, precision)\n",
    "print(area_train_2)\n",
    "\n",
    "print(f\"\\nMacro-averaged Precision Recall AUC score:\")\n",
    "print((area_train_1+area_train_2)/2)"
   ]
  },
  {
   "cell_type": "markdown",
   "metadata": {
    "id": "TD39-cz09iU1"
   },
   "source": [
    "Batch size 8"
   ]
  },
  {
   "cell_type": "code",
   "execution_count": null,
   "metadata": {
    "colab": {
     "base_uri": "https://localhost:8080/"
    },
    "executionInfo": {
     "elapsed": 8197,
     "status": "ok",
     "timestamp": 1677772833437,
     "user": {
      "displayName": "Σπύρος Μαστροδημήτρης",
      "userId": "05822789757280910665"
     },
     "user_tz": -120
    },
    "id": "1_CpTSN89gOg",
    "outputId": "09750977-ecb7-4760-e0ce-a15a2fff3110"
   },
   "outputs": [
    {
     "name": "stdout",
     "output_type": "stream",
     "text": [
      "Epoch 1/100\n",
      "84/86 [============================>.] - ETA: 0s - loss: 0.6875 - accuracy: 0.5551\n",
      "Epoch 1: val_accuracy improved from -inf to 0.68707, saving model to bestweights.hdf5\n",
      "86/86 [==============================] - 2s 10ms/step - loss: 0.6875 - accuracy: 0.5518 - val_loss: 0.6781 - val_accuracy: 0.6871\n",
      "Epoch 2/100\n",
      "83/86 [===========================>..] - ETA: 0s - loss: 0.6618 - accuracy: 0.8223\n",
      "Epoch 2: val_accuracy improved from 0.68707 to 0.80952, saving model to bestweights.hdf5\n",
      "86/86 [==============================] - 1s 8ms/step - loss: 0.6612 - accuracy: 0.8234 - val_loss: 0.6556 - val_accuracy: 0.8095\n",
      "Epoch 3/100\n",
      "86/86 [==============================] - ETA: 0s - loss: 0.6205 - accuracy: 0.8453\n",
      "Epoch 3: val_accuracy improved from 0.80952 to 0.81633, saving model to bestweights.hdf5\n",
      "86/86 [==============================] - 1s 9ms/step - loss: 0.6205 - accuracy: 0.8453 - val_loss: 0.6161 - val_accuracy: 0.8163\n",
      "Epoch 4/100\n",
      "82/86 [===========================>..] - ETA: 0s - loss: 0.5512 - accuracy: 0.8826\n",
      "Epoch 4: val_accuracy improved from 0.81633 to 0.82313, saving model to bestweights.hdf5\n",
      "86/86 [==============================] - 1s 11ms/step - loss: 0.5501 - accuracy: 0.8832 - val_loss: 0.5473 - val_accuracy: 0.8231\n",
      "Epoch 5/100\n",
      "85/86 [============================>.] - ETA: 0s - loss: 0.4548 - accuracy: 0.8882\n",
      "Epoch 5: val_accuracy did not improve from 0.82313\n",
      "86/86 [==============================] - 1s 11ms/step - loss: 0.4556 - accuracy: 0.8861 - val_loss: 0.4753 - val_accuracy: 0.8231\n",
      "Epoch 6/100\n",
      "84/86 [============================>.] - ETA: 0s - loss: 0.3706 - accuracy: 0.8914\n",
      "Epoch 6: val_accuracy did not improve from 0.82313\n",
      "86/86 [==============================] - 1s 7ms/step - loss: 0.3678 - accuracy: 0.8934 - val_loss: 0.4274 - val_accuracy: 0.8163\n",
      "Epoch 7/100\n",
      "83/86 [===========================>..] - ETA: 0s - loss: 0.3047 - accuracy: 0.9021\n",
      "Epoch 7: val_accuracy did not improve from 0.82313\n",
      "86/86 [==============================] - 1s 8ms/step - loss: 0.3051 - accuracy: 0.9007 - val_loss: 0.3994 - val_accuracy: 0.8231\n",
      "Epoch 8/100\n",
      "80/86 [==========================>...] - ETA: 0s - loss: 0.2682 - accuracy: 0.9031\n",
      "Epoch 8: val_accuracy did not improve from 0.82313\n",
      "86/86 [==============================] - 1s 7ms/step - loss: 0.2657 - accuracy: 0.9007 - val_loss: 0.3923 - val_accuracy: 0.8129\n",
      "Epoch 9/100\n",
      "79/86 [==========================>...] - ETA: 0s - loss: 0.2338 - accuracy: 0.9241\n",
      "Epoch 9: val_accuracy did not improve from 0.82313\n",
      "86/86 [==============================] - 1s 7ms/step - loss: 0.2414 - accuracy: 0.9139 - val_loss: 0.3952 - val_accuracy: 0.8129\n",
      "19/19 [==============================] - 0s 3ms/step - loss: 0.3635 - accuracy: 0.8500\n",
      "[test loss, test accuracy]: [0.36349067091941833, 0.8500000238418579]\n"
     ]
    }
   ],
   "source": [
    "model = tuner.hypermodel.build(best_hps)\n",
    "#print(model.summary())\n",
    "checkpoint = tf.keras.callbacks.ModelCheckpoint('bestweights.hdf5',\n",
    "                                                monitor='val_accuracy', \n",
    "                                                mode='max', \n",
    "                                                verbose=2, \n",
    "                                                save_best_only=True, \n",
    "                                                save_weights_only=True)\n",
    "\n",
    "\n",
    "\n",
    "history = model.fit(xtrain_tfidf_svd1, ytrain, epochs=100, validation_split=0.3,batch_size=8,callbacks=[early_stopping,checkpoint])\n",
    "eval_result = model.evaluate(xtest_tfidf_svd1, ytest)\n",
    "print(\"[test loss, test accuracy]:\", eval_result)"
   ]
  },
  {
   "cell_type": "code",
   "execution_count": null,
   "metadata": {
    "colab": {
     "base_uri": "https://localhost:8080/",
     "height": 522
    },
    "executionInfo": {
     "elapsed": 941,
     "status": "ok",
     "timestamp": 1677772837318,
     "user": {
      "displayName": "Σπύρος Μαστροδημήτρης",
      "userId": "05822789757280910665"
     },
     "user_tz": -120
    },
    "id": "CF9m13UB9gOh",
    "outputId": "493c7741-f691-46a8-b293-9cad08f40e13"
   },
   "outputs": [
    {
     "data": {
      "image/png": "[encoded data removed]",
      "text/plain": [
       "<Figure size 720x576 with 1 Axes>"
      ]
     },
     "metadata": {
      "needs_background": "light"
     },
     "output_type": "display_data"
    }
   ],
   "source": [
    "%matplotlib inline\n",
    "import matplotlib.pyplot as plt\n",
    "\n",
    "#Learning Curves Loss-Epochs\n",
    "plt.figure(figsize=(10,8))\n",
    "plt.plot(history.history['loss'])\n",
    "plt.plot(history.history['val_loss'])\n",
    "plt.title('Model Loss', fontsize=17)\n",
    "plt.ylabel('Loss', fontsize=15)\n",
    "plt.xlabel('Epochs', fontsize=15)\n",
    "plt.legend(['Train', 'Dev'], loc='upper left', fontsize = 15)\n",
    "#plt.xticks(range(-1,6), range(7), fontsize=13)\n",
    "plt.yticks(fontsize=13)\n",
    "plt.grid()\n",
    "plt.show()"
   ]
  },
  {
   "cell_type": "code",
   "execution_count": null,
   "metadata": {
    "colab": {
     "base_uri": "https://localhost:8080/",
     "height": 522
    },
    "executionInfo": {
     "elapsed": 780,
     "status": "ok",
     "timestamp": 1677772842675,
     "user": {
      "displayName": "Σπύρος Μαστροδημήτρης",
      "userId": "05822789757280910665"
     },
     "user_tz": -120
    },
    "id": "5rCtaVLO9gOi",
    "outputId": "ebdf0568-a5ef-4a81-e6dc-c3d00a6cdf05"
   },
   "outputs": [
    {
     "data": {
      "image/png": "[encoded data removed]",
      "text/plain": [
       "<Figure size 720x576 with 1 Axes>"
      ]
     },
     "metadata": {
      "needs_background": "light"
     },
     "output_type": "display_data"
    }
   ],
   "source": [
    "#Learning Curves Loss-Epochs\n",
    "plt.figure(figsize=(10,8))\n",
    "plt.plot(history.history['accuracy'])\n",
    "plt.plot(history.history['val_accuracy'])\n",
    "plt.title('Model Accuracy', fontsize=17)\n",
    "plt.ylabel('accuracy', fontsize=15)\n",
    "plt.xlabel('epoch', fontsize=15)\n",
    "plt.legend(['Train', 'Dev'], loc='upper left', fontsize = 15)\n",
    "#plt.xticks(range(-1,6), range(7), fontsize=13)\n",
    "plt.yticks(fontsize=13)\n",
    "plt.grid()\n",
    "plt.show()"
   ]
  },
  {
   "cell_type": "markdown",
   "metadata": {
    "id": "NGcjD0cx9gOi"
   },
   "source": [
    ">Classification Report for Train Set"
   ]
  },
  {
   "cell_type": "code",
   "execution_count": null,
   "metadata": {
    "colab": {
     "base_uri": "https://localhost:8080/"
    },
    "executionInfo": {
     "elapsed": 1202,
     "status": "ok",
     "timestamp": 1677772848077,
     "user": {
      "displayName": "Σπύρος Μαστροδημήτρης",
      "userId": "05822789757280910665"
     },
     "user_tz": -120
    },
    "id": "9yW4zm969gOi",
    "outputId": "e284ce20-3b9d-4e24-8898-d59c034949b9"
   },
   "outputs": [
    {
     "name": "stdout",
     "output_type": "stream",
     "text": [
      "31/31 [==============================] - 0s 6ms/step\n",
      "              precision    recall  f1-score   support\n",
      "\n",
      "           0       0.89      0.89      0.89       481\n",
      "           1       0.89      0.89      0.89       498\n",
      "\n",
      "    accuracy                           0.89       979\n",
      "   macro avg       0.89      0.89      0.89       979\n",
      "weighted avg       0.89      0.89      0.89       979\n",
      "\n"
     ]
    }
   ],
   "source": [
    "from sklearn.metrics import classification_report\n",
    "\n",
    "print(classification_report(ytrain, np.round(model.predict(xtrain_tfidf_svd1)).astype(\"int32\"), labels=np.array([0,1])))\n"
   ]
  },
  {
   "cell_type": "code",
   "execution_count": null,
   "metadata": {
    "colab": {
     "base_uri": "https://localhost:8080/"
    },
    "executionInfo": {
     "elapsed": 648,
     "status": "ok",
     "timestamp": 1677772851777,
     "user": {
      "displayName": "Σπύρος Μαστροδημήτρης",
      "userId": "05822789757280910665"
     },
     "user_tz": -120
    },
    "id": "JjhE0XXJ9gOj",
    "outputId": "6dad84a4-ff9c-402e-d350-1a6bb1543db2"
   },
   "outputs": [
    {
     "name": "stdout",
     "output_type": "stream",
     "text": [
      "19/19 [==============================] - 0s 3ms/step\n",
      "              precision    recall  f1-score   support\n",
      "\n",
      "           0       0.86      0.82      0.84       295\n",
      "           1       0.84      0.88      0.86       305\n",
      "\n",
      "    accuracy                           0.85       600\n",
      "   macro avg       0.85      0.85      0.85       600\n",
      "weighted avg       0.85      0.85      0.85       600\n",
      "\n"
     ]
    }
   ],
   "source": [
    "print(classification_report(ytest, np.round(model.predict(xtest_tfidf_svd1)).astype(\"int32\"), labels=np.array([0,1])))\n"
   ]
  },
  {
   "cell_type": "code",
   "execution_count": null,
   "metadata": {
    "colab": {
     "base_uri": "https://localhost:8080/"
    },
    "executionInfo": {
     "elapsed": 414,
     "status": "ok",
     "timestamp": 1677772855023,
     "user": {
      "displayName": "Σπύρος Μαστροδημήτρης",
      "userId": "05822789757280910665"
     },
     "user_tz": -120
    },
    "id": "hTnMoWM69gOj",
    "outputId": "e21254ce-fe7c-41b5-bf37-1ad9f169e29b"
   },
   "outputs": [
    {
     "name": "stdout",
     "output_type": "stream",
     "text": [
      "14/14 [==============================] - 0s 3ms/step\n",
      "              precision    recall  f1-score   support\n",
      "\n",
      "           0       0.86      0.85      0.86       224\n",
      "           1       0.83      0.85      0.84       197\n",
      "\n",
      "    accuracy                           0.85       421\n",
      "   macro avg       0.85      0.85      0.85       421\n",
      "weighted avg       0.85      0.85      0.85       421\n",
      "\n"
     ]
    }
   ],
   "source": [
    "print(classification_report(ydev, np.round(model.predict(xdev_tfidf_svd1)).astype(\"int32\"), labels=np.array([0,1])))"
   ]
  },
  {
   "cell_type": "markdown",
   "metadata": {
    "id": "Hvbp9Eid9-Y3"
   },
   "source": [
    "Batch Size 16"
   ]
  },
  {
   "cell_type": "code",
   "execution_count": null,
   "metadata": {
    "colab": {
     "base_uri": "https://localhost:8080/"
    },
    "executionInfo": {
     "elapsed": 12682,
     "status": "ok",
     "timestamp": 1677772876710,
     "user": {
      "displayName": "Σπύρος Μαστροδημήτρης",
      "userId": "05822789757280910665"
     },
     "user_tz": -120
    },
    "id": "PHWeZ8u2-Cy9",
    "outputId": "e5b274e1-648e-4c3a-9997-bb09e18e9188"
   },
   "outputs": [
    {
     "name": "stdout",
     "output_type": "stream",
     "text": [
      "Epoch 1/100\n",
      "41/43 [===========================>..] - ETA: 0s - loss: 0.6879 - accuracy: 0.5655\n",
      "Epoch 1: val_accuracy improved from -inf to 0.65986, saving model to bestweights.hdf5\n",
      "43/43 [==============================] - 2s 13ms/step - loss: 0.6876 - accuracy: 0.5664 - val_loss: 0.6829 - val_accuracy: 0.6599\n",
      "Epoch 2/100\n",
      "39/43 [==========================>...] - ETA: 0s - loss: 0.6716 - accuracy: 0.7853\n",
      "Epoch 2: val_accuracy improved from 0.65986 to 0.77891, saving model to bestweights.hdf5\n",
      "43/43 [==============================] - 0s 10ms/step - loss: 0.6705 - accuracy: 0.7883 - val_loss: 0.6697 - val_accuracy: 0.7789\n",
      "Epoch 3/100\n",
      "38/43 [=========================>....] - ETA: 0s - loss: 0.6509 - accuracy: 0.8470\n",
      "Epoch 3: val_accuracy improved from 0.77891 to 0.80272, saving model to bestweights.hdf5\n",
      "43/43 [==============================] - 0s 9ms/step - loss: 0.6500 - accuracy: 0.8482 - val_loss: 0.6516 - val_accuracy: 0.8027\n",
      "Epoch 4/100\n",
      "42/43 [============================>.] - ETA: 0s - loss: 0.6209 - accuracy: 0.8705\n",
      "Epoch 4: val_accuracy improved from 0.80272 to 0.80612, saving model to bestweights.hdf5\n",
      "43/43 [==============================] - 0s 10ms/step - loss: 0.6205 - accuracy: 0.8686 - val_loss: 0.6237 - val_accuracy: 0.8061\n",
      "Epoch 5/100\n",
      "37/43 [========================>.....] - ETA: 0s - loss: 0.5806 - accuracy: 0.8851\n",
      "Epoch 5: val_accuracy improved from 0.80612 to 0.80952, saving model to bestweights.hdf5\n",
      "43/43 [==============================] - 0s 9ms/step - loss: 0.5758 - accuracy: 0.8818 - val_loss: 0.5841 - val_accuracy: 0.8095\n",
      "Epoch 6/100\n",
      "40/43 [==========================>...] - ETA: 0s - loss: 0.5170 - accuracy: 0.8813\n",
      "Epoch 6: val_accuracy did not improve from 0.80952\n",
      "43/43 [==============================] - 0s 9ms/step - loss: 0.5158 - accuracy: 0.8818 - val_loss: 0.5336 - val_accuracy: 0.8095\n",
      "Epoch 7/100\n",
      "41/43 [===========================>..] - ETA: 0s - loss: 0.4503 - accuracy: 0.8872\n",
      "Epoch 7: val_accuracy improved from 0.80952 to 0.82313, saving model to bestweights.hdf5\n",
      "43/43 [==============================] - 0s 9ms/step - loss: 0.4494 - accuracy: 0.8861 - val_loss: 0.4856 - val_accuracy: 0.8231\n",
      "Epoch 8/100\n",
      "41/43 [===========================>..] - ETA: 0s - loss: 0.3859 - accuracy: 0.8994\n",
      "Epoch 8: val_accuracy did not improve from 0.82313\n",
      "43/43 [==============================] - 0s 9ms/step - loss: 0.3843 - accuracy: 0.9022 - val_loss: 0.4437 - val_accuracy: 0.8231\n",
      "Epoch 9/100\n",
      "40/43 [==========================>...] - ETA: 0s - loss: 0.3335 - accuracy: 0.9047\n",
      "Epoch 9: val_accuracy did not improve from 0.82313\n",
      "43/43 [==============================] - 0s 9ms/step - loss: 0.3332 - accuracy: 0.9036 - val_loss: 0.4231 - val_accuracy: 0.8095\n",
      "Epoch 10/100\n",
      "39/43 [==========================>...] - ETA: 0s - loss: 0.3025 - accuracy: 0.8974\n",
      "Epoch 10: val_accuracy improved from 0.82313 to 0.83673, saving model to bestweights.hdf5\n",
      "43/43 [==============================] - 0s 9ms/step - loss: 0.2953 - accuracy: 0.9007 - val_loss: 0.4014 - val_accuracy: 0.8367\n",
      "Epoch 11/100\n",
      "41/43 [===========================>..] - ETA: 0s - loss: 0.2667 - accuracy: 0.9131\n",
      "Epoch 11: val_accuracy did not improve from 0.83673\n",
      "43/43 [==============================] - 0s 9ms/step - loss: 0.2680 - accuracy: 0.9139 - val_loss: 0.3986 - val_accuracy: 0.8095\n",
      "Epoch 12/100\n",
      "40/43 [==========================>...] - ETA: 0s - loss: 0.2494 - accuracy: 0.9078\n",
      "Epoch 12: val_accuracy did not improve from 0.83673\n",
      "43/43 [==============================] - 0s 9ms/step - loss: 0.2482 - accuracy: 0.9080 - val_loss: 0.3951 - val_accuracy: 0.8163\n",
      "Epoch 13/100\n",
      "42/43 [============================>.] - ETA: 0s - loss: 0.2256 - accuracy: 0.9122\n",
      "Epoch 13: val_accuracy did not improve from 0.83673\n",
      "43/43 [==============================] - 0s 8ms/step - loss: 0.2304 - accuracy: 0.9095 - val_loss: 0.4030 - val_accuracy: 0.8129\n",
      "Epoch 14/100\n",
      "37/43 [========================>.....] - ETA: 0s - loss: 0.2158 - accuracy: 0.9223\n",
      "Epoch 14: val_accuracy did not improve from 0.83673\n",
      "43/43 [==============================] - 0s 9ms/step - loss: 0.2198 - accuracy: 0.9182 - val_loss: 0.4035 - val_accuracy: 0.8197\n",
      "Epoch 15/100\n",
      "39/43 [==========================>...] - ETA: 0s - loss: 0.2122 - accuracy: 0.9231\n",
      "Epoch 15: val_accuracy did not improve from 0.83673\n",
      "43/43 [==============================] - 0s 9ms/step - loss: 0.2116 - accuracy: 0.9212 - val_loss: 0.4106 - val_accuracy: 0.8197\n",
      "19/19 [==============================] - 0s 4ms/step - loss: 0.3534 - accuracy: 0.8483\n",
      "[test loss, test accuracy]: [0.35344183444976807, 0.8483333587646484]\n"
     ]
    }
   ],
   "source": [
    "model = tuner.hypermodel.build(best_hps)\n",
    "#print(model.summary())\n",
    "checkpoint = tf.keras.callbacks.ModelCheckpoint('bestweights.hdf5',\n",
    "                                                monitor='val_accuracy', \n",
    "                                                mode='max', \n",
    "                                                verbose=2, \n",
    "                                                save_best_only=True, \n",
    "                                                save_weights_only=True)\n",
    "\n",
    "\n",
    "\n",
    "history = model.fit(xtrain_tfidf_svd1, ytrain, epochs=100, validation_split=0.3,batch_size=16,callbacks=[early_stopping,checkpoint])\n",
    "eval_result = model.evaluate(xtest_tfidf_svd1, ytest)\n",
    "print(\"[test loss, test accuracy]:\", eval_result)"
   ]
  },
  {
   "cell_type": "code",
   "execution_count": null,
   "metadata": {
    "colab": {
     "base_uri": "https://localhost:8080/",
     "height": 522
    },
    "executionInfo": {
     "elapsed": 1612,
     "status": "ok",
     "timestamp": 1677772881306,
     "user": {
      "displayName": "Σπύρος Μαστροδημήτρης",
      "userId": "05822789757280910665"
     },
     "user_tz": -120
    },
    "id": "w7ujznGl-Cy-",
    "outputId": "8bb3ad3b-d3e4-493e-c6dc-6b8205cd3d27"
   },
   "outputs": [
    {
     "data": {
      "image/png": "[encoded data removed]",
      "text/plain": [
       "<Figure size 720x576 with 1 Axes>"
      ]
     },
     "metadata": {
      "needs_background": "light"
     },
     "output_type": "display_data"
    }
   ],
   "source": [
    "%matplotlib inline\n",
    "import matplotlib.pyplot as plt\n",
    "\n",
    "#Learning Curves Loss-Epochs\n",
    "plt.figure(figsize=(10,8))\n",
    "plt.plot(history.history['loss'])\n",
    "plt.plot(history.history['val_loss'])\n",
    "plt.title('Model Loss', fontsize=17)\n",
    "plt.ylabel('Loss', fontsize=15)\n",
    "plt.xlabel('Epochs', fontsize=15)\n",
    "plt.legend(['Train', 'Dev'], loc='upper left', fontsize = 15)\n",
    "#plt.xticks(range(-1,6), range(7), fontsize=13)\n",
    "plt.yticks(fontsize=13)\n",
    "plt.grid()\n",
    "plt.show()"
   ]
  },
  {
   "cell_type": "code",
   "execution_count": null,
   "metadata": {
    "colab": {
     "base_uri": "https://localhost:8080/",
     "height": 522
    },
    "executionInfo": {
     "elapsed": 1983,
     "status": "ok",
     "timestamp": 1677772890281,
     "user": {
      "displayName": "Σπύρος Μαστροδημήτρης",
      "userId": "05822789757280910665"
     },
     "user_tz": -120
    },
    "id": "kBpC4hAm-Cy-",
    "outputId": "348ff899-0fe8-4395-a17f-3488c41cd413"
   },
   "outputs": [
    {
     "data": {
      "image/png": "[encoded data removed]",
      "text/plain": [
       "<Figure size 720x576 with 1 Axes>"
      ]
     },
     "metadata": {
      "needs_background": "light"
     },
     "output_type": "display_data"
    }
   ],
   "source": [
    "#Learning Curves Loss-Epochs\n",
    "plt.figure(figsize=(10,8))\n",
    "plt.plot(history.history['accuracy'])\n",
    "plt.plot(history.history['val_accuracy'])\n",
    "plt.title('Model Accuracy', fontsize=17)\n",
    "plt.ylabel('accuracy', fontsize=15)\n",
    "plt.xlabel('epoch', fontsize=15)\n",
    "plt.legend(['Train', 'Dev'], loc='upper left', fontsize = 15)\n",
    "#plt.xticks(range(-1,6), range(7), fontsize=13)\n",
    "plt.yticks(fontsize=13)\n",
    "plt.grid()\n",
    "plt.show()"
   ]
  },
  {
   "cell_type": "markdown",
   "metadata": {
    "id": "MuKsdvrC-Cy_"
   },
   "source": [
    ">Classification Report for Train Set"
   ]
  },
  {
   "cell_type": "code",
   "execution_count": null,
   "metadata": {
    "colab": {
     "base_uri": "https://localhost:8080/"
    },
    "executionInfo": {
     "elapsed": 426,
     "status": "ok",
     "timestamp": 1677772894866,
     "user": {
      "displayName": "Σπύρος Μαστροδημήτρης",
      "userId": "05822789757280910665"
     },
     "user_tz": -120
    },
    "id": "acDl61S_-Cy_",
    "outputId": "e486a3d3-ec1e-4d30-99fd-3a98cc0fbb65"
   },
   "outputs": [
    {
     "name": "stdout",
     "output_type": "stream",
     "text": [
      "31/31 [==============================] - 0s 3ms/step\n",
      "              precision    recall  f1-score   support\n",
      "\n",
      "           0       0.89      0.91      0.90       481\n",
      "           1       0.91      0.89      0.90       498\n",
      "\n",
      "    accuracy                           0.90       979\n",
      "   macro avg       0.90      0.90      0.90       979\n",
      "weighted avg       0.90      0.90      0.90       979\n",
      "\n"
     ]
    }
   ],
   "source": [
    "from sklearn.metrics import classification_report\n",
    "\n",
    "print(classification_report(ytrain, np.round(model.predict(xtrain_tfidf_svd1)).astype(\"int32\"), labels=np.array([0,1])))\n"
   ]
  },
  {
   "cell_type": "code",
   "execution_count": null,
   "metadata": {
    "colab": {
     "base_uri": "https://localhost:8080/"
    },
    "executionInfo": {
     "elapsed": 1035,
     "status": "ok",
     "timestamp": 1677772898545,
     "user": {
      "displayName": "Σπύρος Μαστροδημήτρης",
      "userId": "05822789757280910665"
     },
     "user_tz": -120
    },
    "id": "DIFZc_VP-Cy_",
    "outputId": "8619101f-dcda-4548-d0d3-66f8688a26c4"
   },
   "outputs": [
    {
     "name": "stdout",
     "output_type": "stream",
     "text": [
      "19/19 [==============================] - 0s 4ms/step\n",
      "              precision    recall  f1-score   support\n",
      "\n",
      "           0       0.85      0.83      0.84       295\n",
      "           1       0.84      0.86      0.85       305\n",
      "\n",
      "    accuracy                           0.85       600\n",
      "   macro avg       0.85      0.85      0.85       600\n",
      "weighted avg       0.85      0.85      0.85       600\n",
      "\n"
     ]
    }
   ],
   "source": [
    "print(classification_report(ytest, np.round(model.predict(xtest_tfidf_svd1)).astype(\"int32\"), labels=np.array([0,1])))\n"
   ]
  },
  {
   "cell_type": "code",
   "execution_count": null,
   "metadata": {
    "colab": {
     "base_uri": "https://localhost:8080/"
    },
    "executionInfo": {
     "elapsed": 1949,
     "status": "ok",
     "timestamp": 1677772902947,
     "user": {
      "displayName": "Σπύρος Μαστροδημήτρης",
      "userId": "05822789757280910665"
     },
     "user_tz": -120
    },
    "id": "wKb0euX--Cy_",
    "outputId": "6b11924f-e5e7-4380-9580-71331c86c803"
   },
   "outputs": [
    {
     "name": "stdout",
     "output_type": "stream",
     "text": [
      "14/14 [==============================] - 0s 4ms/step\n",
      "              precision    recall  f1-score   support\n",
      "\n",
      "           0       0.87      0.86      0.86       224\n",
      "           1       0.84      0.85      0.85       197\n",
      "\n",
      "    accuracy                           0.86       421\n",
      "   macro avg       0.85      0.85      0.85       421\n",
      "weighted avg       0.86      0.86      0.86       421\n",
      "\n"
     ]
    }
   ],
   "source": [
    "print(classification_report(ydev, np.round(model.predict(xdev_tfidf_svd1)).astype(\"int32\"), labels=np.array([0,1])))"
   ]
  }
 ],
 "metadata": {
  "colab": {
   "provenance": []
  },
  "kernelspec": {
   "display_name": "Python 3 (ipykernel)",
   "language": "python",
   "name": "python3"
  },
  "language_info": {
   "codemirror_mode": {
    "name": "ipython",
    "version": 3
   },
   "file_extension": ".py",
   "mimetype": "text/x-python",
   "name": "python",
   "nbconvert_exporter": "python",
   "pygments_lexer": "ipython3",
   "version": "3.9.12"
  }
 },
 "nbformat": 4,
 "nbformat_minor": 1
}
